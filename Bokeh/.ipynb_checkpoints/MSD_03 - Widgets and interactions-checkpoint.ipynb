{
 "cells": [
  {
   "cell_type": "markdown",
   "metadata": {},
   "source": [
    "# Data Sources and Transformations\n",
    "\n",
    "We've seen how Bokeh can work well with Python lists, NumPy arrays, Pandas series, etc. At lower levels, these inputs are converted to a Bokeh `ColumnDataSource`. This data type is the central data source object used throughout Bokeh. Although Bokeh often creates them for us transparently, there are times when it is useful to create them explicitly.\n",
    "\n",
    "In later sections we will see features like hover tooltips, computed transforms, and CustomJS interactions that make use of the `ColumnDataSource`, so let's take a quick look now. \n"
   ]
  },
  {
   "cell_type": "code",
   "execution_count": 1,
   "metadata": {
    "collapsed": true
   },
   "outputs": [],
   "source": [
    "from bokeh.io import output_notebook, show\n",
    "from bokeh.plotting import figure"
   ]
  },
  {
   "cell_type": "code",
   "execution_count": 2,
   "metadata": {},
   "outputs": [
    {
     "data": {
      "text/html": [
       "\n",
       "    <div class=\"bk-root\">\n",
       "        <a href=\"https://bokeh.pydata.org\" target=\"_blank\" class=\"bk-logo bk-logo-small bk-logo-notebook\"></a>\n",
       "        <span id=\"249945d7-04f5-4399-bda3-80781096799d\">Loading BokehJS ...</span>\n",
       "    </div>"
      ]
     },
     "metadata": {},
     "output_type": "display_data"
    },
    {
     "data": {
      "application/javascript": [
       "\n",
       "(function(root) {\n",
       "  function now() {\n",
       "    return new Date();\n",
       "  }\n",
       "\n",
       "  var force = true;\n",
       "\n",
       "  if (typeof (root._bokeh_onload_callbacks) === \"undefined\" || force === true) {\n",
       "    root._bokeh_onload_callbacks = [];\n",
       "    root._bokeh_is_loading = undefined;\n",
       "  }\n",
       "\n",
       "  var JS_MIME_TYPE = 'application/javascript';\n",
       "  var HTML_MIME_TYPE = 'text/html';\n",
       "  var EXEC_MIME_TYPE = 'application/vnd.bokehjs_exec.v0+json';\n",
       "  var CLASS_NAME = 'output_bokeh rendered_html';\n",
       "\n",
       "  /**\n",
       "   * Render data to the DOM node\n",
       "   */\n",
       "  function render(props, node) {\n",
       "    var script = document.createElement(\"script\");\n",
       "    node.appendChild(script);\n",
       "  }\n",
       "\n",
       "  /**\n",
       "   * Handle when an output is cleared or removed\n",
       "   */\n",
       "  function handleClearOutput(event, handle) {\n",
       "    var cell = handle.cell;\n",
       "\n",
       "    var id = cell.output_area._bokeh_element_id;\n",
       "    var server_id = cell.output_area._bokeh_server_id;\n",
       "    // Clean up Bokeh references\n",
       "    if (id !== undefined) {\n",
       "      Bokeh.index[id].model.document.clear();\n",
       "      delete Bokeh.index[id];\n",
       "    }\n",
       "\n",
       "    if (server_id !== undefined) {\n",
       "      // Clean up Bokeh references\n",
       "      var cmd = \"from bokeh.io.state import curstate; print(curstate().uuid_to_server['\" + server_id + \"'].get_sessions()[0].document.roots[0]._id)\";\n",
       "      cell.notebook.kernel.execute(cmd, {\n",
       "        iopub: {\n",
       "          output: function(msg) {\n",
       "            var element_id = msg.content.text.trim();\n",
       "            Bokeh.index[element_id].model.document.clear();\n",
       "            delete Bokeh.index[element_id];\n",
       "          }\n",
       "        }\n",
       "      });\n",
       "      // Destroy server and session\n",
       "      var cmd = \"import bokeh.io.notebook as ion; ion.destroy_server('\" + server_id + \"')\";\n",
       "      cell.notebook.kernel.execute(cmd);\n",
       "    }\n",
       "  }\n",
       "\n",
       "  /**\n",
       "   * Handle when a new output is added\n",
       "   */\n",
       "  function handleAddOutput(event, handle) {\n",
       "    var output_area = handle.output_area;\n",
       "    var output = handle.output;\n",
       "\n",
       "    // limit handleAddOutput to display_data with EXEC_MIME_TYPE content only\n",
       "    if ((output.output_type != \"display_data\") || (!output.data.hasOwnProperty(EXEC_MIME_TYPE))) {\n",
       "      return\n",
       "    }\n",
       "\n",
       "    var toinsert = output_area.element.find(\".\" + CLASS_NAME.split(' ')[0]);\n",
       "\n",
       "    if (output.metadata[EXEC_MIME_TYPE][\"id\"] !== undefined) {\n",
       "      toinsert[0].firstChild.textContent = output.data[JS_MIME_TYPE];\n",
       "      // store reference to embed id on output_area\n",
       "      output_area._bokeh_element_id = output.metadata[EXEC_MIME_TYPE][\"id\"];\n",
       "    }\n",
       "    if (output.metadata[EXEC_MIME_TYPE][\"server_id\"] !== undefined) {\n",
       "      var bk_div = document.createElement(\"div\");\n",
       "      bk_div.innerHTML = output.data[HTML_MIME_TYPE];\n",
       "      var script_attrs = bk_div.children[0].attributes;\n",
       "      for (var i = 0; i < script_attrs.length; i++) {\n",
       "        toinsert[0].firstChild.setAttribute(script_attrs[i].name, script_attrs[i].value);\n",
       "      }\n",
       "      // store reference to server id on output_area\n",
       "      output_area._bokeh_server_id = output.metadata[EXEC_MIME_TYPE][\"server_id\"];\n",
       "    }\n",
       "  }\n",
       "\n",
       "  function register_renderer(events, OutputArea) {\n",
       "\n",
       "    function append_mime(data, metadata, element) {\n",
       "      // create a DOM node to render to\n",
       "      var toinsert = this.create_output_subarea(\n",
       "        metadata,\n",
       "        CLASS_NAME,\n",
       "        EXEC_MIME_TYPE\n",
       "      );\n",
       "      this.keyboard_manager.register_events(toinsert);\n",
       "      // Render to node\n",
       "      var props = {data: data, metadata: metadata[EXEC_MIME_TYPE]};\n",
       "      render(props, toinsert[0]);\n",
       "      element.append(toinsert);\n",
       "      return toinsert\n",
       "    }\n",
       "\n",
       "    /* Handle when an output is cleared or removed */\n",
       "    events.on('clear_output.CodeCell', handleClearOutput);\n",
       "    events.on('delete.Cell', handleClearOutput);\n",
       "\n",
       "    /* Handle when a new output is added */\n",
       "    events.on('output_added.OutputArea', handleAddOutput);\n",
       "\n",
       "    /**\n",
       "     * Register the mime type and append_mime function with output_area\n",
       "     */\n",
       "    OutputArea.prototype.register_mime_type(EXEC_MIME_TYPE, append_mime, {\n",
       "      /* Is output safe? */\n",
       "      safe: true,\n",
       "      /* Index of renderer in `output_area.display_order` */\n",
       "      index: 0\n",
       "    });\n",
       "  }\n",
       "\n",
       "  // register the mime type if in Jupyter Notebook environment and previously unregistered\n",
       "  if (root.Jupyter !== undefined) {\n",
       "    var events = require('base/js/events');\n",
       "    var OutputArea = require('notebook/js/outputarea').OutputArea;\n",
       "\n",
       "    if (OutputArea.prototype.mime_types().indexOf(EXEC_MIME_TYPE) == -1) {\n",
       "      register_renderer(events, OutputArea);\n",
       "    }\n",
       "  }\n",
       "\n",
       "  \n",
       "  if (typeof (root._bokeh_timeout) === \"undefined\" || force === true) {\n",
       "    root._bokeh_timeout = Date.now() + 5000;\n",
       "    root._bokeh_failed_load = false;\n",
       "  }\n",
       "\n",
       "  var NB_LOAD_WARNING = {'data': {'text/html':\n",
       "     \"<div style='background-color: #fdd'>\\n\"+\n",
       "     \"<p>\\n\"+\n",
       "     \"BokehJS does not appear to have successfully loaded. If loading BokehJS from CDN, this \\n\"+\n",
       "     \"may be due to a slow or bad network connection. Possible fixes:\\n\"+\n",
       "     \"</p>\\n\"+\n",
       "     \"<ul>\\n\"+\n",
       "     \"<li>re-rerun `output_notebook()` to attempt to load from CDN again, or</li>\\n\"+\n",
       "     \"<li>use INLINE resources instead, as so:</li>\\n\"+\n",
       "     \"</ul>\\n\"+\n",
       "     \"<code>\\n\"+\n",
       "     \"from bokeh.resources import INLINE\\n\"+\n",
       "     \"output_notebook(resources=INLINE)\\n\"+\n",
       "     \"</code>\\n\"+\n",
       "     \"</div>\"}};\n",
       "\n",
       "  function display_loaded() {\n",
       "    var el = document.getElementById(\"249945d7-04f5-4399-bda3-80781096799d\");\n",
       "    if (el != null) {\n",
       "      el.textContent = \"BokehJS is loading...\";\n",
       "    }\n",
       "    if (root.Bokeh !== undefined) {\n",
       "      if (el != null) {\n",
       "        el.textContent = \"BokehJS \" + root.Bokeh.version + \" successfully loaded.\";\n",
       "      }\n",
       "    } else if (Date.now() < root._bokeh_timeout) {\n",
       "      setTimeout(display_loaded, 100)\n",
       "    }\n",
       "  }\n",
       "\n",
       "\n",
       "  function run_callbacks() {\n",
       "    try {\n",
       "      root._bokeh_onload_callbacks.forEach(function(callback) { callback() });\n",
       "    }\n",
       "    finally {\n",
       "      delete root._bokeh_onload_callbacks\n",
       "    }\n",
       "    console.info(\"Bokeh: all callbacks have finished\");\n",
       "  }\n",
       "\n",
       "  function load_libs(js_urls, callback) {\n",
       "    root._bokeh_onload_callbacks.push(callback);\n",
       "    if (root._bokeh_is_loading > 0) {\n",
       "      console.log(\"Bokeh: BokehJS is being loaded, scheduling callback at\", now());\n",
       "      return null;\n",
       "    }\n",
       "    if (js_urls == null || js_urls.length === 0) {\n",
       "      run_callbacks();\n",
       "      return null;\n",
       "    }\n",
       "    console.log(\"Bokeh: BokehJS not loaded, scheduling load and callback at\", now());\n",
       "    root._bokeh_is_loading = js_urls.length;\n",
       "    for (var i = 0; i < js_urls.length; i++) {\n",
       "      var url = js_urls[i];\n",
       "      var s = document.createElement('script');\n",
       "      s.src = url;\n",
       "      s.async = false;\n",
       "      s.onreadystatechange = s.onload = function() {\n",
       "        root._bokeh_is_loading--;\n",
       "        if (root._bokeh_is_loading === 0) {\n",
       "          console.log(\"Bokeh: all BokehJS libraries loaded\");\n",
       "          run_callbacks()\n",
       "        }\n",
       "      };\n",
       "      s.onerror = function() {\n",
       "        console.warn(\"failed to load library \" + url);\n",
       "      };\n",
       "      console.log(\"Bokeh: injecting script tag for BokehJS library: \", url);\n",
       "      document.getElementsByTagName(\"head\")[0].appendChild(s);\n",
       "    }\n",
       "  };var element = document.getElementById(\"249945d7-04f5-4399-bda3-80781096799d\");\n",
       "  if (element == null) {\n",
       "    console.log(\"Bokeh: ERROR: autoload.js configured with elementid '249945d7-04f5-4399-bda3-80781096799d' but no matching script tag was found. \")\n",
       "    return false;\n",
       "  }\n",
       "\n",
       "  var js_urls = [\"https://cdn.pydata.org/bokeh/release/bokeh-0.12.14.min.js\", \"https://cdn.pydata.org/bokeh/release/bokeh-widgets-0.12.14.min.js\", \"https://cdn.pydata.org/bokeh/release/bokeh-tables-0.12.14.min.js\", \"https://cdn.pydata.org/bokeh/release/bokeh-gl-0.12.14.min.js\"];\n",
       "\n",
       "  var inline_js = [\n",
       "    function(Bokeh) {\n",
       "      Bokeh.set_log_level(\"info\");\n",
       "    },\n",
       "    \n",
       "    function(Bokeh) {\n",
       "      \n",
       "    },\n",
       "    function(Bokeh) {\n",
       "      console.log(\"Bokeh: injecting CSS: https://cdn.pydata.org/bokeh/release/bokeh-0.12.14.min.css\");\n",
       "      Bokeh.embed.inject_css(\"https://cdn.pydata.org/bokeh/release/bokeh-0.12.14.min.css\");\n",
       "      console.log(\"Bokeh: injecting CSS: https://cdn.pydata.org/bokeh/release/bokeh-widgets-0.12.14.min.css\");\n",
       "      Bokeh.embed.inject_css(\"https://cdn.pydata.org/bokeh/release/bokeh-widgets-0.12.14.min.css\");\n",
       "      console.log(\"Bokeh: injecting CSS: https://cdn.pydata.org/bokeh/release/bokeh-tables-0.12.14.min.css\");\n",
       "      Bokeh.embed.inject_css(\"https://cdn.pydata.org/bokeh/release/bokeh-tables-0.12.14.min.css\");\n",
       "    }\n",
       "  ];\n",
       "\n",
       "  function run_inline_js() {\n",
       "    \n",
       "    if ((root.Bokeh !== undefined) || (force === true)) {\n",
       "      for (var i = 0; i < inline_js.length; i++) {\n",
       "        inline_js[i].call(root, root.Bokeh);\n",
       "      }if (force === true) {\n",
       "        display_loaded();\n",
       "      }} else if (Date.now() < root._bokeh_timeout) {\n",
       "      setTimeout(run_inline_js, 100);\n",
       "    } else if (!root._bokeh_failed_load) {\n",
       "      console.log(\"Bokeh: BokehJS failed to load within specified timeout.\");\n",
       "      root._bokeh_failed_load = true;\n",
       "    } else if (force !== true) {\n",
       "      var cell = $(document.getElementById(\"249945d7-04f5-4399-bda3-80781096799d\")).parents('.cell').data().cell;\n",
       "      cell.output_area.append_execute_result(NB_LOAD_WARNING)\n",
       "    }\n",
       "\n",
       "  }\n",
       "\n",
       "  if (root._bokeh_is_loading === 0) {\n",
       "    console.log(\"Bokeh: BokehJS loaded, going straight to plotting\");\n",
       "    run_inline_js();\n",
       "  } else {\n",
       "    load_libs(js_urls, function() {\n",
       "      console.log(\"Bokeh: BokehJS plotting callback run at\", now());\n",
       "      run_inline_js();\n",
       "    });\n",
       "  }\n",
       "}(window));"
      ],
      "application/vnd.bokehjs_load.v0+json": "\n(function(root) {\n  function now() {\n    return new Date();\n  }\n\n  var force = true;\n\n  if (typeof (root._bokeh_onload_callbacks) === \"undefined\" || force === true) {\n    root._bokeh_onload_callbacks = [];\n    root._bokeh_is_loading = undefined;\n  }\n\n  \n\n  \n  if (typeof (root._bokeh_timeout) === \"undefined\" || force === true) {\n    root._bokeh_timeout = Date.now() + 5000;\n    root._bokeh_failed_load = false;\n  }\n\n  var NB_LOAD_WARNING = {'data': {'text/html':\n     \"<div style='background-color: #fdd'>\\n\"+\n     \"<p>\\n\"+\n     \"BokehJS does not appear to have successfully loaded. If loading BokehJS from CDN, this \\n\"+\n     \"may be due to a slow or bad network connection. Possible fixes:\\n\"+\n     \"</p>\\n\"+\n     \"<ul>\\n\"+\n     \"<li>re-rerun `output_notebook()` to attempt to load from CDN again, or</li>\\n\"+\n     \"<li>use INLINE resources instead, as so:</li>\\n\"+\n     \"</ul>\\n\"+\n     \"<code>\\n\"+\n     \"from bokeh.resources import INLINE\\n\"+\n     \"output_notebook(resources=INLINE)\\n\"+\n     \"</code>\\n\"+\n     \"</div>\"}};\n\n  function display_loaded() {\n    var el = document.getElementById(\"249945d7-04f5-4399-bda3-80781096799d\");\n    if (el != null) {\n      el.textContent = \"BokehJS is loading...\";\n    }\n    if (root.Bokeh !== undefined) {\n      if (el != null) {\n        el.textContent = \"BokehJS \" + root.Bokeh.version + \" successfully loaded.\";\n      }\n    } else if (Date.now() < root._bokeh_timeout) {\n      setTimeout(display_loaded, 100)\n    }\n  }\n\n\n  function run_callbacks() {\n    try {\n      root._bokeh_onload_callbacks.forEach(function(callback) { callback() });\n    }\n    finally {\n      delete root._bokeh_onload_callbacks\n    }\n    console.info(\"Bokeh: all callbacks have finished\");\n  }\n\n  function load_libs(js_urls, callback) {\n    root._bokeh_onload_callbacks.push(callback);\n    if (root._bokeh_is_loading > 0) {\n      console.log(\"Bokeh: BokehJS is being loaded, scheduling callback at\", now());\n      return null;\n    }\n    if (js_urls == null || js_urls.length === 0) {\n      run_callbacks();\n      return null;\n    }\n    console.log(\"Bokeh: BokehJS not loaded, scheduling load and callback at\", now());\n    root._bokeh_is_loading = js_urls.length;\n    for (var i = 0; i < js_urls.length; i++) {\n      var url = js_urls[i];\n      var s = document.createElement('script');\n      s.src = url;\n      s.async = false;\n      s.onreadystatechange = s.onload = function() {\n        root._bokeh_is_loading--;\n        if (root._bokeh_is_loading === 0) {\n          console.log(\"Bokeh: all BokehJS libraries loaded\");\n          run_callbacks()\n        }\n      };\n      s.onerror = function() {\n        console.warn(\"failed to load library \" + url);\n      };\n      console.log(\"Bokeh: injecting script tag for BokehJS library: \", url);\n      document.getElementsByTagName(\"head\")[0].appendChild(s);\n    }\n  };var element = document.getElementById(\"249945d7-04f5-4399-bda3-80781096799d\");\n  if (element == null) {\n    console.log(\"Bokeh: ERROR: autoload.js configured with elementid '249945d7-04f5-4399-bda3-80781096799d' but no matching script tag was found. \")\n    return false;\n  }\n\n  var js_urls = [\"https://cdn.pydata.org/bokeh/release/bokeh-0.12.14.min.js\", \"https://cdn.pydata.org/bokeh/release/bokeh-widgets-0.12.14.min.js\", \"https://cdn.pydata.org/bokeh/release/bokeh-tables-0.12.14.min.js\", \"https://cdn.pydata.org/bokeh/release/bokeh-gl-0.12.14.min.js\"];\n\n  var inline_js = [\n    function(Bokeh) {\n      Bokeh.set_log_level(\"info\");\n    },\n    \n    function(Bokeh) {\n      \n    },\n    function(Bokeh) {\n      console.log(\"Bokeh: injecting CSS: https://cdn.pydata.org/bokeh/release/bokeh-0.12.14.min.css\");\n      Bokeh.embed.inject_css(\"https://cdn.pydata.org/bokeh/release/bokeh-0.12.14.min.css\");\n      console.log(\"Bokeh: injecting CSS: https://cdn.pydata.org/bokeh/release/bokeh-widgets-0.12.14.min.css\");\n      Bokeh.embed.inject_css(\"https://cdn.pydata.org/bokeh/release/bokeh-widgets-0.12.14.min.css\");\n      console.log(\"Bokeh: injecting CSS: https://cdn.pydata.org/bokeh/release/bokeh-tables-0.12.14.min.css\");\n      Bokeh.embed.inject_css(\"https://cdn.pydata.org/bokeh/release/bokeh-tables-0.12.14.min.css\");\n    }\n  ];\n\n  function run_inline_js() {\n    \n    if ((root.Bokeh !== undefined) || (force === true)) {\n      for (var i = 0; i < inline_js.length; i++) {\n        inline_js[i].call(root, root.Bokeh);\n      }if (force === true) {\n        display_loaded();\n      }} else if (Date.now() < root._bokeh_timeout) {\n      setTimeout(run_inline_js, 100);\n    } else if (!root._bokeh_failed_load) {\n      console.log(\"Bokeh: BokehJS failed to load within specified timeout.\");\n      root._bokeh_failed_load = true;\n    } else if (force !== true) {\n      var cell = $(document.getElementById(\"249945d7-04f5-4399-bda3-80781096799d\")).parents('.cell').data().cell;\n      cell.output_area.append_execute_result(NB_LOAD_WARNING)\n    }\n\n  }\n\n  if (root._bokeh_is_loading === 0) {\n    console.log(\"Bokeh: BokehJS loaded, going straight to plotting\");\n    run_inline_js();\n  } else {\n    load_libs(js_urls, function() {\n      console.log(\"Bokeh: BokehJS plotting callback run at\", now());\n      run_inline_js();\n    });\n  }\n}(window));"
     },
     "metadata": {},
     "output_type": "display_data"
    }
   ],
   "source": [
    "output_notebook()"
   ]
  },
  {
   "cell_type": "markdown",
   "metadata": {},
   "source": [
    "## Creating with Python Dicts\n",
    "\n",
    "The `ColumnDataSource` can be imported from `bokeh.models`:"
   ]
  },
  {
   "cell_type": "code",
   "execution_count": 3,
   "metadata": {
    "collapsed": true
   },
   "outputs": [],
   "source": [
    "from bokeh.models import ColumnDataSource"
   ]
  },
  {
   "cell_type": "markdown",
   "metadata": {},
   "source": [
    "The `ColumnDataSource` is a mapping of column names (strings) to sequences of values. Here is a simple example. The mapping is provided by passing a Python `dict` with string keys and simple Python lists as values. The values could also be NumPy arrays, or Pandas sequences.\n",
    "\n",
    "***NOTE: ALL the columns in a `ColumnDataSource` must always be the SAME length.***\n"
   ]
  },
  {
   "cell_type": "code",
   "execution_count": 4,
   "metadata": {
    "collapsed": true
   },
   "outputs": [],
   "source": [
    "source = ColumnDataSource(data={\n",
    "    'x' : [1, 2, 3, 4, 5],\n",
    "    'y' : [3, 7, 8, 5, 1],\n",
    "})"
   ]
  },
  {
   "cell_type": "markdown",
   "metadata": {},
   "source": [
    "Up until now we have called functions like `p.circle` by passing in literal lists or arrays of data directly, when we do this, Bokeh creates a `ColumnDataSource` for us, automatically. But it is possible to specify a `ColumnDataSource` explicitly by passing it as the `source` argument to a glyph method. Whenever we do this, if we want a property (like `\"x\"` or `\"y\"` or `\"fill_color\"`) to have a sequence of values, we pass the ***name of the column*** that we would like to use for a property:"
   ]
  },
  {
   "cell_type": "code",
   "execution_count": 5,
   "metadata": {},
   "outputs": [
    {
     "data": {
      "text/html": [
       "\n",
       "<div class=\"bk-root\">\n",
       "    <div class=\"bk-plotdiv\" id=\"fac2564d-9541-4ab0-b895-637e01403bc8\"></div>\n",
       "</div>"
      ]
     },
     "metadata": {},
     "output_type": "display_data"
    },
    {
     "data": {
      "application/javascript": [
       "(function(root) {\n",
       "  function embed_document(root) {\n",
       "    \n",
       "  var docs_json = {\"a1de80fc-a790-4a8e-869b-00431f6a163b\":{\"roots\":{\"references\":[{\"attributes\":{},\"id\":\"e7320554-d87e-4f68-9a6f-9172a17e6e78\",\"type\":\"PanTool\"},{\"attributes\":{\"fill_alpha\":{\"value\":0.1},\"fill_color\":{\"value\":\"#1f77b4\"},\"line_alpha\":{\"value\":0.1},\"line_color\":{\"value\":\"#1f77b4\"},\"size\":{\"units\":\"screen\",\"value\":20},\"x\":{\"field\":\"x\"},\"y\":{\"field\":\"y\"}},\"id\":\"afa35507-9dd6-4654-8d93-ce6e2e18655e\",\"type\":\"Circle\"},{\"attributes\":{\"bottom_units\":\"screen\",\"fill_alpha\":{\"value\":0.5},\"fill_color\":{\"value\":\"lightgrey\"},\"left_units\":\"screen\",\"level\":\"overlay\",\"line_alpha\":{\"value\":1.0},\"line_color\":{\"value\":\"black\"},\"line_dash\":[4,4],\"line_width\":{\"value\":2},\"plot\":null,\"render_mode\":\"css\",\"right_units\":\"screen\",\"top_units\":\"screen\"},\"id\":\"6b9ff19e-3223-4b15-9513-334b4c7c3cab\",\"type\":\"BoxAnnotation\"},{\"attributes\":{},\"id\":\"65b7f0f7-2196-4037-94a2-abe9d0bf8de0\",\"type\":\"BasicTickFormatter\"},{\"attributes\":{},\"id\":\"f6a3ffe0-a5cb-48bb-a3c2-e8cc49c575de\",\"type\":\"BasicTicker\"},{\"attributes\":{\"dimension\":1,\"plot\":{\"id\":\"e24034e8-1f84-44e0-8f58-b2ba321e71d0\",\"subtype\":\"Figure\",\"type\":\"Plot\"},\"ticker\":{\"id\":\"f6a3ffe0-a5cb-48bb-a3c2-e8cc49c575de\",\"type\":\"BasicTicker\"}},\"id\":\"0f5f2388-72e9-4409-bf0e-56f17c1a1ee0\",\"type\":\"Grid\"},{\"attributes\":{},\"id\":\"543d3210-3523-4782-962b-cfca24ae2fd1\",\"type\":\"LinearScale\"},{\"attributes\":{\"callback\":null,\"column_names\":[\"y\",\"x\"],\"data\":{\"x\":[1,2,3,4,5],\"y\":[3,7,8,5,1]}},\"id\":\"20f0bc43-60d4-4b7c-ad21-599fa2247da7\",\"type\":\"ColumnDataSource\"},{\"attributes\":{},\"id\":\"d608da22-a129-4cf7-9834-6cbbaf539da1\",\"type\":\"ResetTool\"},{\"attributes\":{\"callback\":null},\"id\":\"d806a7d7-b8e9-4cbe-a19f-b1ee0a16f571\",\"type\":\"DataRange1d\"},{\"attributes\":{},\"id\":\"e2061d2a-e183-43ec-a002-0b2b6f717b24\",\"type\":\"BasicTicker\"},{\"attributes\":{},\"id\":\"06cdfd31-074e-4e2f-9c5c-bafc731d7b79\",\"type\":\"SaveTool\"},{\"attributes\":{\"plot\":null,\"text\":\"\"},\"id\":\"ac149d9b-8017-4fce-8302-f5233f7ae23a\",\"type\":\"Title\"},{\"attributes\":{\"formatter\":{\"id\":\"65b7f0f7-2196-4037-94a2-abe9d0bf8de0\",\"type\":\"BasicTickFormatter\"},\"plot\":{\"id\":\"e24034e8-1f84-44e0-8f58-b2ba321e71d0\",\"subtype\":\"Figure\",\"type\":\"Plot\"},\"ticker\":{\"id\":\"f6a3ffe0-a5cb-48bb-a3c2-e8cc49c575de\",\"type\":\"BasicTicker\"}},\"id\":\"5aa02912-d228-477b-ad78-8095cfa41230\",\"type\":\"LinearAxis\"},{\"attributes\":{\"formatter\":{\"id\":\"07df64cf-e3f4-4047-807e-0f0159ed9186\",\"type\":\"BasicTickFormatter\"},\"plot\":{\"id\":\"e24034e8-1f84-44e0-8f58-b2ba321e71d0\",\"subtype\":\"Figure\",\"type\":\"Plot\"},\"ticker\":{\"id\":\"e2061d2a-e183-43ec-a002-0b2b6f717b24\",\"type\":\"BasicTicker\"}},\"id\":\"d09a3019-bd3a-4ecb-a9c9-3651303f2a1d\",\"type\":\"LinearAxis\"},{\"attributes\":{\"active_drag\":\"auto\",\"active_inspect\":\"auto\",\"active_scroll\":\"auto\",\"active_tap\":\"auto\",\"tools\":[{\"id\":\"e7320554-d87e-4f68-9a6f-9172a17e6e78\",\"type\":\"PanTool\"},{\"id\":\"ae99fa17-451e-4817-90b6-5b2973ebc200\",\"type\":\"WheelZoomTool\"},{\"id\":\"9a7670e5-001c-4afb-b9f4-eb08d0956926\",\"type\":\"BoxZoomTool\"},{\"id\":\"06cdfd31-074e-4e2f-9c5c-bafc731d7b79\",\"type\":\"SaveTool\"},{\"id\":\"d608da22-a129-4cf7-9834-6cbbaf539da1\",\"type\":\"ResetTool\"},{\"id\":\"5768c7a8-2c48-4b21-b41c-42c35b24c956\",\"type\":\"HelpTool\"}]},\"id\":\"5578d5c9-8e1a-484e-9a97-b6ccd0191cb9\",\"type\":\"Toolbar\"},{\"attributes\":{\"plot\":{\"id\":\"e24034e8-1f84-44e0-8f58-b2ba321e71d0\",\"subtype\":\"Figure\",\"type\":\"Plot\"},\"ticker\":{\"id\":\"e2061d2a-e183-43ec-a002-0b2b6f717b24\",\"type\":\"BasicTicker\"}},\"id\":\"3a2dba89-1cfb-4354-9229-184eb7a8c777\",\"type\":\"Grid\"},{\"attributes\":{},\"id\":\"5768c7a8-2c48-4b21-b41c-42c35b24c956\",\"type\":\"HelpTool\"},{\"attributes\":{\"below\":[{\"id\":\"d09a3019-bd3a-4ecb-a9c9-3651303f2a1d\",\"type\":\"LinearAxis\"}],\"left\":[{\"id\":\"5aa02912-d228-477b-ad78-8095cfa41230\",\"type\":\"LinearAxis\"}],\"plot_height\":400,\"plot_width\":400,\"renderers\":[{\"id\":\"d09a3019-bd3a-4ecb-a9c9-3651303f2a1d\",\"type\":\"LinearAxis\"},{\"id\":\"3a2dba89-1cfb-4354-9229-184eb7a8c777\",\"type\":\"Grid\"},{\"id\":\"5aa02912-d228-477b-ad78-8095cfa41230\",\"type\":\"LinearAxis\"},{\"id\":\"0f5f2388-72e9-4409-bf0e-56f17c1a1ee0\",\"type\":\"Grid\"},{\"id\":\"6b9ff19e-3223-4b15-9513-334b4c7c3cab\",\"type\":\"BoxAnnotation\"},{\"id\":\"aa106109-ff2a-4b00-806e-47b2f8ed94b3\",\"type\":\"GlyphRenderer\"}],\"title\":{\"id\":\"ac149d9b-8017-4fce-8302-f5233f7ae23a\",\"type\":\"Title\"},\"toolbar\":{\"id\":\"5578d5c9-8e1a-484e-9a97-b6ccd0191cb9\",\"type\":\"Toolbar\"},\"x_range\":{\"id\":\"7b5d6e45-2cd7-4921-97b4-df5a49d847ae\",\"type\":\"DataRange1d\"},\"x_scale\":{\"id\":\"2bc09980-c7a2-4a79-a579-4e296d5dbb3e\",\"type\":\"LinearScale\"},\"y_range\":{\"id\":\"d806a7d7-b8e9-4cbe-a19f-b1ee0a16f571\",\"type\":\"DataRange1d\"},\"y_scale\":{\"id\":\"543d3210-3523-4782-962b-cfca24ae2fd1\",\"type\":\"LinearScale\"}},\"id\":\"e24034e8-1f84-44e0-8f58-b2ba321e71d0\",\"subtype\":\"Figure\",\"type\":\"Plot\"},{\"attributes\":{},\"id\":\"2bc09980-c7a2-4a79-a579-4e296d5dbb3e\",\"type\":\"LinearScale\"},{\"attributes\":{\"callback\":null},\"id\":\"7b5d6e45-2cd7-4921-97b4-df5a49d847ae\",\"type\":\"DataRange1d\"},{\"attributes\":{\"source\":{\"id\":\"20f0bc43-60d4-4b7c-ad21-599fa2247da7\",\"type\":\"ColumnDataSource\"}},\"id\":\"3357beee-5d4e-4ed0-ac3d-4241ddb06eb2\",\"type\":\"CDSView\"},{\"attributes\":{\"fill_color\":{\"value\":\"#1f77b4\"},\"line_color\":{\"value\":\"#1f77b4\"},\"size\":{\"units\":\"screen\",\"value\":20},\"x\":{\"field\":\"x\"},\"y\":{\"field\":\"y\"}},\"id\":\"0cc106a9-64b5-439e-b838-b9c6e5cebad3\",\"type\":\"Circle\"},{\"attributes\":{},\"id\":\"ae99fa17-451e-4817-90b6-5b2973ebc200\",\"type\":\"WheelZoomTool\"},{\"attributes\":{\"overlay\":{\"id\":\"6b9ff19e-3223-4b15-9513-334b4c7c3cab\",\"type\":\"BoxAnnotation\"}},\"id\":\"9a7670e5-001c-4afb-b9f4-eb08d0956926\",\"type\":\"BoxZoomTool\"},{\"attributes\":{\"data_source\":{\"id\":\"20f0bc43-60d4-4b7c-ad21-599fa2247da7\",\"type\":\"ColumnDataSource\"},\"glyph\":{\"id\":\"0cc106a9-64b5-439e-b838-b9c6e5cebad3\",\"type\":\"Circle\"},\"hover_glyph\":null,\"muted_glyph\":null,\"nonselection_glyph\":{\"id\":\"afa35507-9dd6-4654-8d93-ce6e2e18655e\",\"type\":\"Circle\"},\"selection_glyph\":null,\"view\":{\"id\":\"3357beee-5d4e-4ed0-ac3d-4241ddb06eb2\",\"type\":\"CDSView\"}},\"id\":\"aa106109-ff2a-4b00-806e-47b2f8ed94b3\",\"type\":\"GlyphRenderer\"},{\"attributes\":{},\"id\":\"07df64cf-e3f4-4047-807e-0f0159ed9186\",\"type\":\"BasicTickFormatter\"}],\"root_ids\":[\"e24034e8-1f84-44e0-8f58-b2ba321e71d0\"]},\"title\":\"Bokeh Application\",\"version\":\"0.12.13\"}};\n",
       "  var render_items = [{\"docid\":\"a1de80fc-a790-4a8e-869b-00431f6a163b\",\"elementid\":\"fac2564d-9541-4ab0-b895-637e01403bc8\",\"modelid\":\"e24034e8-1f84-44e0-8f58-b2ba321e71d0\"}];\n",
       "  root.Bokeh.embed.embed_items_notebook(docs_json, render_items);\n",
       "\n",
       "  }\n",
       "  if (root.Bokeh !== undefined) {\n",
       "    embed_document(root);\n",
       "  } else {\n",
       "    var attempts = 0;\n",
       "    var timer = setInterval(function(root) {\n",
       "      if (root.Bokeh !== undefined) {\n",
       "        embed_document(root);\n",
       "        clearInterval(timer);\n",
       "      }\n",
       "      attempts++;\n",
       "      if (attempts > 100) {\n",
       "        console.log(\"Bokeh: ERROR: Unable to run BokehJS code because BokehJS library is missing\")\n",
       "        clearInterval(timer);\n",
       "      }\n",
       "    }, 10, root)\n",
       "  }\n",
       "})(window);"
      ],
      "application/vnd.bokehjs_exec.v0+json": ""
     },
     "metadata": {
      "application/vnd.bokehjs_exec.v0+json": {
       "id": "e24034e8-1f84-44e0-8f58-b2ba321e71d0"
      }
     },
     "output_type": "display_data"
    }
   ],
   "source": [
    "p = figure(plot_width=400, plot_height=400)\n",
    "p.circle('x', 'y', size=20, source=source)\n",
    "show(p)"
   ]
  },
  {
   "cell_type": "code",
   "execution_count": 7,
   "metadata": {
    "collapsed": true
   },
   "outputs": [],
   "source": [
    "# Exercise: create a column data source with NumPy arrays as column values and plot it\n",
    "\n"
   ]
  },
  {
   "cell_type": "markdown",
   "metadata": {},
   "source": [
    "## Creating with Pandas DataFrames\n",
    "\n",
    "It's also simple to create `ColumnDataSource` objects directly from Pandas data frames. To do this, just pass the data frame to  `ColumnDataSource` when you create it:"
   ]
  },
  {
   "cell_type": "code",
   "execution_count": 9,
   "metadata": {
    "collapsed": true
   },
   "outputs": [],
   "source": [
    "import pandas as pd\n",
    "data = np.random.uniform(0,1,[30,4])\n",
    "df = pd.DataFrame(data)\n",
    "df.columns = ['a','b','c','d']\n",
    "source = ColumnDataSource(df)"
   ]
  },
  {
   "cell_type": "markdown",
   "metadata": {},
   "source": [
    "Now we can use it as we did above by passing the column names to glhph methods:"
   ]
  },
  {
   "cell_type": "code",
   "execution_count": 10,
   "metadata": {},
   "outputs": [
    {
     "data": {
      "text/html": [
       "\n",
       "<div class=\"bk-root\">\n",
       "    <div class=\"bk-plotdiv\" id=\"8a749a02-23a4-4bba-aab9-e18113226047\"></div>\n",
       "</div>"
      ]
     },
     "metadata": {},
     "output_type": "display_data"
    },
    {
     "data": {
      "application/javascript": [
       "(function(root) {\n",
       "  function embed_document(root) {\n",
       "    \n",
       "  var docs_json = {\"dbab2275-9756-4bc9-8538-55d484c6f75d\":{\"roots\":{\"references\":[{\"attributes\":{\"formatter\":{\"id\":\"7b285d45-b783-4862-8b53-ac51cdf8027f\",\"type\":\"BasicTickFormatter\"},\"plot\":{\"id\":\"f92d0257-72bc-4a52-88af-e4683411a18a\",\"subtype\":\"Figure\",\"type\":\"Plot\"},\"ticker\":{\"id\":\"88d72d82-5164-41eb-8c9c-b2a01afc51b8\",\"type\":\"BasicTicker\"}},\"id\":\"85b2d206-f9e7-4e29-9af9-6984f9556e15\",\"type\":\"LinearAxis\"},{\"attributes\":{\"fill_color\":{\"value\":\"#1f77b4\"},\"line_color\":{\"value\":\"#1f77b4\"},\"x\":{\"field\":\"a\"},\"y\":{\"field\":\"b\"}},\"id\":\"029b37d1-84fb-48ef-b68c-12c79a1a87b9\",\"type\":\"Circle\"},{\"attributes\":{\"callback\":null,\"column_names\":[\"a\",\"index\",\"c\",\"b\",\"d\"],\"data\":{\"a\":{\"__ndarray__\":\"rH1Ii5Q80z879WXI0lLkP0ADv3rQyZE/XvdvEmTO5j/Y9S0i8GzqPxB7+abQzLc/HCARleHBzT9DEJYbNXjkP6n2pNObzuI/uSy4xz7I5T/Hk1ZxitrqP3gERycwccQ/yqSe6bzE2j9Eqn9Qx43UPwR7bX6p7Nw/+EdDKVCSuj8msBTgz0nRPyp5yi+JvuU/WPGdVBo53T8553kZIvPpP7DTZctelqo/gKognYflxz+gbbEm1iqwP2n2klwhH+c/kKQ9Moyvxj/ry4WRCWbrPyLOZUpI7NA/cHd5qpYXyD9owkCB+g/cP5hF0YH9EL4/\",\"dtype\":\"float64\",\"shape\":[30]},\"b\":{\"__ndarray__\":\"MMf751VX3j8ASDxuOuhaP1CFP1knTcY/ARJQO7y94z9O+uUB0YPqPwOaRKK8Qes/YLjtc7+Noz/MD8I/vN/mPzDozNFSUbM/BEHdRO+52T/5i9CsBmzkP/A7kEuJfr0/F0qBDdFV7D/48zu9gHjsP+G6F1fC8OM/Si9IymUK4T/M+ml+n73MPzDzUvUp0qU/ALFbH6vthz/wVHtr4NKsP7ojpFyab+Y/fbJ6gADF6D+Eq1FXl7bbP4h3x0GDA7Y/fpe3A8NN6z/tr/XC4M3tP4kDPoN+0+s/rNUASPomwT9k7qPIO8LZP0A5pAthrq4/\",\"dtype\":\"float64\",\"shape\":[30]},\"c\":{\"__ndarray__\":\"wz0q+LqS4z/Yz5JhIMC3P7U82z0x++Y/0HbbtYmKvz9RpqpDY8XsP/hXFT+vU9Q/wO/ertD6tz90vVSqyCfjP8WpSptQFOo/fNucPija7z8AJ526cPiuP9dxjI2WRew/OL514kj84j9AG1pQ82zVPx7VZIG3WOc/SMkMN4Co6T8g3y4Rt+GlPxBX3Hgbl8w/Tv6Ux8y91z8ghgxAanbcP7zDLG7PZOM/LdRtIn+O5D9EpfquIBvKP9HozUgTs+I/3gui8TE71j8ydIx9Y/7TP0Abf1lgKt8/iMrnP92lsj9QEXuxDiXRPxBsG91KSu0/\",\"dtype\":\"float64\",\"shape\":[30]},\"d\":{\"__ndarray__\":\"ubn3lTA76D9p4/Cia3TqPxM5ZZtsKOs/2ENpDl8JvD9fBozhm4DpPzcLqmBmJ+M/0L5IIYCk2D/S0BvFLXfnP5DIkTndGso/EBPSoDPH4T9+aOxCMeLuPzSFAGo2St4/XIciAA9KyD9iNXGWoqjiP5SgRF1S3cs/IB/ESNucnj86ny4cylXaPzhZFok6BMw/VGrUMcSkwD+BzS8XbILvP8vvuFW54O4/NWKUIDHq6T9Q1NJTbC7nP+WhNL60Cuw/uGoB6Vg+2D+qgbDhpOvfP2oU7QTch+k/4tdCHhPT4j9+wHo11snfP8iAdhI+cs0/\",\"dtype\":\"float64\",\"shape\":[30]},\"index\":[0,1,2,3,4,5,6,7,8,9,10,11,12,13,14,15,16,17,18,19,20,21,22,23,24,25,26,27,28,29]}},\"id\":\"e0556d44-2782-4713-9d37-1b12ef7c362e\",\"type\":\"ColumnDataSource\"},{\"attributes\":{},\"id\":\"674398d3-9ae3-4e96-97a4-83a3e7e11bd3\",\"type\":\"BasicTickFormatter\"},{\"attributes\":{},\"id\":\"525d36cf-3829-440d-ac7e-214e3f63684d\",\"type\":\"ResetTool\"},{\"attributes\":{},\"id\":\"88d72d82-5164-41eb-8c9c-b2a01afc51b8\",\"type\":\"BasicTicker\"},{\"attributes\":{},\"id\":\"a7a26249-3d1c-4c2a-9764-4c174bbfcc4b\",\"type\":\"LinearScale\"},{\"attributes\":{\"callback\":null},\"id\":\"1bc6e6db-d329-403a-af48-ae34e30c1a16\",\"type\":\"DataRange1d\"},{\"attributes\":{\"fill_alpha\":{\"value\":0.1},\"fill_color\":{\"value\":\"#1f77b4\"},\"line_alpha\":{\"value\":0.1},\"line_color\":{\"value\":\"#1f77b4\"},\"x\":{\"field\":\"a\"},\"y\":{\"field\":\"b\"}},\"id\":\"51c30736-e0c0-4158-beb8-578c603c6206\",\"type\":\"Circle\"},{\"attributes\":{},\"id\":\"2348284d-8049-4423-b9ea-c1b58f1de6c9\",\"type\":\"LinearScale\"},{\"attributes\":{},\"id\":\"585feb0b-17ca-4507-983b-ab0dceb3d2ea\",\"type\":\"HelpTool\"},{\"attributes\":{\"data_source\":{\"id\":\"e0556d44-2782-4713-9d37-1b12ef7c362e\",\"type\":\"ColumnDataSource\"},\"glyph\":{\"id\":\"029b37d1-84fb-48ef-b68c-12c79a1a87b9\",\"type\":\"Circle\"},\"hover_glyph\":null,\"muted_glyph\":null,\"nonselection_glyph\":{\"id\":\"51c30736-e0c0-4158-beb8-578c603c6206\",\"type\":\"Circle\"},\"selection_glyph\":null,\"view\":{\"id\":\"e1325dd4-bbac-442b-9e2f-049a109a1dad\",\"type\":\"CDSView\"}},\"id\":\"9db7e35a-c6cc-432a-89aa-23354759bf83\",\"type\":\"GlyphRenderer\"},{\"attributes\":{\"below\":[{\"id\":\"85b2d206-f9e7-4e29-9af9-6984f9556e15\",\"type\":\"LinearAxis\"}],\"left\":[{\"id\":\"44d02366-4b1e-4495-b9bf-aa954a53a639\",\"type\":\"LinearAxis\"}],\"plot_height\":400,\"plot_width\":400,\"renderers\":[{\"id\":\"85b2d206-f9e7-4e29-9af9-6984f9556e15\",\"type\":\"LinearAxis\"},{\"id\":\"f7babebb-af24-4725-9d08-bc1e90f9870c\",\"type\":\"Grid\"},{\"id\":\"44d02366-4b1e-4495-b9bf-aa954a53a639\",\"type\":\"LinearAxis\"},{\"id\":\"64e3bf97-6ef9-4557-86a5-cd503055a916\",\"type\":\"Grid\"},{\"id\":\"298a95a7-4940-40cd-ab93-f8367f936c87\",\"type\":\"BoxAnnotation\"},{\"id\":\"9db7e35a-c6cc-432a-89aa-23354759bf83\",\"type\":\"GlyphRenderer\"}],\"title\":{\"id\":\"04c1b8c1-8c53-4118-bbc3-999f5eb2dff2\",\"type\":\"Title\"},\"toolbar\":{\"id\":\"c9a6db45-472a-4561-bc53-d24891609846\",\"type\":\"Toolbar\"},\"x_range\":{\"id\":\"7b84f910-67f6-4eba-91ad-ff3bc0782152\",\"type\":\"DataRange1d\"},\"x_scale\":{\"id\":\"2348284d-8049-4423-b9ea-c1b58f1de6c9\",\"type\":\"LinearScale\"},\"y_range\":{\"id\":\"1bc6e6db-d329-403a-af48-ae34e30c1a16\",\"type\":\"DataRange1d\"},\"y_scale\":{\"id\":\"a7a26249-3d1c-4c2a-9764-4c174bbfcc4b\",\"type\":\"LinearScale\"}},\"id\":\"f92d0257-72bc-4a52-88af-e4683411a18a\",\"subtype\":\"Figure\",\"type\":\"Plot\"},{\"attributes\":{\"active_drag\":\"auto\",\"active_inspect\":\"auto\",\"active_scroll\":\"auto\",\"active_tap\":\"auto\",\"tools\":[{\"id\":\"5e01c769-fb32-4883-8546-2f1539ff33d3\",\"type\":\"PanTool\"},{\"id\":\"b270d66a-2cb8-4be4-bd05-f95e595707e1\",\"type\":\"WheelZoomTool\"},{\"id\":\"49ef60e4-f527-406b-846d-d72f917c8d97\",\"type\":\"BoxZoomTool\"},{\"id\":\"c91215c3-ab3a-4df0-a315-510a6cc63612\",\"type\":\"SaveTool\"},{\"id\":\"525d36cf-3829-440d-ac7e-214e3f63684d\",\"type\":\"ResetTool\"},{\"id\":\"585feb0b-17ca-4507-983b-ab0dceb3d2ea\",\"type\":\"HelpTool\"}]},\"id\":\"c9a6db45-472a-4561-bc53-d24891609846\",\"type\":\"Toolbar\"},{\"attributes\":{},\"id\":\"5e01c769-fb32-4883-8546-2f1539ff33d3\",\"type\":\"PanTool\"},{\"attributes\":{\"callback\":null},\"id\":\"7b84f910-67f6-4eba-91ad-ff3bc0782152\",\"type\":\"DataRange1d\"},{\"attributes\":{\"bottom_units\":\"screen\",\"fill_alpha\":{\"value\":0.5},\"fill_color\":{\"value\":\"lightgrey\"},\"left_units\":\"screen\",\"level\":\"overlay\",\"line_alpha\":{\"value\":1.0},\"line_color\":{\"value\":\"black\"},\"line_dash\":[4,4],\"line_width\":{\"value\":2},\"plot\":null,\"render_mode\":\"css\",\"right_units\":\"screen\",\"top_units\":\"screen\"},\"id\":\"298a95a7-4940-40cd-ab93-f8367f936c87\",\"type\":\"BoxAnnotation\"},{\"attributes\":{\"overlay\":{\"id\":\"298a95a7-4940-40cd-ab93-f8367f936c87\",\"type\":\"BoxAnnotation\"}},\"id\":\"49ef60e4-f527-406b-846d-d72f917c8d97\",\"type\":\"BoxZoomTool\"},{\"attributes\":{},\"id\":\"b270d66a-2cb8-4be4-bd05-f95e595707e1\",\"type\":\"WheelZoomTool\"},{\"attributes\":{\"dimension\":1,\"plot\":{\"id\":\"f92d0257-72bc-4a52-88af-e4683411a18a\",\"subtype\":\"Figure\",\"type\":\"Plot\"},\"ticker\":{\"id\":\"cee7c234-f4e7-405d-8d17-6fcdef516515\",\"type\":\"BasicTicker\"}},\"id\":\"64e3bf97-6ef9-4557-86a5-cd503055a916\",\"type\":\"Grid\"},{\"attributes\":{\"source\":{\"id\":\"e0556d44-2782-4713-9d37-1b12ef7c362e\",\"type\":\"ColumnDataSource\"}},\"id\":\"e1325dd4-bbac-442b-9e2f-049a109a1dad\",\"type\":\"CDSView\"},{\"attributes\":{\"plot\":null,\"text\":\"\"},\"id\":\"04c1b8c1-8c53-4118-bbc3-999f5eb2dff2\",\"type\":\"Title\"},{\"attributes\":{},\"id\":\"7b285d45-b783-4862-8b53-ac51cdf8027f\",\"type\":\"BasicTickFormatter\"},{\"attributes\":{\"plot\":{\"id\":\"f92d0257-72bc-4a52-88af-e4683411a18a\",\"subtype\":\"Figure\",\"type\":\"Plot\"},\"ticker\":{\"id\":\"88d72d82-5164-41eb-8c9c-b2a01afc51b8\",\"type\":\"BasicTicker\"}},\"id\":\"f7babebb-af24-4725-9d08-bc1e90f9870c\",\"type\":\"Grid\"},{\"attributes\":{\"formatter\":{\"id\":\"674398d3-9ae3-4e96-97a4-83a3e7e11bd3\",\"type\":\"BasicTickFormatter\"},\"plot\":{\"id\":\"f92d0257-72bc-4a52-88af-e4683411a18a\",\"subtype\":\"Figure\",\"type\":\"Plot\"},\"ticker\":{\"id\":\"cee7c234-f4e7-405d-8d17-6fcdef516515\",\"type\":\"BasicTicker\"}},\"id\":\"44d02366-4b1e-4495-b9bf-aa954a53a639\",\"type\":\"LinearAxis\"},{\"attributes\":{},\"id\":\"cee7c234-f4e7-405d-8d17-6fcdef516515\",\"type\":\"BasicTicker\"},{\"attributes\":{},\"id\":\"c91215c3-ab3a-4df0-a315-510a6cc63612\",\"type\":\"SaveTool\"}],\"root_ids\":[\"f92d0257-72bc-4a52-88af-e4683411a18a\"]},\"title\":\"Bokeh Application\",\"version\":\"0.12.13\"}};\n",
       "  var render_items = [{\"docid\":\"dbab2275-9756-4bc9-8538-55d484c6f75d\",\"elementid\":\"8a749a02-23a4-4bba-aab9-e18113226047\",\"modelid\":\"f92d0257-72bc-4a52-88af-e4683411a18a\"}];\n",
       "  root.Bokeh.embed.embed_items_notebook(docs_json, render_items);\n",
       "\n",
       "  }\n",
       "  if (root.Bokeh !== undefined) {\n",
       "    embed_document(root);\n",
       "  } else {\n",
       "    var attempts = 0;\n",
       "    var timer = setInterval(function(root) {\n",
       "      if (root.Bokeh !== undefined) {\n",
       "        embed_document(root);\n",
       "        clearInterval(timer);\n",
       "      }\n",
       "      attempts++;\n",
       "      if (attempts > 100) {\n",
       "        console.log(\"Bokeh: ERROR: Unable to run BokehJS code because BokehJS library is missing\")\n",
       "        clearInterval(timer);\n",
       "      }\n",
       "    }, 10, root)\n",
       "  }\n",
       "})(window);"
      ],
      "application/vnd.bokehjs_exec.v0+json": ""
     },
     "metadata": {
      "application/vnd.bokehjs_exec.v0+json": {
       "id": "f92d0257-72bc-4a52-88af-e4683411a18a"
      }
     },
     "output_type": "display_data"
    }
   ],
   "source": [
    "p = figure(plot_width=400, plot_height=400)\n",
    "p.circle(x='a',\n",
    "         y='b',\n",
    "         source=source)\n",
    "show(p)"
   ]
  },
  {
   "cell_type": "code",
   "execution_count": null,
   "metadata": {
    "collapsed": true
   },
   "outputs": [],
   "source": [
    "# Exercise: create a column data source from a data frame and plot it\n",
    "\n"
   ]
  },
  {
   "cell_type": "markdown",
   "metadata": {
    "collapsed": true
   },
   "source": [
    "# Linked Interactions\n",
    "\n",
    "It is possible to link various interactions between different Bokeh plots. For instance, the ranges of two (or more) plots can be linked, so that when one of the plots is panned (or zoomed, or otherwise has its range changed) the other plots will update in unison. It is also possible to link selections between two plots, so that when items are selected on one plot, the corresponding items on the second plot also become selected.\n",
    "\n",
    "## Linked panning\n",
    "Linked panning (when multiple plots have ranges that stay in sync) is simple to spell with Bokeh. You simply share the appropriate range objects between two (or more) plots. The example below shows how to accomplish this by linking the ranges of three plots in various ways:"
   ]
  },
  {
   "cell_type": "code",
   "execution_count": 11,
   "metadata": {},
   "outputs": [
    {
     "data": {
      "text/html": [
       "\n",
       "<div class=\"bk-root\">\n",
       "    <div class=\"bk-plotdiv\" id=\"ad3b51ed-7021-4d65-b998-bb41da8dcf40\"></div>\n",
       "</div>"
      ]
     },
     "metadata": {},
     "output_type": "display_data"
    },
    {
     "data": {
      "application/javascript": [
       "(function(root) {\n",
       "  function embed_document(root) {\n",
       "    \n",
       "  var docs_json = {\"0459a75b-b1cc-4dcc-80e3-48552e378c14\":{\"roots\":{\"references\":[{\"attributes\":{\"source\":{\"id\":\"48f7a610-69bc-4a90-b593-269ca6bae9aa\",\"type\":\"ColumnDataSource\"}},\"id\":\"9c6b5ceb-d99b-46ac-b3c1-f7ff3a1769a4\",\"type\":\"CDSView\"},{\"attributes\":{\"formatter\":{\"id\":\"51b79ca7-a161-4b40-8e8f-3a851ed26502\",\"type\":\"BasicTickFormatter\"},\"plot\":{\"id\":\"8ef08cef-86f0-4915-809d-ffd6c0a565cb\",\"subtype\":\"Figure\",\"type\":\"Plot\"},\"ticker\":{\"id\":\"c4c4c5ee-677f-4ac4-97fd-59759cbace99\",\"type\":\"BasicTicker\"}},\"id\":\"48ec88f3-57cb-4427-945c-c5fd29130548\",\"type\":\"LinearAxis\"},{\"attributes\":{\"formatter\":{\"id\":\"bac86f9d-1083-44e1-a484-d3745524395c\",\"type\":\"BasicTickFormatter\"},\"plot\":{\"id\":\"f315526f-8ea9-4846-8219-d581797f645c\",\"subtype\":\"Figure\",\"type\":\"Plot\"},\"ticker\":{\"id\":\"65119935-fea5-4918-adbb-6fd55a61251a\",\"type\":\"BasicTicker\"}},\"id\":\"eddd729e-3032-41b2-817e-5266cd02abce\",\"type\":\"LinearAxis\"},{\"attributes\":{},\"id\":\"ce92649b-108c-4fd4-8cf9-bcda9e5802ae\",\"type\":\"PanTool\"},{\"attributes\":{\"data_source\":{\"id\":\"296043e3-4c92-42bd-a13a-46d8b1960e8e\",\"type\":\"ColumnDataSource\"},\"glyph\":{\"id\":\"bb4e3ac7-bfeb-4b7f-8a83-b49bbfc4b121\",\"type\":\"Triangle\"},\"hover_glyph\":null,\"muted_glyph\":null,\"nonselection_glyph\":{\"id\":\"e665f337-d074-42ed-899e-2764662e40a4\",\"type\":\"Triangle\"},\"selection_glyph\":null,\"view\":{\"id\":\"c668a0d1-d2f5-4276-92ce-c3ad76d12ad6\",\"type\":\"CDSView\"}},\"id\":\"c48e21be-c329-4a2d-a673-1737a32c48a5\",\"type\":\"GlyphRenderer\"},{\"attributes\":{},\"id\":\"65119935-fea5-4918-adbb-6fd55a61251a\",\"type\":\"BasicTicker\"},{\"attributes\":{\"toolbar\":{\"id\":\"d68b0733-9ce2-44e0-9c89-e74f08f22711\",\"type\":\"ProxyToolbar\"},\"toolbar_location\":\"above\"},\"id\":\"94b5f1aa-397a-43a3-a739-4b8c50ef82bd\",\"type\":\"ToolbarBox\"},{\"attributes\":{},\"id\":\"42646bc8-b743-408c-bdd7-a92b4ad39d81\",\"type\":\"BasicTicker\"},{\"attributes\":{},\"id\":\"51b79ca7-a161-4b40-8e8f-3a851ed26502\",\"type\":\"BasicTickFormatter\"},{\"attributes\":{\"plot\":{\"id\":\"8ef08cef-86f0-4915-809d-ffd6c0a565cb\",\"subtype\":\"Figure\",\"type\":\"Plot\"},\"ticker\":{\"id\":\"c4c4c5ee-677f-4ac4-97fd-59759cbace99\",\"type\":\"BasicTicker\"}},\"id\":\"42c1fb58-7f0b-4b22-b8d6-bb3168fbc1bf\",\"type\":\"Grid\"},{\"attributes\":{\"tools\":[{\"id\":\"ce92649b-108c-4fd4-8cf9-bcda9e5802ae\",\"type\":\"PanTool\"},{\"id\":\"4b51ba28-6eba-4d01-a320-062923029033\",\"type\":\"WheelZoomTool\"},{\"id\":\"1319e06d-d7f5-4885-9a3c-64cba3f88c8d\",\"type\":\"PanTool\"},{\"id\":\"ce761936-b3ab-49bd-9afb-de2271df7657\",\"type\":\"WheelZoomTool\"},{\"id\":\"c3a7d6c7-4151-4b8a-9cdc-597a8867de8d\",\"type\":\"PanTool\"},{\"id\":\"4ba1ddd2-80b3-4347-bf1d-5b2a7fd8ac94\",\"type\":\"WheelZoomTool\"}]},\"id\":\"d68b0733-9ce2-44e0-9c89-e74f08f22711\",\"type\":\"ProxyToolbar\"},{\"attributes\":{},\"id\":\"1319e06d-d7f5-4885-9a3c-64cba3f88c8d\",\"type\":\"PanTool\"},{\"attributes\":{},\"id\":\"c3a7d6c7-4151-4b8a-9cdc-597a8867de8d\",\"type\":\"PanTool\"},{\"attributes\":{\"children\":[{\"id\":\"94b5f1aa-397a-43a3-a739-4b8c50ef82bd\",\"type\":\"ToolbarBox\"},{\"id\":\"5cfc96be-0282-449d-9d72-13a770732d73\",\"type\":\"Column\"}]},\"id\":\"a9e8e61a-427c-45cb-82f4-d43e609031f1\",\"type\":\"Column\"},{\"attributes\":{},\"id\":\"e041db5e-1cd5-43fa-8614-99a5210d92e3\",\"type\":\"BasicTickFormatter\"},{\"attributes\":{\"fill_color\":{\"value\":\"firebrick\"},\"line_color\":{\"value\":\"firebrick\"},\"size\":{\"units\":\"screen\",\"value\":10},\"x\":{\"field\":\"x\"},\"y\":{\"field\":\"y\"}},\"id\":\"bb4e3ac7-bfeb-4b7f-8a83-b49bbfc4b121\",\"type\":\"Triangle\"},{\"attributes\":{\"plot\":null,\"text\":\"\"},\"id\":\"ed14ab8b-5474-45a6-8c6c-e575941dfd3b\",\"type\":\"Title\"},{\"attributes\":{\"fill_color\":{\"value\":\"navy\"},\"line_color\":{\"value\":\"navy\"},\"size\":{\"units\":\"screen\",\"value\":10},\"x\":{\"field\":\"x\"},\"y\":{\"field\":\"y\"}},\"id\":\"f22137fe-7bf4-48f4-9132-4ea0c861306b\",\"type\":\"Circle\"},{\"attributes\":{\"below\":[{\"id\":\"74203d26-fe2c-45a1-b7f6-6e0345aa5423\",\"type\":\"LinearAxis\"}],\"left\":[{\"id\":\"8b5b7e27-dd07-4cfd-862e-25939801f601\",\"type\":\"LinearAxis\"}],\"plot_height\":250,\"plot_width\":250,\"renderers\":[{\"id\":\"74203d26-fe2c-45a1-b7f6-6e0345aa5423\",\"type\":\"LinearAxis\"},{\"id\":\"6a59eba6-9ea3-4e1a-8260-f064da66bf1e\",\"type\":\"Grid\"},{\"id\":\"8b5b7e27-dd07-4cfd-862e-25939801f601\",\"type\":\"LinearAxis\"},{\"id\":\"160fa58e-b1cf-4ae1-b112-6c432f9c0756\",\"type\":\"Grid\"},{\"id\":\"c48e21be-c329-4a2d-a673-1737a32c48a5\",\"type\":\"GlyphRenderer\"}],\"title\":{\"id\":\"ed14ab8b-5474-45a6-8c6c-e575941dfd3b\",\"type\":\"Title\"},\"toolbar\":{\"id\":\"defd4f66-c121-482c-9bcd-5c566f82f8f1\",\"type\":\"Toolbar\"},\"toolbar_location\":null,\"x_range\":{\"id\":\"03e444ae-b4e5-4141-81aa-3a220123a3ed\",\"type\":\"DataRange1d\"},\"x_scale\":{\"id\":\"73be5064-82e1-48e3-bd8c-1ec738fdd9e1\",\"type\":\"LinearScale\"},\"y_range\":{\"id\":\"54ad129b-3c33-45d2-a30a-7a7c68b97eb2\",\"type\":\"DataRange1d\"},\"y_scale\":{\"id\":\"46f54cc1-5899-4ef8-be39-bcb816bbf5ef\",\"type\":\"LinearScale\"}},\"id\":\"3e0034c8-4af6-4262-b816-2eaa70970c49\",\"subtype\":\"Figure\",\"type\":\"Plot\"},{\"attributes\":{\"callback\":null},\"id\":\"03e444ae-b4e5-4141-81aa-3a220123a3ed\",\"type\":\"DataRange1d\"},{\"attributes\":{\"plot\":null,\"text\":\"\"},\"id\":\"c61ed5af-3438-47b0-a144-83508dcbe664\",\"type\":\"Title\"},{\"attributes\":{},\"id\":\"73be5064-82e1-48e3-bd8c-1ec738fdd9e1\",\"type\":\"LinearScale\"},{\"attributes\":{\"plot\":{\"id\":\"f315526f-8ea9-4846-8219-d581797f645c\",\"subtype\":\"Figure\",\"type\":\"Plot\"},\"ticker\":{\"id\":\"65119935-fea5-4918-adbb-6fd55a61251a\",\"type\":\"BasicTicker\"}},\"id\":\"6f803597-4117-4e30-abde-8dff770c80e4\",\"type\":\"Grid\"},{\"attributes\":{\"callback\":null},\"id\":\"fc9043c5-eb8d-4e2e-94a9-03770a0688a1\",\"type\":\"DataRange1d\"},{\"attributes\":{\"plot\":null,\"text\":\"\"},\"id\":\"3db212f6-bf15-496f-9c94-3bbcf7a01884\",\"type\":\"Title\"},{\"attributes\":{},\"id\":\"4ba1ddd2-80b3-4347-bf1d-5b2a7fd8ac94\",\"type\":\"WheelZoomTool\"},{\"attributes\":{\"children\":[{\"id\":\"c0054fd0-4058-45f4-ae8d-0edac163aa9f\",\"type\":\"Row\"}]},\"id\":\"5cfc96be-0282-449d-9d72-13a770732d73\",\"type\":\"Column\"},{\"attributes\":{\"children\":[{\"id\":\"8ef08cef-86f0-4915-809d-ffd6c0a565cb\",\"subtype\":\"Figure\",\"type\":\"Plot\"},{\"id\":\"3e0034c8-4af6-4262-b816-2eaa70970c49\",\"subtype\":\"Figure\",\"type\":\"Plot\"},{\"id\":\"f315526f-8ea9-4846-8219-d581797f645c\",\"subtype\":\"Figure\",\"type\":\"Plot\"}]},\"id\":\"c0054fd0-4058-45f4-ae8d-0edac163aa9f\",\"type\":\"Row\"},{\"attributes\":{\"fill_alpha\":{\"value\":0.1},\"fill_color\":{\"value\":\"#1f77b4\"},\"line_alpha\":{\"value\":0.1},\"line_color\":{\"value\":\"#1f77b4\"},\"size\":{\"units\":\"screen\",\"value\":10},\"x\":{\"field\":\"x\"},\"y\":{\"field\":\"y\"}},\"id\":\"f5c13453-81dc-41f9-b90c-7112852f42b9\",\"type\":\"Circle\"},{\"attributes\":{\"formatter\":{\"id\":\"9b3f6f9b-3e55-4d1f-a2e9-9c69bdc9329f\",\"type\":\"BasicTickFormatter\"},\"plot\":{\"id\":\"8ef08cef-86f0-4915-809d-ffd6c0a565cb\",\"subtype\":\"Figure\",\"type\":\"Plot\"},\"ticker\":{\"id\":\"34e50aae-1cb4-49c4-8132-e3ea19192916\",\"type\":\"BasicTicker\"}},\"id\":\"15edc3db-c31d-4946-8a23-41cd822d53eb\",\"type\":\"LinearAxis\"},{\"attributes\":{\"callback\":null,\"column_names\":[\"x\",\"y\"],\"data\":{\"x\":[0,1,2,3,4,5,6,7,8,9,10],\"y\":[5,4,3,2,1,0,1,2,3,4,5]}},\"id\":\"31c626b2-0682-461a-a63d-73ce1e0aa5f6\",\"type\":\"ColumnDataSource\"},{\"attributes\":{\"active_drag\":\"auto\",\"active_inspect\":\"auto\",\"active_scroll\":\"auto\",\"active_tap\":\"auto\",\"tools\":[{\"id\":\"ce92649b-108c-4fd4-8cf9-bcda9e5802ae\",\"type\":\"PanTool\"},{\"id\":\"4b51ba28-6eba-4d01-a320-062923029033\",\"type\":\"WheelZoomTool\"}]},\"id\":\"cc615fa9-8eb0-418c-b889-e9490dff7ae0\",\"type\":\"Toolbar\"},{\"attributes\":{},\"id\":\"bac86f9d-1083-44e1-a484-d3745524395c\",\"type\":\"BasicTickFormatter\"},{\"attributes\":{\"formatter\":{\"id\":\"e041db5e-1cd5-43fa-8614-99a5210d92e3\",\"type\":\"BasicTickFormatter\"},\"plot\":{\"id\":\"3e0034c8-4af6-4262-b816-2eaa70970c49\",\"subtype\":\"Figure\",\"type\":\"Plot\"},\"ticker\":{\"id\":\"30bc418b-242d-4963-a61c-a4d0f60c26f3\",\"type\":\"BasicTicker\"}},\"id\":\"74203d26-fe2c-45a1-b7f6-6e0345aa5423\",\"type\":\"LinearAxis\"},{\"attributes\":{\"active_drag\":\"auto\",\"active_inspect\":\"auto\",\"active_scroll\":\"auto\",\"active_tap\":\"auto\",\"tools\":[{\"id\":\"c3a7d6c7-4151-4b8a-9cdc-597a8867de8d\",\"type\":\"PanTool\"},{\"id\":\"4ba1ddd2-80b3-4347-bf1d-5b2a7fd8ac94\",\"type\":\"WheelZoomTool\"}]},\"id\":\"024f7b6e-32b4-4c1f-9882-7841a8d4a62b\",\"type\":\"Toolbar\"},{\"attributes\":{\"dimension\":1,\"plot\":{\"id\":\"f315526f-8ea9-4846-8219-d581797f645c\",\"subtype\":\"Figure\",\"type\":\"Plot\"},\"ticker\":{\"id\":\"42646bc8-b743-408c-bdd7-a92b4ad39d81\",\"type\":\"BasicTicker\"}},\"id\":\"f4755d01-fd8c-4824-936b-d87ab4835d19\",\"type\":\"Grid\"},{\"attributes\":{},\"id\":\"9b3f6f9b-3e55-4d1f-a2e9-9c69bdc9329f\",\"type\":\"BasicTickFormatter\"},{\"attributes\":{\"data_source\":{\"id\":\"48f7a610-69bc-4a90-b593-269ca6bae9aa\",\"type\":\"ColumnDataSource\"},\"glyph\":{\"id\":\"f22137fe-7bf4-48f4-9132-4ea0c861306b\",\"type\":\"Circle\"},\"hover_glyph\":null,\"muted_glyph\":null,\"nonselection_glyph\":{\"id\":\"f5c13453-81dc-41f9-b90c-7112852f42b9\",\"type\":\"Circle\"},\"selection_glyph\":null,\"view\":{\"id\":\"9c6b5ceb-d99b-46ac-b3c1-f7ff3a1769a4\",\"type\":\"CDSView\"}},\"id\":\"fe306b8f-008f-44c8-8c6a-c8b19c376b31\",\"type\":\"GlyphRenderer\"},{\"attributes\":{\"dimension\":1,\"plot\":{\"id\":\"8ef08cef-86f0-4915-809d-ffd6c0a565cb\",\"subtype\":\"Figure\",\"type\":\"Plot\"},\"ticker\":{\"id\":\"34e50aae-1cb4-49c4-8132-e3ea19192916\",\"type\":\"BasicTicker\"}},\"id\":\"e9541c2c-8033-43af-a745-f6a84a805f8d\",\"type\":\"Grid\"},{\"attributes\":{\"callback\":null},\"id\":\"54ad129b-3c33-45d2-a30a-7a7c68b97eb2\",\"type\":\"DataRange1d\"},{\"attributes\":{},\"id\":\"c4c4c5ee-677f-4ac4-97fd-59759cbace99\",\"type\":\"BasicTicker\"},{\"attributes\":{},\"id\":\"7167f005-e980-40a2-af00-99188c061efa\",\"type\":\"LinearScale\"},{\"attributes\":{},\"id\":\"30bc418b-242d-4963-a61c-a4d0f60c26f3\",\"type\":\"BasicTicker\"},{\"attributes\":{},\"id\":\"d1c67c39-19ca-4031-948f-f74d390f2809\",\"type\":\"LinearScale\"},{\"attributes\":{},\"id\":\"ecf0815d-f586-4242-9c43-0157fe8946bf\",\"type\":\"BasicTicker\"},{\"attributes\":{\"source\":{\"id\":\"31c626b2-0682-461a-a63d-73ce1e0aa5f6\",\"type\":\"ColumnDataSource\"}},\"id\":\"3fc9e64c-4950-4a12-abd9-fc4b492bd24b\",\"type\":\"CDSView\"},{\"attributes\":{},\"id\":\"4b51ba28-6eba-4d01-a320-062923029033\",\"type\":\"WheelZoomTool\"},{\"attributes\":{\"callback\":null,\"column_names\":[\"x\",\"y\"],\"data\":{\"x\":[0,1,2,3,4,5,6,7,8,9,10],\"y\":[0,1,2,3,4,5,6,7,8,9,10]}},\"id\":\"48f7a610-69bc-4a90-b593-269ca6bae9aa\",\"type\":\"ColumnDataSource\"},{\"attributes\":{\"formatter\":{\"id\":\"fc316835-767c-4564-be03-9e63f539470b\",\"type\":\"BasicTickFormatter\"},\"plot\":{\"id\":\"f315526f-8ea9-4846-8219-d581797f645c\",\"subtype\":\"Figure\",\"type\":\"Plot\"},\"ticker\":{\"id\":\"42646bc8-b743-408c-bdd7-a92b4ad39d81\",\"type\":\"BasicTicker\"}},\"id\":\"20a88e71-66bc-4e46-8114-e4beec60fe17\",\"type\":\"LinearAxis\"},{\"attributes\":{\"fill_alpha\":{\"value\":0.1},\"fill_color\":{\"value\":\"#1f77b4\"},\"line_alpha\":{\"value\":0.1},\"line_color\":{\"value\":\"#1f77b4\"},\"size\":{\"units\":\"screen\",\"value\":10},\"x\":{\"field\":\"x\"},\"y\":{\"field\":\"y\"}},\"id\":\"8bfaf457-39be-45d5-9126-12dd0fecec92\",\"type\":\"Square\"},{\"attributes\":{\"dimension\":1,\"plot\":{\"id\":\"3e0034c8-4af6-4262-b816-2eaa70970c49\",\"subtype\":\"Figure\",\"type\":\"Plot\"},\"ticker\":{\"id\":\"ecf0815d-f586-4242-9c43-0157fe8946bf\",\"type\":\"BasicTicker\"}},\"id\":\"160fa58e-b1cf-4ae1-b112-6c432f9c0756\",\"type\":\"Grid\"},{\"attributes\":{},\"id\":\"ce761936-b3ab-49bd-9afb-de2271df7657\",\"type\":\"WheelZoomTool\"},{\"attributes\":{\"below\":[{\"id\":\"eddd729e-3032-41b2-817e-5266cd02abce\",\"type\":\"LinearAxis\"}],\"left\":[{\"id\":\"20a88e71-66bc-4e46-8114-e4beec60fe17\",\"type\":\"LinearAxis\"}],\"plot_height\":250,\"plot_width\":250,\"renderers\":[{\"id\":\"eddd729e-3032-41b2-817e-5266cd02abce\",\"type\":\"LinearAxis\"},{\"id\":\"6f803597-4117-4e30-abde-8dff770c80e4\",\"type\":\"Grid\"},{\"id\":\"20a88e71-66bc-4e46-8114-e4beec60fe17\",\"type\":\"LinearAxis\"},{\"id\":\"f4755d01-fd8c-4824-936b-d87ab4835d19\",\"type\":\"Grid\"},{\"id\":\"e938206b-100a-4f95-b96d-473727d8c657\",\"type\":\"GlyphRenderer\"}],\"title\":{\"id\":\"c61ed5af-3438-47b0-a144-83508dcbe664\",\"type\":\"Title\"},\"toolbar\":{\"id\":\"024f7b6e-32b4-4c1f-9882-7841a8d4a62b\",\"type\":\"Toolbar\"},\"toolbar_location\":null,\"x_range\":{\"id\":\"03e444ae-b4e5-4141-81aa-3a220123a3ed\",\"type\":\"DataRange1d\"},\"x_scale\":{\"id\":\"36f4ee52-ca90-4d00-9ec7-f8785d0d65a2\",\"type\":\"LinearScale\"},\"y_range\":{\"id\":\"fc9043c5-eb8d-4e2e-94a9-03770a0688a1\",\"type\":\"DataRange1d\"},\"y_scale\":{\"id\":\"33b4f7e1-443b-4868-b230-9419ea8e2650\",\"type\":\"LinearScale\"}},\"id\":\"f315526f-8ea9-4846-8219-d581797f645c\",\"subtype\":\"Figure\",\"type\":\"Plot\"},{\"attributes\":{\"below\":[{\"id\":\"48ec88f3-57cb-4427-945c-c5fd29130548\",\"type\":\"LinearAxis\"}],\"left\":[{\"id\":\"15edc3db-c31d-4946-8a23-41cd822d53eb\",\"type\":\"LinearAxis\"}],\"plot_height\":250,\"plot_width\":250,\"renderers\":[{\"id\":\"48ec88f3-57cb-4427-945c-c5fd29130548\",\"type\":\"LinearAxis\"},{\"id\":\"42c1fb58-7f0b-4b22-b8d6-bb3168fbc1bf\",\"type\":\"Grid\"},{\"id\":\"15edc3db-c31d-4946-8a23-41cd822d53eb\",\"type\":\"LinearAxis\"},{\"id\":\"e9541c2c-8033-43af-a745-f6a84a805f8d\",\"type\":\"Grid\"},{\"id\":\"fe306b8f-008f-44c8-8c6a-c8b19c376b31\",\"type\":\"GlyphRenderer\"}],\"title\":{\"id\":\"3db212f6-bf15-496f-9c94-3bbcf7a01884\",\"type\":\"Title\"},\"toolbar\":{\"id\":\"cc615fa9-8eb0-418c-b889-e9490dff7ae0\",\"type\":\"Toolbar\"},\"toolbar_location\":null,\"x_range\":{\"id\":\"03e444ae-b4e5-4141-81aa-3a220123a3ed\",\"type\":\"DataRange1d\"},\"x_scale\":{\"id\":\"d1c67c39-19ca-4031-948f-f74d390f2809\",\"type\":\"LinearScale\"},\"y_range\":{\"id\":\"54ad129b-3c33-45d2-a30a-7a7c68b97eb2\",\"type\":\"DataRange1d\"},\"y_scale\":{\"id\":\"7167f005-e980-40a2-af00-99188c061efa\",\"type\":\"LinearScale\"}},\"id\":\"8ef08cef-86f0-4915-809d-ffd6c0a565cb\",\"subtype\":\"Figure\",\"type\":\"Plot\"},{\"attributes\":{\"plot\":{\"id\":\"3e0034c8-4af6-4262-b816-2eaa70970c49\",\"subtype\":\"Figure\",\"type\":\"Plot\"},\"ticker\":{\"id\":\"30bc418b-242d-4963-a61c-a4d0f60c26f3\",\"type\":\"BasicTicker\"}},\"id\":\"6a59eba6-9ea3-4e1a-8260-f064da66bf1e\",\"type\":\"Grid\"},{\"attributes\":{\"data_source\":{\"id\":\"31c626b2-0682-461a-a63d-73ce1e0aa5f6\",\"type\":\"ColumnDataSource\"},\"glyph\":{\"id\":\"0d309527-c371-42fb-9f83-36fabf077561\",\"type\":\"Square\"},\"hover_glyph\":null,\"muted_glyph\":null,\"nonselection_glyph\":{\"id\":\"8bfaf457-39be-45d5-9126-12dd0fecec92\",\"type\":\"Square\"},\"selection_glyph\":null,\"view\":{\"id\":\"3fc9e64c-4950-4a12-abd9-fc4b492bd24b\",\"type\":\"CDSView\"}},\"id\":\"e938206b-100a-4f95-b96d-473727d8c657\",\"type\":\"GlyphRenderer\"},{\"attributes\":{},\"id\":\"33b4f7e1-443b-4868-b230-9419ea8e2650\",\"type\":\"LinearScale\"},{\"attributes\":{\"active_drag\":\"auto\",\"active_inspect\":\"auto\",\"active_scroll\":\"auto\",\"active_tap\":\"auto\",\"tools\":[{\"id\":\"1319e06d-d7f5-4885-9a3c-64cba3f88c8d\",\"type\":\"PanTool\"},{\"id\":\"ce761936-b3ab-49bd-9afb-de2271df7657\",\"type\":\"WheelZoomTool\"}]},\"id\":\"defd4f66-c121-482c-9bcd-5c566f82f8f1\",\"type\":\"Toolbar\"},{\"attributes\":{},\"id\":\"34e50aae-1cb4-49c4-8132-e3ea19192916\",\"type\":\"BasicTicker\"},{\"attributes\":{},\"id\":\"36f4ee52-ca90-4d00-9ec7-f8785d0d65a2\",\"type\":\"LinearScale\"},{\"attributes\":{\"callback\":null,\"column_names\":[\"x\",\"y\"],\"data\":{\"x\":[0,1,2,3,4,5,6,7,8,9,10],\"y\":[10,9,8,7,6,5,4,3,2,1,0]}},\"id\":\"296043e3-4c92-42bd-a13a-46d8b1960e8e\",\"type\":\"ColumnDataSource\"},{\"attributes\":{},\"id\":\"46f54cc1-5899-4ef8-be39-bcb816bbf5ef\",\"type\":\"LinearScale\"},{\"attributes\":{\"fill_color\":{\"value\":\"olive\"},\"line_color\":{\"value\":\"olive\"},\"size\":{\"units\":\"screen\",\"value\":10},\"x\":{\"field\":\"x\"},\"y\":{\"field\":\"y\"}},\"id\":\"0d309527-c371-42fb-9f83-36fabf077561\",\"type\":\"Square\"},{\"attributes\":{\"fill_alpha\":{\"value\":0.1},\"fill_color\":{\"value\":\"#1f77b4\"},\"line_alpha\":{\"value\":0.1},\"line_color\":{\"value\":\"#1f77b4\"},\"size\":{\"units\":\"screen\",\"value\":10},\"x\":{\"field\":\"x\"},\"y\":{\"field\":\"y\"}},\"id\":\"e665f337-d074-42ed-899e-2764662e40a4\",\"type\":\"Triangle\"},{\"attributes\":{},\"id\":\"2e6405cb-78c9-4cad-9539-90c4f8b14fa6\",\"type\":\"BasicTickFormatter\"},{\"attributes\":{\"source\":{\"id\":\"296043e3-4c92-42bd-a13a-46d8b1960e8e\",\"type\":\"ColumnDataSource\"}},\"id\":\"c668a0d1-d2f5-4276-92ce-c3ad76d12ad6\",\"type\":\"CDSView\"},{\"attributes\":{\"formatter\":{\"id\":\"2e6405cb-78c9-4cad-9539-90c4f8b14fa6\",\"type\":\"BasicTickFormatter\"},\"plot\":{\"id\":\"3e0034c8-4af6-4262-b816-2eaa70970c49\",\"subtype\":\"Figure\",\"type\":\"Plot\"},\"ticker\":{\"id\":\"ecf0815d-f586-4242-9c43-0157fe8946bf\",\"type\":\"BasicTicker\"}},\"id\":\"8b5b7e27-dd07-4cfd-862e-25939801f601\",\"type\":\"LinearAxis\"},{\"attributes\":{},\"id\":\"fc316835-767c-4564-be03-9e63f539470b\",\"type\":\"BasicTickFormatter\"}],\"root_ids\":[\"a9e8e61a-427c-45cb-82f4-d43e609031f1\"]},\"title\":\"Bokeh Application\",\"version\":\"0.12.13\"}};\n",
       "  var render_items = [{\"docid\":\"0459a75b-b1cc-4dcc-80e3-48552e378c14\",\"elementid\":\"ad3b51ed-7021-4d65-b998-bb41da8dcf40\",\"modelid\":\"a9e8e61a-427c-45cb-82f4-d43e609031f1\"}];\n",
       "  root.Bokeh.embed.embed_items_notebook(docs_json, render_items);\n",
       "\n",
       "  }\n",
       "  if (root.Bokeh !== undefined) {\n",
       "    embed_document(root);\n",
       "  } else {\n",
       "    var attempts = 0;\n",
       "    var timer = setInterval(function(root) {\n",
       "      if (root.Bokeh !== undefined) {\n",
       "        embed_document(root);\n",
       "        clearInterval(timer);\n",
       "      }\n",
       "      attempts++;\n",
       "      if (attempts > 100) {\n",
       "        console.log(\"Bokeh: ERROR: Unable to run BokehJS code because BokehJS library is missing\")\n",
       "        clearInterval(timer);\n",
       "      }\n",
       "    }, 10, root)\n",
       "  }\n",
       "})(window);"
      ],
      "application/vnd.bokehjs_exec.v0+json": ""
     },
     "metadata": {
      "application/vnd.bokehjs_exec.v0+json": {
       "id": "a9e8e61a-427c-45cb-82f4-d43e609031f1"
      }
     },
     "output_type": "display_data"
    }
   ],
   "source": [
    "from bokeh.layouts import gridplot\n",
    "\n",
    "x = list(range(11))\n",
    "y0, y1, y2 = x, [10-i for i in x], [abs(i-5) for i in x]\n",
    "\n",
    "plot_options = dict(width=250, plot_height=250, tools='pan,wheel_zoom')\n",
    "\n",
    "# create a new plot\n",
    "s1 = figure(**plot_options)\n",
    "s1.circle(x, y0, size=10, color=\"navy\")\n",
    "\n",
    "# create a new plot and share both ranges\n",
    "s2 = figure(x_range=s1.x_range, y_range=s1.y_range, **plot_options)\n",
    "s2.triangle(x, y1, size=10, color=\"firebrick\")\n",
    "\n",
    "# create a new plot and share only one range\n",
    "s3 = figure(x_range=s1.x_range, **plot_options)\n",
    "s3.square(x, y2, size=10, color=\"olive\")\n",
    "\n",
    "p = gridplot([[s1, s2, s3]])\n",
    "\n",
    "# show the results\n",
    "show(p)"
   ]
  },
  {
   "cell_type": "code",
   "execution_count": null,
   "metadata": {
    "collapsed": true
   },
   "outputs": [],
   "source": [
    "# EXERCISE: create two plots in a gridplot, and link their ranges\n"
   ]
  },
  {
   "cell_type": "markdown",
   "metadata": {},
   "source": [
    "## Linked brushing\n",
    "\n",
    "Linking selections is accomplished in a similar way, by sharing data sources between plots. Note that normally with ``bokeh.plotting`` and ``bokeh.charts`` creating a default data source for simple plots is handled automatically. However to share a data source, we must create them by hand and pass them explicitly. This is illustrated in the example below:"
   ]
  },
  {
   "cell_type": "code",
   "execution_count": 12,
   "metadata": {},
   "outputs": [
    {
     "data": {
      "text/html": [
       "\n",
       "<div class=\"bk-root\">\n",
       "    <div class=\"bk-plotdiv\" id=\"9364ac2f-1ef1-4db2-be89-9f46d6533057\"></div>\n",
       "</div>"
      ]
     },
     "metadata": {},
     "output_type": "display_data"
    },
    {
     "data": {
      "application/javascript": [
       "(function(root) {\n",
       "  function embed_document(root) {\n",
       "    \n",
       "  var docs_json = {\"2932eb6c-d061-43ba-b906-830bc4d838dc\":{\"roots\":{\"references\":[{\"attributes\":{\"tools\":[{\"id\":\"a4e71092-87bb-4818-860a-bc5d5ab2c6a5\",\"type\":\"BoxSelectTool\"},{\"id\":\"4eea7eac-7c4f-4add-85b2-08f49f800420\",\"type\":\"LassoSelectTool\"},{\"id\":\"1c801341-eb0f-46b6-bbe1-4363018cc13d\",\"type\":\"HelpTool\"},{\"id\":\"66bd30df-641e-4f49-9106-687a67c1b73a\",\"type\":\"BoxSelectTool\"},{\"id\":\"4c9b9028-d688-4487-aad0-545b3e7c6bc3\",\"type\":\"LassoSelectTool\"},{\"id\":\"3a26f121-e322-494f-9a83-1ee60e3e93a5\",\"type\":\"HelpTool\"}]},\"id\":\"259ce6c6-c9e0-4c26-8cb7-7020a4e3f136\",\"type\":\"ProxyToolbar\"},{\"attributes\":{\"dimension\":1,\"plot\":{\"id\":\"5b10eddb-6e22-49cb-ae52-260ed8551473\",\"subtype\":\"Figure\",\"type\":\"Plot\"},\"ticker\":{\"id\":\"c3fc9bbf-62b2-48c4-b7e2-4ad36676539d\",\"type\":\"BasicTicker\"}},\"id\":\"c85773a7-acc5-45f7-8ef0-86d6a4d49d4c\",\"type\":\"Grid\"},{\"attributes\":{\"data_source\":{\"id\":\"9bbb52ba-c9ef-4ea7-a3c2-897ba721dd1b\",\"type\":\"ColumnDataSource\"},\"glyph\":{\"id\":\"2aff17eb-4e7a-4710-9ead-be405eb7c6bb\",\"type\":\"Circle\"},\"hover_glyph\":null,\"muted_glyph\":null,\"nonselection_glyph\":{\"id\":\"8dcd2c00-85e1-4bf1-842d-a45b0660b7da\",\"type\":\"Circle\"},\"selection_glyph\":null,\"view\":{\"id\":\"0ec8b102-d1b5-46cf-8eb3-57f93087e408\",\"type\":\"CDSView\"}},\"id\":\"4724b72e-0661-4984-944b-92473d27779b\",\"type\":\"GlyphRenderer\"},{\"attributes\":{\"formatter\":{\"id\":\"55bf2bfe-8a28-467f-809b-09f3c3a42718\",\"type\":\"BasicTickFormatter\"},\"plot\":{\"id\":\"300390d2-dbb2-40d8-9127-957f8c3571d9\",\"subtype\":\"Figure\",\"type\":\"Plot\"},\"ticker\":{\"id\":\"c7f6bbce-3407-4024-8f8e-86499e2c420e\",\"type\":\"BasicTicker\"}},\"id\":\"4c6b222a-d782-484f-b406-71848dc8d61a\",\"type\":\"LinearAxis\"},{\"attributes\":{},\"id\":\"a82a01ff-fe2e-453c-814e-47e42073d919\",\"type\":\"BasicTickFormatter\"},{\"attributes\":{\"fill_alpha\":{\"value\":0.5},\"fill_color\":{\"value\":\"lightgrey\"},\"level\":\"overlay\",\"line_alpha\":{\"value\":1.0},\"line_color\":{\"value\":\"black\"},\"line_dash\":[4,4],\"line_width\":{\"value\":2},\"plot\":null,\"xs_units\":\"screen\",\"ys_units\":\"screen\"},\"id\":\"0694a201-feb2-463c-a800-576a92608f0e\",\"type\":\"PolyAnnotation\"},{\"attributes\":{\"children\":[{\"id\":\"c04c718d-8723-4ee2-a16e-a5b76bd62ef3\",\"type\":\"ToolbarBox\"},{\"id\":\"bfd7e291-cab0-4100-bd53-8e4a8e29efef\",\"type\":\"Column\"}]},\"id\":\"74fa6cc6-789d-43b7-9342-ca158cca8b08\",\"type\":\"Column\"},{\"attributes\":{\"callback\":null},\"id\":\"7fb062b7-322c-4447-b9f7-5c8b4ae8befb\",\"type\":\"DataRange1d\"},{\"attributes\":{},\"id\":\"a613a776-1975-4979-b8f9-d4ee02bbe2a9\",\"type\":\"BasicTicker\"},{\"attributes\":{\"callback\":null,\"overlay\":{\"id\":\"0694a201-feb2-463c-a800-576a92608f0e\",\"type\":\"PolyAnnotation\"}},\"id\":\"4eea7eac-7c4f-4add-85b2-08f49f800420\",\"type\":\"LassoSelectTool\"},{\"attributes\":{\"children\":[{\"id\":\"5b10eddb-6e22-49cb-ae52-260ed8551473\",\"subtype\":\"Figure\",\"type\":\"Plot\"},{\"id\":\"300390d2-dbb2-40d8-9127-957f8c3571d9\",\"subtype\":\"Figure\",\"type\":\"Plot\"}]},\"id\":\"d77dadee-43cf-44f8-b8e1-3782fb567268\",\"type\":\"Row\"},{\"attributes\":{},\"id\":\"c7f6bbce-3407-4024-8f8e-86499e2c420e\",\"type\":\"BasicTicker\"},{\"attributes\":{},\"id\":\"d66a21c8-0925-47f4-867a-b574ac8b882e\",\"type\":\"LinearScale\"},{\"attributes\":{},\"id\":\"3a18b2d4-2908-46cc-ad40-f57ef1eb6860\",\"type\":\"LinearScale\"},{\"attributes\":{\"formatter\":{\"id\":\"a82a01ff-fe2e-453c-814e-47e42073d919\",\"type\":\"BasicTickFormatter\"},\"plot\":{\"id\":\"5b10eddb-6e22-49cb-ae52-260ed8551473\",\"subtype\":\"Figure\",\"type\":\"Plot\"},\"ticker\":{\"id\":\"c3fc9bbf-62b2-48c4-b7e2-4ad36676539d\",\"type\":\"BasicTicker\"}},\"id\":\"64050f5a-ad5b-473d-abe0-2bcc9a3a3740\",\"type\":\"LinearAxis\"},{\"attributes\":{\"data_source\":{\"id\":\"9bbb52ba-c9ef-4ea7-a3c2-897ba721dd1b\",\"type\":\"ColumnDataSource\"},\"glyph\":{\"id\":\"dd6651d3-38ef-4c1e-b702-667b4614e6c4\",\"type\":\"Circle\"},\"hover_glyph\":null,\"muted_glyph\":null,\"nonselection_glyph\":{\"id\":\"dbec876c-bd1e-405b-a95f-a0505a68f48c\",\"type\":\"Circle\"},\"selection_glyph\":null,\"view\":{\"id\":\"9a1e8138-edcd-45a2-9bbf-60d00d8030d3\",\"type\":\"CDSView\"}},\"id\":\"865ff4d1-0582-4f25-8099-007f8af2cfbe\",\"type\":\"GlyphRenderer\"},{\"attributes\":{\"formatter\":{\"id\":\"9a7ac930-0d8d-422f-88b2-a1333f03e98e\",\"type\":\"BasicTickFormatter\"},\"plot\":{\"id\":\"5b10eddb-6e22-49cb-ae52-260ed8551473\",\"subtype\":\"Figure\",\"type\":\"Plot\"},\"ticker\":{\"id\":\"e0babe84-1d1d-4f13-80f3-a0450d2e5f5d\",\"type\":\"BasicTicker\"}},\"id\":\"7dfd1a0c-b000-4836-bb23-a84da21d3fd7\",\"type\":\"LinearAxis\"},{\"attributes\":{\"fill_alpha\":{\"value\":0.5},\"fill_color\":{\"value\":\"lightgrey\"},\"level\":\"overlay\",\"line_alpha\":{\"value\":1.0},\"line_color\":{\"value\":\"black\"},\"line_dash\":[4,4],\"line_width\":{\"value\":2},\"plot\":null,\"xs_units\":\"screen\",\"ys_units\":\"screen\"},\"id\":\"fc526c55-85c2-41cc-afd6-f49d136ec7c7\",\"type\":\"PolyAnnotation\"},{\"attributes\":{\"plot\":null,\"text\":\"\"},\"id\":\"123609d9-a88a-4c52-801a-84a19879fc03\",\"type\":\"Title\"},{\"attributes\":{\"below\":[{\"id\":\"d9e5b847-c890-426a-b3b5-fcedd8546270\",\"type\":\"LinearAxis\"}],\"left\":[{\"id\":\"4c6b222a-d782-484f-b406-71848dc8d61a\",\"type\":\"LinearAxis\"}],\"plot_height\":300,\"plot_width\":300,\"renderers\":[{\"id\":\"d9e5b847-c890-426a-b3b5-fcedd8546270\",\"type\":\"LinearAxis\"},{\"id\":\"3290cc26-6899-47d3-8f69-1811ce206a7f\",\"type\":\"Grid\"},{\"id\":\"4c6b222a-d782-484f-b406-71848dc8d61a\",\"type\":\"LinearAxis\"},{\"id\":\"adfb11ae-4000-40a5-8e98-c776540dfad3\",\"type\":\"Grid\"},{\"id\":\"985a829a-fc4f-4ccc-90f2-e8244613eb1b\",\"type\":\"BoxAnnotation\"},{\"id\":\"fc526c55-85c2-41cc-afd6-f49d136ec7c7\",\"type\":\"PolyAnnotation\"},{\"id\":\"865ff4d1-0582-4f25-8099-007f8af2cfbe\",\"type\":\"GlyphRenderer\"}],\"title\":{\"id\":\"cd81a184-123d-4706-b539-ad46205b154e\",\"type\":\"Title\"},\"toolbar\":{\"id\":\"e1e10a1f-0f0f-4d47-aa76-ff9bdb405a27\",\"type\":\"Toolbar\"},\"toolbar_location\":null,\"x_range\":{\"id\":\"7fb062b7-322c-4447-b9f7-5c8b4ae8befb\",\"type\":\"DataRange1d\"},\"x_scale\":{\"id\":\"2da8bcfa-9dac-42c8-bf49-7d0371e7663a\",\"type\":\"LinearScale\"},\"y_range\":{\"id\":\"423c45f2-52b1-4b9f-a3f2-46f15ea3b108\",\"type\":\"DataRange1d\"},\"y_scale\":{\"id\":\"d66a21c8-0925-47f4-867a-b574ac8b882e\",\"type\":\"LinearScale\"}},\"id\":\"300390d2-dbb2-40d8-9127-957f8c3571d9\",\"subtype\":\"Figure\",\"type\":\"Plot\"},{\"attributes\":{\"callback\":null},\"id\":\"83cfaee2-23a0-4143-a9d5-cb7639b64afc\",\"type\":\"DataRange1d\"},{\"attributes\":{\"plot\":null,\"text\":\"\"},\"id\":\"cd81a184-123d-4706-b539-ad46205b154e\",\"type\":\"Title\"},{\"attributes\":{\"fill_alpha\":{\"value\":0.1},\"fill_color\":{\"value\":\"#1f77b4\"},\"line_alpha\":{\"value\":0.1},\"line_color\":{\"value\":\"#1f77b4\"},\"x\":{\"field\":\"x\"},\"y\":{\"field\":\"y1\"}},\"id\":\"dbec876c-bd1e-405b-a95f-a0505a68f48c\",\"type\":\"Circle\"},{\"attributes\":{\"callback\":null,\"column_names\":[\"y1\",\"y0\",\"x\"],\"data\":{\"x\":[-20,-19,-18,-17,-16,-15,-14,-13,-12,-11,-10,-9,-8,-7,-6,-5,-4,-3,-2,-1,0,1,2,3,4,5,6,7,8,9,10,11,12,13,14,15,16,17,18,19,20],\"y0\":[20,19,18,17,16,15,14,13,12,11,10,9,8,7,6,5,4,3,2,1,0,1,2,3,4,5,6,7,8,9,10,11,12,13,14,15,16,17,18,19,20],\"y1\":[400,361,324,289,256,225,196,169,144,121,100,81,64,49,36,25,16,9,4,1,0,1,4,9,16,25,36,49,64,81,100,121,144,169,196,225,256,289,324,361,400]}},\"id\":\"9bbb52ba-c9ef-4ea7-a3c2-897ba721dd1b\",\"type\":\"ColumnDataSource\"},{\"attributes\":{\"source\":{\"id\":\"9bbb52ba-c9ef-4ea7-a3c2-897ba721dd1b\",\"type\":\"ColumnDataSource\"}},\"id\":\"9a1e8138-edcd-45a2-9bbf-60d00d8030d3\",\"type\":\"CDSView\"},{\"attributes\":{},\"id\":\"2da8bcfa-9dac-42c8-bf49-7d0371e7663a\",\"type\":\"LinearScale\"},{\"attributes\":{\"below\":[{\"id\":\"7dfd1a0c-b000-4836-bb23-a84da21d3fd7\",\"type\":\"LinearAxis\"}],\"left\":[{\"id\":\"64050f5a-ad5b-473d-abe0-2bcc9a3a3740\",\"type\":\"LinearAxis\"}],\"plot_height\":300,\"plot_width\":300,\"renderers\":[{\"id\":\"7dfd1a0c-b000-4836-bb23-a84da21d3fd7\",\"type\":\"LinearAxis\"},{\"id\":\"ca1a2975-5ab0-4c3a-a2bb-55ef428158e9\",\"type\":\"Grid\"},{\"id\":\"64050f5a-ad5b-473d-abe0-2bcc9a3a3740\",\"type\":\"LinearAxis\"},{\"id\":\"c85773a7-acc5-45f7-8ef0-86d6a4d49d4c\",\"type\":\"Grid\"},{\"id\":\"3493df6e-021f-4cc4-95c4-3a0548757eaf\",\"type\":\"BoxAnnotation\"},{\"id\":\"0694a201-feb2-463c-a800-576a92608f0e\",\"type\":\"PolyAnnotation\"},{\"id\":\"4724b72e-0661-4984-944b-92473d27779b\",\"type\":\"GlyphRenderer\"}],\"title\":{\"id\":\"123609d9-a88a-4c52-801a-84a19879fc03\",\"type\":\"Title\"},\"toolbar\":{\"id\":\"0a2df03c-857e-4fcf-baba-2c111451a236\",\"type\":\"Toolbar\"},\"toolbar_location\":null,\"x_range\":{\"id\":\"9095054e-1d03-4104-9e34-9e6b3dfa481a\",\"type\":\"DataRange1d\"},\"x_scale\":{\"id\":\"3a18b2d4-2908-46cc-ad40-f57ef1eb6860\",\"type\":\"LinearScale\"},\"y_range\":{\"id\":\"83cfaee2-23a0-4143-a9d5-cb7639b64afc\",\"type\":\"DataRange1d\"},\"y_scale\":{\"id\":\"255a1b8c-9330-4805-ac33-d8a7883a7003\",\"type\":\"LinearScale\"}},\"id\":\"5b10eddb-6e22-49cb-ae52-260ed8551473\",\"subtype\":\"Figure\",\"type\":\"Plot\"},{\"attributes\":{\"fill_color\":{\"value\":\"#1f77b4\"},\"line_color\":{\"value\":\"#1f77b4\"},\"x\":{\"field\":\"x\"},\"y\":{\"field\":\"y0\"}},\"id\":\"2aff17eb-4e7a-4710-9ead-be405eb7c6bb\",\"type\":\"Circle\"},{\"attributes\":{\"plot\":{\"id\":\"300390d2-dbb2-40d8-9127-957f8c3571d9\",\"subtype\":\"Figure\",\"type\":\"Plot\"},\"ticker\":{\"id\":\"a613a776-1975-4979-b8f9-d4ee02bbe2a9\",\"type\":\"BasicTicker\"}},\"id\":\"3290cc26-6899-47d3-8f69-1811ce206a7f\",\"type\":\"Grid\"},{\"attributes\":{\"dimension\":1,\"plot\":{\"id\":\"300390d2-dbb2-40d8-9127-957f8c3571d9\",\"subtype\":\"Figure\",\"type\":\"Plot\"},\"ticker\":{\"id\":\"c7f6bbce-3407-4024-8f8e-86499e2c420e\",\"type\":\"BasicTicker\"}},\"id\":\"adfb11ae-4000-40a5-8e98-c776540dfad3\",\"type\":\"Grid\"},{\"attributes\":{\"active_drag\":\"auto\",\"active_inspect\":\"auto\",\"active_scroll\":\"auto\",\"active_tap\":\"auto\",\"tools\":[{\"id\":\"66bd30df-641e-4f49-9106-687a67c1b73a\",\"type\":\"BoxSelectTool\"},{\"id\":\"4c9b9028-d688-4487-aad0-545b3e7c6bc3\",\"type\":\"LassoSelectTool\"},{\"id\":\"3a26f121-e322-494f-9a83-1ee60e3e93a5\",\"type\":\"HelpTool\"}]},\"id\":\"e1e10a1f-0f0f-4d47-aa76-ff9bdb405a27\",\"type\":\"Toolbar\"},{\"attributes\":{},\"id\":\"e0babe84-1d1d-4f13-80f3-a0450d2e5f5d\",\"type\":\"BasicTicker\"},{\"attributes\":{\"bottom_units\":\"screen\",\"fill_alpha\":{\"value\":0.5},\"fill_color\":{\"value\":\"lightgrey\"},\"left_units\":\"screen\",\"level\":\"overlay\",\"line_alpha\":{\"value\":1.0},\"line_color\":{\"value\":\"black\"},\"line_dash\":[4,4],\"line_width\":{\"value\":2},\"plot\":null,\"render_mode\":\"css\",\"right_units\":\"screen\",\"top_units\":\"screen\"},\"id\":\"3493df6e-021f-4cc4-95c4-3a0548757eaf\",\"type\":\"BoxAnnotation\"},{\"attributes\":{},\"id\":\"55bf2bfe-8a28-467f-809b-09f3c3a42718\",\"type\":\"BasicTickFormatter\"},{\"attributes\":{},\"id\":\"3a26f121-e322-494f-9a83-1ee60e3e93a5\",\"type\":\"HelpTool\"},{\"attributes\":{\"callback\":null},\"id\":\"423c45f2-52b1-4b9f-a3f2-46f15ea3b108\",\"type\":\"DataRange1d\"},{\"attributes\":{},\"id\":\"9a7ac930-0d8d-422f-88b2-a1333f03e98e\",\"type\":\"BasicTickFormatter\"},{\"attributes\":{\"formatter\":{\"id\":\"339de414-ccdc-4682-9295-fa4b762909ef\",\"type\":\"BasicTickFormatter\"},\"plot\":{\"id\":\"300390d2-dbb2-40d8-9127-957f8c3571d9\",\"subtype\":\"Figure\",\"type\":\"Plot\"},\"ticker\":{\"id\":\"a613a776-1975-4979-b8f9-d4ee02bbe2a9\",\"type\":\"BasicTicker\"}},\"id\":\"d9e5b847-c890-426a-b3b5-fcedd8546270\",\"type\":\"LinearAxis\"},{\"attributes\":{\"fill_alpha\":{\"value\":0.1},\"fill_color\":{\"value\":\"#1f77b4\"},\"line_alpha\":{\"value\":0.1},\"line_color\":{\"value\":\"#1f77b4\"},\"x\":{\"field\":\"x\"},\"y\":{\"field\":\"y0\"}},\"id\":\"8dcd2c00-85e1-4bf1-842d-a45b0660b7da\",\"type\":\"Circle\"},{\"attributes\":{},\"id\":\"255a1b8c-9330-4805-ac33-d8a7883a7003\",\"type\":\"LinearScale\"},{\"attributes\":{\"callback\":null,\"overlay\":{\"id\":\"3493df6e-021f-4cc4-95c4-3a0548757eaf\",\"type\":\"BoxAnnotation\"},\"renderers\":[{\"id\":\"4724b72e-0661-4984-944b-92473d27779b\",\"type\":\"GlyphRenderer\"}]},\"id\":\"a4e71092-87bb-4818-860a-bc5d5ab2c6a5\",\"type\":\"BoxSelectTool\"},{\"attributes\":{},\"id\":\"339de414-ccdc-4682-9295-fa4b762909ef\",\"type\":\"BasicTickFormatter\"},{\"attributes\":{\"bottom_units\":\"screen\",\"fill_alpha\":{\"value\":0.5},\"fill_color\":{\"value\":\"lightgrey\"},\"left_units\":\"screen\",\"level\":\"overlay\",\"line_alpha\":{\"value\":1.0},\"line_color\":{\"value\":\"black\"},\"line_dash\":[4,4],\"line_width\":{\"value\":2},\"plot\":null,\"render_mode\":\"css\",\"right_units\":\"screen\",\"top_units\":\"screen\"},\"id\":\"985a829a-fc4f-4ccc-90f2-e8244613eb1b\",\"type\":\"BoxAnnotation\"},{\"attributes\":{},\"id\":\"c3fc9bbf-62b2-48c4-b7e2-4ad36676539d\",\"type\":\"BasicTicker\"},{\"attributes\":{\"callback\":null,\"overlay\":{\"id\":\"fc526c55-85c2-41cc-afd6-f49d136ec7c7\",\"type\":\"PolyAnnotation\"}},\"id\":\"4c9b9028-d688-4487-aad0-545b3e7c6bc3\",\"type\":\"LassoSelectTool\"},{\"attributes\":{\"children\":[{\"id\":\"d77dadee-43cf-44f8-b8e1-3782fb567268\",\"type\":\"Row\"}]},\"id\":\"bfd7e291-cab0-4100-bd53-8e4a8e29efef\",\"type\":\"Column\"},{\"attributes\":{\"toolbar\":{\"id\":\"259ce6c6-c9e0-4c26-8cb7-7020a4e3f136\",\"type\":\"ProxyToolbar\"},\"toolbar_location\":\"above\"},\"id\":\"c04c718d-8723-4ee2-a16e-a5b76bd62ef3\",\"type\":\"ToolbarBox\"},{\"attributes\":{\"callback\":null},\"id\":\"9095054e-1d03-4104-9e34-9e6b3dfa481a\",\"type\":\"DataRange1d\"},{\"attributes\":{\"active_drag\":\"auto\",\"active_inspect\":\"auto\",\"active_scroll\":\"auto\",\"active_tap\":\"auto\",\"tools\":[{\"id\":\"a4e71092-87bb-4818-860a-bc5d5ab2c6a5\",\"type\":\"BoxSelectTool\"},{\"id\":\"4eea7eac-7c4f-4add-85b2-08f49f800420\",\"type\":\"LassoSelectTool\"},{\"id\":\"1c801341-eb0f-46b6-bbe1-4363018cc13d\",\"type\":\"HelpTool\"}]},\"id\":\"0a2df03c-857e-4fcf-baba-2c111451a236\",\"type\":\"Toolbar\"},{\"attributes\":{\"source\":{\"id\":\"9bbb52ba-c9ef-4ea7-a3c2-897ba721dd1b\",\"type\":\"ColumnDataSource\"}},\"id\":\"0ec8b102-d1b5-46cf-8eb3-57f93087e408\",\"type\":\"CDSView\"},{\"attributes\":{\"callback\":null,\"overlay\":{\"id\":\"985a829a-fc4f-4ccc-90f2-e8244613eb1b\",\"type\":\"BoxAnnotation\"},\"renderers\":[{\"id\":\"865ff4d1-0582-4f25-8099-007f8af2cfbe\",\"type\":\"GlyphRenderer\"}]},\"id\":\"66bd30df-641e-4f49-9106-687a67c1b73a\",\"type\":\"BoxSelectTool\"},{\"attributes\":{},\"id\":\"1c801341-eb0f-46b6-bbe1-4363018cc13d\",\"type\":\"HelpTool\"},{\"attributes\":{\"fill_color\":{\"value\":\"#1f77b4\"},\"line_color\":{\"value\":\"#1f77b4\"},\"x\":{\"field\":\"x\"},\"y\":{\"field\":\"y1\"}},\"id\":\"dd6651d3-38ef-4c1e-b702-667b4614e6c4\",\"type\":\"Circle\"},{\"attributes\":{\"plot\":{\"id\":\"5b10eddb-6e22-49cb-ae52-260ed8551473\",\"subtype\":\"Figure\",\"type\":\"Plot\"},\"ticker\":{\"id\":\"e0babe84-1d1d-4f13-80f3-a0450d2e5f5d\",\"type\":\"BasicTicker\"}},\"id\":\"ca1a2975-5ab0-4c3a-a2bb-55ef428158e9\",\"type\":\"Grid\"}],\"root_ids\":[\"74fa6cc6-789d-43b7-9342-ca158cca8b08\"]},\"title\":\"Bokeh Application\",\"version\":\"0.12.13\"}};\n",
       "  var render_items = [{\"docid\":\"2932eb6c-d061-43ba-b906-830bc4d838dc\",\"elementid\":\"9364ac2f-1ef1-4db2-be89-9f46d6533057\",\"modelid\":\"74fa6cc6-789d-43b7-9342-ca158cca8b08\"}];\n",
       "  root.Bokeh.embed.embed_items_notebook(docs_json, render_items);\n",
       "\n",
       "  }\n",
       "  if (root.Bokeh !== undefined) {\n",
       "    embed_document(root);\n",
       "  } else {\n",
       "    var attempts = 0;\n",
       "    var timer = setInterval(function(root) {\n",
       "      if (root.Bokeh !== undefined) {\n",
       "        embed_document(root);\n",
       "        clearInterval(timer);\n",
       "      }\n",
       "      attempts++;\n",
       "      if (attempts > 100) {\n",
       "        console.log(\"Bokeh: ERROR: Unable to run BokehJS code because BokehJS library is missing\")\n",
       "        clearInterval(timer);\n",
       "      }\n",
       "    }, 10, root)\n",
       "  }\n",
       "})(window);"
      ],
      "application/vnd.bokehjs_exec.v0+json": ""
     },
     "metadata": {
      "application/vnd.bokehjs_exec.v0+json": {
       "id": "74fa6cc6-789d-43b7-9342-ca158cca8b08"
      }
     },
     "output_type": "display_data"
    }
   ],
   "source": [
    "from bokeh.models import ColumnDataSource\n",
    "\n",
    "x = list(range(-20, 21))\n",
    "y0, y1 = [abs(xx) for xx in x], [xx**2 for xx in x]\n",
    "\n",
    "# create a column data source for the plots to share\n",
    "source = ColumnDataSource(data=dict(x=x, y0=y0, y1=y1))\n",
    "\n",
    "TOOLS = \"box_select,lasso_select,help\"\n",
    "\n",
    "# create a new plot and add a renderer\n",
    "left = figure(tools=TOOLS, width=300, height=300)\n",
    "left.circle('x', 'y0', source=source)\n",
    "\n",
    "# create another new plot and add a renderer\n",
    "right = figure(tools=TOOLS, width=300, height=300)\n",
    "right.circle('x', 'y1', source=source)\n",
    "\n",
    "p = gridplot([[left, right]])\n",
    "\n",
    "show(p)"
   ]
  },
  {
   "cell_type": "code",
   "execution_count": null,
   "metadata": {
    "collapsed": true
   },
   "outputs": [],
   "source": [
    "# Make an exercise\n"
   ]
  },
  {
   "cell_type": "markdown",
   "metadata": {},
   "source": [
    "# Hover Tools\n",
    "\n",
    "Bokeh has a Hover Tool that allows additional information to be displayed in a popup whenever the user hovers over a specific glyph. Basic hover tool configuration amounts to providing a list of ``(name, format)`` tuples. The full details can be found in the User's Guide [here](http://bokeh.pydata.org/en/latest/docs/user_guide/tools.html#hovertool).\n",
    "\n",
    "The example below shows some basic usage of the Hover tool with a circle glyph, using hover information defined in utils.py:"
   ]
  },
  {
   "cell_type": "code",
   "execution_count": 14,
   "metadata": {},
   "outputs": [
    {
     "data": {
      "text/html": [
       "\n",
       "<div class=\"bk-root\">\n",
       "    <div class=\"bk-plotdiv\" id=\"156629fc-635a-496d-a90f-c8c540232758\"></div>\n",
       "</div>"
      ]
     },
     "metadata": {},
     "output_type": "display_data"
    },
    {
     "data": {
      "application/javascript": [
       "(function(root) {\n",
       "  function embed_document(root) {\n",
       "    \n",
       "  var docs_json = {\"21352e37-6fad-4e39-9b1e-17bfc7c09ec3\":{\"roots\":{\"references\":[{\"attributes\":{\"plot\":{\"id\":\"34a3e299-8b63-4ae2-8ce0-d24389a008fd\",\"subtype\":\"Figure\",\"type\":\"Plot\"},\"ticker\":{\"id\":\"917d0f67-8cb4-4cd7-bcdc-9285b52ec205\",\"type\":\"BasicTicker\"}},\"id\":\"fc7c5f7d-b0ed-4582-a539-27387669159b\",\"type\":\"Grid\"},{\"attributes\":{},\"id\":\"917d0f67-8cb4-4cd7-bcdc-9285b52ec205\",\"type\":\"BasicTicker\"},{\"attributes\":{},\"id\":\"02503c6b-3b35-4f54-81d2-f9362b128356\",\"type\":\"LinearScale\"},{\"attributes\":{\"below\":[{\"id\":\"b76e08f0-ec0c-493c-9a10-65be5a8992aa\",\"type\":\"LinearAxis\"}],\"left\":[{\"id\":\"ae7b8ca2-fc09-4852-8c31-c43000d6d5d5\",\"type\":\"LinearAxis\"}],\"plot_height\":300,\"plot_width\":300,\"renderers\":[{\"id\":\"b76e08f0-ec0c-493c-9a10-65be5a8992aa\",\"type\":\"LinearAxis\"},{\"id\":\"fc7c5f7d-b0ed-4582-a539-27387669159b\",\"type\":\"Grid\"},{\"id\":\"ae7b8ca2-fc09-4852-8c31-c43000d6d5d5\",\"type\":\"LinearAxis\"},{\"id\":\"8b2921ff-a4d8-4133-8ddc-7d4201c120b4\",\"type\":\"Grid\"},{\"id\":\"e7e85b1c-f153-4f30-8b31-0d8fd8b0d5a9\",\"type\":\"GlyphRenderer\"}],\"title\":{\"id\":\"6e3ad4c3-dc47-48b5-8b62-85c3c86d866d\",\"type\":\"Title\"},\"toolbar\":{\"id\":\"9e73723b-64cb-46a8-9905-c229ccfa6fa5\",\"type\":\"Toolbar\"},\"x_range\":{\"id\":\"ef5ae8a2-e5d2-459a-864f-4f5541995dd2\",\"type\":\"DataRange1d\"},\"x_scale\":{\"id\":\"02503c6b-3b35-4f54-81d2-f9362b128356\",\"type\":\"LinearScale\"},\"y_range\":{\"id\":\"60d96f39-2f3f-47e6-bed7-051d2bd9fdbc\",\"type\":\"DataRange1d\"},\"y_scale\":{\"id\":\"5253a7a9-f951-4ee2-b7f6-66d389bf6571\",\"type\":\"LinearScale\"}},\"id\":\"34a3e299-8b63-4ae2-8ce0-d24389a008fd\",\"subtype\":\"Figure\",\"type\":\"Plot\"},{\"attributes\":{\"callback\":null,\"column_names\":[\"y\",\"x\",\"other_var\"],\"data\":{\"other_var\":[\"A\",\"b\",\"C\",\"d\",\"E\"],\"x\":[1,2,3,4,5],\"y\":[2,5,8,2,7]}},\"id\":\"479310ff-386a-495a-b43f-af4ae96e6980\",\"type\":\"ColumnDataSource\"},{\"attributes\":{\"formatter\":{\"id\":\"a0a3fd56-c3de-4367-b381-7f7c7e45273d\",\"type\":\"BasicTickFormatter\"},\"plot\":{\"id\":\"34a3e299-8b63-4ae2-8ce0-d24389a008fd\",\"subtype\":\"Figure\",\"type\":\"Plot\"},\"ticker\":{\"id\":\"917d0f67-8cb4-4cd7-bcdc-9285b52ec205\",\"type\":\"BasicTicker\"}},\"id\":\"b76e08f0-ec0c-493c-9a10-65be5a8992aa\",\"type\":\"LinearAxis\"},{\"attributes\":{},\"id\":\"35dcf742-2a2f-42cb-a7e0-4ae3dc314118\",\"type\":\"BasicTicker\"},{\"attributes\":{\"callback\":null},\"id\":\"60d96f39-2f3f-47e6-bed7-051d2bd9fdbc\",\"type\":\"DataRange1d\"},{\"attributes\":{\"callback\":null,\"tooltips\":[[\"index\",\"$index\"],[\"(x,y)\",\"($x, $y)\"],[\"my other var\",\"@other_var\"]]},\"id\":\"3a62c878-7720-480d-b305-0a6cea1b2b11\",\"type\":\"HoverTool\"},{\"attributes\":{\"formatter\":{\"id\":\"c9dbcf4e-71b2-42d9-a49f-425584d64d7d\",\"type\":\"BasicTickFormatter\"},\"plot\":{\"id\":\"34a3e299-8b63-4ae2-8ce0-d24389a008fd\",\"subtype\":\"Figure\",\"type\":\"Plot\"},\"ticker\":{\"id\":\"35dcf742-2a2f-42cb-a7e0-4ae3dc314118\",\"type\":\"BasicTicker\"}},\"id\":\"ae7b8ca2-fc09-4852-8c31-c43000d6d5d5\",\"type\":\"LinearAxis\"},{\"attributes\":{\"plot\":null,\"text\":\"Mouse over the dots\"},\"id\":\"6e3ad4c3-dc47-48b5-8b62-85c3c86d866d\",\"type\":\"Title\"},{\"attributes\":{\"fill_color\":{\"value\":\"#1f77b4\"},\"line_color\":{\"value\":\"#1f77b4\"},\"size\":{\"units\":\"screen\",\"value\":20},\"x\":{\"field\":\"x\"},\"y\":{\"field\":\"y\"}},\"id\":\"ab58f3b0-13ee-4e9e-94b8-dd1ba0d33d56\",\"type\":\"Circle\"},{\"attributes\":{\"source\":{\"id\":\"479310ff-386a-495a-b43f-af4ae96e6980\",\"type\":\"ColumnDataSource\"}},\"id\":\"4b625118-6fd7-4da2-8d1f-989b73854edc\",\"type\":\"CDSView\"},{\"attributes\":{\"active_drag\":\"auto\",\"active_inspect\":\"auto\",\"active_scroll\":\"auto\",\"active_tap\":\"auto\",\"tools\":[{\"id\":\"3a62c878-7720-480d-b305-0a6cea1b2b11\",\"type\":\"HoverTool\"}]},\"id\":\"9e73723b-64cb-46a8-9905-c229ccfa6fa5\",\"type\":\"Toolbar\"},{\"attributes\":{\"data_source\":{\"id\":\"479310ff-386a-495a-b43f-af4ae96e6980\",\"type\":\"ColumnDataSource\"},\"glyph\":{\"id\":\"ab58f3b0-13ee-4e9e-94b8-dd1ba0d33d56\",\"type\":\"Circle\"},\"hover_glyph\":null,\"muted_glyph\":null,\"nonselection_glyph\":{\"id\":\"0dcea200-df47-48f8-a9dd-f95b0cff559c\",\"type\":\"Circle\"},\"selection_glyph\":null,\"view\":{\"id\":\"4b625118-6fd7-4da2-8d1f-989b73854edc\",\"type\":\"CDSView\"}},\"id\":\"e7e85b1c-f153-4f30-8b31-0d8fd8b0d5a9\",\"type\":\"GlyphRenderer\"},{\"attributes\":{},\"id\":\"a0a3fd56-c3de-4367-b381-7f7c7e45273d\",\"type\":\"BasicTickFormatter\"},{\"attributes\":{\"callback\":null},\"id\":\"ef5ae8a2-e5d2-459a-864f-4f5541995dd2\",\"type\":\"DataRange1d\"},{\"attributes\":{\"fill_alpha\":{\"value\":0.1},\"fill_color\":{\"value\":\"#1f77b4\"},\"line_alpha\":{\"value\":0.1},\"line_color\":{\"value\":\"#1f77b4\"},\"size\":{\"units\":\"screen\",\"value\":20},\"x\":{\"field\":\"x\"},\"y\":{\"field\":\"y\"}},\"id\":\"0dcea200-df47-48f8-a9dd-f95b0cff559c\",\"type\":\"Circle\"},{\"attributes\":{},\"id\":\"c9dbcf4e-71b2-42d9-a49f-425584d64d7d\",\"type\":\"BasicTickFormatter\"},{\"attributes\":{},\"id\":\"5253a7a9-f951-4ee2-b7f6-66d389bf6571\",\"type\":\"LinearScale\"},{\"attributes\":{\"dimension\":1,\"plot\":{\"id\":\"34a3e299-8b63-4ae2-8ce0-d24389a008fd\",\"subtype\":\"Figure\",\"type\":\"Plot\"},\"ticker\":{\"id\":\"35dcf742-2a2f-42cb-a7e0-4ae3dc314118\",\"type\":\"BasicTicker\"}},\"id\":\"8b2921ff-a4d8-4133-8ddc-7d4201c120b4\",\"type\":\"Grid\"}],\"root_ids\":[\"34a3e299-8b63-4ae2-8ce0-d24389a008fd\"]},\"title\":\"Bokeh Application\",\"version\":\"0.12.13\"}};\n",
       "  var render_items = [{\"docid\":\"21352e37-6fad-4e39-9b1e-17bfc7c09ec3\",\"elementid\":\"156629fc-635a-496d-a90f-c8c540232758\",\"modelid\":\"34a3e299-8b63-4ae2-8ce0-d24389a008fd\"}];\n",
       "  root.Bokeh.embed.embed_items_notebook(docs_json, render_items);\n",
       "\n",
       "  }\n",
       "  if (root.Bokeh !== undefined) {\n",
       "    embed_document(root);\n",
       "  } else {\n",
       "    var attempts = 0;\n",
       "    var timer = setInterval(function(root) {\n",
       "      if (root.Bokeh !== undefined) {\n",
       "        embed_document(root);\n",
       "        clearInterval(timer);\n",
       "      }\n",
       "      attempts++;\n",
       "      if (attempts > 100) {\n",
       "        console.log(\"Bokeh: ERROR: Unable to run BokehJS code because BokehJS library is missing\")\n",
       "        clearInterval(timer);\n",
       "      }\n",
       "    }, 10, root)\n",
       "  }\n",
       "})(window);"
      ],
      "application/vnd.bokehjs_exec.v0+json": ""
     },
     "metadata": {
      "application/vnd.bokehjs_exec.v0+json": {
       "id": "34a3e299-8b63-4ae2-8ce0-d24389a008fd"
      }
     },
     "output_type": "display_data"
    }
   ],
   "source": [
    "from bokeh.models import HoverTool\n",
    "\n",
    "source = ColumnDataSource(\n",
    "        data=dict(\n",
    "            x=[1, 2, 3, 4, 5],\n",
    "            y=[2, 5, 8, 2, 7],\n",
    "            other_var=['A', 'b', 'C', 'd', 'E'],\n",
    "        )\n",
    "    )\n",
    "\n",
    "hover = HoverTool(\n",
    "        tooltips=[\n",
    "            (\"index\", \"$index\"),\n",
    "            (\"(x,y)\", \"($x, $y)\"),\n",
    "            (\"my other var\", \"@other_var\"),\n",
    "        ]\n",
    "    )\n",
    "\n",
    "p = figure(plot_width=300, plot_height=300, tools=[hover], title=\"Mouse over the dots\")\n",
    "\n",
    "p.circle('x', 'y', size=20, source=source)\n",
    "\n",
    "show(p)"
   ]
  },
  {
   "cell_type": "markdown",
   "metadata": {},
   "source": [
    "# Widgets\n",
    "\n",
    "Bokeh supports direct integration with a small basic widget set. Thse can be used in conjunction with a Bokeh Server, or with ``CustomJS`` models to add more interactive capability to your documents. You can see a complete list, with example code in the [Adding Widgets](http://bokeh.pydata.org/en/latest/docs/user_guide/interaction.html#adding-widgets) section of the User's Guide. \n",
    "\n",
    "To use the widgets, include them in a layout like you would a plot object:\n",
    "\n",
    "Keep in mind that to make this example run, everything has to be done in the server. To run the server, put the file in an independent `.py` file and execute using\n",
    "\n",
    "    bokeh serve myfile.py --show\n",
    "    \n",
    "   "
   ]
  },
  {
   "cell_type": "code",
   "execution_count": null,
   "metadata": {
    "collapsed": true
   },
   "outputs": [],
   "source": [
    "from bokeh.layouts import widgetbox\n",
    "from bokeh.models.widgets import Slider\n",
    "\n",
    "\n",
    "slider = Slider(start=0, end=10, value=1, step=.1, title=\"foo\")\n",
    "show(widgetbox(slider))\n"
   ]
  },
  {
   "cell_type": "code",
   "execution_count": null,
   "metadata": {
    "collapsed": true
   },
   "outputs": [],
   "source": [
    "# Updating a plot using a widget. This wont run in the notebook.\n",
    "\n",
    "from bokeh.layouts import widgetbox, gridplot, row\n",
    "from bokeh.models.widgets import Slider\n",
    "import numpy as np\n",
    "from bokeh.models import ColumnDataSource\n",
    "from bokeh.plotting import figure\n",
    "from bokeh.io import curdoc, show\n",
    "# from bokeh.layouts import row, widgetbox\n",
    "# from bokeh.models.grids import\n",
    "\n",
    "# Setup model (function)\n",
    "def fun_pow(exp):\n",
    "    return x**(exp)\n",
    "\n",
    "# Setup data\n",
    "interval = 0.001\n",
    "x = np.arange(0, 1, interval)\n",
    "y = fun_pow(2)\n",
    "ds = ColumnDataSource(data=dict(x=x, y=y))\n",
    "\n",
    "# Setup plot\n",
    "p = figure(plot_width=400, plot_height=400)\n",
    "p.line('x', 'y', source=ds, line_width=3, line_alpha=0.6)\n",
    "\n",
    "# Make the widgets\n",
    "slider = Slider(start=0, end=10, value=1, step=.1, title=\"exponent\")\n",
    "\n",
    "# define the update\n",
    "def update_data(attribute, old, new):\n",
    "    y = fun_pow(new)\n",
    "    ds.data = dict(x=x, y=y)\n",
    "    \n",
    "slider.on_change('value', update_data)\n",
    "curdoc().add_root(row(slider, p, width=800))\n",
    "show(curdoc)"
   ]
  },
  {
   "cell_type": "markdown",
   "metadata": {},
   "source": [
    "## Callbacks for widgets\n",
    "\n",
    "Widgets that have values associated can have small JavaScript actions attached to them. These actions (also referred to as \"callbacks\") are executed whenever the widget's value is changed. In order to make it easier to refer to specific Bokeh models (e.g., a data source, or a glyhph) from JavaScript, the ``CustomJS`` obejct also accepts a dictionary of \"args\" that map names to Python Bokeh models. The corresponding JavaScript models are made available automaticaly to the ``CustomJS`` code. \n",
    "\n",
    "And example below shows an action attached to a slider that updates a data source whenever the slider is moved:"
   ]
  },
  {
   "cell_type": "code",
   "execution_count": null,
   "metadata": {
    "collapsed": true
   },
   "outputs": [],
   "source": [
    "from bokeh.layouts import column\n",
    "from bokeh.models import CustomJS, ColumnDataSource, Slider\n",
    "\n",
    "x = [x*0.005 for x in range(0, 201)]\n",
    "\n",
    "source = ColumnDataSource(data=dict(x=x, y=x))\n",
    "\n",
    "plot = figure(plot_width=400, plot_height=400)\n",
    "plot.line('x', 'y', source=source, line_width=3, line_alpha=0.6)\n",
    "\n",
    "slider = Slider(start=0.1, end=6, value=1, step=.1, title=\"power\")\n",
    "\n",
    "update_curve = CustomJS(args=dict(source=source, slider=slider), \n",
    "                        code=\"\"\"\n",
    "                        var data = source.get('data');\n",
    "                        var f = slider.value;\n",
    "                        x = data['x']\n",
    "                        y = data['y']\n",
    "                        for (i = 0; i < x.length; i++) {\n",
    "                            y[i] = Math.pow(x[i], f)\n",
    "                        }\n",
    "                        source.change.emit();\n",
    "                        \"\"\")\n",
    "\n",
    "slider.js_on_change('value', update_curve)\n",
    "\n",
    "\n",
    "show(column(slider, plot))"
   ]
  },
  {
   "cell_type": "markdown",
   "metadata": {},
   "source": [
    "# Calbacks for selections\n",
    "It's also possible to make JavaScript actions that execute whenever a user selection (e.g., box, point, lasso) changes. This is done by attaching the same kind of CustomJS object to whatever data source the selection is made on.\n",
    "\n",
    "The example below is a bit more sophisticated, and demonstrates updating one glyph's data source in response to another glyph's selection:\n"
   ]
  },
  {
   "cell_type": "code",
   "execution_count": null,
   "metadata": {
    "collapsed": true
   },
   "outputs": [],
   "source": [
    "from random import random\n",
    "\n",
    "x = [random() for x in range(500)]\n",
    "y = [random() for y in range(500)]\n",
    "color = [\"navy\"] * len(x)\n",
    "\n",
    "s = ColumnDataSource(data=dict(x=x, y=y, color=color))\n",
    "p = figure(plot_width=400, plot_height=400, tools=\"lasso_select\", title=\"Select Here\")\n",
    "p.circle('x', 'y', color='color', size=8, source=s, alpha=0.4)\n",
    "\n",
    "s2 = ColumnDataSource(data=dict(xm=[0,1],ym=[0.5, 0.5]))\n",
    "p.line(x='xm', y='ym', color=\"orange\", line_width=5, alpha=0.6, source=s2)\n",
    "\n",
    "s.callback = CustomJS(args=dict(s2=s2), code=\"\"\"\n",
    "    var inds = cb_obj.get('selected')['1d'].indices;\n",
    "    var d = cb_obj.get('data');\n",
    "    var ym = 0\n",
    "    \n",
    "    if (inds.length == 0) { return; }\n",
    "    \n",
    "    for (i = 0; i < d['color'].length; i++) {\n",
    "        d['color'][i] = \"navy\"\n",
    "    }\n",
    "    for (i = 0; i < inds.length; i++) {\n",
    "        d['color'][inds[i]] = \"firebrick\"\n",
    "        ym += d['y'][inds[i]]\n",
    "    }\n",
    "    \n",
    "    ym /= inds.length\n",
    "    s2.get('data')['ym'] = [ym, ym]\n",
    "    \n",
    "    cb_obj.trigger('change');\n",
    "    s2.trigger('change');\n",
    "\"\"\")\n",
    "\n",
    "show(p)"
   ]
  },
  {
   "cell_type": "markdown",
   "metadata": {},
   "source": [
    "# Integration Example\n",
    "\n",
    "It is also possible to specify the visual appearance of glyphs when they are \"inspected\", e.g. by a hover tool. This is accomplished by setting an optional `hover_glyph` on the glyph renderer:\n",
    "\n",
    "    r.hover_glyph = Circle(fill_alpha=1, fill_color=\"firebrick\", line_color=None) \n",
    "\n",
    "Or if using `bokeh.plotting` glyph methods, by passing `hover_fill_alpha`, etc. to the glyph method. Lets look at an example that works together with a `HoverTool` configured for \"hline\" hit-testing."
   ]
  },
  {
   "cell_type": "code",
   "execution_count": 15,
   "metadata": {},
   "outputs": [
    {
     "data": {
      "text/html": [
       "\n",
       "<div class=\"bk-root\">\n",
       "    <div class=\"bk-plotdiv\" id=\"8a26c2dd-5e2a-42c9-a4cc-cb452448a966\"></div>\n",
       "</div>"
      ]
     },
     "metadata": {},
     "output_type": "display_data"
    },
    {
     "data": {
      "application/javascript": [
       "(function(root) {\n",
       "  function embed_document(root) {\n",
       "    \n",
       "  var docs_json = {\"ade809a7-39f2-485a-9b88-9c56861728f5\":{\"roots\":{\"references\":[{\"attributes\":{},\"id\":\"ae6aea6e-68c5-44cb-bfe6-77c4cd019e98\",\"type\":\"BasicTickFormatter\"},{\"attributes\":{\"bottom_units\":\"screen\",\"fill_alpha\":{\"value\":0.5},\"fill_color\":{\"value\":\"lightgrey\"},\"left_units\":\"screen\",\"level\":\"overlay\",\"line_alpha\":{\"value\":1.0},\"line_color\":{\"value\":\"black\"},\"line_dash\":[4,4],\"line_width\":{\"value\":2},\"plot\":null,\"render_mode\":\"css\",\"right_units\":\"screen\",\"top_units\":\"screen\"},\"id\":\"0039eb77-9f14-4e3f-bc9f-e397ba28c749\",\"type\":\"BoxAnnotation\"},{\"attributes\":{\"fill_alpha\":{\"value\":0.1},\"fill_color\":{\"value\":\"#1f77b4\"},\"line_alpha\":{\"value\":0.1},\"line_color\":{\"value\":\"#1f77b4\"},\"size\":{\"units\":\"screen\",\"value\":10.0},\"x\":{\"field\":\"x\"},\"y\":{\"field\":\"y\"}},\"id\":\"32bbb05b-2c56-4f16-bf95-8dc988ec2d80\",\"type\":\"Circle\"},{\"attributes\":{\"fill_alpha\":{\"value\":0.3},\"fill_color\":{\"value\":\"firebrick\"},\"line_alpha\":{\"value\":0.3},\"line_color\":{\"value\":\"white\"},\"size\":{\"units\":\"screen\",\"value\":10.0},\"x\":{\"field\":\"x\"},\"y\":{\"field\":\"y\"}},\"id\":\"dc582ad3-0ecc-4877-b572-06371ff57ac6\",\"type\":\"Circle\"},{\"attributes\":{\"callback\":null,\"line_policy\":\"interp\",\"mode\":\"hline\",\"renderers\":[{\"id\":\"dfd40e54-ea3f-4474-9337-3533452f2cd2\",\"type\":\"GlyphRenderer\"}],\"tooltips\":[[\"index\",\"$index\"],[\"(x,y)\",\"($x, $y)\"],[\"y\",\"$y\"]]},\"id\":\"b58e5bd1-3f41-45c2-b4bd-b338decde84d\",\"type\":\"HoverTool\"},{\"attributes\":{\"formatter\":{\"id\":\"0a8d0304-2287-480b-a902-ca13c26a6c6a\",\"type\":\"DatetimeTickFormatter\"},\"plot\":{\"id\":\"b7c88247-e775-4403-ba92-ee767c883906\",\"subtype\":\"Figure\",\"type\":\"Plot\"},\"ticker\":{\"id\":\"bf7b58d2-c423-4fa0-929f-10408dd695ca\",\"type\":\"DatetimeTicker\"}},\"id\":\"3375c284-053f-4285-9c79-fa2616e78f7f\",\"type\":\"DatetimeAxis\"},{\"attributes\":{\"months\":[0,4,8]},\"id\":\"283a52cd-aad0-493f-a6c8-2c82cfbfb752\",\"type\":\"MonthsTicker\"},{\"attributes\":{\"base\":60,\"mantissas\":[1,2,5,10,15,20,30],\"max_interval\":1800000.0,\"min_interval\":1000.0,\"num_minor_ticks\":0},\"id\":\"a220ebbd-a128-4249-b3e5-a22f10d9592b\",\"type\":\"AdaptiveTicker\"},{\"attributes\":{\"active_drag\":\"auto\",\"active_inspect\":\"auto\",\"active_scroll\":\"auto\",\"active_tap\":\"auto\",\"tools\":[{\"id\":\"1f678e5b-a8ea-492a-9acc-59a4a4043592\",\"type\":\"PanTool\"},{\"id\":\"556a3c29-063e-4cd5-ac34-8472b0dad5c6\",\"type\":\"WheelZoomTool\"},{\"id\":\"28ebdae3-90cb-4ae9-bafd-1f3c09467c54\",\"type\":\"BoxZoomTool\"},{\"id\":\"1445590d-c794-4f55-a4d0-b5e4fe40e697\",\"type\":\"SaveTool\"},{\"id\":\"56ce82c5-3ad5-40e2-9739-49fbd642087e\",\"type\":\"ResetTool\"},{\"id\":\"5a505883-9551-421f-955c-873101db0f7d\",\"type\":\"HelpTool\"},{\"id\":\"b58e5bd1-3f41-45c2-b4bd-b338decde84d\",\"type\":\"HoverTool\"}]},\"id\":\"55ad538e-0567-4d37-ade1-4584a15b5f91\",\"type\":\"Toolbar\"},{\"attributes\":{\"months\":[0,2,4,6,8,10]},\"id\":\"930807fb-ffcd-4edf-a9bb-a3a9cf6f748f\",\"type\":\"MonthsTicker\"},{\"attributes\":{\"data_source\":{\"id\":\"5265f07c-af6d-4ee8-a27c-829e595f792d\",\"type\":\"ColumnDataSource\"},\"glyph\":{\"id\":\"37ac245a-ca71-413a-88be-72e365fdb231\",\"type\":\"Circle\"},\"hover_glyph\":{\"id\":\"dc582ad3-0ecc-4877-b572-06371ff57ac6\",\"type\":\"Circle\"},\"muted_glyph\":null,\"nonselection_glyph\":{\"id\":\"32bbb05b-2c56-4f16-bf95-8dc988ec2d80\",\"type\":\"Circle\"},\"selection_glyph\":null,\"view\":{\"id\":\"c5b7fcea-b372-47a5-8b66-0795cb3df0c4\",\"type\":\"CDSView\"}},\"id\":\"dfd40e54-ea3f-4474-9337-3533452f2cd2\",\"type\":\"GlyphRenderer\"},{\"attributes\":{\"callback\":null,\"column_names\":[\"y\",\"x\"],\"data\":{\"x\":{\"__ndarray__\":\"AACwipvIZUIAAIBooshlQgAAUEapyGVCAAAgJLDIZUIAAPABt8hlQgAAwN+9yGVCAACQvcTIZUIAAGCby8hlQgAAMHnSyGVCAAAAV9nIZUIAANA04MhlQgAAoBLnyGVCAABw8O3IZUIAAEDO9MhlQgAAEKz7yGVCAADgiQLJZUIAALBnCcllQgAAgEUQyWVCAABQIxfJZUIAACABHsllQgAA8N4kyWVCAADAvCvJZUIAAJCaMsllQgAAYHg5yWVCAAAwVkDJZUIAAAA0R8llQgAA0BFOyWVCAACg71TJZUIAAHDNW8llQgAAQKtiyWVCAAAQiWnJZUIAAOBmcMllQgAAsER3yWVCAACAIn7JZUIAAFAAhcllQgAAIN6LyWVCAADwu5LJZUIAAMCZmcllQgAAkHegyWVCAABgVafJZUIAADAzrsllQgAAABG1yWVCAADQ7rvJZUIAAKDMwsllQgAAcKrJyWVCAABAiNDJZUIAABBm18llQgAA4EPeyWVCAACwIeXJZUIAAID/68llQgAAUN3yyWVCAAAgu/nJZUIAAPCYAMplQgAAwHYHymVCAACQVA7KZUIAAGAyFcplQgAAMBAcymVCAAAA7iLKZUIAANDLKcplQgAAoKkwymVCAABwhzfKZUIAAEBlPsplQgAAEENFymVCAADgIEzKZUIAALD+UsplQgAAgNxZymVCAABQumDKZUIAACCYZ8plQgAA8HVuymVCAADAU3XKZUIAAJAxfMplQgAAYA+DymVCAAAw7YnKZUI=\",\"dtype\":\"float64\",\"shape\":[73]},\"y\":{\"__ndarray__\":\"AAAAAAAAAAAAAAAAAAAAAKwPjfWhse4/OQUvp+DllD8vp+DlFLzcP5IkSZIkScI/AAAAAAAAAAAAAAAAAAAAAJIkSZIkSdI/AAAAAAAAAAAAAAAAAAAAAAAAAAAAAAAAsj401ofG6j/Wh8b60FjPP5IkSZIkSdI/g5dT8HIK7j801ofG+tDYPzkFL6fg5ZQ/kiRJkiRJwj85BS+n4OWUPwAAAAAAAAAAAAAAAAAAAAA5BS+n4OWUPwAAAAAAAAAAAAAAAAAAAAAAAAAAAAAAAAAAAAAAAAAAOQUvp+DllD8AAAAAAAAAAAAAAAAAAAAArA+N9aGx7j85BS+n4OWkPwAAAAAAAAAAAAAAAAAAAAAAAAAAAAAAAAAAAAAAAAAA1ofG+tBYvz8AAAAAAAAAADkFL6fg5ZQ/OQUvp+DltD8AAAAAAAAAAAAAAAAAAAAAAAAAAAAAAAAAAAAAAAAAAAAAAAAAAAAAAAAAAAAAAAAAAAAAAAAAAAAAAAAAAAAAAAAAAAAAAAA5BS+n4OWUPwAAAAAAAAAAAAAAAAAAAAAAAAAAAAAAANaHxvrQWN8/5hS8nIKX4z8AAAAAAAAAAAAAAAAAAAAAAAAAAAAAAAAAAAAAAAAAAAAAAAAAAAAAOQUvp+DlpD85BS+n4OWUPwAAAAAAAAAAAAAAAAAAAAAAAAAAAAAAAAAAAAAAAAAAAAAAAAAAAAAAAAAAAAAAAAAAAAAAAAAAAAAAAAAAAAAAAAAAAAAAAAAAAAAAAAAAAAAAAAAAAAA=\",\"dtype\":\"float64\",\"shape\":[73]}}},\"id\":\"5265f07c-af6d-4ee8-a27c-829e595f792d\",\"type\":\"ColumnDataSource\"},{\"attributes\":{\"days\":[1,15]},\"id\":\"569a27d1-915e-4a40-a102-cb32cd58e4f0\",\"type\":\"DaysTicker\"},{\"attributes\":{\"plot\":null,\"text\":\"Hover over points\"},\"id\":\"017a3521-ad7f-4542-889d-047f16b8f7ce\",\"type\":\"Title\"},{\"attributes\":{},\"id\":\"56ce82c5-3ad5-40e2-9739-49fbd642087e\",\"type\":\"ResetTool\"},{\"attributes\":{\"mantissas\":[1,2,5],\"max_interval\":500.0,\"num_minor_ticks\":0},\"id\":\"332217b9-8869-4b51-bd8b-e831025a88d8\",\"type\":\"AdaptiveTicker\"},{\"attributes\":{\"line_alpha\":0.1,\"line_color\":\"#1f77b4\",\"x\":{\"field\":\"x\"},\"y\":{\"field\":\"y\"}},\"id\":\"3e74a254-e3f0-4892-b6aa-7b1c1732c8c0\",\"type\":\"Line\"},{\"attributes\":{},\"id\":\"31c8a892-0710-4c04-8301-1a7d8bc6e82b\",\"type\":\"YearsTicker\"},{\"attributes\":{\"callback\":null,\"column_names\":[\"y\",\"x\"],\"data\":{\"x\":{\"__ndarray__\":\"AACwipvIZUIAAIBooshlQgAAUEapyGVCAAAgJLDIZUIAAPABt8hlQgAAwN+9yGVCAACQvcTIZUIAAGCby8hlQgAAMHnSyGVCAAAAV9nIZUIAANA04MhlQgAAoBLnyGVCAABw8O3IZUIAAEDO9MhlQgAAEKz7yGVCAADgiQLJZUIAALBnCcllQgAAgEUQyWVCAABQIxfJZUIAACABHsllQgAA8N4kyWVCAADAvCvJZUIAAJCaMsllQgAAYHg5yWVCAAAwVkDJZUIAAAA0R8llQgAA0BFOyWVCAACg71TJZUIAAHDNW8llQgAAQKtiyWVCAAAQiWnJZUIAAOBmcMllQgAAsER3yWVCAACAIn7JZUIAAFAAhcllQgAAIN6LyWVCAADwu5LJZUIAAMCZmcllQgAAkHegyWVCAABgVafJZUIAADAzrsllQgAAABG1yWVCAADQ7rvJZUIAAKDMwsllQgAAcKrJyWVCAABAiNDJZUIAABBm18llQgAA4EPeyWVCAACwIeXJZUIAAID/68llQgAAUN3yyWVCAAAgu/nJZUIAAPCYAMplQgAAwHYHymVCAACQVA7KZUIAAGAyFcplQgAAMBAcymVCAAAA7iLKZUIAANDLKcplQgAAoKkwymVCAABwhzfKZUIAAEBlPsplQgAAEENFymVCAADgIEzKZUIAALD+UsplQgAAgNxZymVCAABQumDKZUIAACCYZ8plQgAA8HVuymVCAADAU3XKZUIAAJAxfMplQgAAYA+DymVCAAAw7YnKZUI=\",\"dtype\":\"float64\",\"shape\":[73]},\"y\":{\"__ndarray__\":\"AAAAAAAAAAAAAAAAAAAAAKwPjfWhse4/OQUvp+DllD8vp+DlFLzcP5IkSZIkScI/AAAAAAAAAAAAAAAAAAAAAJIkSZIkSdI/AAAAAAAAAAAAAAAAAAAAAAAAAAAAAAAAsj401ofG6j/Wh8b60FjPP5IkSZIkSdI/g5dT8HIK7j801ofG+tDYPzkFL6fg5ZQ/kiRJkiRJwj85BS+n4OWUPwAAAAAAAAAAAAAAAAAAAAA5BS+n4OWUPwAAAAAAAAAAAAAAAAAAAAAAAAAAAAAAAAAAAAAAAAAAOQUvp+DllD8AAAAAAAAAAAAAAAAAAAAArA+N9aGx7j85BS+n4OWkPwAAAAAAAAAAAAAAAAAAAAAAAAAAAAAAAAAAAAAAAAAA1ofG+tBYvz8AAAAAAAAAADkFL6fg5ZQ/OQUvp+DltD8AAAAAAAAAAAAAAAAAAAAAAAAAAAAAAAAAAAAAAAAAAAAAAAAAAAAAAAAAAAAAAAAAAAAAAAAAAAAAAAAAAAAAAAAAAAAAAAA5BS+n4OWUPwAAAAAAAAAAAAAAAAAAAAAAAAAAAAAAANaHxvrQWN8/5hS8nIKX4z8AAAAAAAAAAAAAAAAAAAAAAAAAAAAAAAAAAAAAAAAAAAAAAAAAAAAAOQUvp+DlpD85BS+n4OWUPwAAAAAAAAAAAAAAAAAAAAAAAAAAAAAAAAAAAAAAAAAAAAAAAAAAAAAAAAAAAAAAAAAAAAAAAAAAAAAAAAAAAAAAAAAAAAAAAAAAAAAAAAAAAAAAAAAAAAA=\",\"dtype\":\"float64\",\"shape\":[73]}}},\"id\":\"80f445a5-1b1d-4628-b603-3b5ebd2a1f4d\",\"type\":\"ColumnDataSource\"},{\"attributes\":{\"days\":[1,4,7,10,13,16,19,22,25,28]},\"id\":\"77a69e60-7c00-43fa-af89-51b0daf847f3\",\"type\":\"DaysTicker\"},{\"attributes\":{\"dimension\":1,\"plot\":{\"id\":\"b7c88247-e775-4403-ba92-ee767c883906\",\"subtype\":\"Figure\",\"type\":\"Plot\"},\"ticker\":{\"id\":\"87eb2da7-bedb-4360-a93a-d4b7d172eee3\",\"type\":\"BasicTicker\"}},\"id\":\"60948996-1522-4900-9ee8-00d2d0361aa7\",\"type\":\"Grid\"},{\"attributes\":{},\"id\":\"556a3c29-063e-4cd5-ac34-8472b0dad5c6\",\"type\":\"WheelZoomTool\"},{\"attributes\":{\"line_color\":\"gray\",\"x\":{\"field\":\"x\"},\"y\":{\"field\":\"y\"}},\"id\":\"d6a71b87-8472-404f-81e1-2825b5627437\",\"type\":\"Line\"},{\"attributes\":{},\"id\":\"87eb2da7-bedb-4360-a93a-d4b7d172eee3\",\"type\":\"BasicTicker\"},{\"attributes\":{\"plot\":{\"id\":\"b7c88247-e775-4403-ba92-ee767c883906\",\"subtype\":\"Figure\",\"type\":\"Plot\"},\"ticker\":{\"id\":\"bf7b58d2-c423-4fa0-929f-10408dd695ca\",\"type\":\"DatetimeTicker\"}},\"id\":\"7d53c991-1410-4231-ad5f-825b65e7c835\",\"type\":\"Grid\"},{\"attributes\":{\"callback\":null},\"id\":\"7da4ba74-0349-462d-864c-b9e7cd1a24c3\",\"type\":\"DataRange1d\"},{\"attributes\":{\"fill_alpha\":{\"value\":0.05},\"fill_color\":{\"value\":\"grey\"},\"line_color\":{\"value\":null},\"size\":{\"units\":\"screen\",\"value\":10.0},\"x\":{\"field\":\"x\"},\"y\":{\"field\":\"y\"}},\"id\":\"37ac245a-ca71-413a-88be-72e365fdb231\",\"type\":\"Circle\"},{\"attributes\":{\"months\":[0,6]},\"id\":\"e56533c7-dd7e-40d3-b63e-06683cbe54e2\",\"type\":\"MonthsTicker\"},{\"attributes\":{\"num_minor_ticks\":5,\"tickers\":[{\"id\":\"332217b9-8869-4b51-bd8b-e831025a88d8\",\"type\":\"AdaptiveTicker\"},{\"id\":\"a220ebbd-a128-4249-b3e5-a22f10d9592b\",\"type\":\"AdaptiveTicker\"},{\"id\":\"885393d7-2342-46a6-b930-12fa6e7116b0\",\"type\":\"AdaptiveTicker\"},{\"id\":\"1fc18a29-7727-4642-ba35-4f77bd47ec72\",\"type\":\"DaysTicker\"},{\"id\":\"77a69e60-7c00-43fa-af89-51b0daf847f3\",\"type\":\"DaysTicker\"},{\"id\":\"8e122861-8b99-4d25-b68e-8f85ae6202fc\",\"type\":\"DaysTicker\"},{\"id\":\"569a27d1-915e-4a40-a102-cb32cd58e4f0\",\"type\":\"DaysTicker\"},{\"id\":\"2218c31a-c2e4-4422-8143-a250f0bafe47\",\"type\":\"MonthsTicker\"},{\"id\":\"930807fb-ffcd-4edf-a9bb-a3a9cf6f748f\",\"type\":\"MonthsTicker\"},{\"id\":\"283a52cd-aad0-493f-a6c8-2c82cfbfb752\",\"type\":\"MonthsTicker\"},{\"id\":\"e56533c7-dd7e-40d3-b63e-06683cbe54e2\",\"type\":\"MonthsTicker\"},{\"id\":\"31c8a892-0710-4c04-8301-1a7d8bc6e82b\",\"type\":\"YearsTicker\"}]},\"id\":\"bf7b58d2-c423-4fa0-929f-10408dd695ca\",\"type\":\"DatetimeTicker\"},{\"attributes\":{\"days\":[1,2,3,4,5,6,7,8,9,10,11,12,13,14,15,16,17,18,19,20,21,22,23,24,25,26,27,28,29,30,31]},\"id\":\"1fc18a29-7727-4642-ba35-4f77bd47ec72\",\"type\":\"DaysTicker\"},{\"attributes\":{\"formatter\":{\"id\":\"ae6aea6e-68c5-44cb-bfe6-77c4cd019e98\",\"type\":\"BasicTickFormatter\"},\"plot\":{\"id\":\"b7c88247-e775-4403-ba92-ee767c883906\",\"subtype\":\"Figure\",\"type\":\"Plot\"},\"ticker\":{\"id\":\"87eb2da7-bedb-4360-a93a-d4b7d172eee3\",\"type\":\"BasicTicker\"}},\"id\":\"a45e44e9-226c-4ea1-99e4-03b1156be6ac\",\"type\":\"LinearAxis\"},{\"attributes\":{\"data_source\":{\"id\":\"80f445a5-1b1d-4628-b603-3b5ebd2a1f4d\",\"type\":\"ColumnDataSource\"},\"glyph\":{\"id\":\"d6a71b87-8472-404f-81e1-2825b5627437\",\"type\":\"Line\"},\"hover_glyph\":null,\"muted_glyph\":null,\"nonselection_glyph\":{\"id\":\"3e74a254-e3f0-4892-b6aa-7b1c1732c8c0\",\"type\":\"Line\"},\"selection_glyph\":null,\"view\":{\"id\":\"6f7224e5-b539-41e8-89fc-42b13bc5a740\",\"type\":\"CDSView\"}},\"id\":\"3f1a2b7b-81ad-4caf-8f29-79e4ec13c8d0\",\"type\":\"GlyphRenderer\"},{\"attributes\":{\"below\":[{\"id\":\"3375c284-053f-4285-9c79-fa2616e78f7f\",\"type\":\"DatetimeAxis\"}],\"left\":[{\"id\":\"a45e44e9-226c-4ea1-99e4-03b1156be6ac\",\"type\":\"LinearAxis\"}],\"plot_height\":300,\"renderers\":[{\"id\":\"3375c284-053f-4285-9c79-fa2616e78f7f\",\"type\":\"DatetimeAxis\"},{\"id\":\"7d53c991-1410-4231-ad5f-825b65e7c835\",\"type\":\"Grid\"},{\"id\":\"a45e44e9-226c-4ea1-99e4-03b1156be6ac\",\"type\":\"LinearAxis\"},{\"id\":\"60948996-1522-4900-9ee8-00d2d0361aa7\",\"type\":\"Grid\"},{\"id\":\"0039eb77-9f14-4e3f-bc9f-e397ba28c749\",\"type\":\"BoxAnnotation\"},{\"id\":\"3f1a2b7b-81ad-4caf-8f29-79e4ec13c8d0\",\"type\":\"GlyphRenderer\"},{\"id\":\"dfd40e54-ea3f-4474-9337-3533452f2cd2\",\"type\":\"GlyphRenderer\"}],\"title\":{\"id\":\"017a3521-ad7f-4542-889d-047f16b8f7ce\",\"type\":\"Title\"},\"toolbar\":{\"id\":\"55ad538e-0567-4d37-ade1-4584a15b5f91\",\"type\":\"Toolbar\"},\"x_range\":{\"id\":\"7da4ba74-0349-462d-864c-b9e7cd1a24c3\",\"type\":\"DataRange1d\"},\"x_scale\":{\"id\":\"948e2aea-e4a5-4476-adaf-29e906b0d927\",\"type\":\"LinearScale\"},\"y_range\":{\"id\":\"bf37260b-e385-4a80-bc5d-967e4574c66f\",\"type\":\"DataRange1d\"},\"y_scale\":{\"id\":\"467e2d42-dcea-4240-a29e-0795536a12d4\",\"type\":\"LinearScale\"}},\"id\":\"b7c88247-e775-4403-ba92-ee767c883906\",\"subtype\":\"Figure\",\"type\":\"Plot\"},{\"attributes\":{\"months\":[0,1,2,3,4,5,6,7,8,9,10,11]},\"id\":\"2218c31a-c2e4-4422-8143-a250f0bafe47\",\"type\":\"MonthsTicker\"},{\"attributes\":{\"overlay\":{\"id\":\"0039eb77-9f14-4e3f-bc9f-e397ba28c749\",\"type\":\"BoxAnnotation\"}},\"id\":\"28ebdae3-90cb-4ae9-bafd-1f3c09467c54\",\"type\":\"BoxZoomTool\"},{\"attributes\":{\"source\":{\"id\":\"80f445a5-1b1d-4628-b603-3b5ebd2a1f4d\",\"type\":\"ColumnDataSource\"}},\"id\":\"6f7224e5-b539-41e8-89fc-42b13bc5a740\",\"type\":\"CDSView\"},{\"attributes\":{\"callback\":null},\"id\":\"bf37260b-e385-4a80-bc5d-967e4574c66f\",\"type\":\"DataRange1d\"},{\"attributes\":{},\"id\":\"0a8d0304-2287-480b-a902-ca13c26a6c6a\",\"type\":\"DatetimeTickFormatter\"},{\"attributes\":{},\"id\":\"1445590d-c794-4f55-a4d0-b5e4fe40e697\",\"type\":\"SaveTool\"},{\"attributes\":{},\"id\":\"5a505883-9551-421f-955c-873101db0f7d\",\"type\":\"HelpTool\"},{\"attributes\":{\"base\":24,\"mantissas\":[1,2,4,6,8,12],\"max_interval\":43200000.0,\"min_interval\":3600000.0,\"num_minor_ticks\":0},\"id\":\"885393d7-2342-46a6-b930-12fa6e7116b0\",\"type\":\"AdaptiveTicker\"},{\"attributes\":{\"source\":{\"id\":\"5265f07c-af6d-4ee8-a27c-829e595f792d\",\"type\":\"ColumnDataSource\"}},\"id\":\"c5b7fcea-b372-47a5-8b66-0795cb3df0c4\",\"type\":\"CDSView\"},{\"attributes\":{},\"id\":\"948e2aea-e4a5-4476-adaf-29e906b0d927\",\"type\":\"LinearScale\"},{\"attributes\":{},\"id\":\"467e2d42-dcea-4240-a29e-0795536a12d4\",\"type\":\"LinearScale\"},{\"attributes\":{},\"id\":\"1f678e5b-a8ea-492a-9acc-59a4a4043592\",\"type\":\"PanTool\"},{\"attributes\":{\"days\":[1,8,15,22]},\"id\":\"8e122861-8b99-4d25-b68e-8f85ae6202fc\",\"type\":\"DaysTicker\"}],\"root_ids\":[\"b7c88247-e775-4403-ba92-ee767c883906\"]},\"title\":\"Bokeh Application\",\"version\":\"0.12.13\"}};\n",
       "  var render_items = [{\"docid\":\"ade809a7-39f2-485a-9b88-9c56861728f5\",\"elementid\":\"8a26c2dd-5e2a-42c9-a4cc-cb452448a966\",\"modelid\":\"b7c88247-e775-4403-ba92-ee767c883906\"}];\n",
       "  root.Bokeh.embed.embed_items_notebook(docs_json, render_items);\n",
       "\n",
       "  }\n",
       "  if (root.Bokeh !== undefined) {\n",
       "    embed_document(root);\n",
       "  } else {\n",
       "    var attempts = 0;\n",
       "    var timer = setInterval(function(root) {\n",
       "      if (root.Bokeh !== undefined) {\n",
       "        embed_document(root);\n",
       "        clearInterval(timer);\n",
       "      }\n",
       "      attempts++;\n",
       "      if (attempts > 100) {\n",
       "        console.log(\"Bokeh: ERROR: Unable to run BokehJS code because BokehJS library is missing\")\n",
       "        clearInterval(timer);\n",
       "      }\n",
       "    }, 10, root)\n",
       "  }\n",
       "})(window);"
      ],
      "application/vnd.bokehjs_exec.v0+json": ""
     },
     "metadata": {
      "application/vnd.bokehjs_exec.v0+json": {
       "id": "b7c88247-e775-4403-ba92-ee767c883906"
      }
     },
     "output_type": "display_data"
    }
   ],
   "source": [
    "from bokeh.models.tools import HoverTool, WheelZoomTool\n",
    "import pandas as pd\n",
    "from bokeh.models import ColumnDataSource\n",
    "\n",
    "data = pd.read_excel(r'sample_data\\brue.xlsx', index_col='Date', parse_dates=True)\n",
    "\n",
    "event = data['1993-09-19':'1993-09-22']\n",
    "x, y = event.index.to_series(), event['P']\n",
    "\n",
    "ds = ColumnDataSource(event)\n",
    "\n",
    "# Figure setup\n",
    "p = figure(width=600, \n",
    "           height=300, \n",
    "           x_axis_type=\"datetime\", \n",
    "           title='Hover over points')\n",
    "\n",
    "# Adding a line plot to the figure\n",
    "p.line(x, y, line_width=1, color='gray')\n",
    "\n",
    "# Creating a circle plot in top of the line (as markers)\n",
    "cr = p.circle(x, y, size=10.0,\n",
    "              fill_color=\"grey\", hover_fill_color=\"firebrick\",\n",
    "              fill_alpha=0.05, hover_alpha=0.3,\n",
    "              line_color=None, hover_line_color=\"white\")\n",
    "\n",
    "# Configuring the Hover tool to display data\n",
    "hover_tool = HoverTool(tooltips=None,  # set tooltips\n",
    "                       line_policy='interp', # prev, next, nearest, interp, none\n",
    "                       renderers=[cr], # which plot will appear\n",
    "                       mode='hline')  # mouse, hline, vline\n",
    "\n",
    "hover_tool.tooltips = [\n",
    "                        (\"index\", \"$index\"),\n",
    "                        (\"(x,y)\", \"($x, $y)\"),\n",
    "                        (\"y\", \"$y\"),\n",
    "                      ]\n",
    "\n",
    "# Here we add the tools. In this case the hover amd mouse wheel zoom\n",
    "mouse_zoom = WheelZoomTool()\n",
    "p.add_tools(hover_tool)\n",
    "\n",
    "# Display the plot\n",
    "show(p)"
   ]
  },
  {
   "cell_type": "code",
   "execution_count": 16,
   "metadata": {},
   "outputs": [
    {
     "data": {
      "text/html": [
       "\n",
       "<div class=\"bk-root\">\n",
       "    <div class=\"bk-plotdiv\" id=\"1e2741d7-50ad-4287-90e8-42165438a717\"></div>\n",
       "</div>"
      ]
     },
     "metadata": {},
     "output_type": "display_data"
    },
    {
     "data": {
      "application/javascript": [
       "(function(root) {\n",
       "  function embed_document(root) {\n",
       "    \n",
       "  var docs_json = {\"6b6d8bf6-b920-4d11-805e-193c5b97186f\":{\"roots\":{\"references\":[{\"attributes\":{},\"id\":\"e6191e6e-b4c6-4aa3-b524-c39a10f66d83\",\"type\":\"BasicTicker\"},{\"attributes\":{\"months\":[0,4,8]},\"id\":\"96f80878-82aa-48e0-b2bf-a5c38b9c79c4\",\"type\":\"MonthsTicker\"},{\"attributes\":{},\"id\":\"5664fab0-acc9-4eee-be21-817a1f10dd98\",\"type\":\"PanTool\"},{\"attributes\":{\"callback\":null},\"id\":\"eb1f30df-484a-4847-b04b-20d0f0c2c3ca\",\"type\":\"DataRange1d\"},{\"attributes\":{\"active_drag\":\"auto\",\"active_inspect\":\"auto\",\"active_scroll\":\"auto\",\"active_tap\":\"auto\",\"tools\":[{\"id\":\"5664fab0-acc9-4eee-be21-817a1f10dd98\",\"type\":\"PanTool\"},{\"id\":\"06cc044e-0673-453b-aab2-affdaede96ea\",\"type\":\"WheelZoomTool\"},{\"id\":\"6415f09b-7c57-442c-858d-74d86be26ba3\",\"type\":\"BoxZoomTool\"},{\"id\":\"b9b15de4-02cf-4d21-841b-050b15b2dc21\",\"type\":\"SaveTool\"},{\"id\":\"5c561411-69dd-4b8b-9804-cf3081a751e5\",\"type\":\"ResetTool\"},{\"id\":\"ca3db98e-7715-436b-82d9-96c13c15df8b\",\"type\":\"HelpTool\"},{\"id\":\"3fa0f054-9ec3-4279-8043-d935b3a36f4f\",\"type\":\"HoverTool\"}]},\"id\":\"56110069-362b-4c80-a1f3-e4be1e0cc89e\",\"type\":\"Toolbar\"},{\"attributes\":{\"fill_alpha\":{\"value\":0.1},\"fill_color\":{\"value\":\"#1f77b4\"},\"line_alpha\":{\"value\":0.1},\"line_color\":{\"value\":\"#1f77b4\"},\"size\":{\"units\":\"screen\",\"value\":10.0},\"x\":{\"field\":\"Date\"},\"y\":{\"field\":\"P\"}},\"id\":\"fd9b699e-23f8-47e5-b767-093cd18601c0\",\"type\":\"Circle\"},{\"attributes\":{\"base\":24,\"mantissas\":[1,2,4,6,8,12],\"max_interval\":43200000.0,\"min_interval\":3600000.0,\"num_minor_ticks\":0},\"id\":\"48eac087-a4a1-4bee-ad92-0d73bbf1911b\",\"type\":\"AdaptiveTicker\"},{\"attributes\":{\"line_color\":\"gray\",\"x\":{\"field\":\"Date\"},\"y\":{\"field\":\"P\"}},\"id\":\"379a2bf0-10cd-4db8-8c91-c0973d16c2f9\",\"type\":\"Line\"},{\"attributes\":{\"base\":60,\"mantissas\":[1,2,5,10,15,20,30],\"max_interval\":1800000.0,\"min_interval\":1000.0,\"num_minor_ticks\":0},\"id\":\"15673b19-63d7-4ab4-914e-41fc0927d7f2\",\"type\":\"AdaptiveTicker\"},{\"attributes\":{\"bottom_units\":\"screen\",\"fill_alpha\":{\"value\":0.5},\"fill_color\":{\"value\":\"lightgrey\"},\"left_units\":\"screen\",\"level\":\"overlay\",\"line_alpha\":{\"value\":1.0},\"line_color\":{\"value\":\"black\"},\"line_dash\":[4,4],\"line_width\":{\"value\":2},\"plot\":null,\"render_mode\":\"css\",\"right_units\":\"screen\",\"top_units\":\"screen\"},\"id\":\"aa3e9da1-2902-4e49-ad00-be10261e3b11\",\"type\":\"BoxAnnotation\"},{\"attributes\":{\"callback\":null},\"id\":\"2a63e401-979d-42f8-90f7-207047b95714\",\"type\":\"DataRange1d\"},{\"attributes\":{\"formatter\":{\"id\":\"d3ab7662-a236-4acc-b4d4-79226aa3089e\",\"type\":\"BasicTickFormatter\"},\"plot\":{\"id\":\"ac0a2a77-80ea-499d-a0c6-dc4c7b6925b9\",\"subtype\":\"Figure\",\"type\":\"Plot\"},\"ticker\":{\"id\":\"e6191e6e-b4c6-4aa3-b524-c39a10f66d83\",\"type\":\"BasicTicker\"}},\"id\":\"15aa723b-9ffc-4f32-a16e-4182cc0218db\",\"type\":\"LinearAxis\"},{\"attributes\":{\"fill_alpha\":{\"value\":0.3},\"fill_color\":{\"value\":\"firebrick\"},\"line_alpha\":{\"value\":0.3},\"line_color\":{\"value\":\"white\"},\"size\":{\"units\":\"screen\",\"value\":10.0},\"x\":{\"field\":\"Date\"},\"y\":{\"field\":\"P\"}},\"id\":\"364a5a35-3dde-480c-a29f-cd4e9066bdb2\",\"type\":\"Circle\"},{\"attributes\":{\"months\":[0,6]},\"id\":\"6a5fa7c5-65ec-435f-bd13-93a128e4b1bb\",\"type\":\"MonthsTicker\"},{\"attributes\":{\"formatter\":{\"id\":\"6f0b13f6-d9ea-4dfc-a93f-9bc47fc7dd85\",\"type\":\"DatetimeTickFormatter\"},\"plot\":{\"id\":\"ac0a2a77-80ea-499d-a0c6-dc4c7b6925b9\",\"subtype\":\"Figure\",\"type\":\"Plot\"},\"ticker\":{\"id\":\"4191b696-d2c5-4c20-8ec4-3fd25f2b0da7\",\"type\":\"DatetimeTicker\"}},\"id\":\"0c7f625e-57db-4a29-a74b-7305f71fd607\",\"type\":\"DatetimeAxis\"},{\"attributes\":{\"data_source\":{\"id\":\"4bae8b2c-b2a7-4a09-80fd-439899b02ca4\",\"type\":\"ColumnDataSource\"},\"glyph\":{\"id\":\"e2b2c2db-2f67-4a81-9800-a381cf8e4cb4\",\"type\":\"Circle\"},\"hover_glyph\":{\"id\":\"364a5a35-3dde-480c-a29f-cd4e9066bdb2\",\"type\":\"Circle\"},\"muted_glyph\":null,\"nonselection_glyph\":{\"id\":\"fd9b699e-23f8-47e5-b767-093cd18601c0\",\"type\":\"Circle\"},\"selection_glyph\":null,\"view\":{\"id\":\"bed97b4e-d229-4433-9959-c3fa1b03894d\",\"type\":\"CDSView\"}},\"id\":\"090df914-2077-4114-8b6b-72b003701776\",\"type\":\"GlyphRenderer\"},{\"attributes\":{},\"id\":\"1c8df4b1-84df-4fba-b3e8-06c8331832a0\",\"type\":\"LinearScale\"},{\"attributes\":{},\"id\":\"5c561411-69dd-4b8b-9804-cf3081a751e5\",\"type\":\"ResetTool\"},{\"attributes\":{\"months\":[0,1,2,3,4,5,6,7,8,9,10,11]},\"id\":\"03417780-bec5-4b07-95e8-a79e2e56f272\",\"type\":\"MonthsTicker\"},{\"attributes\":{\"num_minor_ticks\":5,\"tickers\":[{\"id\":\"20e5685b-e3d7-477c-a8f6-5d28db330406\",\"type\":\"AdaptiveTicker\"},{\"id\":\"15673b19-63d7-4ab4-914e-41fc0927d7f2\",\"type\":\"AdaptiveTicker\"},{\"id\":\"48eac087-a4a1-4bee-ad92-0d73bbf1911b\",\"type\":\"AdaptiveTicker\"},{\"id\":\"26adc5d6-d098-452b-a903-9da0f083c03b\",\"type\":\"DaysTicker\"},{\"id\":\"c673e120-6fa0-4a85-a03c-62dd9aed9f21\",\"type\":\"DaysTicker\"},{\"id\":\"2872ba79-6b13-422e-a4bd-870f81171b7b\",\"type\":\"DaysTicker\"},{\"id\":\"d27245e4-bbab-480e-9528-b43a01d1eeb2\",\"type\":\"DaysTicker\"},{\"id\":\"03417780-bec5-4b07-95e8-a79e2e56f272\",\"type\":\"MonthsTicker\"},{\"id\":\"5e612ca5-0c61-481e-adb5-a6678565e319\",\"type\":\"MonthsTicker\"},{\"id\":\"96f80878-82aa-48e0-b2bf-a5c38b9c79c4\",\"type\":\"MonthsTicker\"},{\"id\":\"6a5fa7c5-65ec-435f-bd13-93a128e4b1bb\",\"type\":\"MonthsTicker\"},{\"id\":\"d50ff34f-6fc9-4772-968c-77b645faf55a\",\"type\":\"YearsTicker\"}]},\"id\":\"4191b696-d2c5-4c20-8ec4-3fd25f2b0da7\",\"type\":\"DatetimeTicker\"},{\"attributes\":{\"days\":[1,15]},\"id\":\"d27245e4-bbab-480e-9528-b43a01d1eeb2\",\"type\":\"DaysTicker\"},{\"attributes\":{\"line_alpha\":0.1,\"line_color\":\"#1f77b4\",\"x\":{\"field\":\"Date\"},\"y\":{\"field\":\"P\"}},\"id\":\"b23e8775-279f-4b02-9edd-e98a10d78bb5\",\"type\":\"Line\"},{\"attributes\":{},\"id\":\"ca3db98e-7715-436b-82d9-96c13c15df8b\",\"type\":\"HelpTool\"},{\"attributes\":{\"days\":[1,2,3,4,5,6,7,8,9,10,11,12,13,14,15,16,17,18,19,20,21,22,23,24,25,26,27,28,29,30,31]},\"id\":\"26adc5d6-d098-452b-a903-9da0f083c03b\",\"type\":\"DaysTicker\"},{\"attributes\":{\"days\":[1,4,7,10,13,16,19,22,25,28]},\"id\":\"c673e120-6fa0-4a85-a03c-62dd9aed9f21\",\"type\":\"DaysTicker\"},{\"attributes\":{\"dimension\":1,\"plot\":{\"id\":\"ac0a2a77-80ea-499d-a0c6-dc4c7b6925b9\",\"subtype\":\"Figure\",\"type\":\"Plot\"},\"ticker\":{\"id\":\"e6191e6e-b4c6-4aa3-b524-c39a10f66d83\",\"type\":\"BasicTicker\"}},\"id\":\"a07b5a1f-a55e-45fc-ba8b-95016e09cc0a\",\"type\":\"Grid\"},{\"attributes\":{},\"id\":\"b9b15de4-02cf-4d21-841b-050b15b2dc21\",\"type\":\"SaveTool\"},{\"attributes\":{\"callback\":null,\"line_policy\":\"interp\",\"mode\":\"hline\",\"renderers\":[{\"id\":\"090df914-2077-4114-8b6b-72b003701776\",\"type\":\"GlyphRenderer\"}],\"tooltips\":[[\"index\",\"$index\"],[\"(x,y)\",\"($x, $y)\"],[\"y\",\"$y\"],[\"Q\",\"@Q\"]]},\"id\":\"3fa0f054-9ec3-4279-8043-d935b3a36f4f\",\"type\":\"HoverTool\"},{\"attributes\":{\"source\":{\"id\":\"4bae8b2c-b2a7-4a09-80fd-439899b02ca4\",\"type\":\"ColumnDataSource\"}},\"id\":\"8dc940dc-7114-44a4-8ad4-4db46cb726d5\",\"type\":\"CDSView\"},{\"attributes\":{},\"id\":\"b300c45d-783d-49e8-8cbf-756d5cda1f9c\",\"type\":\"LinearScale\"},{\"attributes\":{},\"id\":\"6f0b13f6-d9ea-4dfc-a93f-9bc47fc7dd85\",\"type\":\"DatetimeTickFormatter\"},{\"attributes\":{\"plot\":{\"id\":\"ac0a2a77-80ea-499d-a0c6-dc4c7b6925b9\",\"subtype\":\"Figure\",\"type\":\"Plot\"},\"ticker\":{\"id\":\"4191b696-d2c5-4c20-8ec4-3fd25f2b0da7\",\"type\":\"DatetimeTicker\"}},\"id\":\"2716b4ec-3b52-46f3-bab9-948f8b6abded\",\"type\":\"Grid\"},{\"attributes\":{},\"id\":\"d3ab7662-a236-4acc-b4d4-79226aa3089e\",\"type\":\"BasicTickFormatter\"},{\"attributes\":{\"below\":[{\"id\":\"0c7f625e-57db-4a29-a74b-7305f71fd607\",\"type\":\"DatetimeAxis\"}],\"left\":[{\"id\":\"15aa723b-9ffc-4f32-a16e-4182cc0218db\",\"type\":\"LinearAxis\"}],\"plot_height\":300,\"renderers\":[{\"id\":\"0c7f625e-57db-4a29-a74b-7305f71fd607\",\"type\":\"DatetimeAxis\"},{\"id\":\"2716b4ec-3b52-46f3-bab9-948f8b6abded\",\"type\":\"Grid\"},{\"id\":\"15aa723b-9ffc-4f32-a16e-4182cc0218db\",\"type\":\"LinearAxis\"},{\"id\":\"a07b5a1f-a55e-45fc-ba8b-95016e09cc0a\",\"type\":\"Grid\"},{\"id\":\"aa3e9da1-2902-4e49-ad00-be10261e3b11\",\"type\":\"BoxAnnotation\"},{\"id\":\"0e9df552-73f5-40ed-908b-bf68e4314477\",\"type\":\"GlyphRenderer\"},{\"id\":\"090df914-2077-4114-8b6b-72b003701776\",\"type\":\"GlyphRenderer\"}],\"title\":{\"id\":\"1bac09db-0e34-4add-949d-26757f187d22\",\"type\":\"Title\"},\"toolbar\":{\"id\":\"56110069-362b-4c80-a1f3-e4be1e0cc89e\",\"type\":\"Toolbar\"},\"x_range\":{\"id\":\"eb1f30df-484a-4847-b04b-20d0f0c2c3ca\",\"type\":\"DataRange1d\"},\"x_scale\":{\"id\":\"1c8df4b1-84df-4fba-b3e8-06c8331832a0\",\"type\":\"LinearScale\"},\"y_range\":{\"id\":\"2a63e401-979d-42f8-90f7-207047b95714\",\"type\":\"DataRange1d\"},\"y_scale\":{\"id\":\"b300c45d-783d-49e8-8cbf-756d5cda1f9c\",\"type\":\"LinearScale\"}},\"id\":\"ac0a2a77-80ea-499d-a0c6-dc4c7b6925b9\",\"subtype\":\"Figure\",\"type\":\"Plot\"},{\"attributes\":{\"plot\":null,\"text\":\"Hover over points\"},\"id\":\"1bac09db-0e34-4add-949d-26757f187d22\",\"type\":\"Title\"},{\"attributes\":{},\"id\":\"06cc044e-0673-453b-aab2-affdaede96ea\",\"type\":\"WheelZoomTool\"},{\"attributes\":{\"months\":[0,2,4,6,8,10]},\"id\":\"5e612ca5-0c61-481e-adb5-a6678565e319\",\"type\":\"MonthsTicker\"},{\"attributes\":{\"days\":[1,8,15,22]},\"id\":\"2872ba79-6b13-422e-a4bd-870f81171b7b\",\"type\":\"DaysTicker\"},{\"attributes\":{\"source\":{\"id\":\"4bae8b2c-b2a7-4a09-80fd-439899b02ca4\",\"type\":\"ColumnDataSource\"}},\"id\":\"bed97b4e-d229-4433-9959-c3fa1b03894d\",\"type\":\"CDSView\"},{\"attributes\":{\"fill_alpha\":{\"value\":0.05},\"fill_color\":{\"value\":\"grey\"},\"line_color\":{\"value\":null},\"size\":{\"units\":\"screen\",\"value\":10.0},\"x\":{\"field\":\"Date\"},\"y\":{\"field\":\"P\"}},\"id\":\"e2b2c2db-2f67-4a81-9800-a381cf8e4cb4\",\"type\":\"Circle\"},{\"attributes\":{},\"id\":\"d50ff34f-6fc9-4772-968c-77b645faf55a\",\"type\":\"YearsTicker\"},{\"attributes\":{\"mantissas\":[1,2,5],\"max_interval\":500.0,\"num_minor_ticks\":0},\"id\":\"20e5685b-e3d7-477c-a8f6-5d28db330406\",\"type\":\"AdaptiveTicker\"},{\"attributes\":{\"overlay\":{\"id\":\"aa3e9da1-2902-4e49-ad00-be10261e3b11\",\"type\":\"BoxAnnotation\"}},\"id\":\"6415f09b-7c57-442c-858d-74d86be26ba3\",\"type\":\"BoxZoomTool\"},{\"attributes\":{\"data_source\":{\"id\":\"4bae8b2c-b2a7-4a09-80fd-439899b02ca4\",\"type\":\"ColumnDataSource\"},\"glyph\":{\"id\":\"379a2bf0-10cd-4db8-8c91-c0973d16c2f9\",\"type\":\"Line\"},\"hover_glyph\":null,\"muted_glyph\":null,\"nonselection_glyph\":{\"id\":\"b23e8775-279f-4b02-9edd-e98a10d78bb5\",\"type\":\"Line\"},\"selection_glyph\":null,\"view\":{\"id\":\"8dc940dc-7114-44a4-8ad4-4db46cb726d5\",\"type\":\"CDSView\"}},\"id\":\"0e9df552-73f5-40ed-908b-bf68e4314477\",\"type\":\"GlyphRenderer\"},{\"attributes\":{\"callback\":null,\"column_names\":[\"Q\",\"ET\",\"T\",\"Date\",\"P\"],\"data\":{\"Date\":{\"__ndarray__\":\"AACwipvIZUIAAIBooshlQgAAUEapyGVCAAAgJLDIZUIAAPABt8hlQgAAwN+9yGVCAACQvcTIZUIAAGCby8hlQgAAMHnSyGVCAAAAV9nIZUIAANA04MhlQgAAoBLnyGVCAABw8O3IZUIAAEDO9MhlQgAAEKz7yGVCAADgiQLJZUIAALBnCcllQgAAgEUQyWVCAABQIxfJZUIAACABHsllQgAA8N4kyWVCAADAvCvJZUIAAJCaMsllQgAAYHg5yWVCAAAwVkDJZUIAAAA0R8llQgAA0BFOyWVCAACg71TJZUIAAHDNW8llQgAAQKtiyWVCAAAQiWnJZUIAAOBmcMllQgAAsER3yWVCAACAIn7JZUIAAFAAhcllQgAAIN6LyWVCAADwu5LJZUIAAMCZmcllQgAAkHegyWVCAABgVafJZUIAADAzrsllQgAAABG1yWVCAADQ7rvJZUIAAKDMwsllQgAAcKrJyWVCAABAiNDJZUIAABBm18llQgAA4EPeyWVCAACwIeXJZUIAAID/68llQgAAUN3yyWVCAAAgu/nJZUIAAPCYAMplQgAAwHYHymVCAACQVA7KZUIAAGAyFcplQgAAMBAcymVCAAAA7iLKZUIAANDLKcplQgAAoKkwymVCAABwhzfKZUIAAEBlPsplQgAAEENFymVCAADgIEzKZUIAALD+UsplQgAAgNxZymVCAABQumDKZUIAACCYZ8plQgAA8HVuymVCAADAU3XKZUIAAJAxfMplQgAAYA+DymVCAAAw7YnKZUI=\",\"dtype\":\"float64\",\"shape\":[73]},\"ET\":{\"__ndarray__\":\"IWlKxdmHtz8haUrF2Ye3PyFpSsXZh7c/IWlKxdmHtz+4HoXrUbiOP7gehetRuI4/uB6F61G4jj+4HoXrUbiOP7gehetRuI4/uB6F61G4jj+4HoXrUbiOPyFpSsXZh7c/IWlKxdmHtz8haUrF2Ye3PyFpSsXZh7c/IWlKxdmHtz8haUrF2Ye3PyFpSsXZh7c/IWlKxdmHtz8haUrF2Ye3PyFpSsXZh7c/IWlKxdmHtz8haUrF2Ye3PyFpSsXZh7c/uB6F61G4jj+4HoXrUbiOP7gehetRuI4/uB6F61G4jj9LxdmHz7CzP0vF2YfPsLM/S8XZh8+wsz9LxdmHz7CzP0vF2YfPsLM/S8XZh8+wsz9LxdmHz7CzP7gehetRuI4/uB6F61G4jj+4HoXrUbiOP7gehetRuI4/uB6F61G4jj+4HoXrUbiOP7gehetRuI4/uB6F61G4jj+4HoXrUbiOP7gehetRuI4/uB6F61G4jj+4HoXrUbiOP7gehetRuI4/S8XZh8+wsz9LxdmHz7CzP0vF2YfPsLM/S8XZh8+wsz+j/o1QRm+rP6P+jVBGb6s/o/6NUEZvqz+j/o1QRm+rP6P+jVBGb6s/o/6NUEZvqz+j/o1QRm+rP0vF2YfPsLM/S8XZh8+wsz9LxdmHz7CzP0vF2YfPsLM/S8XZh8+wsz9LxdmHz7CzP0vF2YfPsLM/S8XZh8+wsz9LxdmHz7CzP0vF2YfPsLM/S8XZh8+wsz9LxdmHz7CzP0vF2YfPsLM/e82FpCkVsz8=\",\"dtype\":\"float64\",\"shape\":[73]},\"P\":{\"__ndarray__\":\"AAAAAAAAAAAAAAAAAAAAAKwPjfWhse4/OQUvp+DllD8vp+DlFLzcP5IkSZIkScI/AAAAAAAAAAAAAAAAAAAAAJIkSZIkSdI/AAAAAAAAAAAAAAAAAAAAAAAAAAAAAAAAsj401ofG6j/Wh8b60FjPP5IkSZIkSdI/g5dT8HIK7j801ofG+tDYPzkFL6fg5ZQ/kiRJkiRJwj85BS+n4OWUPwAAAAAAAAAAAAAAAAAAAAA5BS+n4OWUPwAAAAAAAAAAAAAAAAAAAAAAAAAAAAAAAAAAAAAAAAAAOQUvp+DllD8AAAAAAAAAAAAAAAAAAAAArA+N9aGx7j85BS+n4OWkPwAAAAAAAAAAAAAAAAAAAAAAAAAAAAAAAAAAAAAAAAAA1ofG+tBYvz8AAAAAAAAAADkFL6fg5ZQ/OQUvp+DltD8AAAAAAAAAAAAAAAAAAAAAAAAAAAAAAAAAAAAAAAAAAAAAAAAAAAAAAAAAAAAAAAAAAAAAAAAAAAAAAAAAAAAAAAAAAAAAAAA5BS+n4OWUPwAAAAAAAAAAAAAAAAAAAAAAAAAAAAAAANaHxvrQWN8/5hS8nIKX4z8AAAAAAAAAAAAAAAAAAAAAAAAAAAAAAAAAAAAAAAAAAAAAAAAAAAAAOQUvp+DlpD85BS+n4OWUPwAAAAAAAAAAAAAAAAAAAAAAAAAAAAAAAAAAAAAAAAAAAAAAAAAAAAAAAAAAAAAAAAAAAAAAAAAAAAAAAAAAAAAAAAAAAAAAAAAAAAAAAAAAAAAAAAAAAAA=\",\"dtype\":\"float64\",\"shape\":[73]},\"Q\":{\"__ndarray__\":\"6SYxCKwc0j/pJjEIrBzSP+kmMQisHNI/6SYxCKwc0j/pJjEIrBzSP+kmMQisHNI/aJHtfD810j/pJjEIrBzSP+kmMQisHNI/6SYxCKwc0j/pJjEIrBzSP+kmMQisHNI/6SYxCKwc0j/pJjEIrBzSP+XQItv5ftI/YhBYObTI0j/hehSuR+HSPx+F61G4HtM/MQisHFpk0z8v3SQGgZXTPy/dJAaBldM/L90kBoGV0z8tsp3vp8bTPyuHFtnO99M/JzEIrBxa1D8j2/l+arzUP6AaL90kBtU/H4XrUbge1T+cxCCwcmjVPxsv3SQGgdU/F9nO91Pj1T8ZBFYOLbLVPxsv3SQGgdU/Gy/dJAaB1T8bL90kBoHVPx+F61G4HtU/okW28/3U1D8j2/l+arzUPyPb+X5qvNQ/H4XrUbge1T/4U+Olm8TWPxBYObTIdtg/jZduEoPA3j9U46WbxCDkP/T91HjpJuU/WmQ730+N5D+F61G4HoXjP6RwPQrXo+I/dZMYBFYO4j+uR+F6FK7gPzeJQWDl0N4/Rrbz/dR43T+Nl24Sg8DcPyuHFtnO99s/xSCwcmiR2z8j2/l+arzaP2iR7Xw/Ndo/GQRWDi2y2T9g5dAi2/nYP6abxCCwctg/rBxaZDvf1z+wcmiR7XzXPwrXo3A9Ctc/jZduEoPA1j8OLbKd76fWPw4tsp3vp9Y/Di2yne+n1j8Sg8DKoUXWP5ZDi2zn+9U/F9nO91Pj1T8X2c73U+PVPxkEVg4tstU/Gy/dJAaB1T8=\",\"dtype\":\"float64\",\"shape\":[73]},\"T\":{\"__ndarray__\":\"H4XrUbgeLkA9CtejcD0pQFyPwvUoXC5AKVyPwvWoLEDXo3A9ClcsQArXo3A9Ci1A16NwPQrXLUBxPQrXo/AtQHsUrkfhei1ArkfhehQuLkCkcD0K16MvQFyPwvUoHDBAZmZmZmbmL0B7FK5H4XovQDMzMzMzsy5A9ihcj8J1LUCPwvUoXA8sQBSuR+F6FCxAPQrXo3C9K0CamZmZmRkrQJqZmZmZGStACtejcD0KK0CuR+F6FC4qQMP1KFyPQilA9ihcj8J1KEDhehSuR+EhQBSuR+F6lCZAFK5H4XoUJUApXI/C9aghQFK4HoXrUR5AmpmZmZmZIUD2KFyPwvUnQMP1KFyPwidAUrgehevRKkD2KFyPwvUuQHsUrkfh+i9AAAAAAACAMEAfhetRuF4wQKRwPQrX4zBACtejcD2KL0CuR+F6FC4xQArXo3A9ijBAZmZmZmZmL0AzMzMzM7MrQKRwPQrXIylAzczMzMzMJ0Bcj8L1KNwmQM3MzMzMTCZA9ihcj8L1IkAdWmQ7388YQK5H4XoULiFApHA9CtcjIECPwvUoXA8gQI/C9ShcDyNAexSuR+H6IkD2KFyPwvUiQM3MzMzMzCNAAAAAAAAAJ0AUrkfhepQrQB+F61G4Hi1AhetRuB7FMUCF61G4HsUxQArXo3A9CjFAKVyPwvWoMEA9CtejcL0xQClcj8L1aDBAzczMzMxMLUDhehSuR2EnQBSuR+F6lCVAFK5H4XoUI0AUrkfhehQhQOF6FK5H4R5AZmZmZmZmG0A=\",\"dtype\":\"float64\",\"shape\":[73]}}},\"id\":\"4bae8b2c-b2a7-4a09-80fd-439899b02ca4\",\"type\":\"ColumnDataSource\"}],\"root_ids\":[\"ac0a2a77-80ea-499d-a0c6-dc4c7b6925b9\"]},\"title\":\"Bokeh Application\",\"version\":\"0.12.13\"}};\n",
       "  var render_items = [{\"docid\":\"6b6d8bf6-b920-4d11-805e-193c5b97186f\",\"elementid\":\"1e2741d7-50ad-4287-90e8-42165438a717\",\"modelid\":\"ac0a2a77-80ea-499d-a0c6-dc4c7b6925b9\"}];\n",
       "  root.Bokeh.embed.embed_items_notebook(docs_json, render_items);\n",
       "\n",
       "  }\n",
       "  if (root.Bokeh !== undefined) {\n",
       "    embed_document(root);\n",
       "  } else {\n",
       "    var attempts = 0;\n",
       "    var timer = setInterval(function(root) {\n",
       "      if (root.Bokeh !== undefined) {\n",
       "        embed_document(root);\n",
       "        clearInterval(timer);\n",
       "      }\n",
       "      attempts++;\n",
       "      if (attempts > 100) {\n",
       "        console.log(\"Bokeh: ERROR: Unable to run BokehJS code because BokehJS library is missing\")\n",
       "        clearInterval(timer);\n",
       "      }\n",
       "    }, 10, root)\n",
       "  }\n",
       "})(window);"
      ],
      "application/vnd.bokehjs_exec.v0+json": ""
     },
     "metadata": {
      "application/vnd.bokehjs_exec.v0+json": {
       "id": "ac0a2a77-80ea-499d-a0c6-dc4c7b6925b9"
      }
     },
     "output_type": "display_data"
    }
   ],
   "source": [
    "p = figure(width=600, height=300, x_axis_type=\"datetime\", title='Hover over points')\n",
    "p.line(x='Date', y='P', line_width=1, color='gray', source=ds)\n",
    "\n",
    "\n",
    "cr = p.circle(x='Date', y='P', size=10.0,\n",
    "              fill_color=\"grey\", hover_fill_color=\"firebrick\",\n",
    "              fill_alpha=0.05, hover_alpha=0.3,\n",
    "              line_color=None, hover_line_color=\"white\",\n",
    "              source = ds)\n",
    "\n",
    "hover_tool = HoverTool(tooltips=None,  # set tooltips\n",
    "                      line_policy = 'interp', # prev, next, nearest, interp, none\n",
    "                      renderers=[cr], # plot appear\n",
    "                      mode='hline')  # mouse, hline, vline\n",
    "\n",
    "hover_tool.tooltips = [\n",
    "                        (\"index\", \"$index\"),\n",
    "                        (\"(x,y)\", \"($x, $y)\"),\n",
    "                        (\"y\", \"$y\"),\n",
    "                        ('Q', '@Q')\n",
    "#                         (\"fill color\", \"$color[hex, swatch]:fill_color\"),\n",
    "                    ]\n",
    "\n",
    "mouse_zoom = WheelZoomTool()\n",
    "p.add_tools(hover_tool)\n",
    "show(p)"
   ]
  },
  {
   "cell_type": "markdown",
   "metadata": {},
   "source": [
    "# Integration example using widgets\n",
    "\n",
    "Remember that widgets wont work on notebooks. They are meant to work in the server, and for this reasons, they should be deployed in an independent application. To make this run, copy the contents of the following cell into a `.py` file and then execute from the command line\n",
    "\n",
    "    bokeh serve my_file_name.py --show\n",
    "    \n",
    "With this instruction, you will be executing `my_file_name.py` from the server\n"
   ]
  },
  {
   "cell_type": "code",
   "execution_count": null,
   "metadata": {
    "collapsed": true
   },
   "outputs": [],
   "source": [
    "# Integration example using server. It wont work here!\n",
    "\n",
    "import numpy as np\n",
    "from bokeh.io import curdoc\n",
    "from bokeh.layouts import row, widgetbox\n",
    "from bokeh.models import ColumnDataSource\n",
    "from bokeh.models.widgets import Slider, TextInput\n",
    "from bokeh.plotting import figure, show\n",
    "\n",
    "# Set up data\n",
    "N = 200\n",
    "x = np.linspace(0, 4*np.pi, N)\n",
    "y = np.sin(x)\n",
    "source = ColumnDataSource(data=dict(x=x, y=y))\n",
    "\n",
    "# Set up plot\n",
    "plot = figure(plot_height=400, plot_width=400, title=\"my sine wave\",\n",
    "              tools=\"crosshair,pan,reset,save,wheel_zoom\",\n",
    "              x_range=[0, 4*np.pi], y_range=[-2.5, 2.5])\n",
    "\n",
    "plot.line('x', 'y', source=source, line_width=3, line_alpha=0.6)\n",
    "\n",
    "\n",
    "# Set up widgets\n",
    "text = TextInput(title=\"title\", value='my sine wave')\n",
    "offset = Slider(title=\"offset\", value=0.0, start=-5.0, end=5.0, step=0.1)\n",
    "amplitude = Slider(title=\"amplitude\", value=1.0, start=-5.0, end=5.0, step=0.1)\n",
    "phase = Slider(title=\"phase\", value=0.0, start=0.0, end=2*np.pi)\n",
    "freq = Slider(title=\"frequency\", value=1.0, start=0.1, end=5.1, step=0.1)\n",
    "\n",
    "\n",
    "# Set up callbacks\n",
    "def update_title(attrname, old, new):\n",
    "    plot.title.text = text.value\n",
    "\n",
    "text.on_change('value', update_title)\n",
    "\n",
    "def update_data(attrname, old, new):\n",
    "\n",
    "    # Get the current slider values\n",
    "    a = amplitude.value\n",
    "    b = offset.value\n",
    "    w = phase.value\n",
    "    k = freq.value\n",
    "\n",
    "    # Generate the new curve\n",
    "    x = np.linspace(0, 4*np.pi, N)\n",
    "    y = a*np.sin(k*x + w) + b\n",
    "\n",
    "    source.data = dict(x=x, y=y)\n",
    "\n",
    "for w in [offset, amplitude, phase, freq]:\n",
    "    w.on_change('value', update_data)\n",
    "\n",
    "\n",
    "# Set up layouts and add to document\n",
    "inputs = widgetbox(text, offset, amplitude, phase, freq)\n",
    "\n",
    "curdoc().add_root(row(inputs, plot, width=800))\n",
    "curdoc().title = \"Sliders\"\n",
    "show(curdoc)"
   ]
  },
  {
   "cell_type": "code",
   "execution_count": null,
   "metadata": {
    "collapsed": true
   },
   "outputs": [],
   "source": []
  }
 ],
 "metadata": {
  "kernelspec": {
   "display_name": "Python 2",
   "language": "python",
   "name": "python2"
  },
  "language_info": {
   "codemirror_mode": {
    "name": "ipython",
    "version": 2
   },
   "file_extension": ".py",
   "mimetype": "text/x-python",
   "name": "python",
   "nbconvert_exporter": "python",
   "pygments_lexer": "ipython2",
   "version": "2.7.14"
  }
 },
 "nbformat": 4,
 "nbformat_minor": 1
}
