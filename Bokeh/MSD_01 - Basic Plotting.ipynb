{
 "cells": [
  {
   "cell_type": "markdown",
   "metadata": {
    "collapsed": true
   },
   "source": [
    "# Bokeh Tutorial\n",
    "## Basic Plotting"
   ]
  },
  {
   "cell_type": "markdown",
   "metadata": {},
   "source": [
    "This section covers the basic of plotting with Bokeh. The notebooks are largely based on the bokeh official documentation, and ims to help you explore the library in the context of the Hydroinformatics course. In this point we will start with default type of figures, to later create more advanced visualisation based on these intial building blocks.\n",
    "\n",
    "We will see that it is possible to customize and change all of the defaults, but having them means that it is possible to get up and running very quickly. "
   ]
  },
  {
   "cell_type": "markdown",
   "metadata": {},
   "source": [
    "# Imports and Setup\n",
    "\n",
    "When using the bokeh plottgin interface, there are a few common imports:\n",
    "- Use the [`figure`](http://bokeh.pydata.org/en/latest/docs/reference/plotting.html#bokeh.plotting.figure) function to  create new plot objects to work with. \n",
    "- Call the functions [`output_file`](http://bokeh.pydata.org/en/latest/docs/reference/resources_embedding.html#bokeh.io.output_file), [`output_notebook`](http://bokeh.pydata.org/en/latest/docs/reference/resources_embedding.html#bokeh.io.output_notebook), and [`output_server`](http://bokeh.pydata.org/en/latest/docs/reference/resources_embedding.html#bokeh.io.output_server) (possibly in combination) to tell Bokeh how to display or save output. \n",
    "- Execute [`show`](http://bokeh.pydata.org/en/latest/docs/reference/resources_embedding.html#bokeh.io.show) and  [`save`](http://bokeh.pydata.org/en/latest/docs/reference/resources_embedding.html#bokeh.io.save) to display or save plots and layouts."
   ]
  },
  {
   "cell_type": "code",
   "execution_count": 1,
   "metadata": {
    "collapsed": true
   },
   "outputs": [],
   "source": [
    "from bokeh.io import output_notebook, show\n",
    "from bokeh.plotting import figure\n",
    "from bokeh.layouts import gridplot\n",
    "\n",
    "# Additionally for the examples in the notebook we will require\n",
    "import numpy as np\n",
    "import pandas as pd\n",
    "from matplotlib import cm\n"
   ]
  },
  {
   "cell_type": "markdown",
   "metadata": {},
   "source": [
    "In this case, we are in the Jupyter notebook, so call `output_notebook()`. We only need to call this once, and all subsequent calls to `show()` will display inline in the notebook. Other options will be used in the deployment of your project."
   ]
  },
  {
   "cell_type": "code",
   "execution_count": 18,
   "metadata": {},
   "outputs": [
    {
     "data": {
      "text/html": [
       "\n",
       "    <div class=\"bk-root\">\n",
       "        <a href=\"https://bokeh.pydata.org\" target=\"_blank\" class=\"bk-logo bk-logo-small bk-logo-notebook\"></a>\n",
       "        <span id=\"b26b95d4-32cf-4e29-a1ec-0188d7f44513\">Loading BokehJS ...</span>\n",
       "    </div>"
      ]
     },
     "metadata": {},
     "output_type": "display_data"
    },
    {
     "data": {
      "application/javascript": [
       "\n",
       "(function(root) {\n",
       "  function now() {\n",
       "    return new Date();\n",
       "  }\n",
       "\n",
       "  var force = true;\n",
       "\n",
       "  if (typeof (root._bokeh_onload_callbacks) === \"undefined\" || force === true) {\n",
       "    root._bokeh_onload_callbacks = [];\n",
       "    root._bokeh_is_loading = undefined;\n",
       "  }\n",
       "\n",
       "  var JS_MIME_TYPE = 'application/javascript';\n",
       "  var HTML_MIME_TYPE = 'text/html';\n",
       "  var EXEC_MIME_TYPE = 'application/vnd.bokehjs_exec.v0+json';\n",
       "  var CLASS_NAME = 'output_bokeh rendered_html';\n",
       "\n",
       "  /**\n",
       "   * Render data to the DOM node\n",
       "   */\n",
       "  function render(props, node) {\n",
       "    var script = document.createElement(\"script\");\n",
       "    node.appendChild(script);\n",
       "  }\n",
       "\n",
       "  /**\n",
       "   * Handle when an output is cleared or removed\n",
       "   */\n",
       "  function handleClearOutput(event, handle) {\n",
       "    var cell = handle.cell;\n",
       "\n",
       "    var id = cell.output_area._bokeh_element_id;\n",
       "    var server_id = cell.output_area._bokeh_server_id;\n",
       "    // Clean up Bokeh references\n",
       "    if (id !== undefined) {\n",
       "      Bokeh.index[id].model.document.clear();\n",
       "      delete Bokeh.index[id];\n",
       "    }\n",
       "\n",
       "    if (server_id !== undefined) {\n",
       "      // Clean up Bokeh references\n",
       "      var cmd = \"from bokeh.io.state import curstate; print(curstate().uuid_to_server['\" + server_id + \"'].get_sessions()[0].document.roots[0]._id)\";\n",
       "      cell.notebook.kernel.execute(cmd, {\n",
       "        iopub: {\n",
       "          output: function(msg) {\n",
       "            var element_id = msg.content.text.trim();\n",
       "            Bokeh.index[element_id].model.document.clear();\n",
       "            delete Bokeh.index[element_id];\n",
       "          }\n",
       "        }\n",
       "      });\n",
       "      // Destroy server and session\n",
       "      var cmd = \"import bokeh.io.notebook as ion; ion.destroy_server('\" + server_id + \"')\";\n",
       "      cell.notebook.kernel.execute(cmd);\n",
       "    }\n",
       "  }\n",
       "\n",
       "  /**\n",
       "   * Handle when a new output is added\n",
       "   */\n",
       "  function handleAddOutput(event, handle) {\n",
       "    var output_area = handle.output_area;\n",
       "    var output = handle.output;\n",
       "\n",
       "    // limit handleAddOutput to display_data with EXEC_MIME_TYPE content only\n",
       "    if ((output.output_type != \"display_data\") || (!output.data.hasOwnProperty(EXEC_MIME_TYPE))) {\n",
       "      return\n",
       "    }\n",
       "\n",
       "    var toinsert = output_area.element.find(\".\" + CLASS_NAME.split(' ')[0]);\n",
       "\n",
       "    if (output.metadata[EXEC_MIME_TYPE][\"id\"] !== undefined) {\n",
       "      toinsert[0].firstChild.textContent = output.data[JS_MIME_TYPE];\n",
       "      // store reference to embed id on output_area\n",
       "      output_area._bokeh_element_id = output.metadata[EXEC_MIME_TYPE][\"id\"];\n",
       "    }\n",
       "    if (output.metadata[EXEC_MIME_TYPE][\"server_id\"] !== undefined) {\n",
       "      var bk_div = document.createElement(\"div\");\n",
       "      bk_div.innerHTML = output.data[HTML_MIME_TYPE];\n",
       "      var script_attrs = bk_div.children[0].attributes;\n",
       "      for (var i = 0; i < script_attrs.length; i++) {\n",
       "        toinsert[0].firstChild.setAttribute(script_attrs[i].name, script_attrs[i].value);\n",
       "      }\n",
       "      // store reference to server id on output_area\n",
       "      output_area._bokeh_server_id = output.metadata[EXEC_MIME_TYPE][\"server_id\"];\n",
       "    }\n",
       "  }\n",
       "\n",
       "  function register_renderer(events, OutputArea) {\n",
       "\n",
       "    function append_mime(data, metadata, element) {\n",
       "      // create a DOM node to render to\n",
       "      var toinsert = this.create_output_subarea(\n",
       "        metadata,\n",
       "        CLASS_NAME,\n",
       "        EXEC_MIME_TYPE\n",
       "      );\n",
       "      this.keyboard_manager.register_events(toinsert);\n",
       "      // Render to node\n",
       "      var props = {data: data, metadata: metadata[EXEC_MIME_TYPE]};\n",
       "      render(props, toinsert[0]);\n",
       "      element.append(toinsert);\n",
       "      return toinsert\n",
       "    }\n",
       "\n",
       "    /* Handle when an output is cleared or removed */\n",
       "    events.on('clear_output.CodeCell', handleClearOutput);\n",
       "    events.on('delete.Cell', handleClearOutput);\n",
       "\n",
       "    /* Handle when a new output is added */\n",
       "    events.on('output_added.OutputArea', handleAddOutput);\n",
       "\n",
       "    /**\n",
       "     * Register the mime type and append_mime function with output_area\n",
       "     */\n",
       "    OutputArea.prototype.register_mime_type(EXEC_MIME_TYPE, append_mime, {\n",
       "      /* Is output safe? */\n",
       "      safe: true,\n",
       "      /* Index of renderer in `output_area.display_order` */\n",
       "      index: 0\n",
       "    });\n",
       "  }\n",
       "\n",
       "  // register the mime type if in Jupyter Notebook environment and previously unregistered\n",
       "  if (root.Jupyter !== undefined) {\n",
       "    var events = require('base/js/events');\n",
       "    var OutputArea = require('notebook/js/outputarea').OutputArea;\n",
       "\n",
       "    if (OutputArea.prototype.mime_types().indexOf(EXEC_MIME_TYPE) == -1) {\n",
       "      register_renderer(events, OutputArea);\n",
       "    }\n",
       "  }\n",
       "\n",
       "  \n",
       "  if (typeof (root._bokeh_timeout) === \"undefined\" || force === true) {\n",
       "    root._bokeh_timeout = Date.now() + 5000;\n",
       "    root._bokeh_failed_load = false;\n",
       "  }\n",
       "\n",
       "  var NB_LOAD_WARNING = {'data': {'text/html':\n",
       "     \"<div style='background-color: #fdd'>\\n\"+\n",
       "     \"<p>\\n\"+\n",
       "     \"BokehJS does not appear to have successfully loaded. If loading BokehJS from CDN, this \\n\"+\n",
       "     \"may be due to a slow or bad network connection. Possible fixes:\\n\"+\n",
       "     \"</p>\\n\"+\n",
       "     \"<ul>\\n\"+\n",
       "     \"<li>re-rerun `output_notebook()` to attempt to load from CDN again, or</li>\\n\"+\n",
       "     \"<li>use INLINE resources instead, as so:</li>\\n\"+\n",
       "     \"</ul>\\n\"+\n",
       "     \"<code>\\n\"+\n",
       "     \"from bokeh.resources import INLINE\\n\"+\n",
       "     \"output_notebook(resources=INLINE)\\n\"+\n",
       "     \"</code>\\n\"+\n",
       "     \"</div>\"}};\n",
       "\n",
       "  function display_loaded() {\n",
       "    var el = document.getElementById(\"b26b95d4-32cf-4e29-a1ec-0188d7f44513\");\n",
       "    if (el != null) {\n",
       "      el.textContent = \"BokehJS is loading...\";\n",
       "    }\n",
       "    if (root.Bokeh !== undefined) {\n",
       "      if (el != null) {\n",
       "        el.textContent = \"BokehJS \" + root.Bokeh.version + \" successfully loaded.\";\n",
       "      }\n",
       "    } else if (Date.now() < root._bokeh_timeout) {\n",
       "      setTimeout(display_loaded, 100)\n",
       "    }\n",
       "  }\n",
       "\n",
       "\n",
       "  function run_callbacks() {\n",
       "    try {\n",
       "      root._bokeh_onload_callbacks.forEach(function(callback) { callback() });\n",
       "    }\n",
       "    finally {\n",
       "      delete root._bokeh_onload_callbacks\n",
       "    }\n",
       "    console.info(\"Bokeh: all callbacks have finished\");\n",
       "  }\n",
       "\n",
       "  function load_libs(js_urls, callback) {\n",
       "    root._bokeh_onload_callbacks.push(callback);\n",
       "    if (root._bokeh_is_loading > 0) {\n",
       "      console.log(\"Bokeh: BokehJS is being loaded, scheduling callback at\", now());\n",
       "      return null;\n",
       "    }\n",
       "    if (js_urls == null || js_urls.length === 0) {\n",
       "      run_callbacks();\n",
       "      return null;\n",
       "    }\n",
       "    console.log(\"Bokeh: BokehJS not loaded, scheduling load and callback at\", now());\n",
       "    root._bokeh_is_loading = js_urls.length;\n",
       "    for (var i = 0; i < js_urls.length; i++) {\n",
       "      var url = js_urls[i];\n",
       "      var s = document.createElement('script');\n",
       "      s.src = url;\n",
       "      s.async = false;\n",
       "      s.onreadystatechange = s.onload = function() {\n",
       "        root._bokeh_is_loading--;\n",
       "        if (root._bokeh_is_loading === 0) {\n",
       "          console.log(\"Bokeh: all BokehJS libraries loaded\");\n",
       "          run_callbacks()\n",
       "        }\n",
       "      };\n",
       "      s.onerror = function() {\n",
       "        console.warn(\"failed to load library \" + url);\n",
       "      };\n",
       "      console.log(\"Bokeh: injecting script tag for BokehJS library: \", url);\n",
       "      document.getElementsByTagName(\"head\")[0].appendChild(s);\n",
       "    }\n",
       "  };var element = document.getElementById(\"b26b95d4-32cf-4e29-a1ec-0188d7f44513\");\n",
       "  if (element == null) {\n",
       "    console.log(\"Bokeh: ERROR: autoload.js configured with elementid 'b26b95d4-32cf-4e29-a1ec-0188d7f44513' but no matching script tag was found. \")\n",
       "    return false;\n",
       "  }\n",
       "\n",
       "  var js_urls = [\"https://cdn.pydata.org/bokeh/release/bokeh-0.12.13.min.js\", \"https://cdn.pydata.org/bokeh/release/bokeh-widgets-0.12.13.min.js\", \"https://cdn.pydata.org/bokeh/release/bokeh-tables-0.12.13.min.js\", \"https://cdn.pydata.org/bokeh/release/bokeh-gl-0.12.13.min.js\"];\n",
       "\n",
       "  var inline_js = [\n",
       "    function(Bokeh) {\n",
       "      Bokeh.set_log_level(\"info\");\n",
       "    },\n",
       "    \n",
       "    function(Bokeh) {\n",
       "      \n",
       "    },\n",
       "    function(Bokeh) {\n",
       "      console.log(\"Bokeh: injecting CSS: https://cdn.pydata.org/bokeh/release/bokeh-0.12.13.min.css\");\n",
       "      Bokeh.embed.inject_css(\"https://cdn.pydata.org/bokeh/release/bokeh-0.12.13.min.css\");\n",
       "      console.log(\"Bokeh: injecting CSS: https://cdn.pydata.org/bokeh/release/bokeh-widgets-0.12.13.min.css\");\n",
       "      Bokeh.embed.inject_css(\"https://cdn.pydata.org/bokeh/release/bokeh-widgets-0.12.13.min.css\");\n",
       "      console.log(\"Bokeh: injecting CSS: https://cdn.pydata.org/bokeh/release/bokeh-tables-0.12.13.min.css\");\n",
       "      Bokeh.embed.inject_css(\"https://cdn.pydata.org/bokeh/release/bokeh-tables-0.12.13.min.css\");\n",
       "    }\n",
       "  ];\n",
       "\n",
       "  function run_inline_js() {\n",
       "    \n",
       "    if ((root.Bokeh !== undefined) || (force === true)) {\n",
       "      for (var i = 0; i < inline_js.length; i++) {\n",
       "        inline_js[i].call(root, root.Bokeh);\n",
       "      }if (force === true) {\n",
       "        display_loaded();\n",
       "      }} else if (Date.now() < root._bokeh_timeout) {\n",
       "      setTimeout(run_inline_js, 100);\n",
       "    } else if (!root._bokeh_failed_load) {\n",
       "      console.log(\"Bokeh: BokehJS failed to load within specified timeout.\");\n",
       "      root._bokeh_failed_load = true;\n",
       "    } else if (force !== true) {\n",
       "      var cell = $(document.getElementById(\"b26b95d4-32cf-4e29-a1ec-0188d7f44513\")).parents('.cell').data().cell;\n",
       "      cell.output_area.append_execute_result(NB_LOAD_WARNING)\n",
       "    }\n",
       "\n",
       "  }\n",
       "\n",
       "  if (root._bokeh_is_loading === 0) {\n",
       "    console.log(\"Bokeh: BokehJS loaded, going straight to plotting\");\n",
       "    run_inline_js();\n",
       "  } else {\n",
       "    load_libs(js_urls, function() {\n",
       "      console.log(\"Bokeh: BokehJS plotting callback run at\", now());\n",
       "      run_inline_js();\n",
       "    });\n",
       "  }\n",
       "}(window));"
      ],
      "application/vnd.bokehjs_load.v0+json": "\n(function(root) {\n  function now() {\n    return new Date();\n  }\n\n  var force = true;\n\n  if (typeof (root._bokeh_onload_callbacks) === \"undefined\" || force === true) {\n    root._bokeh_onload_callbacks = [];\n    root._bokeh_is_loading = undefined;\n  }\n\n  \n\n  \n  if (typeof (root._bokeh_timeout) === \"undefined\" || force === true) {\n    root._bokeh_timeout = Date.now() + 5000;\n    root._bokeh_failed_load = false;\n  }\n\n  var NB_LOAD_WARNING = {'data': {'text/html':\n     \"<div style='background-color: #fdd'>\\n\"+\n     \"<p>\\n\"+\n     \"BokehJS does not appear to have successfully loaded. If loading BokehJS from CDN, this \\n\"+\n     \"may be due to a slow or bad network connection. Possible fixes:\\n\"+\n     \"</p>\\n\"+\n     \"<ul>\\n\"+\n     \"<li>re-rerun `output_notebook()` to attempt to load from CDN again, or</li>\\n\"+\n     \"<li>use INLINE resources instead, as so:</li>\\n\"+\n     \"</ul>\\n\"+\n     \"<code>\\n\"+\n     \"from bokeh.resources import INLINE\\n\"+\n     \"output_notebook(resources=INLINE)\\n\"+\n     \"</code>\\n\"+\n     \"</div>\"}};\n\n  function display_loaded() {\n    var el = document.getElementById(\"b26b95d4-32cf-4e29-a1ec-0188d7f44513\");\n    if (el != null) {\n      el.textContent = \"BokehJS is loading...\";\n    }\n    if (root.Bokeh !== undefined) {\n      if (el != null) {\n        el.textContent = \"BokehJS \" + root.Bokeh.version + \" successfully loaded.\";\n      }\n    } else if (Date.now() < root._bokeh_timeout) {\n      setTimeout(display_loaded, 100)\n    }\n  }\n\n\n  function run_callbacks() {\n    try {\n      root._bokeh_onload_callbacks.forEach(function(callback) { callback() });\n    }\n    finally {\n      delete root._bokeh_onload_callbacks\n    }\n    console.info(\"Bokeh: all callbacks have finished\");\n  }\n\n  function load_libs(js_urls, callback) {\n    root._bokeh_onload_callbacks.push(callback);\n    if (root._bokeh_is_loading > 0) {\n      console.log(\"Bokeh: BokehJS is being loaded, scheduling callback at\", now());\n      return null;\n    }\n    if (js_urls == null || js_urls.length === 0) {\n      run_callbacks();\n      return null;\n    }\n    console.log(\"Bokeh: BokehJS not loaded, scheduling load and callback at\", now());\n    root._bokeh_is_loading = js_urls.length;\n    for (var i = 0; i < js_urls.length; i++) {\n      var url = js_urls[i];\n      var s = document.createElement('script');\n      s.src = url;\n      s.async = false;\n      s.onreadystatechange = s.onload = function() {\n        root._bokeh_is_loading--;\n        if (root._bokeh_is_loading === 0) {\n          console.log(\"Bokeh: all BokehJS libraries loaded\");\n          run_callbacks()\n        }\n      };\n      s.onerror = function() {\n        console.warn(\"failed to load library \" + url);\n      };\n      console.log(\"Bokeh: injecting script tag for BokehJS library: \", url);\n      document.getElementsByTagName(\"head\")[0].appendChild(s);\n    }\n  };var element = document.getElementById(\"b26b95d4-32cf-4e29-a1ec-0188d7f44513\");\n  if (element == null) {\n    console.log(\"Bokeh: ERROR: autoload.js configured with elementid 'b26b95d4-32cf-4e29-a1ec-0188d7f44513' but no matching script tag was found. \")\n    return false;\n  }\n\n  var js_urls = [\"https://cdn.pydata.org/bokeh/release/bokeh-0.12.13.min.js\", \"https://cdn.pydata.org/bokeh/release/bokeh-widgets-0.12.13.min.js\", \"https://cdn.pydata.org/bokeh/release/bokeh-tables-0.12.13.min.js\", \"https://cdn.pydata.org/bokeh/release/bokeh-gl-0.12.13.min.js\"];\n\n  var inline_js = [\n    function(Bokeh) {\n      Bokeh.set_log_level(\"info\");\n    },\n    \n    function(Bokeh) {\n      \n    },\n    function(Bokeh) {\n      console.log(\"Bokeh: injecting CSS: https://cdn.pydata.org/bokeh/release/bokeh-0.12.13.min.css\");\n      Bokeh.embed.inject_css(\"https://cdn.pydata.org/bokeh/release/bokeh-0.12.13.min.css\");\n      console.log(\"Bokeh: injecting CSS: https://cdn.pydata.org/bokeh/release/bokeh-widgets-0.12.13.min.css\");\n      Bokeh.embed.inject_css(\"https://cdn.pydata.org/bokeh/release/bokeh-widgets-0.12.13.min.css\");\n      console.log(\"Bokeh: injecting CSS: https://cdn.pydata.org/bokeh/release/bokeh-tables-0.12.13.min.css\");\n      Bokeh.embed.inject_css(\"https://cdn.pydata.org/bokeh/release/bokeh-tables-0.12.13.min.css\");\n    }\n  ];\n\n  function run_inline_js() {\n    \n    if ((root.Bokeh !== undefined) || (force === true)) {\n      for (var i = 0; i < inline_js.length; i++) {\n        inline_js[i].call(root, root.Bokeh);\n      }if (force === true) {\n        display_loaded();\n      }} else if (Date.now() < root._bokeh_timeout) {\n      setTimeout(run_inline_js, 100);\n    } else if (!root._bokeh_failed_load) {\n      console.log(\"Bokeh: BokehJS failed to load within specified timeout.\");\n      root._bokeh_failed_load = true;\n    } else if (force !== true) {\n      var cell = $(document.getElementById(\"b26b95d4-32cf-4e29-a1ec-0188d7f44513\")).parents('.cell').data().cell;\n      cell.output_area.append_execute_result(NB_LOAD_WARNING)\n    }\n\n  }\n\n  if (root._bokeh_is_loading === 0) {\n    console.log(\"Bokeh: BokehJS loaded, going straight to plotting\");\n    run_inline_js();\n  } else {\n    load_libs(js_urls, function() {\n      console.log(\"Bokeh: BokehJS plotting callback run at\", now());\n      run_inline_js();\n    });\n  }\n}(window));"
     },
     "metadata": {},
     "output_type": "display_data"
    }
   ],
   "source": [
    "output_notebook()"
   ]
  },
  {
   "cell_type": "markdown",
   "metadata": {},
   "source": [
    "# Fundamentals in plotting with bokeh\n",
    "\n",
    "As discussed in the lecture, the plots in bokeh are defined by setting a figure (similar to the `matplotlib`canvas), and populating it with glyphs. Each canvas is an object of the class figure, which allows adding different types of Glyphs, and is also used to organise the plots.\n",
    "\n",
    "In this section we are going to be dealing with the basic usage of single plots, exploring which type of plots are avaialable, its customisation options, and resources for finding the full documentation online."
   ]
  },
  {
   "cell_type": "markdown",
   "metadata": {},
   "source": [
    "# Some Basic Scatter Plots\n",
    "\n",
    "In this section you will see how to use Bokeh's glpyhs marker types to create simple scatter plots. Scatter plots are defined by glyphs of scatter markers. The available are:\n",
    "\n",
    "    - Asterisk\n",
    "    - Circle\n",
    "    - CircleCross\n",
    "    - CircleX\n",
    "    - Cross\n",
    "    - Diamond\n",
    "    - DiamondCross\n",
    "    - InvertedTriangle\n",
    "    - Square\n",
    "    - SquareCross\n",
    "    - SquareX\n",
    "    - Triangle\n",
    "    - X\n",
    "\n",
    "Now lets create a first scatter plot. Remeber that the plot has to be displayed after the visualisation."
   ]
  },
  {
   "cell_type": "code",
   "execution_count": 3,
   "metadata": {},
   "outputs": [
    {
     "data": {
      "text/html": [
       "\n",
       "<div class=\"bk-root\">\n",
       "    <div class=\"bk-plotdiv\" id=\"a4ad5b3a-c33a-499b-a90d-fcf55174d99a\"></div>\n",
       "</div>"
      ]
     },
     "metadata": {},
     "output_type": "display_data"
    },
    {
     "data": {
      "application/javascript": [
       "(function(root) {\n",
       "  function embed_document(root) {\n",
       "    \n",
       "  var docs_json = {\"7b9a3492-9ff1-4344-a68a-fffd3773bcc1\":{\"roots\":{\"references\":[{\"attributes\":{\"below\":[{\"id\":\"803223ca-875c-40aa-9601-b57da876c71e\",\"type\":\"LinearAxis\"}],\"left\":[{\"id\":\"d2d4d891-7494-48d2-b35f-efcaa0761c73\",\"type\":\"LinearAxis\"}],\"plot_height\":400,\"plot_width\":400,\"renderers\":[{\"id\":\"803223ca-875c-40aa-9601-b57da876c71e\",\"type\":\"LinearAxis\"},{\"id\":\"bf70ab28-2a02-4650-9284-de07c66f3729\",\"type\":\"Grid\"},{\"id\":\"d2d4d891-7494-48d2-b35f-efcaa0761c73\",\"type\":\"LinearAxis\"},{\"id\":\"e863069e-3508-402c-94af-ae015544cefc\",\"type\":\"Grid\"},{\"id\":\"a96445fb-e5cb-494a-8178-2a9f366aba81\",\"type\":\"BoxAnnotation\"},{\"id\":\"15090345-9f24-47a8-82d7-66c24fa68c1a\",\"type\":\"GlyphRenderer\"}],\"title\":{\"id\":\"8dafb936-a815-4b85-814f-ce714e9c173f\",\"type\":\"Title\"},\"toolbar\":{\"id\":\"dd503ae3-8222-4c1d-a4b1-b690a48aee65\",\"type\":\"Toolbar\"},\"x_range\":{\"id\":\"c340cad0-90bc-43ec-9919-6f1fddd1ffbb\",\"type\":\"DataRange1d\"},\"x_scale\":{\"id\":\"c96936a8-1dc5-42e8-8b1b-1c1d8176a3e1\",\"type\":\"LinearScale\"},\"y_range\":{\"id\":\"8ba5f8b8-badc-4ad6-a842-de97dca999e8\",\"type\":\"DataRange1d\"},\"y_scale\":{\"id\":\"05a2b4d4-6c81-450a-a892-9c8b0fe9c634\",\"type\":\"LinearScale\"}},\"id\":\"fb685e42-f469-4098-aaa5-a6538caa7616\",\"subtype\":\"Figure\",\"type\":\"Plot\"},{\"attributes\":{\"plot\":null,\"text\":\"\"},\"id\":\"8dafb936-a815-4b85-814f-ce714e9c173f\",\"type\":\"Title\"},{\"attributes\":{\"formatter\":{\"id\":\"bc41aeb8-5d86-40f8-a7ac-79d775f1de25\",\"type\":\"BasicTickFormatter\"},\"plot\":{\"id\":\"fb685e42-f469-4098-aaa5-a6538caa7616\",\"subtype\":\"Figure\",\"type\":\"Plot\"},\"ticker\":{\"id\":\"683cd8e2-211d-413f-b0ea-a2d8b0a74923\",\"type\":\"BasicTicker\"}},\"id\":\"803223ca-875c-40aa-9601-b57da876c71e\",\"type\":\"LinearAxis\"},{\"attributes\":{},\"id\":\"3edb543a-ac1b-4dd3-8505-d7ef0190ff1d\",\"type\":\"BasicTicker\"},{\"attributes\":{\"plot\":{\"id\":\"fb685e42-f469-4098-aaa5-a6538caa7616\",\"subtype\":\"Figure\",\"type\":\"Plot\"},\"ticker\":{\"id\":\"683cd8e2-211d-413f-b0ea-a2d8b0a74923\",\"type\":\"BasicTicker\"}},\"id\":\"bf70ab28-2a02-4650-9284-de07c66f3729\",\"type\":\"Grid\"},{\"attributes\":{\"fill_alpha\":{\"value\":0.1},\"fill_color\":{\"value\":\"#1f77b4\"},\"line_alpha\":{\"value\":0.1},\"line_color\":{\"value\":\"#1f77b4\"},\"size\":{\"units\":\"screen\",\"value\":15},\"x\":{\"field\":\"x\"},\"y\":{\"field\":\"y\"}},\"id\":\"3ea107a9-4d07-47e0-b82d-2be066176810\",\"type\":\"Circle\"},{\"attributes\":{},\"id\":\"c96936a8-1dc5-42e8-8b1b-1c1d8176a3e1\",\"type\":\"LinearScale\"},{\"attributes\":{},\"id\":\"d16561da-deb9-43be-895c-96ef2ce00266\",\"type\":\"BasicTickFormatter\"},{\"attributes\":{},\"id\":\"07f3ad75-0ce9-45ee-ba98-9586a031202f\",\"type\":\"ResetTool\"},{\"attributes\":{},\"id\":\"bc41aeb8-5d86-40f8-a7ac-79d775f1de25\",\"type\":\"BasicTickFormatter\"},{\"attributes\":{\"data_source\":{\"id\":\"271d3272-238c-48f3-af54-0e5448f40649\",\"type\":\"ColumnDataSource\"},\"glyph\":{\"id\":\"94e5ffd3-685e-49ca-8ffc-3feb646e3591\",\"type\":\"Circle\"},\"hover_glyph\":null,\"muted_glyph\":null,\"nonselection_glyph\":{\"id\":\"3ea107a9-4d07-47e0-b82d-2be066176810\",\"type\":\"Circle\"},\"selection_glyph\":null,\"view\":{\"id\":\"47f30f54-744f-4b52-8a1a-8c185bb4702c\",\"type\":\"CDSView\"}},\"id\":\"15090345-9f24-47a8-82d7-66c24fa68c1a\",\"type\":\"GlyphRenderer\"},{\"attributes\":{},\"id\":\"70b339d3-1ff2-45ea-b5d1-d22ff2516a48\",\"type\":\"SaveTool\"},{\"attributes\":{\"callback\":null,\"column_names\":[\"y\",\"x\"],\"data\":{\"x\":[1,2,3,4,5],\"y\":[6,7,2,4,5]}},\"id\":\"271d3272-238c-48f3-af54-0e5448f40649\",\"type\":\"ColumnDataSource\"},{\"attributes\":{},\"id\":\"84dfdfa4-2d0d-4073-9636-97ed2d955d6f\",\"type\":\"WheelZoomTool\"},{\"attributes\":{},\"id\":\"ada6ec63-7efb-4ec7-8138-6ea68ee036d3\",\"type\":\"HelpTool\"},{\"attributes\":{\"callback\":null},\"id\":\"8ba5f8b8-badc-4ad6-a842-de97dca999e8\",\"type\":\"DataRange1d\"},{\"attributes\":{\"dimension\":1,\"plot\":{\"id\":\"fb685e42-f469-4098-aaa5-a6538caa7616\",\"subtype\":\"Figure\",\"type\":\"Plot\"},\"ticker\":{\"id\":\"3edb543a-ac1b-4dd3-8505-d7ef0190ff1d\",\"type\":\"BasicTicker\"}},\"id\":\"e863069e-3508-402c-94af-ae015544cefc\",\"type\":\"Grid\"},{\"attributes\":{\"callback\":null},\"id\":\"c340cad0-90bc-43ec-9919-6f1fddd1ffbb\",\"type\":\"DataRange1d\"},{\"attributes\":{\"active_drag\":\"auto\",\"active_inspect\":\"auto\",\"active_scroll\":\"auto\",\"active_tap\":\"auto\",\"tools\":[{\"id\":\"9c419a2a-ea4e-4b0b-b4b9-ffbb54953d67\",\"type\":\"PanTool\"},{\"id\":\"84dfdfa4-2d0d-4073-9636-97ed2d955d6f\",\"type\":\"WheelZoomTool\"},{\"id\":\"dd4171ea-3605-4687-af59-e1fc3b72ecba\",\"type\":\"BoxZoomTool\"},{\"id\":\"70b339d3-1ff2-45ea-b5d1-d22ff2516a48\",\"type\":\"SaveTool\"},{\"id\":\"07f3ad75-0ce9-45ee-ba98-9586a031202f\",\"type\":\"ResetTool\"},{\"id\":\"ada6ec63-7efb-4ec7-8138-6ea68ee036d3\",\"type\":\"HelpTool\"}]},\"id\":\"dd503ae3-8222-4c1d-a4b1-b690a48aee65\",\"type\":\"Toolbar\"},{\"attributes\":{\"source\":{\"id\":\"271d3272-238c-48f3-af54-0e5448f40649\",\"type\":\"ColumnDataSource\"}},\"id\":\"47f30f54-744f-4b52-8a1a-8c185bb4702c\",\"type\":\"CDSView\"},{\"attributes\":{\"bottom_units\":\"screen\",\"fill_alpha\":{\"value\":0.5},\"fill_color\":{\"value\":\"lightgrey\"},\"left_units\":\"screen\",\"level\":\"overlay\",\"line_alpha\":{\"value\":1.0},\"line_color\":{\"value\":\"black\"},\"line_dash\":[4,4],\"line_width\":{\"value\":2},\"plot\":null,\"render_mode\":\"css\",\"right_units\":\"screen\",\"top_units\":\"screen\"},\"id\":\"a96445fb-e5cb-494a-8178-2a9f366aba81\",\"type\":\"BoxAnnotation\"},{\"attributes\":{},\"id\":\"683cd8e2-211d-413f-b0ea-a2d8b0a74923\",\"type\":\"BasicTicker\"},{\"attributes\":{\"formatter\":{\"id\":\"d16561da-deb9-43be-895c-96ef2ce00266\",\"type\":\"BasicTickFormatter\"},\"plot\":{\"id\":\"fb685e42-f469-4098-aaa5-a6538caa7616\",\"subtype\":\"Figure\",\"type\":\"Plot\"},\"ticker\":{\"id\":\"3edb543a-ac1b-4dd3-8505-d7ef0190ff1d\",\"type\":\"BasicTicker\"}},\"id\":\"d2d4d891-7494-48d2-b35f-efcaa0761c73\",\"type\":\"LinearAxis\"},{\"attributes\":{\"fill_alpha\":{\"value\":0.5},\"fill_color\":{\"value\":\"orange\"},\"line_color\":{\"value\":\"navy\"},\"size\":{\"units\":\"screen\",\"value\":15},\"x\":{\"field\":\"x\"},\"y\":{\"field\":\"y\"}},\"id\":\"94e5ffd3-685e-49ca-8ffc-3feb646e3591\",\"type\":\"Circle\"},{\"attributes\":{},\"id\":\"05a2b4d4-6c81-450a-a892-9c8b0fe9c634\",\"type\":\"LinearScale\"},{\"attributes\":{},\"id\":\"9c419a2a-ea4e-4b0b-b4b9-ffbb54953d67\",\"type\":\"PanTool\"},{\"attributes\":{\"overlay\":{\"id\":\"a96445fb-e5cb-494a-8178-2a9f366aba81\",\"type\":\"BoxAnnotation\"}},\"id\":\"dd4171ea-3605-4687-af59-e1fc3b72ecba\",\"type\":\"BoxZoomTool\"}],\"root_ids\":[\"fb685e42-f469-4098-aaa5-a6538caa7616\"]},\"title\":\"Bokeh Application\",\"version\":\"0.12.13\"}};\n",
       "  var render_items = [{\"docid\":\"7b9a3492-9ff1-4344-a68a-fffd3773bcc1\",\"elementid\":\"a4ad5b3a-c33a-499b-a90d-fcf55174d99a\",\"modelid\":\"fb685e42-f469-4098-aaa5-a6538caa7616\"}];\n",
       "  root.Bokeh.embed.embed_items_notebook(docs_json, render_items);\n",
       "\n",
       "  }\n",
       "  if (root.Bokeh !== undefined) {\n",
       "    embed_document(root);\n",
       "  } else {\n",
       "    var attempts = 0;\n",
       "    var timer = setInterval(function(root) {\n",
       "      if (root.Bokeh !== undefined) {\n",
       "        embed_document(root);\n",
       "        clearInterval(timer);\n",
       "      }\n",
       "      attempts++;\n",
       "      if (attempts > 100) {\n",
       "        console.log(\"Bokeh: ERROR: Unable to run BokehJS code because BokehJS library is missing\")\n",
       "        clearInterval(timer);\n",
       "      }\n",
       "    }, 10, root)\n",
       "  }\n",
       "})(window);"
      ],
      "application/vnd.bokehjs_exec.v0+json": ""
     },
     "metadata": {
      "application/vnd.bokehjs_exec.v0+json": {
       "id": "fb685e42-f469-4098-aaa5-a6538caa7616"
      }
     },
     "output_type": "display_data"
    }
   ],
   "source": [
    "# # create a new plot with default tools, using figure\n",
    "p = figure(plot_width=400, plot_height=400)\n",
    "\n",
    "# add a circle glyph with a size, color, and alpha\n",
    "p.circle(x=[1, 2, 3, 4, 5], # x values\n",
    "         y=[6, 7, 2, 4, 5],  # y values\n",
    "         size=15,  # size in pixels\n",
    "         line_color=\"navy\",  # outline color\n",
    "         fill_color=\"orange\",  #fill color\n",
    "         fill_alpha=0.5  # transparency\n",
    "        )  \n",
    "\n",
    "show(p) # show the results"
   ]
  },
  {
   "cell_type": "markdown",
   "metadata": {},
   "source": [
    "All Bokeh markers accept `size` (measured in screen space units) as a property. Circles also have `radius` (measured in \"data\" space units). Try using the `Radius` property to set the radio of the circles and comment on the differences between them."
   ]
  },
  {
   "cell_type": "code",
   "execution_count": 4,
   "metadata": {},
   "outputs": [
    {
     "data": {
      "text/html": [
       "\n",
       "<div class=\"bk-root\">\n",
       "    <div class=\"bk-plotdiv\" id=\"7e70850d-c2dd-4dc2-8955-341a4535ae9a\"></div>\n",
       "</div>"
      ]
     },
     "metadata": {},
     "output_type": "display_data"
    },
    {
     "data": {
      "application/javascript": [
       "(function(root) {\n",
       "  function embed_document(root) {\n",
       "    \n",
       "  var docs_json = {\"46a006dd-b6b7-42b1-b4e5-f7630ae9000f\":{\"roots\":{\"references\":[{\"attributes\":{\"dimension\":1,\"plot\":{\"id\":\"05d505ec-b878-4f65-a008-28fce9c80566\",\"subtype\":\"Figure\",\"type\":\"Plot\"},\"ticker\":{\"id\":\"95dc99db-b151-450e-98a3-2dc4c555f740\",\"type\":\"BasicTicker\"}},\"id\":\"1d75c867-5e27-4808-a395-26b1b013f222\",\"type\":\"Grid\"},{\"attributes\":{\"source\":{\"id\":\"becedf9a-7f83-49d0-992c-1b58adecb763\",\"type\":\"ColumnDataSource\"}},\"id\":\"6037b9c1-357d-4267-92b5-c72d0b38f7ae\",\"type\":\"CDSView\"},{\"attributes\":{},\"id\":\"7fcd6587-e7d6-43cc-a4d9-e4de90f9ed0d\",\"type\":\"BasicTickFormatter\"},{\"attributes\":{\"plot\":null,\"text\":\"\"},\"id\":\"a3de4be1-4e3d-4ac6-ab78-dd1d90685761\",\"type\":\"Title\"},{\"attributes\":{\"overlay\":{\"id\":\"0da6d5e3-996b-4f87-a263-2d5cccec3617\",\"type\":\"BoxAnnotation\"}},\"id\":\"7d060f82-eb4b-4c82-abfc-2ce058220bf3\",\"type\":\"BoxZoomTool\"},{\"attributes\":{\"data_source\":{\"id\":\"becedf9a-7f83-49d0-992c-1b58adecb763\",\"type\":\"ColumnDataSource\"},\"glyph\":{\"id\":\"239ee672-b9d7-42f3-bca0-62f3d4ae80fa\",\"type\":\"Circle\"},\"hover_glyph\":null,\"muted_glyph\":null,\"nonselection_glyph\":{\"id\":\"bac65afa-24b8-4bd9-b437-c0bf59eefeff\",\"type\":\"Circle\"},\"selection_glyph\":null,\"view\":{\"id\":\"6037b9c1-357d-4267-92b5-c72d0b38f7ae\",\"type\":\"CDSView\"}},\"id\":\"ac1abb19-c0e6-4987-8519-d965cca4d527\",\"type\":\"GlyphRenderer\"},{\"attributes\":{\"fill_alpha\":{\"value\":0.1},\"fill_color\":{\"value\":\"#1f77b4\"},\"line_alpha\":{\"value\":0.1},\"line_color\":{\"value\":\"#1f77b4\"},\"radius\":{\"units\":\"data\",\"value\":0.1},\"x\":{\"field\":\"x\"},\"y\":{\"field\":\"y\"}},\"id\":\"04fad407-efde-4db9-b4b7-6ca53205e9e3\",\"type\":\"Circle\"},{\"attributes\":{},\"id\":\"71f211ae-2a0c-4c3a-91a5-ef2a278c45d4\",\"type\":\"ResetTool\"},{\"attributes\":{},\"id\":\"e56eb4fe-5c3d-403b-a2e1-512385eedca3\",\"type\":\"BasicTickFormatter\"},{\"attributes\":{},\"id\":\"e52ab6e3-bca6-4f24-b15c-4d5210824618\",\"type\":\"LinearScale\"},{\"attributes\":{\"plot\":{\"id\":\"05d505ec-b878-4f65-a008-28fce9c80566\",\"subtype\":\"Figure\",\"type\":\"Plot\"},\"ticker\":{\"id\":\"3cc35386-fda6-4c7a-b4b2-406ddabf5ae5\",\"type\":\"BasicTicker\"}},\"id\":\"6ae43d87-c7ac-48ad-a765-85ef53412200\",\"type\":\"Grid\"},{\"attributes\":{\"bottom_units\":\"screen\",\"fill_alpha\":{\"value\":0.5},\"fill_color\":{\"value\":\"lightgrey\"},\"left_units\":\"screen\",\"level\":\"overlay\",\"line_alpha\":{\"value\":1.0},\"line_color\":{\"value\":\"black\"},\"line_dash\":[4,4],\"line_width\":{\"value\":2},\"plot\":null,\"render_mode\":\"css\",\"right_units\":\"screen\",\"top_units\":\"screen\"},\"id\":\"0da6d5e3-996b-4f87-a263-2d5cccec3617\",\"type\":\"BoxAnnotation\"},{\"attributes\":{},\"id\":\"f9081cd0-22b1-4dd7-a7a4-94c9ba6909da\",\"type\":\"HelpTool\"},{\"attributes\":{},\"id\":\"87c085ea-76fb-4811-a3c1-2c19248c16fc\",\"type\":\"WheelZoomTool\"},{\"attributes\":{\"callback\":null,\"column_names\":[\"y\",\"x\"],\"data\":{\"x\":[1,2,3,4,5],\"y\":[6,7,2,4,5]}},\"id\":\"24c88769-95c8-40cc-b566-401c72dcfac4\",\"type\":\"ColumnDataSource\"},{\"attributes\":{},\"id\":\"95dc99db-b151-450e-98a3-2dc4c555f740\",\"type\":\"BasicTicker\"},{\"attributes\":{\"fill_alpha\":{\"value\":0.5},\"fill_color\":{\"value\":\"cyan\"},\"line_color\":{\"value\":\"navy\"},\"radius\":{\"units\":\"data\",\"value\":0.1},\"x\":{\"field\":\"x\"},\"y\":{\"field\":\"y\"}},\"id\":\"ff672c40-f101-4002-8791-e36d28be612e\",\"type\":\"Circle\"},{\"attributes\":{\"callback\":null},\"id\":\"853c1850-627c-48eb-bd1d-752fedbe52b1\",\"type\":\"DataRange1d\"},{\"attributes\":{\"fill_alpha\":{\"value\":0.1},\"fill_color\":{\"value\":\"#1f77b4\"},\"line_alpha\":{\"value\":0.1},\"line_color\":{\"value\":\"#1f77b4\"},\"size\":{\"units\":\"screen\",\"value\":15},\"x\":{\"field\":\"x\"},\"y\":{\"field\":\"y\"}},\"id\":\"bac65afa-24b8-4bd9-b437-c0bf59eefeff\",\"type\":\"Circle\"},{\"attributes\":{\"formatter\":{\"id\":\"7fcd6587-e7d6-43cc-a4d9-e4de90f9ed0d\",\"type\":\"BasicTickFormatter\"},\"plot\":{\"id\":\"05d505ec-b878-4f65-a008-28fce9c80566\",\"subtype\":\"Figure\",\"type\":\"Plot\"},\"ticker\":{\"id\":\"3cc35386-fda6-4c7a-b4b2-406ddabf5ae5\",\"type\":\"BasicTicker\"}},\"id\":\"ea7b9642-22fc-41b0-a988-9a1f7b7db81e\",\"type\":\"LinearAxis\"},{\"attributes\":{},\"id\":\"54664942-0eed-4677-9efd-24e135adb0b0\",\"type\":\"PanTool\"},{\"attributes\":{},\"id\":\"1716735e-7fa5-433b-a90c-4fd5af7df40b\",\"type\":\"LinearScale\"},{\"attributes\":{\"callback\":null,\"column_names\":[\"y\",\"x\"],\"data\":{\"x\":[1,2,3,4,5],\"y\":[6,7,2,4,5]}},\"id\":\"becedf9a-7f83-49d0-992c-1b58adecb763\",\"type\":\"ColumnDataSource\"},{\"attributes\":{},\"id\":\"3cc35386-fda6-4c7a-b4b2-406ddabf5ae5\",\"type\":\"BasicTicker\"},{\"attributes\":{\"callback\":null},\"id\":\"286ac928-69f7-49e1-9e05-606abb0343fa\",\"type\":\"DataRange1d\"},{\"attributes\":{\"formatter\":{\"id\":\"e56eb4fe-5c3d-403b-a2e1-512385eedca3\",\"type\":\"BasicTickFormatter\"},\"plot\":{\"id\":\"05d505ec-b878-4f65-a008-28fce9c80566\",\"subtype\":\"Figure\",\"type\":\"Plot\"},\"ticker\":{\"id\":\"95dc99db-b151-450e-98a3-2dc4c555f740\",\"type\":\"BasicTicker\"}},\"id\":\"f7bf6d55-9015-4289-8438-e99683f9dff3\",\"type\":\"LinearAxis\"},{\"attributes\":{\"below\":[{\"id\":\"ea7b9642-22fc-41b0-a988-9a1f7b7db81e\",\"type\":\"LinearAxis\"}],\"left\":[{\"id\":\"f7bf6d55-9015-4289-8438-e99683f9dff3\",\"type\":\"LinearAxis\"}],\"plot_height\":400,\"plot_width\":400,\"renderers\":[{\"id\":\"ea7b9642-22fc-41b0-a988-9a1f7b7db81e\",\"type\":\"LinearAxis\"},{\"id\":\"6ae43d87-c7ac-48ad-a765-85ef53412200\",\"type\":\"Grid\"},{\"id\":\"f7bf6d55-9015-4289-8438-e99683f9dff3\",\"type\":\"LinearAxis\"},{\"id\":\"1d75c867-5e27-4808-a395-26b1b013f222\",\"type\":\"Grid\"},{\"id\":\"0da6d5e3-996b-4f87-a263-2d5cccec3617\",\"type\":\"BoxAnnotation\"},{\"id\":\"ac1abb19-c0e6-4987-8519-d965cca4d527\",\"type\":\"GlyphRenderer\"},{\"id\":\"3fe2ea8b-72d5-4521-9414-bb62d3847d9f\",\"type\":\"GlyphRenderer\"}],\"title\":{\"id\":\"a3de4be1-4e3d-4ac6-ab78-dd1d90685761\",\"type\":\"Title\"},\"toolbar\":{\"id\":\"e33adbac-2831-435e-a8a4-41215a87711b\",\"type\":\"Toolbar\"},\"x_range\":{\"id\":\"853c1850-627c-48eb-bd1d-752fedbe52b1\",\"type\":\"DataRange1d\"},\"x_scale\":{\"id\":\"1716735e-7fa5-433b-a90c-4fd5af7df40b\",\"type\":\"LinearScale\"},\"y_range\":{\"id\":\"286ac928-69f7-49e1-9e05-606abb0343fa\",\"type\":\"DataRange1d\"},\"y_scale\":{\"id\":\"e52ab6e3-bca6-4f24-b15c-4d5210824618\",\"type\":\"LinearScale\"}},\"id\":\"05d505ec-b878-4f65-a008-28fce9c80566\",\"subtype\":\"Figure\",\"type\":\"Plot\"},{\"attributes\":{\"active_drag\":\"auto\",\"active_inspect\":\"auto\",\"active_scroll\":\"auto\",\"active_tap\":\"auto\",\"tools\":[{\"id\":\"54664942-0eed-4677-9efd-24e135adb0b0\",\"type\":\"PanTool\"},{\"id\":\"87c085ea-76fb-4811-a3c1-2c19248c16fc\",\"type\":\"WheelZoomTool\"},{\"id\":\"7d060f82-eb4b-4c82-abfc-2ce058220bf3\",\"type\":\"BoxZoomTool\"},{\"id\":\"4dc4f833-fa63-41f0-aa72-ca421376b319\",\"type\":\"SaveTool\"},{\"id\":\"71f211ae-2a0c-4c3a-91a5-ef2a278c45d4\",\"type\":\"ResetTool\"},{\"id\":\"f9081cd0-22b1-4dd7-a7a4-94c9ba6909da\",\"type\":\"HelpTool\"}]},\"id\":\"e33adbac-2831-435e-a8a4-41215a87711b\",\"type\":\"Toolbar\"},{\"attributes\":{\"source\":{\"id\":\"24c88769-95c8-40cc-b566-401c72dcfac4\",\"type\":\"ColumnDataSource\"}},\"id\":\"4e27e8c0-f80b-41ee-a9c6-f3276e6fa043\",\"type\":\"CDSView\"},{\"attributes\":{\"data_source\":{\"id\":\"24c88769-95c8-40cc-b566-401c72dcfac4\",\"type\":\"ColumnDataSource\"},\"glyph\":{\"id\":\"ff672c40-f101-4002-8791-e36d28be612e\",\"type\":\"Circle\"},\"hover_glyph\":null,\"muted_glyph\":null,\"nonselection_glyph\":{\"id\":\"04fad407-efde-4db9-b4b7-6ca53205e9e3\",\"type\":\"Circle\"},\"selection_glyph\":null,\"view\":{\"id\":\"4e27e8c0-f80b-41ee-a9c6-f3276e6fa043\",\"type\":\"CDSView\"}},\"id\":\"3fe2ea8b-72d5-4521-9414-bb62d3847d9f\",\"type\":\"GlyphRenderer\"},{\"attributes\":{\"fill_alpha\":{\"value\":0.5},\"fill_color\":{\"value\":\"orange\"},\"line_color\":{\"value\":\"navy\"},\"size\":{\"units\":\"screen\",\"value\":15},\"x\":{\"field\":\"x\"},\"y\":{\"field\":\"y\"}},\"id\":\"239ee672-b9d7-42f3-bca0-62f3d4ae80fa\",\"type\":\"Circle\"},{\"attributes\":{},\"id\":\"4dc4f833-fa63-41f0-aa72-ca421376b319\",\"type\":\"SaveTool\"}],\"root_ids\":[\"05d505ec-b878-4f65-a008-28fce9c80566\"]},\"title\":\"Bokeh Application\",\"version\":\"0.12.13\"}};\n",
       "  var render_items = [{\"docid\":\"46a006dd-b6b7-42b1-b4e5-f7630ae9000f\",\"elementid\":\"7e70850d-c2dd-4dc2-8955-341a4535ae9a\",\"modelid\":\"05d505ec-b878-4f65-a008-28fce9c80566\"}];\n",
       "  root.Bokeh.embed.embed_items_notebook(docs_json, render_items);\n",
       "\n",
       "  }\n",
       "  if (root.Bokeh !== undefined) {\n",
       "    embed_document(root);\n",
       "  } else {\n",
       "    var attempts = 0;\n",
       "    var timer = setInterval(function(root) {\n",
       "      if (root.Bokeh !== undefined) {\n",
       "        embed_document(root);\n",
       "        clearInterval(timer);\n",
       "      }\n",
       "      attempts++;\n",
       "      if (attempts > 100) {\n",
       "        console.log(\"Bokeh: ERROR: Unable to run BokehJS code because BokehJS library is missing\")\n",
       "        clearInterval(timer);\n",
       "      }\n",
       "    }, 10, root)\n",
       "  }\n",
       "})(window);"
      ],
      "application/vnd.bokehjs_exec.v0+json": ""
     },
     "metadata": {
      "application/vnd.bokehjs_exec.v0+json": {
       "id": "05d505ec-b878-4f65-a008-28fce9c80566"
      }
     },
     "output_type": "display_data"
    }
   ],
   "source": [
    "# EXERCISE: Try changing the example above to set a `radius` value instead of `size`\n",
    "\n",
    "# # create a new plot with default tools, using figure\n",
    "p = figure(plot_width=400, plot_height=400)\n",
    "\n",
    "x = [1, 2, 3, 4, 5] # x values\n",
    "y = [6, 7, 2, 4, 5]  # y values \n",
    "\n",
    "# add a circle glyph with a size, color, and alpha\n",
    "p.circle(x=x, # x values\n",
    "         y=y,  # y values\n",
    "         size=15,  # size in pixels\n",
    "         line_color=\"navy\",  # outline color\n",
    "         fill_color=\"orange\",  #fill color\n",
    "         fill_alpha=0.5  # transparency\n",
    "        )\n",
    "\n",
    "# Make the second plot using radius instead of circle. There is a change in the color to see the difference\n",
    "p.circle(x=x, # x values\n",
    "         y=y,  # y values\n",
    "         radius=0.1,  # size in pixels\n",
    "         line_color=\"navy\",  # outline color\n",
    "         fill_color=\"cyan\",  #fill color\n",
    "         fill_alpha=0.5  # transparency\n",
    "        )\n",
    "\n",
    "\n",
    "show(p) # show the results"
   ]
  },
  {
   "cell_type": "markdown",
   "metadata": {},
   "source": [
    "To scatter square markers instead of circles, you can use the `square` method on figures. Notice that the `square` method does not have the keyword radius. To inspect the properties of each method for the methods in the figure object, use the [documentation of glyhps](https://bokeh.pydata.org/en/latest/docs/reference/plotting.html#bokeh.plotting.figure.Figure.square).\n",
    "\n",
    "the link to the documentation\n",
    "\n",
    "Which are the possibilities while using the square glyphs?\n",
    "\n",
    "\n",
    "R-------\n",
    "Square, possible attributes are:\n",
    "- angle \n",
    "- angle_units \n",
    "- fill_alpha\n",
    "- fill_color\n",
    "- js_event_callbacks\n",
    "- js_property_callbacks\n",
    "- line_alpha\n",
    "- line_cap\n",
    "- line_color\n",
    "- line_dash\n",
    "- line_dash_offset\n",
    "- line_join\n",
    "- line_width\n",
    "- name\n",
    "- size\n",
    "- subscribed_events\n",
    "- tags\n",
    "- x\n",
    "- y"
   ]
  },
  {
   "cell_type": "code",
   "execution_count": 5,
   "metadata": {},
   "outputs": [
    {
     "data": {
      "text/html": [
       "\n",
       "<div class=\"bk-root\">\n",
       "    <div class=\"bk-plotdiv\" id=\"0811700e-67d0-4397-bb2e-85b2c9aa1e7c\"></div>\n",
       "</div>"
      ]
     },
     "metadata": {},
     "output_type": "display_data"
    },
    {
     "data": {
      "application/javascript": [
       "(function(root) {\n",
       "  function embed_document(root) {\n",
       "    \n",
       "  var docs_json = {\"5a985683-2f89-4af7-a414-484e1ad7b73a\":{\"roots\":{\"references\":[{\"attributes\":{},\"id\":\"a16eeb01-eb5c-4a46-9780-606ecaf757a1\",\"type\":\"PanTool\"},{\"attributes\":{\"dimension\":1,\"plot\":{\"id\":\"3482a094-4bbe-4d79-8e00-bd73008df54c\",\"subtype\":\"Figure\",\"type\":\"Plot\"},\"ticker\":{\"id\":\"1a48afe7-7a7f-4439-8936-a099c436ab64\",\"type\":\"BasicTicker\"}},\"id\":\"e0a9aea6-4af4-4760-b16f-14caa1fe29c0\",\"type\":\"Grid\"},{\"attributes\":{},\"id\":\"2c2f1da6-c9c5-4adb-b1b0-9131217a2b29\",\"type\":\"SaveTool\"},{\"attributes\":{\"angle\":{\"field\":\"angle\",\"units\":\"rad\"},\"fill_alpha\":{\"value\":0.1},\"fill_color\":{\"value\":\"#1f77b4\"},\"line_alpha\":{\"value\":0.1},\"line_color\":{\"value\":\"#1f77b4\"},\"size\":{\"field\":\"size\",\"units\":\"screen\"},\"x\":{\"field\":\"x\"},\"y\":{\"field\":\"y\"}},\"id\":\"e367d1dd-66cc-43ab-8031-8061cde423ae\",\"type\":\"Square\"},{\"attributes\":{\"angle\":{\"field\":\"angle\",\"units\":\"rad\"},\"fill_alpha\":{\"value\":0.6},\"fill_color\":{\"value\":\"firebrick\"},\"line_alpha\":{\"value\":0.6},\"line_color\":{\"value\":\"firebrick\"},\"size\":{\"field\":\"size\",\"units\":\"screen\"},\"x\":{\"field\":\"x\"},\"y\":{\"field\":\"y\"}},\"id\":\"dae9d1e1-31a9-4382-ae61-b63689a63960\",\"type\":\"Square\"},{\"attributes\":{\"callback\":null,\"column_names\":[\"angle\",\"y\",\"x\",\"size\"],\"data\":{\"angle\":{\"__ndarray__\":\"NpjnRFH68j+UTRqITmQXQNatGfKbcRdAGWv5g9iTDEDInq+iuE0HQA==\",\"dtype\":\"float64\",\"shape\":[5]},\"size\":[10,15,20,25,30],\"x\":[1,2,3,4,5],\"y\":[6,7,2,4,5]}},\"id\":\"d0c54ec9-cea2-425c-ae57-dbc106f1ae01\",\"type\":\"ColumnDataSource\"},{\"attributes\":{},\"id\":\"1a48afe7-7a7f-4439-8936-a099c436ab64\",\"type\":\"BasicTicker\"},{\"attributes\":{},\"id\":\"5d05d1e1-e144-4326-9019-737e408e10c8\",\"type\":\"BasicTicker\"},{\"attributes\":{},\"id\":\"4708336f-3cbf-4bc7-b85f-25522fd3847c\",\"type\":\"BasicTickFormatter\"},{\"attributes\":{\"callback\":null},\"id\":\"4aeab71c-c496-4c20-80de-bf45bc7bbeeb\",\"type\":\"DataRange1d\"},{\"attributes\":{},\"id\":\"3f9a684e-bb54-4535-a1b6-e584d5f6d807\",\"type\":\"LinearScale\"},{\"attributes\":{\"data_source\":{\"id\":\"d0c54ec9-cea2-425c-ae57-dbc106f1ae01\",\"type\":\"ColumnDataSource\"},\"glyph\":{\"id\":\"dae9d1e1-31a9-4382-ae61-b63689a63960\",\"type\":\"Square\"},\"hover_glyph\":null,\"muted_glyph\":null,\"nonselection_glyph\":{\"id\":\"e367d1dd-66cc-43ab-8031-8061cde423ae\",\"type\":\"Square\"},\"selection_glyph\":null,\"view\":{\"id\":\"72f03074-358b-4c79-8cf9-32d93e7180b5\",\"type\":\"CDSView\"}},\"id\":\"cc0183d1-dae5-4dee-b3cb-6f6e0160c567\",\"type\":\"GlyphRenderer\"},{\"attributes\":{\"formatter\":{\"id\":\"4708336f-3cbf-4bc7-b85f-25522fd3847c\",\"type\":\"BasicTickFormatter\"},\"plot\":{\"id\":\"3482a094-4bbe-4d79-8e00-bd73008df54c\",\"subtype\":\"Figure\",\"type\":\"Plot\"},\"ticker\":{\"id\":\"1a48afe7-7a7f-4439-8936-a099c436ab64\",\"type\":\"BasicTicker\"}},\"id\":\"85b46b22-022d-4cd1-aec6-a3ae72d6ba2f\",\"type\":\"LinearAxis\"},{\"attributes\":{\"overlay\":{\"id\":\"e1388529-f725-45e1-9996-4ce79e1a40be\",\"type\":\"BoxAnnotation\"}},\"id\":\"0fd5299c-0b85-4861-b479-5408608bfe75\",\"type\":\"BoxZoomTool\"},{\"attributes\":{},\"id\":\"309e13b6-9b1e-4dc7-9b2b-0e711a245475\",\"type\":\"LinearScale\"},{\"attributes\":{\"active_drag\":\"auto\",\"active_inspect\":\"auto\",\"active_scroll\":\"auto\",\"active_tap\":\"auto\",\"tools\":[{\"id\":\"a16eeb01-eb5c-4a46-9780-606ecaf757a1\",\"type\":\"PanTool\"},{\"id\":\"fd6477de-ff57-429f-a5a7-81696c3d3a07\",\"type\":\"WheelZoomTool\"},{\"id\":\"0fd5299c-0b85-4861-b479-5408608bfe75\",\"type\":\"BoxZoomTool\"},{\"id\":\"2c2f1da6-c9c5-4adb-b1b0-9131217a2b29\",\"type\":\"SaveTool\"},{\"id\":\"dd70023d-9517-40c4-8408-34c421fef240\",\"type\":\"ResetTool\"},{\"id\":\"f1db92f6-0e2e-4404-abd2-a63e27ac7c62\",\"type\":\"HelpTool\"}]},\"id\":\"775ddc20-a06a-4d19-8897-cc231b3a0882\",\"type\":\"Toolbar\"},{\"attributes\":{\"plot\":{\"id\":\"3482a094-4bbe-4d79-8e00-bd73008df54c\",\"subtype\":\"Figure\",\"type\":\"Plot\"},\"ticker\":{\"id\":\"5d05d1e1-e144-4326-9019-737e408e10c8\",\"type\":\"BasicTicker\"}},\"id\":\"a8c20f66-83c3-4c82-859b-a2c7e14ab8ef\",\"type\":\"Grid\"},{\"attributes\":{},\"id\":\"f1db92f6-0e2e-4404-abd2-a63e27ac7c62\",\"type\":\"HelpTool\"},{\"attributes\":{},\"id\":\"fd6477de-ff57-429f-a5a7-81696c3d3a07\",\"type\":\"WheelZoomTool\"},{\"attributes\":{},\"id\":\"235e6c62-69f7-46a5-98bf-94c98174acfa\",\"type\":\"BasicTickFormatter\"},{\"attributes\":{\"plot\":null,\"text\":\"\"},\"id\":\"6ecbcf02-c255-4e72-ac39-24c36f2cf8c4\",\"type\":\"Title\"},{\"attributes\":{\"below\":[{\"id\":\"d8cef5b9-a468-4170-a037-e206d00f6183\",\"type\":\"LinearAxis\"}],\"left\":[{\"id\":\"85b46b22-022d-4cd1-aec6-a3ae72d6ba2f\",\"type\":\"LinearAxis\"}],\"plot_height\":400,\"plot_width\":400,\"renderers\":[{\"id\":\"d8cef5b9-a468-4170-a037-e206d00f6183\",\"type\":\"LinearAxis\"},{\"id\":\"a8c20f66-83c3-4c82-859b-a2c7e14ab8ef\",\"type\":\"Grid\"},{\"id\":\"85b46b22-022d-4cd1-aec6-a3ae72d6ba2f\",\"type\":\"LinearAxis\"},{\"id\":\"e0a9aea6-4af4-4760-b16f-14caa1fe29c0\",\"type\":\"Grid\"},{\"id\":\"e1388529-f725-45e1-9996-4ce79e1a40be\",\"type\":\"BoxAnnotation\"},{\"id\":\"cc0183d1-dae5-4dee-b3cb-6f6e0160c567\",\"type\":\"GlyphRenderer\"}],\"title\":{\"id\":\"6ecbcf02-c255-4e72-ac39-24c36f2cf8c4\",\"type\":\"Title\"},\"toolbar\":{\"id\":\"775ddc20-a06a-4d19-8897-cc231b3a0882\",\"type\":\"Toolbar\"},\"x_range\":{\"id\":\"9148c15a-e4c2-4545-b9d3-6302d6c453c0\",\"type\":\"DataRange1d\"},\"x_scale\":{\"id\":\"309e13b6-9b1e-4dc7-9b2b-0e711a245475\",\"type\":\"LinearScale\"},\"y_range\":{\"id\":\"4aeab71c-c496-4c20-80de-bf45bc7bbeeb\",\"type\":\"DataRange1d\"},\"y_scale\":{\"id\":\"3f9a684e-bb54-4535-a1b6-e584d5f6d807\",\"type\":\"LinearScale\"}},\"id\":\"3482a094-4bbe-4d79-8e00-bd73008df54c\",\"subtype\":\"Figure\",\"type\":\"Plot\"},{\"attributes\":{\"source\":{\"id\":\"d0c54ec9-cea2-425c-ae57-dbc106f1ae01\",\"type\":\"ColumnDataSource\"}},\"id\":\"72f03074-358b-4c79-8cf9-32d93e7180b5\",\"type\":\"CDSView\"},{\"attributes\":{\"formatter\":{\"id\":\"235e6c62-69f7-46a5-98bf-94c98174acfa\",\"type\":\"BasicTickFormatter\"},\"plot\":{\"id\":\"3482a094-4bbe-4d79-8e00-bd73008df54c\",\"subtype\":\"Figure\",\"type\":\"Plot\"},\"ticker\":{\"id\":\"5d05d1e1-e144-4326-9019-737e408e10c8\",\"type\":\"BasicTicker\"}},\"id\":\"d8cef5b9-a468-4170-a037-e206d00f6183\",\"type\":\"LinearAxis\"},{\"attributes\":{},\"id\":\"dd70023d-9517-40c4-8408-34c421fef240\",\"type\":\"ResetTool\"},{\"attributes\":{\"bottom_units\":\"screen\",\"fill_alpha\":{\"value\":0.5},\"fill_color\":{\"value\":\"lightgrey\"},\"left_units\":\"screen\",\"level\":\"overlay\",\"line_alpha\":{\"value\":1.0},\"line_color\":{\"value\":\"black\"},\"line_dash\":[4,4],\"line_width\":{\"value\":2},\"plot\":null,\"render_mode\":\"css\",\"right_units\":\"screen\",\"top_units\":\"screen\"},\"id\":\"e1388529-f725-45e1-9996-4ce79e1a40be\",\"type\":\"BoxAnnotation\"},{\"attributes\":{\"callback\":null},\"id\":\"9148c15a-e4c2-4545-b9d3-6302d6c453c0\",\"type\":\"DataRange1d\"}],\"root_ids\":[\"3482a094-4bbe-4d79-8e00-bd73008df54c\"]},\"title\":\"Bokeh Application\",\"version\":\"0.12.13\"}};\n",
       "  var render_items = [{\"docid\":\"5a985683-2f89-4af7-a414-484e1ad7b73a\",\"elementid\":\"0811700e-67d0-4397-bb2e-85b2c9aa1e7c\",\"modelid\":\"3482a094-4bbe-4d79-8e00-bd73008df54c\"}];\n",
       "  root.Bokeh.embed.embed_items_notebook(docs_json, render_items);\n",
       "\n",
       "  }\n",
       "  if (root.Bokeh !== undefined) {\n",
       "    embed_document(root);\n",
       "  } else {\n",
       "    var attempts = 0;\n",
       "    var timer = setInterval(function(root) {\n",
       "      if (root.Bokeh !== undefined) {\n",
       "        embed_document(root);\n",
       "        clearInterval(timer);\n",
       "      }\n",
       "      attempts++;\n",
       "      if (attempts > 100) {\n",
       "        console.log(\"Bokeh: ERROR: Unable to run BokehJS code because BokehJS library is missing\")\n",
       "        clearInterval(timer);\n",
       "      }\n",
       "    }, 10, root)\n",
       "  }\n",
       "})(window);"
      ],
      "application/vnd.bokehjs_exec.v0+json": ""
     },
     "metadata": {
      "application/vnd.bokehjs_exec.v0+json": {
       "id": "3482a094-4bbe-4d79-8e00-bd73008df54c"
      }
     },
     "output_type": "display_data"
    }
   ],
   "source": [
    "# create a new plot using figure\n",
    "p = figure(plot_width=400, plot_height=400)\n",
    "\n",
    "x = [1, 2, 3, 4, 5] # x values\n",
    "y = [6, 7, 2, 4, 5]  # y values \n",
    "rotation = np.random.uniform(0, 2*np.pi, len(x))  # Rotation in radians\n",
    "marker_size = [10, 15, 20, 25, 30]  # marker size in px\n",
    "\n",
    "# add a square renderer with a size, color, alpha, and sizes\n",
    "p.square(x=x, \n",
    "         y=y, \n",
    "         size=marker_size, \n",
    "         color=\"firebrick\", \n",
    "         alpha=0.6, \n",
    "         angle=rotation,\n",
    "        )\n",
    "\n",
    "show(p) # show the results"
   ]
  },
  {
   "cell_type": "markdown",
   "metadata": {},
   "source": [
    "Note that in the example above, we are also specifying different sizes for each individual marker. In general, all of a glyph's properties can be \"vectorized\" in this fashion. Also note that we have passed ``color`` as a shorthand to set both the line and fill colors easily at the same time. This is a convenience specific to ``bokeh.plotting``."
   ]
  },
  {
   "cell_type": "code",
   "execution_count": 6,
   "metadata": {
    "collapsed": true
   },
   "outputs": [],
   "source": [
    "# EXERCISE: Make a scatter plot using different (many) kinds of markers. Please use \n",
    "# as many as you can, and explore their properties\n",
    "\n"
   ]
  },
  {
   "cell_type": "markdown",
   "metadata": {},
   "source": [
    "# Basic Line Plots\n",
    "\n",
    "Lines are a type of glyph, which has the characteristic of uniting the different nodes. In Bokeh, lines do not have markers. Instead, if markers are required, these will be generated as scatter glyphs over the same canvas. Now, let us show the first example plotting using lines\n"
   ]
  },
  {
   "cell_type": "code",
   "execution_count": 7,
   "metadata": {},
   "outputs": [
    {
     "data": {
      "text/html": [
       "\n",
       "<div class=\"bk-root\">\n",
       "    <div class=\"bk-plotdiv\" id=\"61742c9e-6650-42ba-87bd-204d18dfa573\"></div>\n",
       "</div>"
      ]
     },
     "metadata": {},
     "output_type": "display_data"
    },
    {
     "data": {
      "application/javascript": [
       "(function(root) {\n",
       "  function embed_document(root) {\n",
       "    \n",
       "  var docs_json = {\"43639154-c41a-4390-add0-9a368a1d3eed\":{\"roots\":{\"references\":[{\"attributes\":{\"active_drag\":\"auto\",\"active_inspect\":\"auto\",\"active_scroll\":\"auto\",\"active_tap\":\"auto\",\"tools\":[{\"id\":\"1d8e982c-68c0-4075-8251-2c18438375b5\",\"type\":\"PanTool\"},{\"id\":\"805c379d-ff61-4401-8fb9-c1efd6f78155\",\"type\":\"WheelZoomTool\"},{\"id\":\"e78ce1b9-5159-42a0-833e-aaf94cf6f4e8\",\"type\":\"BoxZoomTool\"},{\"id\":\"fe9fdf4c-c226-4704-b91d-dd08153f07ed\",\"type\":\"SaveTool\"},{\"id\":\"941a06a4-36f5-4e47-8fa7-74d29cad9c63\",\"type\":\"ResetTool\"},{\"id\":\"75e37f3f-ef59-487c-bc26-61c23869e1d5\",\"type\":\"HelpTool\"}]},\"id\":\"43632eb5-8fdd-40bc-a100-8ac992c2f01b\",\"type\":\"Toolbar\"},{\"attributes\":{},\"id\":\"941a06a4-36f5-4e47-8fa7-74d29cad9c63\",\"type\":\"ResetTool\"},{\"attributes\":{\"plot\":null,\"text\":\"My Line Plot\"},\"id\":\"35bb5877-69c8-4c32-b15b-2a59b425b513\",\"type\":\"Title\"},{\"attributes\":{\"below\":[{\"id\":\"3814dcb8-195f-4025-a129-8f1a6d197f83\",\"type\":\"LinearAxis\"}],\"left\":[{\"id\":\"225f1464-6fa4-451e-8a83-6eba417bece6\",\"type\":\"LinearAxis\"}],\"plot_height\":400,\"plot_width\":400,\"renderers\":[{\"id\":\"3814dcb8-195f-4025-a129-8f1a6d197f83\",\"type\":\"LinearAxis\"},{\"id\":\"7cc76b32-fa90-4072-bb0e-dfc04cb848e6\",\"type\":\"Grid\"},{\"id\":\"225f1464-6fa4-451e-8a83-6eba417bece6\",\"type\":\"LinearAxis\"},{\"id\":\"591831cc-1b66-4db9-b253-48eab27b90a6\",\"type\":\"Grid\"},{\"id\":\"749bcc68-90f9-401f-8d35-0e5075b7d002\",\"type\":\"BoxAnnotation\"},{\"id\":\"6bfcaf76-11b3-42b4-b2f4-cd5208869f5d\",\"type\":\"GlyphRenderer\"}],\"title\":{\"id\":\"35bb5877-69c8-4c32-b15b-2a59b425b513\",\"type\":\"Title\"},\"toolbar\":{\"id\":\"43632eb5-8fdd-40bc-a100-8ac992c2f01b\",\"type\":\"Toolbar\"},\"x_range\":{\"id\":\"8e1217a6-bba2-4d75-a102-213a91035f87\",\"type\":\"DataRange1d\"},\"x_scale\":{\"id\":\"b5c8cd24-c899-4100-8014-7d6435ae78b9\",\"type\":\"LinearScale\"},\"y_range\":{\"id\":\"8dc27ce9-6214-4945-9083-a462d9b5bf8f\",\"type\":\"DataRange1d\"},\"y_scale\":{\"id\":\"6aea17df-1cd3-4910-a7a5-c2a1b113a90b\",\"type\":\"LinearScale\"}},\"id\":\"91b5f684-338c-4f40-89c6-75af5ca5bec7\",\"subtype\":\"Figure\",\"type\":\"Plot\"},{\"attributes\":{\"plot\":{\"id\":\"91b5f684-338c-4f40-89c6-75af5ca5bec7\",\"subtype\":\"Figure\",\"type\":\"Plot\"},\"ticker\":{\"id\":\"a277cc57-ea38-49a9-a5f4-2d4ca590d9b3\",\"type\":\"BasicTicker\"}},\"id\":\"7cc76b32-fa90-4072-bb0e-dfc04cb848e6\",\"type\":\"Grid\"},{\"attributes\":{},\"id\":\"fe9fdf4c-c226-4704-b91d-dd08153f07ed\",\"type\":\"SaveTool\"},{\"attributes\":{},\"id\":\"fe0115b3-9333-4f73-be5d-4fb12873c25e\",\"type\":\"BasicTickFormatter\"},{\"attributes\":{},\"id\":\"1d8e982c-68c0-4075-8251-2c18438375b5\",\"type\":\"PanTool\"},{\"attributes\":{\"formatter\":{\"id\":\"fe0115b3-9333-4f73-be5d-4fb12873c25e\",\"type\":\"BasicTickFormatter\"},\"plot\":{\"id\":\"91b5f684-338c-4f40-89c6-75af5ca5bec7\",\"subtype\":\"Figure\",\"type\":\"Plot\"},\"ticker\":{\"id\":\"a88c186e-5c7b-4196-be23-ba8a68acad86\",\"type\":\"BasicTicker\"}},\"id\":\"225f1464-6fa4-451e-8a83-6eba417bece6\",\"type\":\"LinearAxis\"},{\"attributes\":{\"dimension\":1,\"plot\":{\"id\":\"91b5f684-338c-4f40-89c6-75af5ca5bec7\",\"subtype\":\"Figure\",\"type\":\"Plot\"},\"ticker\":{\"id\":\"a88c186e-5c7b-4196-be23-ba8a68acad86\",\"type\":\"BasicTicker\"}},\"id\":\"591831cc-1b66-4db9-b253-48eab27b90a6\",\"type\":\"Grid\"},{\"attributes\":{\"line_alpha\":0.1,\"line_color\":\"#1f77b4\",\"line_width\":2,\"x\":{\"field\":\"x\"},\"y\":{\"field\":\"y\"}},\"id\":\"984df944-45ce-414b-b9b4-3380248450ac\",\"type\":\"Line\"},{\"attributes\":{},\"id\":\"6aea17df-1cd3-4910-a7a5-c2a1b113a90b\",\"type\":\"LinearScale\"},{\"attributes\":{},\"id\":\"75e37f3f-ef59-487c-bc26-61c23869e1d5\",\"type\":\"HelpTool\"},{\"attributes\":{},\"id\":\"a277cc57-ea38-49a9-a5f4-2d4ca590d9b3\",\"type\":\"BasicTicker\"},{\"attributes\":{\"callback\":null},\"id\":\"8dc27ce9-6214-4945-9083-a462d9b5bf8f\",\"type\":\"DataRange1d\"},{\"attributes\":{},\"id\":\"b5c8cd24-c899-4100-8014-7d6435ae78b9\",\"type\":\"LinearScale\"},{\"attributes\":{\"source\":{\"id\":\"d4df2cf8-fa14-4af3-b953-ede337338cd7\",\"type\":\"ColumnDataSource\"}},\"id\":\"4f3a3d30-7d16-49a1-98fb-7987ecafed81\",\"type\":\"CDSView\"},{\"attributes\":{},\"id\":\"805c379d-ff61-4401-8fb9-c1efd6f78155\",\"type\":\"WheelZoomTool\"},{\"attributes\":{\"callback\":null,\"column_names\":[\"y\",\"x\"],\"data\":{\"x\":[1,2,3,4,5],\"y\":[6,7,2,4,5]}},\"id\":\"d4df2cf8-fa14-4af3-b953-ede337338cd7\",\"type\":\"ColumnDataSource\"},{\"attributes\":{\"bottom_units\":\"screen\",\"fill_alpha\":{\"value\":0.5},\"fill_color\":{\"value\":\"lightgrey\"},\"left_units\":\"screen\",\"level\":\"overlay\",\"line_alpha\":{\"value\":1.0},\"line_color\":{\"value\":\"black\"},\"line_dash\":[4,4],\"line_width\":{\"value\":2},\"plot\":null,\"render_mode\":\"css\",\"right_units\":\"screen\",\"top_units\":\"screen\"},\"id\":\"749bcc68-90f9-401f-8d35-0e5075b7d002\",\"type\":\"BoxAnnotation\"},{\"attributes\":{\"formatter\":{\"id\":\"7fa8f4d9-2737-4e4f-bd42-8f1b44eeeb8e\",\"type\":\"BasicTickFormatter\"},\"plot\":{\"id\":\"91b5f684-338c-4f40-89c6-75af5ca5bec7\",\"subtype\":\"Figure\",\"type\":\"Plot\"},\"ticker\":{\"id\":\"a277cc57-ea38-49a9-a5f4-2d4ca590d9b3\",\"type\":\"BasicTicker\"}},\"id\":\"3814dcb8-195f-4025-a129-8f1a6d197f83\",\"type\":\"LinearAxis\"},{\"attributes\":{\"line_color\":\"#1f77b4\",\"line_width\":2,\"x\":{\"field\":\"x\"},\"y\":{\"field\":\"y\"}},\"id\":\"045348d5-8896-41ed-87ed-3ac9c7c38eb5\",\"type\":\"Line\"},{\"attributes\":{\"data_source\":{\"id\":\"d4df2cf8-fa14-4af3-b953-ede337338cd7\",\"type\":\"ColumnDataSource\"},\"glyph\":{\"id\":\"045348d5-8896-41ed-87ed-3ac9c7c38eb5\",\"type\":\"Line\"},\"hover_glyph\":null,\"muted_glyph\":null,\"nonselection_glyph\":{\"id\":\"984df944-45ce-414b-b9b4-3380248450ac\",\"type\":\"Line\"},\"selection_glyph\":null,\"view\":{\"id\":\"4f3a3d30-7d16-49a1-98fb-7987ecafed81\",\"type\":\"CDSView\"}},\"id\":\"6bfcaf76-11b3-42b4-b2f4-cd5208869f5d\",\"type\":\"GlyphRenderer\"},{\"attributes\":{\"overlay\":{\"id\":\"749bcc68-90f9-401f-8d35-0e5075b7d002\",\"type\":\"BoxAnnotation\"}},\"id\":\"e78ce1b9-5159-42a0-833e-aaf94cf6f4e8\",\"type\":\"BoxZoomTool\"},{\"attributes\":{},\"id\":\"a88c186e-5c7b-4196-be23-ba8a68acad86\",\"type\":\"BasicTicker\"},{\"attributes\":{},\"id\":\"7fa8f4d9-2737-4e4f-bd42-8f1b44eeeb8e\",\"type\":\"BasicTickFormatter\"},{\"attributes\":{\"callback\":null},\"id\":\"8e1217a6-bba2-4d75-a102-213a91035f87\",\"type\":\"DataRange1d\"}],\"root_ids\":[\"91b5f684-338c-4f40-89c6-75af5ca5bec7\"]},\"title\":\"Bokeh Application\",\"version\":\"0.12.13\"}};\n",
       "  var render_items = [{\"docid\":\"43639154-c41a-4390-add0-9a368a1d3eed\",\"elementid\":\"61742c9e-6650-42ba-87bd-204d18dfa573\",\"modelid\":\"91b5f684-338c-4f40-89c6-75af5ca5bec7\"}];\n",
       "  root.Bokeh.embed.embed_items_notebook(docs_json, render_items);\n",
       "\n",
       "  }\n",
       "  if (root.Bokeh !== undefined) {\n",
       "    embed_document(root);\n",
       "  } else {\n",
       "    var attempts = 0;\n",
       "    var timer = setInterval(function(root) {\n",
       "      if (root.Bokeh !== undefined) {\n",
       "        embed_document(root);\n",
       "        clearInterval(timer);\n",
       "      }\n",
       "      attempts++;\n",
       "      if (attempts > 100) {\n",
       "        console.log(\"Bokeh: ERROR: Unable to run BokehJS code because BokehJS library is missing\")\n",
       "        clearInterval(timer);\n",
       "      }\n",
       "    }, 10, root)\n",
       "  }\n",
       "})(window);"
      ],
      "application/vnd.bokehjs_exec.v0+json": ""
     },
     "metadata": {
      "application/vnd.bokehjs_exec.v0+json": {
       "id": "91b5f684-338c-4f40-89c6-75af5ca5bec7"
      }
     },
     "output_type": "display_data"
    }
   ],
   "source": [
    "# create a new plot (with a title) using figure\n",
    "x = [1, 2, 3, 4, 5] # x values\n",
    "y = [6, 7, 2, 4, 5]  # y values \n",
    "\n",
    "p = figure(plot_width=400, plot_height=400, title=\"My Line Plot\")\n",
    "\n",
    "# add a line renderer\n",
    "p.line(x=x,\n",
    "       y=y,\n",
    "       line_width=2)\n",
    "\n",
    "show(p) # show the results"
   ]
  },
  {
   "cell_type": "markdown",
   "metadata": {},
   "source": [
    "Now, let us use 2 different glyphs to create a line with markers for the same dataset."
   ]
  },
  {
   "cell_type": "code",
   "execution_count": 8,
   "metadata": {},
   "outputs": [
    {
     "data": {
      "text/html": [
       "\n",
       "<div class=\"bk-root\">\n",
       "    <div class=\"bk-plotdiv\" id=\"d48d2625-6acc-49e9-b4ad-b45116599828\"></div>\n",
       "</div>"
      ]
     },
     "metadata": {},
     "output_type": "display_data"
    },
    {
     "data": {
      "application/javascript": [
       "(function(root) {\n",
       "  function embed_document(root) {\n",
       "    \n",
       "  var docs_json = {\"a953d33e-e648-43c3-82d7-69fed2e0dd0d\":{\"roots\":{\"references\":[{\"attributes\":{\"below\":[{\"id\":\"717279e2-2b46-42ca-965d-f821e48b2299\",\"type\":\"LinearAxis\"}],\"left\":[{\"id\":\"d0083f79-06dc-41ab-a35e-135c90050a1b\",\"type\":\"LinearAxis\"}],\"plot_height\":400,\"plot_width\":400,\"renderers\":[{\"id\":\"717279e2-2b46-42ca-965d-f821e48b2299\",\"type\":\"LinearAxis\"},{\"id\":\"4178c9da-4d95-4a47-9ff7-0b2271971c78\",\"type\":\"Grid\"},{\"id\":\"d0083f79-06dc-41ab-a35e-135c90050a1b\",\"type\":\"LinearAxis\"},{\"id\":\"500defc7-f8b4-4672-9c63-8eb61f5b58d2\",\"type\":\"Grid\"},{\"id\":\"4caf8d11-7281-4bd5-8031-3d57695d4d0b\",\"type\":\"BoxAnnotation\"},{\"id\":\"e7e4b1cc-6822-4098-b0cf-e5b65eb7ea97\",\"type\":\"GlyphRenderer\"},{\"id\":\"fe0c3afb-f659-4c21-ad65-45ba8c076263\",\"type\":\"GlyphRenderer\"}],\"title\":{\"id\":\"a1753bc8-aa56-4ef5-a1d0-9695aae8b0e2\",\"type\":\"Title\"},\"toolbar\":{\"id\":\"7009c9b6-33fe-4c3d-9f71-4668e97e42eb\",\"type\":\"Toolbar\"},\"x_range\":{\"id\":\"acca0a43-d79a-4607-b7df-9743ffed5817\",\"type\":\"DataRange1d\"},\"x_scale\":{\"id\":\"2c7cb9fd-9bfa-4cde-852b-6d592b83acb4\",\"type\":\"LinearScale\"},\"y_range\":{\"id\":\"cccb9286-fca2-4069-866c-35073c380d0e\",\"type\":\"DataRange1d\"},\"y_scale\":{\"id\":\"f257b4f8-6929-4dd4-a5ec-4d6e9280396b\",\"type\":\"LinearScale\"}},\"id\":\"9c75991f-1ab3-46f1-ace0-475905662fe3\",\"subtype\":\"Figure\",\"type\":\"Plot\"},{\"attributes\":{},\"id\":\"5df1c62b-bc87-4cad-8af7-5daa159014da\",\"type\":\"BasicTicker\"},{\"attributes\":{},\"id\":\"921d2c56-e2e1-482c-9f41-2774579c6301\",\"type\":\"SaveTool\"},{\"attributes\":{\"formatter\":{\"id\":\"f5dc840d-ae8f-45e0-ad96-dab39b90637d\",\"type\":\"BasicTickFormatter\"},\"plot\":{\"id\":\"9c75991f-1ab3-46f1-ace0-475905662fe3\",\"subtype\":\"Figure\",\"type\":\"Plot\"},\"ticker\":{\"id\":\"43bd95ce-c65d-4fb5-bd69-a4ec79b0e201\",\"type\":\"BasicTicker\"}},\"id\":\"d0083f79-06dc-41ab-a35e-135c90050a1b\",\"type\":\"LinearAxis\"},{\"attributes\":{\"source\":{\"id\":\"ac7887c6-ef80-4510-8dc7-191801b7a594\",\"type\":\"ColumnDataSource\"}},\"id\":\"6ffd40f2-eb6a-49a3-8013-4e3e0d0763c5\",\"type\":\"CDSView\"},{\"attributes\":{\"fill_alpha\":{\"value\":0.1},\"fill_color\":{\"value\":\"#1f77b4\"},\"line_alpha\":{\"value\":0.1},\"line_color\":{\"value\":\"#1f77b4\"},\"size\":{\"units\":\"screen\",\"value\":8},\"x\":{\"field\":\"x\"},\"y\":{\"field\":\"y\"}},\"id\":\"8a309b46-cb27-45dd-9be8-344f83a31cee\",\"type\":\"Circle\"},{\"attributes\":{\"callback\":null},\"id\":\"cccb9286-fca2-4069-866c-35073c380d0e\",\"type\":\"DataRange1d\"},{\"attributes\":{},\"id\":\"f5dc840d-ae8f-45e0-ad96-dab39b90637d\",\"type\":\"BasicTickFormatter\"},{\"attributes\":{\"data_source\":{\"id\":\"72b7dad1-448f-42f8-9580-7ade34691ff2\",\"type\":\"ColumnDataSource\"},\"glyph\":{\"id\":\"cc4d2c55-34bc-471c-96e7-dcfcf7a1c44a\",\"type\":\"Circle\"},\"hover_glyph\":null,\"muted_glyph\":null,\"nonselection_glyph\":{\"id\":\"8a309b46-cb27-45dd-9be8-344f83a31cee\",\"type\":\"Circle\"},\"selection_glyph\":null,\"view\":{\"id\":\"3e7b5c97-3a7b-4b7f-9096-ccb4fa655c17\",\"type\":\"CDSView\"}},\"id\":\"fe0c3afb-f659-4c21-ad65-45ba8c076263\",\"type\":\"GlyphRenderer\"},{\"attributes\":{\"dimension\":1,\"plot\":{\"id\":\"9c75991f-1ab3-46f1-ace0-475905662fe3\",\"subtype\":\"Figure\",\"type\":\"Plot\"},\"ticker\":{\"id\":\"43bd95ce-c65d-4fb5-bd69-a4ec79b0e201\",\"type\":\"BasicTicker\"}},\"id\":\"500defc7-f8b4-4672-9c63-8eb61f5b58d2\",\"type\":\"Grid\"},{\"attributes\":{},\"id\":\"8b6f5d42-e309-48d6-8494-cd2a2c728dfd\",\"type\":\"HelpTool\"},{\"attributes\":{\"data_source\":{\"id\":\"ac7887c6-ef80-4510-8dc7-191801b7a594\",\"type\":\"ColumnDataSource\"},\"glyph\":{\"id\":\"807d745e-9e3b-4965-8057-467664538827\",\"type\":\"Line\"},\"hover_glyph\":null,\"muted_glyph\":null,\"nonselection_glyph\":{\"id\":\"ac2221f9-2f76-49f1-953c-1f9aea63de35\",\"type\":\"Line\"},\"selection_glyph\":null,\"view\":{\"id\":\"6ffd40f2-eb6a-49a3-8013-4e3e0d0763c5\",\"type\":\"CDSView\"}},\"id\":\"e7e4b1cc-6822-4098-b0cf-e5b65eb7ea97\",\"type\":\"GlyphRenderer\"},{\"attributes\":{},\"id\":\"2c7cb9fd-9bfa-4cde-852b-6d592b83acb4\",\"type\":\"LinearScale\"},{\"attributes\":{\"active_drag\":\"auto\",\"active_inspect\":\"auto\",\"active_scroll\":\"auto\",\"active_tap\":\"auto\",\"tools\":[{\"id\":\"78e36e94-5a33-4de9-8fa6-a45db65b1640\",\"type\":\"PanTool\"},{\"id\":\"1fde6c9d-5c0a-4b9d-9947-eef7be4f8d39\",\"type\":\"WheelZoomTool\"},{\"id\":\"dece114f-e7a7-410a-9a60-9d4785c722fd\",\"type\":\"BoxZoomTool\"},{\"id\":\"921d2c56-e2e1-482c-9f41-2774579c6301\",\"type\":\"SaveTool\"},{\"id\":\"1a66cc30-caf1-4412-a0f9-30271081e7e4\",\"type\":\"ResetTool\"},{\"id\":\"8b6f5d42-e309-48d6-8494-cd2a2c728dfd\",\"type\":\"HelpTool\"}]},\"id\":\"7009c9b6-33fe-4c3d-9f71-4668e97e42eb\",\"type\":\"Toolbar\"},{\"attributes\":{},\"id\":\"1a66cc30-caf1-4412-a0f9-30271081e7e4\",\"type\":\"ResetTool\"},{\"attributes\":{\"formatter\":{\"id\":\"8aaa03b0-6338-420c-93f7-65bc74dc20fc\",\"type\":\"BasicTickFormatter\"},\"plot\":{\"id\":\"9c75991f-1ab3-46f1-ace0-475905662fe3\",\"subtype\":\"Figure\",\"type\":\"Plot\"},\"ticker\":{\"id\":\"5df1c62b-bc87-4cad-8af7-5daa159014da\",\"type\":\"BasicTicker\"}},\"id\":\"717279e2-2b46-42ca-965d-f821e48b2299\",\"type\":\"LinearAxis\"},{\"attributes\":{\"fill_color\":{\"value\":\"white\"},\"line_color\":{\"value\":\"#1f77b4\"},\"size\":{\"units\":\"screen\",\"value\":8},\"x\":{\"field\":\"x\"},\"y\":{\"field\":\"y\"}},\"id\":\"cc4d2c55-34bc-471c-96e7-dcfcf7a1c44a\",\"type\":\"Circle\"},{\"attributes\":{\"callback\":null,\"column_names\":[\"y\",\"x\"],\"data\":{\"x\":[1,2,3,4,5],\"y\":[6,7,8,7,3]}},\"id\":\"72b7dad1-448f-42f8-9580-7ade34691ff2\",\"type\":\"ColumnDataSource\"},{\"attributes\":{},\"id\":\"78e36e94-5a33-4de9-8fa6-a45db65b1640\",\"type\":\"PanTool\"},{\"attributes\":{\"bottom_units\":\"screen\",\"fill_alpha\":{\"value\":0.5},\"fill_color\":{\"value\":\"lightgrey\"},\"left_units\":\"screen\",\"level\":\"overlay\",\"line_alpha\":{\"value\":1.0},\"line_color\":{\"value\":\"black\"},\"line_dash\":[4,4],\"line_width\":{\"value\":2},\"plot\":null,\"render_mode\":\"css\",\"right_units\":\"screen\",\"top_units\":\"screen\"},\"id\":\"4caf8d11-7281-4bd5-8031-3d57695d4d0b\",\"type\":\"BoxAnnotation\"},{\"attributes\":{\"line_color\":\"#1f77b4\",\"line_width\":2,\"x\":{\"field\":\"x\"},\"y\":{\"field\":\"y\"}},\"id\":\"807d745e-9e3b-4965-8057-467664538827\",\"type\":\"Line\"},{\"attributes\":{},\"id\":\"f257b4f8-6929-4dd4-a5ec-4d6e9280396b\",\"type\":\"LinearScale\"},{\"attributes\":{\"callback\":null,\"column_names\":[\"y\",\"x\"],\"data\":{\"x\":[1,2,3,4,5],\"y\":[6,7,8,7,3]}},\"id\":\"ac7887c6-ef80-4510-8dc7-191801b7a594\",\"type\":\"ColumnDataSource\"},{\"attributes\":{},\"id\":\"8aaa03b0-6338-420c-93f7-65bc74dc20fc\",\"type\":\"BasicTickFormatter\"},{\"attributes\":{\"callback\":null},\"id\":\"acca0a43-d79a-4607-b7df-9743ffed5817\",\"type\":\"DataRange1d\"},{\"attributes\":{\"plot\":{\"id\":\"9c75991f-1ab3-46f1-ace0-475905662fe3\",\"subtype\":\"Figure\",\"type\":\"Plot\"},\"ticker\":{\"id\":\"5df1c62b-bc87-4cad-8af7-5daa159014da\",\"type\":\"BasicTicker\"}},\"id\":\"4178c9da-4d95-4a47-9ff7-0b2271971c78\",\"type\":\"Grid\"},{\"attributes\":{},\"id\":\"43bd95ce-c65d-4fb5-bd69-a4ec79b0e201\",\"type\":\"BasicTicker\"},{\"attributes\":{\"overlay\":{\"id\":\"4caf8d11-7281-4bd5-8031-3d57695d4d0b\",\"type\":\"BoxAnnotation\"}},\"id\":\"dece114f-e7a7-410a-9a60-9d4785c722fd\",\"type\":\"BoxZoomTool\"},{\"attributes\":{},\"id\":\"1fde6c9d-5c0a-4b9d-9947-eef7be4f8d39\",\"type\":\"WheelZoomTool\"},{\"attributes\":{\"source\":{\"id\":\"72b7dad1-448f-42f8-9580-7ade34691ff2\",\"type\":\"ColumnDataSource\"}},\"id\":\"3e7b5c97-3a7b-4b7f-9096-ccb4fa655c17\",\"type\":\"CDSView\"},{\"attributes\":{\"plot\":null,\"text\":\"\"},\"id\":\"a1753bc8-aa56-4ef5-a1d0-9695aae8b0e2\",\"type\":\"Title\"},{\"attributes\":{\"line_alpha\":0.1,\"line_color\":\"#1f77b4\",\"line_width\":2,\"x\":{\"field\":\"x\"},\"y\":{\"field\":\"y\"}},\"id\":\"ac2221f9-2f76-49f1-953c-1f9aea63de35\",\"type\":\"Line\"}],\"root_ids\":[\"9c75991f-1ab3-46f1-ace0-475905662fe3\"]},\"title\":\"Bokeh Application\",\"version\":\"0.12.13\"}};\n",
       "  var render_items = [{\"docid\":\"a953d33e-e648-43c3-82d7-69fed2e0dd0d\",\"elementid\":\"d48d2625-6acc-49e9-b4ad-b45116599828\",\"modelid\":\"9c75991f-1ab3-46f1-ace0-475905662fe3\"}];\n",
       "  root.Bokeh.embed.embed_items_notebook(docs_json, render_items);\n",
       "\n",
       "  }\n",
       "  if (root.Bokeh !== undefined) {\n",
       "    embed_document(root);\n",
       "  } else {\n",
       "    var attempts = 0;\n",
       "    var timer = setInterval(function(root) {\n",
       "      if (root.Bokeh !== undefined) {\n",
       "        embed_document(root);\n",
       "        clearInterval(timer);\n",
       "      }\n",
       "      attempts++;\n",
       "      if (attempts > 100) {\n",
       "        console.log(\"Bokeh: ERROR: Unable to run BokehJS code because BokehJS library is missing\")\n",
       "        clearInterval(timer);\n",
       "      }\n",
       "    }, 10, root)\n",
       "  }\n",
       "})(window);"
      ],
      "application/vnd.bokehjs_exec.v0+json": ""
     },
     "metadata": {
      "application/vnd.bokehjs_exec.v0+json": {
       "id": "9c75991f-1ab3-46f1-ace0-475905662fe3"
      }
     },
     "output_type": "display_data"
    }
   ],
   "source": [
    "# set up some data\n",
    "x = [1, 2, 3, 4, 5]\n",
    "y = [6, 7, 8, 7, 3]\n",
    "\n",
    "# create a new plot with figure\n",
    "p = figure(plot_width=400, plot_height=400)\n",
    "\n",
    "# add both a line and circles on the same plot\n",
    "p.line(x, y, line_width=2)\n",
    "p.circle(x, y, fill_color=\"white\", size=8)\n",
    "\n",
    "show(p) # show the results"
   ]
  },
  {
   "cell_type": "markdown",
   "metadata": {},
   "source": [
    "Which other properties are available for the line glyph? Explore the different options, and get familiar with the documentation\n"
   ]
  },
  {
   "cell_type": "code",
   "execution_count": 9,
   "metadata": {
    "collapsed": true
   },
   "outputs": [],
   "source": [
    "# Make a second line plot using different plot properties\n",
    "\n"
   ]
  },
  {
   "cell_type": "markdown",
   "metadata": {},
   "source": [
    "# Images"
   ]
  },
  {
   "cell_type": "markdown",
   "metadata": {},
   "source": [
    "The example below shows how to use the `image_rgba` method to display raw RGBA data. \n",
    "\n",
    "**Note**: This example makes use of the `NumPy` and `matplotlib` library \n",
    "\n",
    "The documentation of the RGBA"
   ]
  },
  {
   "cell_type": "code",
   "execution_count": 10,
   "metadata": {},
   "outputs": [
    {
     "data": {
      "text/html": [
       "\n",
       "<div class=\"bk-root\">\n",
       "    <div class=\"bk-plotdiv\" id=\"ac5207a6-944c-46d6-8c95-9237b9435b6b\"></div>\n",
       "</div>"
      ]
     },
     "metadata": {},
     "output_type": "display_data"
    },
    {
     "data": {
      "application/javascript": [
       "(function(root) {\n",
       "  function embed_document(root) {\n",
       "    \n",
       "  var docs_json = {\"1d7c509d-4008-4f77-bd2c-b44f3b639d8f\":{\"roots\":{\"references\":[{\"attributes\":{\"data_source\":{\"id\":\"12574b47-e93d-45ec-8a3f-d80daa566938\",\"type\":\"ColumnDataSource\"},\"glyph\":{\"id\":\"ac569a0a-639d-4109-af35-9af1ac122791\",\"type\":\"ImageRGBA\"},\"hover_glyph\":null,\"muted_glyph\":null,\"nonselection_glyph\":{\"id\":\"f5071543-6ba7-4b7c-b21b-d06e22c4e2c8\",\"type\":\"ImageRGBA\"},\"selection_glyph\":null,\"view\":{\"id\":\"c197c1c5-8add-4f6f-a6ee-b25887f3b518\",\"type\":\"CDSView\"}},\"id\":\"70141ff4-20c0-44ca-8124-d2394608ee26\",\"type\":\"GlyphRenderer\"},{\"attributes\":{},\"id\":\"74044200-1ac2-41ff-83eb-ca2063783e24\",\"type\":\"BasicTickFormatter\"},{\"attributes\":{\"overlay\":{\"id\":\"c7205010-9cbe-4961-8cc8-e1d4cf8b1184\",\"type\":\"BoxAnnotation\"}},\"id\":\"f52b832b-410e-4b3f-8983-26e6dbc7d1ca\",\"type\":\"BoxZoomTool\"},{\"attributes\":{\"bottom_units\":\"screen\",\"fill_alpha\":{\"value\":0.5},\"fill_color\":{\"value\":\"lightgrey\"},\"left_units\":\"screen\",\"level\":\"overlay\",\"line_alpha\":{\"value\":1.0},\"line_color\":{\"value\":\"black\"},\"line_dash\":[4,4],\"line_width\":{\"value\":2},\"plot\":null,\"render_mode\":\"css\",\"right_units\":\"screen\",\"top_units\":\"screen\"},\"id\":\"c7205010-9cbe-4961-8cc8-e1d4cf8b1184\",\"type\":\"BoxAnnotation\"},{\"attributes\":{\"dimension\":1,\"plot\":{\"id\":\"dee96df5-8bde-4cb8-a9ee-87364e75e1e7\",\"subtype\":\"Figure\",\"type\":\"Plot\"},\"ticker\":{\"id\":\"4d37390e-bb0b-43bf-bc13-867be542cc09\",\"type\":\"BasicTicker\"}},\"id\":\"811972a0-577b-47fd-a42d-747dc8f6dad4\",\"type\":\"Grid\"},{\"attributes\":{},\"id\":\"0991d30a-2ae3-4803-b7ab-ec6b7a28b4bb\",\"type\":\"ResetTool\"},{\"attributes\":{},\"id\":\"b03a93dd-3e9f-4fcd-a10f-8885882eeadb\",\"type\":\"BasicTickFormatter\"},{\"attributes\":{},\"id\":\"5ffd42a5-ff75-414d-a337-1396d75d3458\",\"type\":\"LinearScale\"},{\"attributes\":{},\"id\":\"6d44f797-0577-4704-853f-a59289c44bc0\",\"type\":\"WheelZoomTool\"},{\"attributes\":{\"formatter\":{\"id\":\"74044200-1ac2-41ff-83eb-ca2063783e24\",\"type\":\"BasicTickFormatter\"},\"plot\":{\"id\":\"dee96df5-8bde-4cb8-a9ee-87364e75e1e7\",\"subtype\":\"Figure\",\"type\":\"Plot\"},\"ticker\":{\"id\":\"8c9bfcf4-a883-4d42-9101-44b0c6182e1d\",\"type\":\"BasicTicker\"}},\"id\":\"3b8bcf4a-d6c1-4364-b0df-596d52d1838c\",\"type\":\"LinearAxis\"},{\"attributes\":{\"callback\":null,\"end\":10},\"id\":\"d3e3256b-c0fe-437d-9490-dae5fccbf4e1\",\"type\":\"Range1d\"},{\"attributes\":{\"formatter\":{\"id\":\"b03a93dd-3e9f-4fcd-a10f-8885882eeadb\",\"type\":\"BasicTickFormatter\"},\"plot\":{\"id\":\"dee96df5-8bde-4cb8-a9ee-87364e75e1e7\",\"subtype\":\"Figure\",\"type\":\"Plot\"},\"ticker\":{\"id\":\"4d37390e-bb0b-43bf-bc13-867be542cc09\",\"type\":\"BasicTicker\"}},\"id\":\"d48b5d64-32ce-4a66-9a8e-5648b4b43709\",\"type\":\"LinearAxis\"},{\"attributes\":{},\"id\":\"ce5b6489-67ed-4176-8a73-f60233f3a827\",\"type\":\"HelpTool\"},{\"attributes\":{},\"id\":\"e1a78591-5495-4ee1-88f8-89c8b6fa1c54\",\"type\":\"SaveTool\"},{\"attributes\":{\"below\":[{\"id\":\"3b8bcf4a-d6c1-4364-b0df-596d52d1838c\",\"type\":\"LinearAxis\"}],\"left\":[{\"id\":\"d48b5d64-32ce-4a66-9a8e-5648b4b43709\",\"type\":\"LinearAxis\"}],\"renderers\":[{\"id\":\"3b8bcf4a-d6c1-4364-b0df-596d52d1838c\",\"type\":\"LinearAxis\"},{\"id\":\"0f36d605-5cd6-4c18-beb3-df94a341e69c\",\"type\":\"Grid\"},{\"id\":\"d48b5d64-32ce-4a66-9a8e-5648b4b43709\",\"type\":\"LinearAxis\"},{\"id\":\"811972a0-577b-47fd-a42d-747dc8f6dad4\",\"type\":\"Grid\"},{\"id\":\"c7205010-9cbe-4961-8cc8-e1d4cf8b1184\",\"type\":\"BoxAnnotation\"},{\"id\":\"70141ff4-20c0-44ca-8124-d2394608ee26\",\"type\":\"GlyphRenderer\"}],\"title\":{\"id\":\"ae93e62a-7f7b-4784-ad87-7157b852e9b0\",\"type\":\"Title\"},\"toolbar\":{\"id\":\"d37da538-ef0e-41b9-ae98-2a1c02198cdd\",\"type\":\"Toolbar\"},\"x_range\":{\"id\":\"d3e3256b-c0fe-437d-9490-dae5fccbf4e1\",\"type\":\"Range1d\"},\"x_scale\":{\"id\":\"06da4370-942e-417d-b5f4-59c3275888bf\",\"type\":\"LinearScale\"},\"y_range\":{\"id\":\"843c913a-47a4-48f3-89e3-75cad27fc68a\",\"type\":\"Range1d\"},\"y_scale\":{\"id\":\"5ffd42a5-ff75-414d-a337-1396d75d3458\",\"type\":\"LinearScale\"}},\"id\":\"dee96df5-8bde-4cb8-a9ee-87364e75e1e7\",\"subtype\":\"Figure\",\"type\":\"Plot\"},{\"attributes\":{},\"id\":\"d231f9df-2c92-4334-96db-b10c71f6569e\",\"type\":\"PanTool\"},{\"attributes\":{},\"id\":\"8c9bfcf4-a883-4d42-9101-44b0c6182e1d\",\"type\":\"BasicTicker\"},{\"attributes\":{\"active_drag\":\"auto\",\"active_inspect\":\"auto\",\"active_scroll\":\"auto\",\"active_tap\":\"auto\",\"tools\":[{\"id\":\"d231f9df-2c92-4334-96db-b10c71f6569e\",\"type\":\"PanTool\"},{\"id\":\"6d44f797-0577-4704-853f-a59289c44bc0\",\"type\":\"WheelZoomTool\"},{\"id\":\"f52b832b-410e-4b3f-8983-26e6dbc7d1ca\",\"type\":\"BoxZoomTool\"},{\"id\":\"e1a78591-5495-4ee1-88f8-89c8b6fa1c54\",\"type\":\"SaveTool\"},{\"id\":\"0991d30a-2ae3-4803-b7ab-ec6b7a28b4bb\",\"type\":\"ResetTool\"},{\"id\":\"ce5b6489-67ed-4176-8a73-f60233f3a827\",\"type\":\"HelpTool\"}]},\"id\":\"d37da538-ef0e-41b9-ae98-2a1c02198cdd\",\"type\":\"Toolbar\"},{\"attributes\":{\"dh\":{\"units\":\"data\",\"value\":10},\"dw\":{\"units\":\"data\",\"value\":10},\"image\":{\"field\":\"image\"},\"x\":{\"value\":5},\"y\":{\"value\":5}},\"id\":\"f5071543-6ba7-4b7c-b21b-d06e22c4e2c8\",\"type\":\"ImageRGBA\"},{\"attributes\":{\"callback\":null,\"end\":10},\"id\":\"843c913a-47a4-48f3-89e3-75cad27fc68a\",\"type\":\"Range1d\"},{\"attributes\":{},\"id\":\"4d37390e-bb0b-43bf-bc13-867be542cc09\",\"type\":\"BasicTicker\"},{\"attributes\":{\"plot\":null,\"text\":\"\"},\"id\":\"ae93e62a-7f7b-4784-ad87-7157b852e9b0\",\"type\":\"Title\"},{\"attributes\":{\"plot\":{\"id\":\"dee96df5-8bde-4cb8-a9ee-87364e75e1e7\",\"subtype\":\"Figure\",\"type\":\"Plot\"},\"ticker\":{\"id\":\"8c9bfcf4-a883-4d42-9101-44b0c6182e1d\",\"type\":\"BasicTicker\"}},\"id\":\"0f36d605-5cd6-4c18-beb3-df94a341e69c\",\"type\":\"Grid\"},{\"attributes\":{\"source\":{\"id\":\"12574b47-e93d-45ec-8a3f-d80daa566938\",\"type\":\"ColumnDataSource\"}},\"id\":\"c197c1c5-8add-4f6f-a6ee-b25887f3b518\",\"type\":\"CDSView\"},{\"attributes\":{},\"id\":\"06da4370-942e-417d-b5f4-59c3275888bf\",\"type\":\"LinearScale\"},{\"attributes\":{\"dh\":{\"units\":\"data\",\"value\":10},\"dw\":{\"units\":\"data\",\"value\":10},\"image\":{\"field\":\"image\"},\"x\":{\"value\":5},\"y\":{\"value\":5}},\"id\":\"ac569a0a-639d-4109-af35-9af1ac122791\",\"type\":\"ImageRGBA\"},{\"attributes\":{\"callback\":null,\"column_names\":[\"image\"],\"data\":{\"image\":[{\"__ndarray__\":\"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\",\"dtype\":\"uint8\",\"shape\":[20,20,4]}]}},\"id\":\"12574b47-e93d-45ec-8a3f-d80daa566938\",\"type\":\"ColumnDataSource\"}],\"root_ids\":[\"dee96df5-8bde-4cb8-a9ee-87364e75e1e7\"]},\"title\":\"Bokeh Application\",\"version\":\"0.12.13\"}};\n",
       "  var render_items = [{\"docid\":\"1d7c509d-4008-4f77-bd2c-b44f3b639d8f\",\"elementid\":\"ac5207a6-944c-46d6-8c95-9237b9435b6b\",\"modelid\":\"dee96df5-8bde-4cb8-a9ee-87364e75e1e7\"}];\n",
       "  root.Bokeh.embed.embed_items_notebook(docs_json, render_items);\n",
       "\n",
       "  }\n",
       "  if (root.Bokeh !== undefined) {\n",
       "    embed_document(root);\n",
       "  } else {\n",
       "    var attempts = 0;\n",
       "    var timer = setInterval(function(root) {\n",
       "      if (root.Bokeh !== undefined) {\n",
       "        embed_document(root);\n",
       "        clearInterval(timer);\n",
       "      }\n",
       "      attempts++;\n",
       "      if (attempts > 100) {\n",
       "        console.log(\"Bokeh: ERROR: Unable to run BokehJS code because BokehJS library is missing\")\n",
       "        clearInterval(timer);\n",
       "      }\n",
       "    }, 10, root)\n",
       "  }\n",
       "})(window);"
      ],
      "application/vnd.bokehjs_exec.v0+json": ""
     },
     "metadata": {
      "application/vnd.bokehjs_exec.v0+json": {
       "id": "dee96df5-8bde-4cb8-a9ee-87364e75e1e7"
      }
     },
     "output_type": "display_data"
    }
   ],
   "source": [
    "# set up some data\n",
    "N = 20\n",
    "img = np.random.uniform(0, 1, [N,N])\n",
    "\n",
    "# use numpy and matplotlib to turn the array into a RGBA image\n",
    "img_map = cm.ScalarMappable(cmap='Blues').to_rgba(img, bytes = True)\n",
    "\n",
    "# create a new plot (with a fixed initial range) using figure\n",
    "p = figure(x_range=[0,10], y_range=[0,10])\n",
    "\n",
    "# add an RGBA image renderer\n",
    "p.image_rgba(image=[img_map],  # RGBA image\n",
    "             x=5,  # x origin\n",
    "             y=5,  # y origin\n",
    "             dw=10, # Total image width\n",
    "             dh=10, # Total image width\n",
    "            )\n",
    "\n",
    "show(p) # show the results"
   ]
  },
  {
   "cell_type": "markdown",
   "metadata": {},
   "source": [
    "# Other Kinds of Glyphs\n",
    "\n",
    "Bokeh supports many other kinds of glyphs. You can click on the User Guide links below to see how to create plots with these glyphs using the [`bokeh.plotting`](http://bokeh.pydata.org/en/latest/docs/user_guide/plotting.html) interface.\n",
    "\n",
    "* [Rectangles and Ovals](http://bokeh.pydata.org/en/latest/docs/user_guide/plotting.html#rectangles-and-ovals)\n",
    "* [Segments and Rays](http://bokeh.pydata.org/en/latest/docs/user_guide/plotting.html#segments-and-rays)\n",
    "* [Wedges and Arcs](http://bokeh.pydata.org/en/latest/docs/user_guide/plotting.html#wedges-and-arcs)\n",
    "* [Specialized Curves](http://bokeh.pydata.org/en/latest/docs/user_guide/plotting.html#specialized-curves)\n"
   ]
  },
  {
   "cell_type": "code",
   "execution_count": 11,
   "metadata": {
    "collapsed": true
   },
   "outputs": [],
   "source": [
    "# EXERCISE: create your own plot combining multiple glyphs together. Take the \n",
    "# opportunity to make an amazing visualisation\n",
    "\n"
   ]
  },
  {
   "cell_type": "markdown",
   "metadata": {},
   "source": [
    "# Organising plots \n",
    "\n",
    "In order to better visualisations and create dashboards, it is necesary to create structure in the plotting, creating logic in the visualisation. In general plots are arranged in grids. \n",
    "\n",
    "The plots are nested in the same way in which lists are nested. ADditionally to grids, it is possible to arrange the plots by rows or columns.\n",
    "\n",
    "Additionally, it is possible to nest grids on grids. However, \n",
    "\n",
    "Now, lets have some "
   ]
  },
  {
   "cell_type": "code",
   "execution_count": 12,
   "metadata": {},
   "outputs": [
    {
     "data": {
      "text/html": [
       "\n",
       "<div class=\"bk-root\">\n",
       "    <div class=\"bk-plotdiv\" id=\"11953d46-4dc2-4e3b-b792-5247b3702896\"></div>\n",
       "</div>"
      ]
     },
     "metadata": {},
     "output_type": "display_data"
    },
    {
     "data": {
      "application/javascript": [
       "(function(root) {\n",
       "  function embed_document(root) {\n",
       "    \n",
       "  var docs_json = {\"2c0427c1-b536-4813-98de-22e895aa4f56\":{\"roots\":{\"references\":[{\"attributes\":{\"formatter\":{\"id\":\"404c04ad-f76e-42b7-9df9-5c79ec9215e2\",\"type\":\"BasicTickFormatter\"},\"plot\":{\"id\":\"509d0fcc-370f-4c94-8cb6-32d224c8883e\",\"subtype\":\"Figure\",\"type\":\"Plot\"},\"ticker\":{\"id\":\"41395bcf-5644-4adb-9c15-78c170750d45\",\"type\":\"BasicTicker\"}},\"id\":\"6303ca99-d5f4-4861-a253-759fa04b12ba\",\"type\":\"LinearAxis\"},{\"attributes\":{},\"id\":\"f814d6d7-2a13-4888-8313-9c5c3e2eb186\",\"type\":\"BasicTicker\"},{\"attributes\":{},\"id\":\"404c04ad-f76e-42b7-9df9-5c79ec9215e2\",\"type\":\"BasicTickFormatter\"},{\"attributes\":{\"overlay\":{\"id\":\"a43325ac-eceb-497d-8586-f7ab579ed974\",\"type\":\"BoxAnnotation\"}},\"id\":\"dc553da5-ff9b-4644-b776-71fa553c344b\",\"type\":\"BoxZoomTool\"},{\"attributes\":{},\"id\":\"a662daca-6b49-4c83-a877-697cb603944b\",\"type\":\"SaveTool\"},{\"attributes\":{\"callback\":null},\"id\":\"053c94df-0ffc-4da0-bf28-7a6dde418ac0\",\"type\":\"DataRange1d\"},{\"attributes\":{},\"id\":\"ca7815cd-5cc7-48ba-befa-aa92412a5a68\",\"type\":\"LinearScale\"},{\"attributes\":{\"active_drag\":\"auto\",\"active_inspect\":\"auto\",\"active_scroll\":\"auto\",\"active_tap\":\"auto\",\"tools\":[{\"id\":\"b62de10e-b0e9-4557-a6d2-d123940c2cf8\",\"type\":\"PanTool\"},{\"id\":\"f36d0aeb-1b6d-4a8c-8e13-a47007c1f3de\",\"type\":\"WheelZoomTool\"},{\"id\":\"434fa514-2827-4d5e-b491-82c989bd4f8e\",\"type\":\"BoxZoomTool\"},{\"id\":\"a8573f82-071a-4896-8e0f-5cde28b6a45c\",\"type\":\"SaveTool\"},{\"id\":\"2fe4d3d4-668d-438b-801a-744482749f6b\",\"type\":\"ResetTool\"},{\"id\":\"01a2cc45-ee56-4d8a-9963-b3d845cb57ee\",\"type\":\"HelpTool\"}]},\"id\":\"534453db-4973-4d0f-b0f1-3e618ac9ec66\",\"type\":\"Toolbar\"},{\"attributes\":{\"data_source\":{\"id\":\"ee1b97a7-e6df-4c87-b7e6-7ea2b8630ca2\",\"type\":\"ColumnDataSource\"},\"glyph\":{\"id\":\"327255da-8876-4215-a948-c30948e2b6c0\",\"type\":\"Asterisk\"},\"hover_glyph\":null,\"muted_glyph\":null,\"nonselection_glyph\":{\"id\":\"0c84d4c0-5dd4-4b58-a0c9-5d7cb43e73ca\",\"type\":\"Asterisk\"},\"selection_glyph\":null,\"view\":{\"id\":\"7e3f3dd2-241a-4682-9921-5ebffd2d3acd\",\"type\":\"CDSView\"}},\"id\":\"2ccb9c2e-fd4b-434c-ba12-a0f45d1b7cf5\",\"type\":\"GlyphRenderer\"},{\"attributes\":{\"line_color\":\"#1f77b4\",\"x\":{\"field\":\"x\"},\"y\":{\"field\":\"y\"}},\"id\":\"dd741494-68d7-4a1b-94f5-da2afc1ce9ba\",\"type\":\"Line\"},{\"attributes\":{},\"id\":\"94e89d8c-7353-4b51-80c8-fe761c9e8c54\",\"type\":\"LinearScale\"},{\"attributes\":{},\"id\":\"beb510fc-ee89-4d2f-8177-1f939297e47a\",\"type\":\"PanTool\"},{\"attributes\":{},\"id\":\"ec4bd284-b477-416a-9700-7014548b3fe0\",\"type\":\"BasicTickFormatter\"},{\"attributes\":{\"fill_color\":{\"value\":\"red\"},\"line_color\":{\"value\":\"red\"},\"size\":{\"units\":\"screen\",\"value\":10},\"x\":{\"field\":\"x\"},\"y\":{\"field\":\"y\"}},\"id\":\"327255da-8876-4215-a948-c30948e2b6c0\",\"type\":\"Asterisk\"},{\"attributes\":{\"formatter\":{\"id\":\"b4d548d4-758d-4716-b7ab-b6d406cc2579\",\"type\":\"BasicTickFormatter\"},\"plot\":{\"id\":\"67ff201d-c690-480e-8e48-7022970b3cca\",\"subtype\":\"Figure\",\"type\":\"Plot\"},\"ticker\":{\"id\":\"549d88aa-68b7-4252-9196-d0b74fd5d78c\",\"type\":\"BasicTicker\"}},\"id\":\"0342850f-bca9-4885-9522-c982122606c2\",\"type\":\"LinearAxis\"},{\"attributes\":{\"callback\":null,\"column_names\":[\"y\",\"x\"],\"data\":{\"x\":[2,3,4],\"y\":[6,7,8]}},\"id\":\"916545bf-eaae-468d-95dc-eb07dc0f02f1\",\"type\":\"ColumnDataSource\"},{\"attributes\":{},\"id\":\"eff6ebf5-d8d7-45d2-9db3-bcf9d277275f\",\"type\":\"LinearScale\"},{\"attributes\":{},\"id\":\"3e3ea8d0-e7df-4674-b417-e2b07cce6fcc\",\"type\":\"BasicTicker\"},{\"attributes\":{\"children\":[{\"id\":\"4f72c4b3-e32c-439f-9ae2-0c71efa8cea7\",\"type\":\"Row\"},{\"id\":\"ba7d002f-5fc2-477c-86cc-5ee680168e6f\",\"type\":\"Row\"}]},\"id\":\"7c65e9f1-c295-44a3-82fa-b76c6b001ed3\",\"type\":\"Column\"},{\"attributes\":{\"overlay\":{\"id\":\"29d3b93f-c967-4f2c-95e2-46ec7e3f8dbb\",\"type\":\"BoxAnnotation\"}},\"id\":\"434fa514-2827-4d5e-b491-82c989bd4f8e\",\"type\":\"BoxZoomTool\"},{\"attributes\":{\"callback\":null,\"column_names\":[\"x\",\"y\"],\"data\":{\"x\":[1.5,2.5,3.5],\"y\":[4.5,5.5,6.5]}},\"id\":\"ee1b97a7-e6df-4c87-b7e6-7ea2b8630ca2\",\"type\":\"ColumnDataSource\"},{\"attributes\":{\"formatter\":{\"id\":\"e19878aa-81ed-42a5-a62e-f7aa873ecf5e\",\"type\":\"BasicTickFormatter\"},\"plot\":{\"id\":\"30b9d165-2548-4f7c-8df1-fde37d2fe01c\",\"subtype\":\"Figure\",\"type\":\"Plot\"},\"ticker\":{\"id\":\"85e7a178-1412-41e9-ac6e-e1ef6e898abd\",\"type\":\"BasicTicker\"}},\"id\":\"ed28aa5d-de48-463c-9f0e-7dc7597dd9a3\",\"type\":\"LinearAxis\"},{\"attributes\":{},\"id\":\"01a2cc45-ee56-4d8a-9963-b3d845cb57ee\",\"type\":\"HelpTool\"},{\"attributes\":{\"plot\":null,\"text\":\"\"},\"id\":\"0a32407f-4a58-401a-82a9-737a206f299d\",\"type\":\"Title\"},{\"attributes\":{\"below\":[{\"id\":\"6303ca99-d5f4-4861-a253-759fa04b12ba\",\"type\":\"LinearAxis\"}],\"left\":[{\"id\":\"186e214f-47aa-4c9b-af18-33ac637c0d08\",\"type\":\"LinearAxis\"}],\"plot_height\":250,\"plot_width\":250,\"renderers\":[{\"id\":\"6303ca99-d5f4-4861-a253-759fa04b12ba\",\"type\":\"LinearAxis\"},{\"id\":\"41dd7340-fdc3-4a26-85c4-4a5b70e9e0e0\",\"type\":\"Grid\"},{\"id\":\"186e214f-47aa-4c9b-af18-33ac637c0d08\",\"type\":\"LinearAxis\"},{\"id\":\"d31033e4-b2ef-48df-b4f1-c4abf0d455c7\",\"type\":\"Grid\"},{\"id\":\"a43325ac-eceb-497d-8586-f7ab579ed974\",\"type\":\"BoxAnnotation\"},{\"id\":\"f5b03077-ed9a-42f9-871d-59c3b3d24878\",\"type\":\"GlyphRenderer\"}],\"title\":{\"id\":\"0a32407f-4a58-401a-82a9-737a206f299d\",\"type\":\"Title\"},\"toolbar\":{\"id\":\"f407a5b0-191d-4d60-a505-7b17f7c9f619\",\"type\":\"Toolbar\"},\"toolbar_location\":null,\"x_range\":{\"id\":\"755929a6-d2cd-4f70-9ae7-740217bf96b6\",\"type\":\"DataRange1d\"},\"x_scale\":{\"id\":\"eff6ebf5-d8d7-45d2-9db3-bcf9d277275f\",\"type\":\"LinearScale\"},\"y_range\":{\"id\":\"fdd0c096-79ac-440b-a667-d20360a7f994\",\"type\":\"DataRange1d\"},\"y_scale\":{\"id\":\"94e89d8c-7353-4b51-80c8-fe761c9e8c54\",\"type\":\"LinearScale\"}},\"id\":\"509d0fcc-370f-4c94-8cb6-32d224c8883e\",\"subtype\":\"Figure\",\"type\":\"Plot\"},{\"attributes\":{\"fill_color\":{\"value\":\"#1f77b4\"},\"line_color\":{\"value\":\"#1f77b4\"},\"size\":{\"units\":\"screen\",\"value\":10},\"x\":{\"field\":\"x\"},\"y\":{\"field\":\"y\"}},\"id\":\"dbeb01b9-5117-4ed0-bbd5-14f818036169\",\"type\":\"Circle\"},{\"attributes\":{\"dimension\":1,\"plot\":{\"id\":\"30b9d165-2548-4f7c-8df1-fde37d2fe01c\",\"subtype\":\"Figure\",\"type\":\"Plot\"},\"ticker\":{\"id\":\"85e7a178-1412-41e9-ac6e-e1ef6e898abd\",\"type\":\"BasicTicker\"}},\"id\":\"1fd7c797-2e05-4327-a788-326e6d19fd79\",\"type\":\"Grid\"},{\"attributes\":{\"data_source\":{\"id\":\"d6c56eed-83ec-4bec-85f6-cc6976bf3122\",\"type\":\"ColumnDataSource\"},\"glyph\":{\"id\":\"dbeb01b9-5117-4ed0-bbd5-14f818036169\",\"type\":\"Circle\"},\"hover_glyph\":null,\"muted_glyph\":null,\"nonselection_glyph\":{\"id\":\"498e9730-f230-4403-b1ac-f42a5849d4e3\",\"type\":\"Circle\"},\"selection_glyph\":null,\"view\":{\"id\":\"b37079e9-e64d-439c-8443-2b610aeb43d3\",\"type\":\"CDSView\"}},\"id\":\"195a135c-0a1a-4114-b438-218f52229ea3\",\"type\":\"GlyphRenderer\"},{\"attributes\":{},\"id\":\"da5e94c4-46fc-4ac7-8431-864362887ecc\",\"type\":\"BasicTickFormatter\"},{\"attributes\":{},\"id\":\"f36b141f-087a-484e-8e7c-3d3c412fecac\",\"type\":\"BasicTicker\"},{\"attributes\":{},\"id\":\"6ecb3448-60cf-4419-83ea-7af0b1ba743e\",\"type\":\"LinearScale\"},{\"attributes\":{},\"id\":\"1fcd1c30-e770-4e2c-b9f3-d715c877f0c2\",\"type\":\"LinearScale\"},{\"attributes\":{\"children\":[{\"id\":\"67ff201d-c690-480e-8e48-7022970b3cca\",\"subtype\":\"Figure\",\"type\":\"Plot\"},{\"id\":\"30b9d165-2548-4f7c-8df1-fde37d2fe01c\",\"subtype\":\"Figure\",\"type\":\"Plot\"}]},\"id\":\"4f72c4b3-e32c-439f-9ae2-0c71efa8cea7\",\"type\":\"Row\"},{\"attributes\":{\"dimension\":1,\"plot\":{\"id\":\"509d0fcc-370f-4c94-8cb6-32d224c8883e\",\"subtype\":\"Figure\",\"type\":\"Plot\"},\"ticker\":{\"id\":\"3e3ea8d0-e7df-4674-b417-e2b07cce6fcc\",\"type\":\"BasicTicker\"}},\"id\":\"d31033e4-b2ef-48df-b4f1-c4abf0d455c7\",\"type\":\"Grid\"},{\"attributes\":{},\"id\":\"549d88aa-68b7-4252-9196-d0b74fd5d78c\",\"type\":\"BasicTicker\"},{\"attributes\":{\"below\":[{\"id\":\"299dda0b-8480-4659-9ac7-4f589c6dde32\",\"type\":\"LinearAxis\"}],\"left\":[{\"id\":\"ed28aa5d-de48-463c-9f0e-7dc7597dd9a3\",\"type\":\"LinearAxis\"}],\"plot_height\":250,\"plot_width\":250,\"renderers\":[{\"id\":\"299dda0b-8480-4659-9ac7-4f589c6dde32\",\"type\":\"LinearAxis\"},{\"id\":\"e4bdaba6-ec1c-464b-9d76-b31b98a96cb9\",\"type\":\"Grid\"},{\"id\":\"ed28aa5d-de48-463c-9f0e-7dc7597dd9a3\",\"type\":\"LinearAxis\"},{\"id\":\"1fd7c797-2e05-4327-a788-326e6d19fd79\",\"type\":\"Grid\"},{\"id\":\"29d3b93f-c967-4f2c-95e2-46ec7e3f8dbb\",\"type\":\"BoxAnnotation\"},{\"id\":\"2ccb9c2e-fd4b-434c-ba12-a0f45d1b7cf5\",\"type\":\"GlyphRenderer\"}],\"title\":{\"id\":\"3a5879bb-4079-44f9-bb83-036b251ec552\",\"type\":\"Title\"},\"toolbar\":{\"id\":\"534453db-4973-4d0f-b0f1-3e618ac9ec66\",\"type\":\"Toolbar\"},\"toolbar_location\":null,\"x_range\":{\"id\":\"098ecef9-941b-4b60-9270-98fcd9851458\",\"type\":\"DataRange1d\"},\"x_scale\":{\"id\":\"ca7815cd-5cc7-48ba-befa-aa92412a5a68\",\"type\":\"LinearScale\"},\"y_range\":{\"id\":\"22e459b5-60e2-43ba-970e-ca25184395ae\",\"type\":\"DataRange1d\"},\"y_scale\":{\"id\":\"18db6a80-05bc-4290-82f4-d319e79c719a\",\"type\":\"LinearScale\"}},\"id\":\"30b9d165-2548-4f7c-8df1-fde37d2fe01c\",\"subtype\":\"Figure\",\"type\":\"Plot\"},{\"attributes\":{\"line_alpha\":0.1,\"line_color\":\"#1f77b4\",\"x\":{\"field\":\"x\"},\"y\":{\"field\":\"y\"}},\"id\":\"0bb4cdc3-e0fa-40a7-abec-8bafa8b1a229\",\"type\":\"Line\"},{\"attributes\":{\"toolbar\":{\"id\":\"d7e68a23-a09d-4d74-a14c-c87afd272c88\",\"type\":\"ProxyToolbar\"},\"toolbar_location\":\"above\"},\"id\":\"7ec7ab82-f0d5-4f86-bab3-6bd6285bc134\",\"type\":\"ToolbarBox\"},{\"attributes\":{},\"id\":\"41395bcf-5644-4adb-9c15-78c170750d45\",\"type\":\"BasicTicker\"},{\"attributes\":{\"source\":{\"id\":\"d6c56eed-83ec-4bec-85f6-cc6976bf3122\",\"type\":\"ColumnDataSource\"}},\"id\":\"b37079e9-e64d-439c-8443-2b610aeb43d3\",\"type\":\"CDSView\"},{\"attributes\":{\"callback\":null},\"id\":\"755929a6-d2cd-4f70-9ae7-740217bf96b6\",\"type\":\"DataRange1d\"},{\"attributes\":{},\"id\":\"bef60827-9aa4-4b39-ad38-7a8718a1c805\",\"type\":\"WheelZoomTool\"},{\"attributes\":{\"plot\":{\"id\":\"509d0fcc-370f-4c94-8cb6-32d224c8883e\",\"subtype\":\"Figure\",\"type\":\"Plot\"},\"ticker\":{\"id\":\"41395bcf-5644-4adb-9c15-78c170750d45\",\"type\":\"BasicTicker\"}},\"id\":\"41dd7340-fdc3-4a26-85c4-4a5b70e9e0e0\",\"type\":\"Grid\"},{\"attributes\":{\"formatter\":{\"id\":\"ec4bd284-b477-416a-9700-7014548b3fe0\",\"type\":\"BasicTickFormatter\"},\"plot\":{\"id\":\"30b9d165-2548-4f7c-8df1-fde37d2fe01c\",\"subtype\":\"Figure\",\"type\":\"Plot\"},\"ticker\":{\"id\":\"f814d6d7-2a13-4888-8313-9c5c3e2eb186\",\"type\":\"BasicTicker\"}},\"id\":\"299dda0b-8480-4659-9ac7-4f589c6dde32\",\"type\":\"LinearAxis\"},{\"attributes\":{},\"id\":\"ce8af9b1-6aae-4c49-a605-8fe75ee78955\",\"type\":\"ResetTool\"},{\"attributes\":{},\"id\":\"b62de10e-b0e9-4557-a6d2-d123940c2cf8\",\"type\":\"PanTool\"},{\"attributes\":{},\"id\":\"178c91fc-b22e-4f59-9fa0-307983d621d0\",\"type\":\"PanTool\"},{\"attributes\":{},\"id\":\"e9251313-5686-4154-9b62-c768f8f6c253\",\"type\":\"HelpTool\"},{\"attributes\":{\"data_source\":{\"id\":\"916545bf-eaae-468d-95dc-eb07dc0f02f1\",\"type\":\"ColumnDataSource\"},\"glyph\":{\"id\":\"dd741494-68d7-4a1b-94f5-da2afc1ce9ba\",\"type\":\"Line\"},\"hover_glyph\":null,\"muted_glyph\":null,\"nonselection_glyph\":{\"id\":\"0bb4cdc3-e0fa-40a7-abec-8bafa8b1a229\",\"type\":\"Line\"},\"selection_glyph\":null,\"view\":{\"id\":\"2370af34-6294-4128-8657-b0e9e31b8eea\",\"type\":\"CDSView\"}},\"id\":\"f5b03077-ed9a-42f9-871d-59c3b3d24878\",\"type\":\"GlyphRenderer\"},{\"attributes\":{\"callback\":null},\"id\":\"fdd0c096-79ac-440b-a667-d20360a7f994\",\"type\":\"DataRange1d\"},{\"attributes\":{\"active_drag\":\"auto\",\"active_inspect\":\"auto\",\"active_scroll\":\"auto\",\"active_tap\":\"auto\",\"tools\":[{\"id\":\"beb510fc-ee89-4d2f-8177-1f939297e47a\",\"type\":\"PanTool\"},{\"id\":\"4d85a4aa-d14e-476f-b6d0-77142f4f73ee\",\"type\":\"WheelZoomTool\"},{\"id\":\"5d3a60f7-3e73-4da4-a83c-342522d09be8\",\"type\":\"BoxZoomTool\"},{\"id\":\"a662daca-6b49-4c83-a877-697cb603944b\",\"type\":\"SaveTool\"},{\"id\":\"412c5219-ed09-40d4-9a98-d3000160b10a\",\"type\":\"ResetTool\"},{\"id\":\"e9251313-5686-4154-9b62-c768f8f6c253\",\"type\":\"HelpTool\"}]},\"id\":\"0240949f-c698-4255-b514-21e8ea589f08\",\"type\":\"Toolbar\"},{\"attributes\":{},\"id\":\"4313eba0-e39f-40d0-81a7-1bd258923b95\",\"type\":\"BasicTickFormatter\"},{\"attributes\":{\"formatter\":{\"id\":\"da5e94c4-46fc-4ac7-8431-864362887ecc\",\"type\":\"BasicTickFormatter\"},\"plot\":{\"id\":\"67ff201d-c690-480e-8e48-7022970b3cca\",\"subtype\":\"Figure\",\"type\":\"Plot\"},\"ticker\":{\"id\":\"f36b141f-087a-484e-8e7c-3d3c412fecac\",\"type\":\"BasicTicker\"}},\"id\":\"edbfd0d1-4fb7-4151-bf87-dd42164e291a\",\"type\":\"LinearAxis\"},{\"attributes\":{},\"id\":\"18db6a80-05bc-4290-82f4-d319e79c719a\",\"type\":\"LinearScale\"},{\"attributes\":{\"children\":[{\"id\":\"509d0fcc-370f-4c94-8cb6-32d224c8883e\",\"subtype\":\"Figure\",\"type\":\"Plot\"}]},\"id\":\"ba7d002f-5fc2-477c-86cc-5ee680168e6f\",\"type\":\"Row\"},{\"attributes\":{},\"id\":\"2fe4d3d4-668d-438b-801a-744482749f6b\",\"type\":\"ResetTool\"},{\"attributes\":{},\"id\":\"a8573f82-071a-4896-8e0f-5cde28b6a45c\",\"type\":\"SaveTool\"},{\"attributes\":{},\"id\":\"85e7a178-1412-41e9-ac6e-e1ef6e898abd\",\"type\":\"BasicTicker\"},{\"attributes\":{\"plot\":{\"id\":\"30b9d165-2548-4f7c-8df1-fde37d2fe01c\",\"subtype\":\"Figure\",\"type\":\"Plot\"},\"ticker\":{\"id\":\"f814d6d7-2a13-4888-8313-9c5c3e2eb186\",\"type\":\"BasicTicker\"}},\"id\":\"e4bdaba6-ec1c-464b-9d76-b31b98a96cb9\",\"type\":\"Grid\"},{\"attributes\":{\"callback\":null},\"id\":\"cd8655b5-d797-4145-b669-1ee6419c4a20\",\"type\":\"DataRange1d\"},{\"attributes\":{\"children\":[{\"id\":\"7ec7ab82-f0d5-4f86-bab3-6bd6285bc134\",\"type\":\"ToolbarBox\"},{\"id\":\"7c65e9f1-c295-44a3-82fa-b76c6b001ed3\",\"type\":\"Column\"}]},\"id\":\"e3bfcf9b-f432-4343-8d7d-c81e1e902598\",\"type\":\"Column\"},{\"attributes\":{\"source\":{\"id\":\"916545bf-eaae-468d-95dc-eb07dc0f02f1\",\"type\":\"ColumnDataSource\"}},\"id\":\"2370af34-6294-4128-8657-b0e9e31b8eea\",\"type\":\"CDSView\"},{\"attributes\":{\"bottom_units\":\"screen\",\"fill_alpha\":{\"value\":0.5},\"fill_color\":{\"value\":\"lightgrey\"},\"left_units\":\"screen\",\"level\":\"overlay\",\"line_alpha\":{\"value\":1.0},\"line_color\":{\"value\":\"black\"},\"line_dash\":[4,4],\"line_width\":{\"value\":2},\"plot\":null,\"render_mode\":\"css\",\"right_units\":\"screen\",\"top_units\":\"screen\"},\"id\":\"b9b68c10-c4ce-487d-9d85-99a329856d34\",\"type\":\"BoxAnnotation\"},{\"attributes\":{\"dimension\":1,\"plot\":{\"id\":\"67ff201d-c690-480e-8e48-7022970b3cca\",\"subtype\":\"Figure\",\"type\":\"Plot\"},\"ticker\":{\"id\":\"f36b141f-087a-484e-8e7c-3d3c412fecac\",\"type\":\"BasicTicker\"}},\"id\":\"83f783d0-a294-44cf-be9e-f815f167f71a\",\"type\":\"Grid\"},{\"attributes\":{},\"id\":\"b4d548d4-758d-4716-b7ab-b6d406cc2579\",\"type\":\"BasicTickFormatter\"},{\"attributes\":{},\"id\":\"e19878aa-81ed-42a5-a62e-f7aa873ecf5e\",\"type\":\"BasicTickFormatter\"},{\"attributes\":{\"plot\":{\"id\":\"67ff201d-c690-480e-8e48-7022970b3cca\",\"subtype\":\"Figure\",\"type\":\"Plot\"},\"ticker\":{\"id\":\"549d88aa-68b7-4252-9196-d0b74fd5d78c\",\"type\":\"BasicTicker\"}},\"id\":\"1ca195ec-7b9a-4091-aa46-b961fcc12f80\",\"type\":\"Grid\"},{\"attributes\":{\"source\":{\"id\":\"ee1b97a7-e6df-4c87-b7e6-7ea2b8630ca2\",\"type\":\"ColumnDataSource\"}},\"id\":\"7e3f3dd2-241a-4682-9921-5ebffd2d3acd\",\"type\":\"CDSView\"},{\"attributes\":{\"fill_alpha\":{\"value\":0.1},\"fill_color\":{\"value\":\"#1f77b4\"},\"line_alpha\":{\"value\":0.1},\"line_color\":{\"value\":\"#1f77b4\"},\"size\":{\"units\":\"screen\",\"value\":10},\"x\":{\"field\":\"x\"},\"y\":{\"field\":\"y\"}},\"id\":\"0c84d4c0-5dd4-4b58-a0c9-5d7cb43e73ca\",\"type\":\"Asterisk\"},{\"attributes\":{\"below\":[{\"id\":\"0342850f-bca9-4885-9522-c982122606c2\",\"type\":\"LinearAxis\"}],\"left\":[{\"id\":\"edbfd0d1-4fb7-4151-bf87-dd42164e291a\",\"type\":\"LinearAxis\"}],\"plot_height\":250,\"plot_width\":250,\"renderers\":[{\"id\":\"0342850f-bca9-4885-9522-c982122606c2\",\"type\":\"LinearAxis\"},{\"id\":\"1ca195ec-7b9a-4091-aa46-b961fcc12f80\",\"type\":\"Grid\"},{\"id\":\"edbfd0d1-4fb7-4151-bf87-dd42164e291a\",\"type\":\"LinearAxis\"},{\"id\":\"83f783d0-a294-44cf-be9e-f815f167f71a\",\"type\":\"Grid\"},{\"id\":\"b9b68c10-c4ce-487d-9d85-99a329856d34\",\"type\":\"BoxAnnotation\"},{\"id\":\"195a135c-0a1a-4114-b438-218f52229ea3\",\"type\":\"GlyphRenderer\"}],\"title\":{\"id\":\"60895c0f-369c-458e-bd81-e99c08eed424\",\"type\":\"Title\"},\"toolbar\":{\"id\":\"0240949f-c698-4255-b514-21e8ea589f08\",\"type\":\"Toolbar\"},\"toolbar_location\":null,\"x_range\":{\"id\":\"cd8655b5-d797-4145-b669-1ee6419c4a20\",\"type\":\"DataRange1d\"},\"x_scale\":{\"id\":\"1fcd1c30-e770-4e2c-b9f3-d715c877f0c2\",\"type\":\"LinearScale\"},\"y_range\":{\"id\":\"053c94df-0ffc-4da0-bf28-7a6dde418ac0\",\"type\":\"DataRange1d\"},\"y_scale\":{\"id\":\"6ecb3448-60cf-4419-83ea-7af0b1ba743e\",\"type\":\"LinearScale\"}},\"id\":\"67ff201d-c690-480e-8e48-7022970b3cca\",\"subtype\":\"Figure\",\"type\":\"Plot\"},{\"attributes\":{},\"id\":\"190651fc-6d1f-4be0-b844-166165b4dff9\",\"type\":\"SaveTool\"},{\"attributes\":{\"plot\":null,\"text\":\"\"},\"id\":\"3a5879bb-4079-44f9-bb83-036b251ec552\",\"type\":\"Title\"},{\"attributes\":{\"active_drag\":\"auto\",\"active_inspect\":\"auto\",\"active_scroll\":\"auto\",\"active_tap\":\"auto\",\"tools\":[{\"id\":\"178c91fc-b22e-4f59-9fa0-307983d621d0\",\"type\":\"PanTool\"},{\"id\":\"bef60827-9aa4-4b39-ad38-7a8718a1c805\",\"type\":\"WheelZoomTool\"},{\"id\":\"dc553da5-ff9b-4644-b776-71fa553c344b\",\"type\":\"BoxZoomTool\"},{\"id\":\"190651fc-6d1f-4be0-b844-166165b4dff9\",\"type\":\"SaveTool\"},{\"id\":\"ce8af9b1-6aae-4c49-a605-8fe75ee78955\",\"type\":\"ResetTool\"},{\"id\":\"6b9be3d1-e021-43aa-9205-c7e5f3926d2c\",\"type\":\"HelpTool\"}]},\"id\":\"f407a5b0-191d-4d60-a505-7b17f7c9f619\",\"type\":\"Toolbar\"},{\"attributes\":{},\"id\":\"412c5219-ed09-40d4-9a98-d3000160b10a\",\"type\":\"ResetTool\"},{\"attributes\":{\"callback\":null},\"id\":\"22e459b5-60e2-43ba-970e-ca25184395ae\",\"type\":\"DataRange1d\"},{\"attributes\":{\"bottom_units\":\"screen\",\"fill_alpha\":{\"value\":0.5},\"fill_color\":{\"value\":\"lightgrey\"},\"left_units\":\"screen\",\"level\":\"overlay\",\"line_alpha\":{\"value\":1.0},\"line_color\":{\"value\":\"black\"},\"line_dash\":[4,4],\"line_width\":{\"value\":2},\"plot\":null,\"render_mode\":\"css\",\"right_units\":\"screen\",\"top_units\":\"screen\"},\"id\":\"29d3b93f-c967-4f2c-95e2-46ec7e3f8dbb\",\"type\":\"BoxAnnotation\"},{\"attributes\":{},\"id\":\"6b9be3d1-e021-43aa-9205-c7e5f3926d2c\",\"type\":\"HelpTool\"},{\"attributes\":{\"tools\":[{\"id\":\"beb510fc-ee89-4d2f-8177-1f939297e47a\",\"type\":\"PanTool\"},{\"id\":\"4d85a4aa-d14e-476f-b6d0-77142f4f73ee\",\"type\":\"WheelZoomTool\"},{\"id\":\"5d3a60f7-3e73-4da4-a83c-342522d09be8\",\"type\":\"BoxZoomTool\"},{\"id\":\"a662daca-6b49-4c83-a877-697cb603944b\",\"type\":\"SaveTool\"},{\"id\":\"412c5219-ed09-40d4-9a98-d3000160b10a\",\"type\":\"ResetTool\"},{\"id\":\"e9251313-5686-4154-9b62-c768f8f6c253\",\"type\":\"HelpTool\"},{\"id\":\"b62de10e-b0e9-4557-a6d2-d123940c2cf8\",\"type\":\"PanTool\"},{\"id\":\"f36d0aeb-1b6d-4a8c-8e13-a47007c1f3de\",\"type\":\"WheelZoomTool\"},{\"id\":\"434fa514-2827-4d5e-b491-82c989bd4f8e\",\"type\":\"BoxZoomTool\"},{\"id\":\"a8573f82-071a-4896-8e0f-5cde28b6a45c\",\"type\":\"SaveTool\"},{\"id\":\"2fe4d3d4-668d-438b-801a-744482749f6b\",\"type\":\"ResetTool\"},{\"id\":\"01a2cc45-ee56-4d8a-9963-b3d845cb57ee\",\"type\":\"HelpTool\"},{\"id\":\"178c91fc-b22e-4f59-9fa0-307983d621d0\",\"type\":\"PanTool\"},{\"id\":\"bef60827-9aa4-4b39-ad38-7a8718a1c805\",\"type\":\"WheelZoomTool\"},{\"id\":\"dc553da5-ff9b-4644-b776-71fa553c344b\",\"type\":\"BoxZoomTool\"},{\"id\":\"190651fc-6d1f-4be0-b844-166165b4dff9\",\"type\":\"SaveTool\"},{\"id\":\"ce8af9b1-6aae-4c49-a605-8fe75ee78955\",\"type\":\"ResetTool\"},{\"id\":\"6b9be3d1-e021-43aa-9205-c7e5f3926d2c\",\"type\":\"HelpTool\"}]},\"id\":\"d7e68a23-a09d-4d74-a14c-c87afd272c88\",\"type\":\"ProxyToolbar\"},{\"attributes\":{},\"id\":\"f36d0aeb-1b6d-4a8c-8e13-a47007c1f3de\",\"type\":\"WheelZoomTool\"},{\"attributes\":{\"callback\":null},\"id\":\"098ecef9-941b-4b60-9270-98fcd9851458\",\"type\":\"DataRange1d\"},{\"attributes\":{\"plot\":null,\"text\":\"\"},\"id\":\"60895c0f-369c-458e-bd81-e99c08eed424\",\"type\":\"Title\"},{\"attributes\":{\"callback\":null,\"column_names\":[\"y\",\"x\"],\"data\":{\"x\":[1,2,3],\"y\":[4,5,6]}},\"id\":\"d6c56eed-83ec-4bec-85f6-cc6976bf3122\",\"type\":\"ColumnDataSource\"},{\"attributes\":{\"bottom_units\":\"screen\",\"fill_alpha\":{\"value\":0.5},\"fill_color\":{\"value\":\"lightgrey\"},\"left_units\":\"screen\",\"level\":\"overlay\",\"line_alpha\":{\"value\":1.0},\"line_color\":{\"value\":\"black\"},\"line_dash\":[4,4],\"line_width\":{\"value\":2},\"plot\":null,\"render_mode\":\"css\",\"right_units\":\"screen\",\"top_units\":\"screen\"},\"id\":\"a43325ac-eceb-497d-8586-f7ab579ed974\",\"type\":\"BoxAnnotation\"},{\"attributes\":{\"fill_alpha\":{\"value\":0.1},\"fill_color\":{\"value\":\"#1f77b4\"},\"line_alpha\":{\"value\":0.1},\"line_color\":{\"value\":\"#1f77b4\"},\"size\":{\"units\":\"screen\",\"value\":10},\"x\":{\"field\":\"x\"},\"y\":{\"field\":\"y\"}},\"id\":\"498e9730-f230-4403-b1ac-f42a5849d4e3\",\"type\":\"Circle\"},{\"attributes\":{\"overlay\":{\"id\":\"b9b68c10-c4ce-487d-9d85-99a329856d34\",\"type\":\"BoxAnnotation\"}},\"id\":\"5d3a60f7-3e73-4da4-a83c-342522d09be8\",\"type\":\"BoxZoomTool\"},{\"attributes\":{\"formatter\":{\"id\":\"4313eba0-e39f-40d0-81a7-1bd258923b95\",\"type\":\"BasicTickFormatter\"},\"plot\":{\"id\":\"509d0fcc-370f-4c94-8cb6-32d224c8883e\",\"subtype\":\"Figure\",\"type\":\"Plot\"},\"ticker\":{\"id\":\"3e3ea8d0-e7df-4674-b417-e2b07cce6fcc\",\"type\":\"BasicTicker\"}},\"id\":\"186e214f-47aa-4c9b-af18-33ac637c0d08\",\"type\":\"LinearAxis\"},{\"attributes\":{},\"id\":\"4d85a4aa-d14e-476f-b6d0-77142f4f73ee\",\"type\":\"WheelZoomTool\"}],\"root_ids\":[\"e3bfcf9b-f432-4343-8d7d-c81e1e902598\"]},\"title\":\"Bokeh Application\",\"version\":\"0.12.13\"}};\n",
       "  var render_items = [{\"docid\":\"2c0427c1-b536-4813-98de-22e895aa4f56\",\"elementid\":\"11953d46-4dc2-4e3b-b792-5247b3702896\",\"modelid\":\"e3bfcf9b-f432-4343-8d7d-c81e1e902598\"}];\n",
       "  root.Bokeh.embed.embed_items_notebook(docs_json, render_items);\n",
       "\n",
       "  }\n",
       "  if (root.Bokeh !== undefined) {\n",
       "    embed_document(root);\n",
       "  } else {\n",
       "    var attempts = 0;\n",
       "    var timer = setInterval(function(root) {\n",
       "      if (root.Bokeh !== undefined) {\n",
       "        embed_document(root);\n",
       "        clearInterval(timer);\n",
       "      }\n",
       "      attempts++;\n",
       "      if (attempts > 100) {\n",
       "        console.log(\"Bokeh: ERROR: Unable to run BokehJS code because BokehJS library is missing\")\n",
       "        clearInterval(timer);\n",
       "      }\n",
       "    }, 10, root)\n",
       "  }\n",
       "})(window);"
      ],
      "application/vnd.bokehjs_exec.v0+json": ""
     },
     "metadata": {
      "application/vnd.bokehjs_exec.v0+json": {
       "id": "e3bfcf9b-f432-4343-8d7d-c81e1e902598"
      }
     },
     "output_type": "display_data"
    }
   ],
   "source": [
    "# Crete the first figure\n",
    "q = figure(plot_width=250, plot_height=250)\n",
    "q.circle([1,2,3], [4,5,6], size=10)\n",
    "\n",
    "# Create a second image\n",
    "n = figure(plot_width=250, plot_height=250)\n",
    "n.line([2,3,4],[6,7,8])\n",
    "\n",
    "# Create a third figure\n",
    "l = figure(plot_width=250, plot_height=250)\n",
    "l.asterisk([1.5,2.5,3.5], [4.5,5.5,6.5], size=10, color='red')\n",
    "\n",
    "# Put the figures together in the same grid\n",
    "p = gridplot([[q, l], [n,]])\n",
    "\n",
    "show(p)"
   ]
  },
  {
   "cell_type": "code",
   "execution_count": 19,
   "metadata": {},
   "outputs": [
    {
     "data": {
      "text/html": [
       "\n",
       "<div class=\"bk-root\">\n",
       "    <div class=\"bk-plotdiv\" id=\"1a7593b3-2a12-44ed-aa52-402d8a6135fc\"></div>\n",
       "</div>"
      ]
     },
     "metadata": {},
     "output_type": "display_data"
    },
    {
     "data": {
      "application/javascript": [
       "(function(root) {\n",
       "  function embed_document(root) {\n",
       "    \n",
       "  var docs_json = {\"879eda72-8c9b-4b19-b214-2347b116ce58\":{\"roots\":{\"references\":[{\"attributes\":{},\"id\":\"790cdce0-6570-4f6c-ad0b-c7f9bf27bb72\",\"type\":\"BasicTicker\"},{\"attributes\":{\"bottom_units\":\"screen\",\"fill_alpha\":{\"value\":0.5},\"fill_color\":{\"value\":\"lightgrey\"},\"left_units\":\"screen\",\"level\":\"overlay\",\"line_alpha\":{\"value\":1.0},\"line_color\":{\"value\":\"black\"},\"line_dash\":[4,4],\"line_width\":{\"value\":2},\"plot\":null,\"render_mode\":\"css\",\"right_units\":\"screen\",\"top_units\":\"screen\"},\"id\":\"5db802a9-ec5f-4562-b3cf-d269d6d35f98\",\"type\":\"BoxAnnotation\"},{\"attributes\":{},\"id\":\"5ac55436-b303-4852-95f2-776d4e160785\",\"type\":\"LinearScale\"},{\"attributes\":{\"callback\":null,\"column_names\":[\"y\",\"x\"],\"data\":{\"x\":[2,3,4],\"y\":[6,7,8]}},\"id\":\"e1cc1587-fc00-4a3f-9123-868b2187b491\",\"type\":\"ColumnDataSource\"},{\"attributes\":{},\"id\":\"1afc791a-fa85-4436-8bee-0193fae371a5\",\"type\":\"BasicTicker\"},{\"attributes\":{\"children\":[{\"id\":\"2a647c8c-520b-4ad5-95d9-ce7936dd4cf9\",\"type\":\"Column\"}]},\"id\":\"8688689a-636c-49c2-826d-4d6b0d4d5cab\",\"type\":\"Row\"},{\"attributes\":{\"data_source\":{\"id\":\"e1cc1587-fc00-4a3f-9123-868b2187b491\",\"type\":\"ColumnDataSource\"},\"glyph\":{\"id\":\"89fcf369-f657-4bb5-a3b7-da7a1f7acdc3\",\"type\":\"Line\"},\"hover_glyph\":null,\"muted_glyph\":null,\"nonselection_glyph\":{\"id\":\"66568c62-f890-47a1-9d55-dbed9ecfa859\",\"type\":\"Line\"},\"selection_glyph\":null,\"view\":{\"id\":\"cf06f06e-1fcd-4511-a384-55c6043d6b10\",\"type\":\"CDSView\"}},\"id\":\"5ac23e82-3311-40f2-89f1-ca55d672b4bc\",\"type\":\"GlyphRenderer\"},{\"attributes\":{},\"id\":\"52054b9d-288e-448d-87d0-f84ca8cd6266\",\"type\":\"HelpTool\"},{\"attributes\":{},\"id\":\"c1b8b63b-33c3-480b-957a-c03b81ac6365\",\"type\":\"PanTool\"},{\"attributes\":{\"formatter\":{\"id\":\"0fb806a6-4607-4658-b272-5316d8ab971a\",\"type\":\"BasicTickFormatter\"},\"plot\":{\"id\":\"a67901e4-b756-4550-974c-66ad4d9be5e0\",\"subtype\":\"Figure\",\"type\":\"Plot\"},\"ticker\":{\"id\":\"1afc791a-fa85-4436-8bee-0193fae371a5\",\"type\":\"BasicTicker\"}},\"id\":\"2dc75efb-74d6-40c2-9f56-840936040b6a\",\"type\":\"LinearAxis\"},{\"attributes\":{\"callback\":null},\"id\":\"2dc527ed-5b6f-42ac-99e8-cac9c0ee0ef9\",\"type\":\"DataRange1d\"},{\"attributes\":{\"below\":[{\"id\":\"3942f118-e2ed-47bf-a699-aaf8f716c17e\",\"type\":\"LinearAxis\"}],\"left\":[{\"id\":\"1702cb7c-ab8d-446b-8b2e-671f5df33349\",\"type\":\"LinearAxis\"}],\"plot_height\":250,\"plot_width\":250,\"renderers\":[{\"id\":\"3942f118-e2ed-47bf-a699-aaf8f716c17e\",\"type\":\"LinearAxis\"},{\"id\":\"6bb2cc6f-8a4c-44e2-a6da-7b572dedede4\",\"type\":\"Grid\"},{\"id\":\"1702cb7c-ab8d-446b-8b2e-671f5df33349\",\"type\":\"LinearAxis\"},{\"id\":\"77e61228-c9f1-4164-a049-e3ff59b9bd3d\",\"type\":\"Grid\"},{\"id\":\"eaff5d3d-f10b-4b13-8955-d4471e19b226\",\"type\":\"BoxAnnotation\"},{\"id\":\"cf99eca2-15dd-4521-a6de-4e8187a3bd76\",\"type\":\"GlyphRenderer\"}],\"title\":{\"id\":\"a367a012-6d74-42ef-843f-56e7a6697b17\",\"type\":\"Title\"},\"toolbar\":{\"id\":\"4cda7c27-8339-4d43-8beb-223cdd5c5610\",\"type\":\"Toolbar\"},\"toolbar_location\":null,\"x_range\":{\"id\":\"2dc527ed-5b6f-42ac-99e8-cac9c0ee0ef9\",\"type\":\"DataRange1d\"},\"x_scale\":{\"id\":\"5d2c08fc-c1b4-44dd-915b-468ac315397d\",\"type\":\"LinearScale\"},\"y_range\":{\"id\":\"16de66b1-85d0-42fa-a4c9-d4605186e92d\",\"type\":\"DataRange1d\"},\"y_scale\":{\"id\":\"5ac55436-b303-4852-95f2-776d4e160785\",\"type\":\"LinearScale\"}},\"id\":\"54cd9087-f008-4381-a265-e5467ca8d744\",\"subtype\":\"Figure\",\"type\":\"Plot\"},{\"attributes\":{},\"id\":\"7f3b7bd6-92a4-4d5e-8ba9-2963233a1305\",\"type\":\"BasicTickFormatter\"},{\"attributes\":{\"source\":{\"id\":\"75793fe2-1c53-4fa7-95ac-05738a27ca17\",\"type\":\"ColumnDataSource\"}},\"id\":\"8c54d98a-6cf7-408c-b19f-4f8b53c461a1\",\"type\":\"CDSView\"},{\"attributes\":{},\"id\":\"2e9f0d08-0d13-42d3-9118-cdb7f67889d6\",\"type\":\"HelpTool\"},{\"attributes\":{},\"id\":\"45532f9a-24db-4bdd-bcce-8fd0aede5e6c\",\"type\":\"WheelZoomTool\"},{\"attributes\":{\"overlay\":{\"id\":\"eaff5d3d-f10b-4b13-8955-d4471e19b226\",\"type\":\"BoxAnnotation\"}},\"id\":\"7a4a6203-ac20-4de7-88fe-598bad19b6ba\",\"type\":\"BoxZoomTool\"},{\"attributes\":{\"callback\":null},\"id\":\"16de66b1-85d0-42fa-a4c9-d4605186e92d\",\"type\":\"DataRange1d\"},{\"attributes\":{\"bottom_units\":\"screen\",\"fill_alpha\":{\"value\":0.5},\"fill_color\":{\"value\":\"lightgrey\"},\"left_units\":\"screen\",\"level\":\"overlay\",\"line_alpha\":{\"value\":1.0},\"line_color\":{\"value\":\"black\"},\"line_dash\":[4,4],\"line_width\":{\"value\":2},\"plot\":null,\"render_mode\":\"css\",\"right_units\":\"screen\",\"top_units\":\"screen\"},\"id\":\"65a82112-f3a5-443c-9cab-440c9e63ba8c\",\"type\":\"BoxAnnotation\"},{\"attributes\":{\"children\":[{\"id\":\"5200ad7b-39f2-4be2-8e03-26deb828f5cc\",\"type\":\"ToolbarBox\"},{\"id\":\"f656ff99-1ccf-4281-a4e7-8d911c13b736\",\"type\":\"Column\"}]},\"id\":\"2a647c8c-520b-4ad5-95d9-ce7936dd4cf9\",\"type\":\"Column\"},{\"attributes\":{\"plot\":null,\"text\":\"\"},\"id\":\"64b07117-f23f-4120-96ae-ff492d4dc34b\",\"type\":\"Title\"},{\"attributes\":{\"source\":{\"id\":\"d6645858-bb11-435a-ba78-e0150be23f57\",\"type\":\"ColumnDataSource\"}},\"id\":\"cc2eb7b4-f4d0-41b5-a858-5c4742b06c95\",\"type\":\"CDSView\"},{\"attributes\":{},\"id\":\"8a7968c3-ebe0-4185-90e3-5f5e9b4775a4\",\"type\":\"WheelZoomTool\"},{\"attributes\":{\"dimension\":1,\"plot\":{\"id\":\"56023934-e0eb-490a-92cd-8b5e569a1793\",\"subtype\":\"Figure\",\"type\":\"Plot\"},\"ticker\":{\"id\":\"b957b49d-ee9d-45aa-bc6e-37a78c8b5c14\",\"type\":\"BasicTicker\"}},\"id\":\"9ef85c1d-283e-4f04-be60-221457196dba\",\"type\":\"Grid\"},{\"attributes\":{\"source\":{\"id\":\"e1cc1587-fc00-4a3f-9123-868b2187b491\",\"type\":\"ColumnDataSource\"}},\"id\":\"cf06f06e-1fcd-4511-a384-55c6043d6b10\",\"type\":\"CDSView\"},{\"attributes\":{\"tools\":[{\"id\":\"3222e189-0b29-41bb-a977-c68ba5b355ed\",\"type\":\"PanTool\"},{\"id\":\"45532f9a-24db-4bdd-bcce-8fd0aede5e6c\",\"type\":\"WheelZoomTool\"},{\"id\":\"50e54820-49da-4399-b29f-971db308cc10\",\"type\":\"BoxZoomTool\"},{\"id\":\"a888717d-69b9-4316-bacb-60f007128cf8\",\"type\":\"SaveTool\"},{\"id\":\"81d91fdf-3e59-4d45-b561-099f75745214\",\"type\":\"ResetTool\"},{\"id\":\"7681fc16-921f-4c40-807d-de7a0cc678bc\",\"type\":\"HelpTool\"},{\"id\":\"8f5807e0-6ba3-41ef-923f-0961b5f001ab\",\"type\":\"PanTool\"},{\"id\":\"8a7968c3-ebe0-4185-90e3-5f5e9b4775a4\",\"type\":\"WheelZoomTool\"},{\"id\":\"34832388-fc00-47c3-a229-74fcd5d4a73e\",\"type\":\"BoxZoomTool\"},{\"id\":\"41baa554-5df6-46d3-bc87-03419673d95c\",\"type\":\"SaveTool\"},{\"id\":\"ce983775-04e9-4387-a472-416ec9297743\",\"type\":\"ResetTool\"},{\"id\":\"52054b9d-288e-448d-87d0-f84ca8cd6266\",\"type\":\"HelpTool\"}]},\"id\":\"f182cfcd-38e7-47d6-ae0d-28445cf08438\",\"type\":\"ProxyToolbar\"},{\"attributes\":{},\"id\":\"ce983775-04e9-4387-a472-416ec9297743\",\"type\":\"ResetTool\"},{\"attributes\":{},\"id\":\"d9c1d85d-4e96-4195-b291-7ca1967f6134\",\"type\":\"LinearScale\"},{\"attributes\":{\"dimension\":1,\"plot\":{\"id\":\"a67901e4-b756-4550-974c-66ad4d9be5e0\",\"subtype\":\"Figure\",\"type\":\"Plot\"},\"ticker\":{\"id\":\"9747e4cb-8450-4332-baed-d8112daee3e4\",\"type\":\"BasicTicker\"}},\"id\":\"945ebaca-6a12-4bab-bd8d-571e6c58e082\",\"type\":\"Grid\"},{\"attributes\":{\"plot\":null,\"text\":\"\"},\"id\":\"7b9e3430-77cd-4789-a922-2cb084997442\",\"type\":\"Title\"},{\"attributes\":{\"active_drag\":\"auto\",\"active_inspect\":\"auto\",\"active_scroll\":\"auto\",\"active_tap\":\"auto\",\"tools\":[{\"id\":\"8f5807e0-6ba3-41ef-923f-0961b5f001ab\",\"type\":\"PanTool\"},{\"id\":\"8a7968c3-ebe0-4185-90e3-5f5e9b4775a4\",\"type\":\"WheelZoomTool\"},{\"id\":\"34832388-fc00-47c3-a229-74fcd5d4a73e\",\"type\":\"BoxZoomTool\"},{\"id\":\"41baa554-5df6-46d3-bc87-03419673d95c\",\"type\":\"SaveTool\"},{\"id\":\"ce983775-04e9-4387-a472-416ec9297743\",\"type\":\"ResetTool\"},{\"id\":\"52054b9d-288e-448d-87d0-f84ca8cd6266\",\"type\":\"HelpTool\"}]},\"id\":\"d11bef9a-dd5a-47ef-92a3-bfcd5b5fc6de\",\"type\":\"Toolbar\"},{\"attributes\":{\"fill_color\":{\"value\":\"red\"},\"line_color\":{\"value\":\"red\"},\"size\":{\"units\":\"screen\",\"value\":10},\"x\":{\"field\":\"x\"},\"y\":{\"field\":\"y\"}},\"id\":\"a2439901-3ab3-4fdd-943f-ac095dc73714\",\"type\":\"Asterisk\"},{\"attributes\":{},\"id\":\"ce213677-e602-4d0c-baf2-ef64d45110d4\",\"type\":\"ResetTool\"},{\"attributes\":{},\"id\":\"8f5807e0-6ba3-41ef-923f-0961b5f001ab\",\"type\":\"PanTool\"},{\"attributes\":{\"data_source\":{\"id\":\"d6645858-bb11-435a-ba78-e0150be23f57\",\"type\":\"ColumnDataSource\"},\"glyph\":{\"id\":\"a2439901-3ab3-4fdd-943f-ac095dc73714\",\"type\":\"Asterisk\"},\"hover_glyph\":null,\"muted_glyph\":null,\"nonselection_glyph\":{\"id\":\"3a980621-08c2-4ab6-828d-0c089bf051d4\",\"type\":\"Asterisk\"},\"selection_glyph\":null,\"view\":{\"id\":\"cc2eb7b4-f4d0-41b5-a858-5c4742b06c95\",\"type\":\"CDSView\"}},\"id\":\"cf99eca2-15dd-4521-a6de-4e8187a3bd76\",\"type\":\"GlyphRenderer\"},{\"attributes\":{\"fill_color\":{\"value\":\"#1f77b4\"},\"line_color\":{\"value\":\"#1f77b4\"},\"size\":{\"units\":\"screen\",\"value\":10},\"x\":{\"field\":\"x\"},\"y\":{\"field\":\"y\"}},\"id\":\"b34d5985-bc25-4654-aaff-744e1abd78bd\",\"type\":\"Circle\"},{\"attributes\":{},\"id\":\"7ef5d2b9-bacc-438f-a3ec-b2d81c1543b6\",\"type\":\"LinearScale\"},{\"attributes\":{\"callback\":null,\"column_names\":[\"x\",\"y\"],\"data\":{\"x\":[1.5,2.5,3.5],\"y\":[4.5,5.5,6.5]}},\"id\":\"d6645858-bb11-435a-ba78-e0150be23f57\",\"type\":\"ColumnDataSource\"},{\"attributes\":{\"plot\":{\"id\":\"56023934-e0eb-490a-92cd-8b5e569a1793\",\"subtype\":\"Figure\",\"type\":\"Plot\"},\"ticker\":{\"id\":\"42142ccc-4c61-4a98-92b6-7c30437dc531\",\"type\":\"BasicTicker\"}},\"id\":\"968e6998-5bd0-4f11-b4a8-c478c288151e\",\"type\":\"Grid\"},{\"attributes\":{\"callback\":null,\"column_names\":[\"y\",\"x\"],\"data\":{\"x\":[1,2,3],\"y\":[4,5,6]}},\"id\":\"75793fe2-1c53-4fa7-95ac-05738a27ca17\",\"type\":\"ColumnDataSource\"},{\"attributes\":{},\"id\":\"b957b49d-ee9d-45aa-bc6e-37a78c8b5c14\",\"type\":\"BasicTicker\"},{\"attributes\":{\"children\":[{\"id\":\"00b584c7-160d-4de8-9a20-5a44fbcee01d\",\"type\":\"ToolbarBox\"},{\"id\":\"bcabd8e4-9c8c-4487-bf13-3bd640971b15\",\"type\":\"Column\"}]},\"id\":\"cb3f3412-4b69-4f57-9fe8-4281232b2889\",\"type\":\"Column\"},{\"attributes\":{\"formatter\":{\"id\":\"60614072-ae7a-4cd9-b0d9-8473e3583a0a\",\"type\":\"BasicTickFormatter\"},\"plot\":{\"id\":\"56023934-e0eb-490a-92cd-8b5e569a1793\",\"subtype\":\"Figure\",\"type\":\"Plot\"},\"ticker\":{\"id\":\"b957b49d-ee9d-45aa-bc6e-37a78c8b5c14\",\"type\":\"BasicTicker\"}},\"id\":\"51071fe7-ca68-47ab-a199-577452af7e1b\",\"type\":\"LinearAxis\"},{\"attributes\":{\"fill_alpha\":{\"value\":0.1},\"fill_color\":{\"value\":\"#1f77b4\"},\"line_alpha\":{\"value\":0.1},\"line_color\":{\"value\":\"#1f77b4\"},\"size\":{\"units\":\"screen\",\"value\":10},\"x\":{\"field\":\"x\"},\"y\":{\"field\":\"y\"}},\"id\":\"3a980621-08c2-4ab6-828d-0c089bf051d4\",\"type\":\"Asterisk\"},{\"attributes\":{\"plot\":{\"id\":\"a67901e4-b756-4550-974c-66ad4d9be5e0\",\"subtype\":\"Figure\",\"type\":\"Plot\"},\"ticker\":{\"id\":\"1afc791a-fa85-4436-8bee-0193fae371a5\",\"type\":\"BasicTicker\"}},\"id\":\"41a10ec5-abd2-436f-9d3e-713c80247059\",\"type\":\"Grid\"},{\"attributes\":{},\"id\":\"60614072-ae7a-4cd9-b0d9-8473e3583a0a\",\"type\":\"BasicTickFormatter\"},{\"attributes\":{\"callback\":null},\"id\":\"3c09ecb6-50a9-4bbf-95c4-4fe3c97e82cc\",\"type\":\"DataRange1d\"},{\"attributes\":{},\"id\":\"5d2c08fc-c1b4-44dd-915b-468ac315397d\",\"type\":\"LinearScale\"},{\"attributes\":{\"children\":[{\"id\":\"8688689a-636c-49c2-826d-4d6b0d4d5cab\",\"type\":\"Row\"},{\"id\":\"99a3d6b5-7199-4d05-af22-aba801f96627\",\"type\":\"Row\"}]},\"id\":\"bcabd8e4-9c8c-4487-bf13-3bd640971b15\",\"type\":\"Column\"},{\"attributes\":{\"dimension\":1,\"plot\":{\"id\":\"54cd9087-f008-4381-a265-e5467ca8d744\",\"subtype\":\"Figure\",\"type\":\"Plot\"},\"ticker\":{\"id\":\"790cdce0-6570-4f6c-ad0b-c7f9bf27bb72\",\"type\":\"BasicTicker\"}},\"id\":\"77e61228-c9f1-4164-a049-e3ff59b9bd3d\",\"type\":\"Grid\"},{\"attributes\":{},\"id\":\"0fb806a6-4607-4658-b272-5316d8ab971a\",\"type\":\"BasicTickFormatter\"},{\"attributes\":{},\"id\":\"a888717d-69b9-4316-bacb-60f007128cf8\",\"type\":\"SaveTool\"},{\"attributes\":{},\"id\":\"8edf23b8-1194-4b91-8137-96178892c639\",\"type\":\"LinearScale\"},{\"attributes\":{},\"id\":\"3222e189-0b29-41bb-a977-c68ba5b355ed\",\"type\":\"PanTool\"},{\"attributes\":{\"fill_alpha\":{\"value\":0.1},\"fill_color\":{\"value\":\"#1f77b4\"},\"line_alpha\":{\"value\":0.1},\"line_color\":{\"value\":\"#1f77b4\"},\"size\":{\"units\":\"screen\",\"value\":10},\"x\":{\"field\":\"x\"},\"y\":{\"field\":\"y\"}},\"id\":\"99bc0eaf-1241-4e55-b3e2-c01f8c3a94a6\",\"type\":\"Circle\"},{\"attributes\":{\"formatter\":{\"id\":\"69b93b7c-2508-4053-a31a-ba59bc6e6b84\",\"type\":\"BasicTickFormatter\"},\"plot\":{\"id\":\"54cd9087-f008-4381-a265-e5467ca8d744\",\"subtype\":\"Figure\",\"type\":\"Plot\"},\"ticker\":{\"id\":\"208f8cba-7664-4bc0-b7eb-9dc8f39e139e\",\"type\":\"BasicTicker\"}},\"id\":\"3942f118-e2ed-47bf-a699-aaf8f716c17e\",\"type\":\"LinearAxis\"},{\"attributes\":{},\"id\":\"69b93b7c-2508-4053-a31a-ba59bc6e6b84\",\"type\":\"BasicTickFormatter\"},{\"attributes\":{\"callback\":null},\"id\":\"934a923c-8cbe-4fcf-a7eb-9b9fcf1bcc77\",\"type\":\"DataRange1d\"},{\"attributes\":{},\"id\":\"7681fc16-921f-4c40-807d-de7a0cc678bc\",\"type\":\"HelpTool\"},{\"attributes\":{\"callback\":null},\"id\":\"42221ab3-95d8-4a83-bedd-20ca3ce4ebd3\",\"type\":\"DataRange1d\"},{\"attributes\":{\"line_alpha\":0.1,\"line_color\":\"#1f77b4\",\"x\":{\"field\":\"x\"},\"y\":{\"field\":\"y\"}},\"id\":\"66568c62-f890-47a1-9d55-dbed9ecfa859\",\"type\":\"Line\"},{\"attributes\":{},\"id\":\"41baa554-5df6-46d3-bc87-03419673d95c\",\"type\":\"SaveTool\"},{\"attributes\":{\"overlay\":{\"id\":\"5db802a9-ec5f-4562-b3cf-d269d6d35f98\",\"type\":\"BoxAnnotation\"}},\"id\":\"34832388-fc00-47c3-a229-74fcd5d4a73e\",\"type\":\"BoxZoomTool\"},{\"attributes\":{\"callback\":null},\"id\":\"9851104c-23b9-475f-bcbe-841386685e72\",\"type\":\"DataRange1d\"},{\"attributes\":{},\"id\":\"90c592ef-ab1e-4e05-ad54-413f1f08c84b\",\"type\":\"LinearScale\"},{\"attributes\":{\"tools\":[{\"id\":\"3222e189-0b29-41bb-a977-c68ba5b355ed\",\"type\":\"PanTool\"},{\"id\":\"45532f9a-24db-4bdd-bcce-8fd0aede5e6c\",\"type\":\"WheelZoomTool\"},{\"id\":\"50e54820-49da-4399-b29f-971db308cc10\",\"type\":\"BoxZoomTool\"},{\"id\":\"a888717d-69b9-4316-bacb-60f007128cf8\",\"type\":\"SaveTool\"},{\"id\":\"81d91fdf-3e59-4d45-b561-099f75745214\",\"type\":\"ResetTool\"},{\"id\":\"7681fc16-921f-4c40-807d-de7a0cc678bc\",\"type\":\"HelpTool\"},{\"id\":\"8f5807e0-6ba3-41ef-923f-0961b5f001ab\",\"type\":\"PanTool\"},{\"id\":\"8a7968c3-ebe0-4185-90e3-5f5e9b4775a4\",\"type\":\"WheelZoomTool\"},{\"id\":\"34832388-fc00-47c3-a229-74fcd5d4a73e\",\"type\":\"BoxZoomTool\"},{\"id\":\"41baa554-5df6-46d3-bc87-03419673d95c\",\"type\":\"SaveTool\"},{\"id\":\"ce983775-04e9-4387-a472-416ec9297743\",\"type\":\"ResetTool\"},{\"id\":\"52054b9d-288e-448d-87d0-f84ca8cd6266\",\"type\":\"HelpTool\"},{\"id\":\"c1b8b63b-33c3-480b-957a-c03b81ac6365\",\"type\":\"PanTool\"},{\"id\":\"f8540f73-98e8-40b5-ad65-650fa95dec27\",\"type\":\"WheelZoomTool\"},{\"id\":\"7a4a6203-ac20-4de7-88fe-598bad19b6ba\",\"type\":\"BoxZoomTool\"},{\"id\":\"3793a850-ea03-4fba-9720-b829cccc3a3e\",\"type\":\"SaveTool\"},{\"id\":\"ce213677-e602-4d0c-baf2-ef64d45110d4\",\"type\":\"ResetTool\"},{\"id\":\"2e9f0d08-0d13-42d3-9118-cdb7f67889d6\",\"type\":\"HelpTool\"}]},\"id\":\"a27129ef-5837-4acf-9922-7caff974d818\",\"type\":\"ProxyToolbar\"},{\"attributes\":{},\"id\":\"42142ccc-4c61-4a98-92b6-7c30437dc531\",\"type\":\"BasicTicker\"},{\"attributes\":{},\"id\":\"3793a850-ea03-4fba-9720-b829cccc3a3e\",\"type\":\"SaveTool\"},{\"attributes\":{\"plot\":null,\"text\":\"\"},\"id\":\"a367a012-6d74-42ef-843f-56e7a6697b17\",\"type\":\"Title\"},{\"attributes\":{\"active_drag\":\"auto\",\"active_inspect\":\"auto\",\"active_scroll\":\"auto\",\"active_tap\":\"auto\",\"tools\":[{\"id\":\"3222e189-0b29-41bb-a977-c68ba5b355ed\",\"type\":\"PanTool\"},{\"id\":\"45532f9a-24db-4bdd-bcce-8fd0aede5e6c\",\"type\":\"WheelZoomTool\"},{\"id\":\"50e54820-49da-4399-b29f-971db308cc10\",\"type\":\"BoxZoomTool\"},{\"id\":\"a888717d-69b9-4316-bacb-60f007128cf8\",\"type\":\"SaveTool\"},{\"id\":\"81d91fdf-3e59-4d45-b561-099f75745214\",\"type\":\"ResetTool\"},{\"id\":\"7681fc16-921f-4c40-807d-de7a0cc678bc\",\"type\":\"HelpTool\"}]},\"id\":\"4e7cb5c7-5359-4645-98cb-ea78165109b3\",\"type\":\"Toolbar\"},{\"attributes\":{\"toolbar\":{\"id\":\"a27129ef-5837-4acf-9922-7caff974d818\",\"type\":\"ProxyToolbar\"},\"toolbar_location\":\"above\"},\"id\":\"00b584c7-160d-4de8-9a20-5a44fbcee01d\",\"type\":\"ToolbarBox\"},{\"attributes\":{\"formatter\":{\"id\":\"6a14e010-1f97-4e8f-877e-9c9f6e3f8e09\",\"type\":\"BasicTickFormatter\"},\"plot\":{\"id\":\"a67901e4-b756-4550-974c-66ad4d9be5e0\",\"subtype\":\"Figure\",\"type\":\"Plot\"},\"ticker\":{\"id\":\"9747e4cb-8450-4332-baed-d8112daee3e4\",\"type\":\"BasicTicker\"}},\"id\":\"690035b8-c041-4cbc-b92f-061ab3210fcf\",\"type\":\"LinearAxis\"},{\"attributes\":{},\"id\":\"9747e4cb-8450-4332-baed-d8112daee3e4\",\"type\":\"BasicTicker\"},{\"attributes\":{\"data_source\":{\"id\":\"75793fe2-1c53-4fa7-95ac-05738a27ca17\",\"type\":\"ColumnDataSource\"},\"glyph\":{\"id\":\"b34d5985-bc25-4654-aaff-744e1abd78bd\",\"type\":\"Circle\"},\"hover_glyph\":null,\"muted_glyph\":null,\"nonselection_glyph\":{\"id\":\"99bc0eaf-1241-4e55-b3e2-c01f8c3a94a6\",\"type\":\"Circle\"},\"selection_glyph\":null,\"view\":{\"id\":\"8c54d98a-6cf7-408c-b19f-4f8b53c461a1\",\"type\":\"CDSView\"}},\"id\":\"4f999f05-c52e-44b2-ba01-24715dd1fe25\",\"type\":\"GlyphRenderer\"},{\"attributes\":{\"toolbar\":{\"id\":\"f182cfcd-38e7-47d6-ae0d-28445cf08438\",\"type\":\"ProxyToolbar\"},\"toolbar_location\":\"above\"},\"id\":\"5200ad7b-39f2-4be2-8e03-26deb828f5cc\",\"type\":\"ToolbarBox\"},{\"attributes\":{},\"id\":\"81d91fdf-3e59-4d45-b561-099f75745214\",\"type\":\"ResetTool\"},{\"attributes\":{\"overlay\":{\"id\":\"65a82112-f3a5-443c-9cab-440c9e63ba8c\",\"type\":\"BoxAnnotation\"}},\"id\":\"50e54820-49da-4399-b29f-971db308cc10\",\"type\":\"BoxZoomTool\"},{\"attributes\":{\"children\":[{\"id\":\"ce804b85-273c-4591-b740-3e1420920e49\",\"type\":\"Row\"}]},\"id\":\"f656ff99-1ccf-4281-a4e7-8d911c13b736\",\"type\":\"Column\"},{\"attributes\":{\"plot\":{\"id\":\"54cd9087-f008-4381-a265-e5467ca8d744\",\"subtype\":\"Figure\",\"type\":\"Plot\"},\"ticker\":{\"id\":\"208f8cba-7664-4bc0-b7eb-9dc8f39e139e\",\"type\":\"BasicTicker\"}},\"id\":\"6bb2cc6f-8a4c-44e2-a6da-7b572dedede4\",\"type\":\"Grid\"},{\"attributes\":{},\"id\":\"208f8cba-7664-4bc0-b7eb-9dc8f39e139e\",\"type\":\"BasicTicker\"},{\"attributes\":{\"children\":[{\"id\":\"54cd9087-f008-4381-a265-e5467ca8d744\",\"subtype\":\"Figure\",\"type\":\"Plot\"}]},\"id\":\"99a3d6b5-7199-4d05-af22-aba801f96627\",\"type\":\"Row\"},{\"attributes\":{\"children\":[{\"id\":\"56023934-e0eb-490a-92cd-8b5e569a1793\",\"subtype\":\"Figure\",\"type\":\"Plot\"},{\"id\":\"a67901e4-b756-4550-974c-66ad4d9be5e0\",\"subtype\":\"Figure\",\"type\":\"Plot\"}]},\"id\":\"ce804b85-273c-4591-b740-3e1420920e49\",\"type\":\"Row\"},{\"attributes\":{\"formatter\":{\"id\":\"6e2d5c94-d18c-4e34-9078-16df201dad71\",\"type\":\"BasicTickFormatter\"},\"plot\":{\"id\":\"56023934-e0eb-490a-92cd-8b5e569a1793\",\"subtype\":\"Figure\",\"type\":\"Plot\"},\"ticker\":{\"id\":\"42142ccc-4c61-4a98-92b6-7c30437dc531\",\"type\":\"BasicTicker\"}},\"id\":\"e05d4d33-d848-43cf-bf02-8f739e07a835\",\"type\":\"LinearAxis\"},{\"attributes\":{\"bottom_units\":\"screen\",\"fill_alpha\":{\"value\":0.5},\"fill_color\":{\"value\":\"lightgrey\"},\"left_units\":\"screen\",\"level\":\"overlay\",\"line_alpha\":{\"value\":1.0},\"line_color\":{\"value\":\"black\"},\"line_dash\":[4,4],\"line_width\":{\"value\":2},\"plot\":null,\"render_mode\":\"css\",\"right_units\":\"screen\",\"top_units\":\"screen\"},\"id\":\"eaff5d3d-f10b-4b13-8955-d4471e19b226\",\"type\":\"BoxAnnotation\"},{\"attributes\":{},\"id\":\"6a14e010-1f97-4e8f-877e-9c9f6e3f8e09\",\"type\":\"BasicTickFormatter\"},{\"attributes\":{\"below\":[{\"id\":\"2dc75efb-74d6-40c2-9f56-840936040b6a\",\"type\":\"LinearAxis\"}],\"left\":[{\"id\":\"690035b8-c041-4cbc-b92f-061ab3210fcf\",\"type\":\"LinearAxis\"}],\"plot_height\":250,\"plot_width\":250,\"renderers\":[{\"id\":\"2dc75efb-74d6-40c2-9f56-840936040b6a\",\"type\":\"LinearAxis\"},{\"id\":\"41a10ec5-abd2-436f-9d3e-713c80247059\",\"type\":\"Grid\"},{\"id\":\"690035b8-c041-4cbc-b92f-061ab3210fcf\",\"type\":\"LinearAxis\"},{\"id\":\"945ebaca-6a12-4bab-bd8d-571e6c58e082\",\"type\":\"Grid\"},{\"id\":\"5db802a9-ec5f-4562-b3cf-d269d6d35f98\",\"type\":\"BoxAnnotation\"},{\"id\":\"5ac23e82-3311-40f2-89f1-ca55d672b4bc\",\"type\":\"GlyphRenderer\"}],\"title\":{\"id\":\"7b9e3430-77cd-4789-a922-2cb084997442\",\"type\":\"Title\"},\"toolbar\":{\"id\":\"d11bef9a-dd5a-47ef-92a3-bfcd5b5fc6de\",\"type\":\"Toolbar\"},\"toolbar_location\":null,\"x_range\":{\"id\":\"934a923c-8cbe-4fcf-a7eb-9b9fcf1bcc77\",\"type\":\"DataRange1d\"},\"x_scale\":{\"id\":\"90c592ef-ab1e-4e05-ad54-413f1f08c84b\",\"type\":\"LinearScale\"},\"y_range\":{\"id\":\"42221ab3-95d8-4a83-bedd-20ca3ce4ebd3\",\"type\":\"DataRange1d\"},\"y_scale\":{\"id\":\"8edf23b8-1194-4b91-8137-96178892c639\",\"type\":\"LinearScale\"}},\"id\":\"a67901e4-b756-4550-974c-66ad4d9be5e0\",\"subtype\":\"Figure\",\"type\":\"Plot\"},{\"attributes\":{\"below\":[{\"id\":\"e05d4d33-d848-43cf-bf02-8f739e07a835\",\"type\":\"LinearAxis\"}],\"left\":[{\"id\":\"51071fe7-ca68-47ab-a199-577452af7e1b\",\"type\":\"LinearAxis\"}],\"plot_height\":250,\"plot_width\":250,\"renderers\":[{\"id\":\"e05d4d33-d848-43cf-bf02-8f739e07a835\",\"type\":\"LinearAxis\"},{\"id\":\"968e6998-5bd0-4f11-b4a8-c478c288151e\",\"type\":\"Grid\"},{\"id\":\"51071fe7-ca68-47ab-a199-577452af7e1b\",\"type\":\"LinearAxis\"},{\"id\":\"9ef85c1d-283e-4f04-be60-221457196dba\",\"type\":\"Grid\"},{\"id\":\"65a82112-f3a5-443c-9cab-440c9e63ba8c\",\"type\":\"BoxAnnotation\"},{\"id\":\"4f999f05-c52e-44b2-ba01-24715dd1fe25\",\"type\":\"GlyphRenderer\"}],\"title\":{\"id\":\"64b07117-f23f-4120-96ae-ff492d4dc34b\",\"type\":\"Title\"},\"toolbar\":{\"id\":\"4e7cb5c7-5359-4645-98cb-ea78165109b3\",\"type\":\"Toolbar\"},\"toolbar_location\":null,\"x_range\":{\"id\":\"3c09ecb6-50a9-4bbf-95c4-4fe3c97e82cc\",\"type\":\"DataRange1d\"},\"x_scale\":{\"id\":\"7ef5d2b9-bacc-438f-a3ec-b2d81c1543b6\",\"type\":\"LinearScale\"},\"y_range\":{\"id\":\"9851104c-23b9-475f-bcbe-841386685e72\",\"type\":\"DataRange1d\"},\"y_scale\":{\"id\":\"d9c1d85d-4e96-4195-b291-7ca1967f6134\",\"type\":\"LinearScale\"}},\"id\":\"56023934-e0eb-490a-92cd-8b5e569a1793\",\"subtype\":\"Figure\",\"type\":\"Plot\"},{\"attributes\":{\"formatter\":{\"id\":\"7f3b7bd6-92a4-4d5e-8ba9-2963233a1305\",\"type\":\"BasicTickFormatter\"},\"plot\":{\"id\":\"54cd9087-f008-4381-a265-e5467ca8d744\",\"subtype\":\"Figure\",\"type\":\"Plot\"},\"ticker\":{\"id\":\"790cdce0-6570-4f6c-ad0b-c7f9bf27bb72\",\"type\":\"BasicTicker\"}},\"id\":\"1702cb7c-ab8d-446b-8b2e-671f5df33349\",\"type\":\"LinearAxis\"},{\"attributes\":{},\"id\":\"6e2d5c94-d18c-4e34-9078-16df201dad71\",\"type\":\"BasicTickFormatter\"},{\"attributes\":{\"line_color\":\"#1f77b4\",\"x\":{\"field\":\"x\"},\"y\":{\"field\":\"y\"}},\"id\":\"89fcf369-f657-4bb5-a3b7-da7a1f7acdc3\",\"type\":\"Line\"},{\"attributes\":{},\"id\":\"f8540f73-98e8-40b5-ad65-650fa95dec27\",\"type\":\"WheelZoomTool\"},{\"attributes\":{\"active_drag\":\"auto\",\"active_inspect\":\"auto\",\"active_scroll\":\"auto\",\"active_tap\":\"auto\",\"tools\":[{\"id\":\"c1b8b63b-33c3-480b-957a-c03b81ac6365\",\"type\":\"PanTool\"},{\"id\":\"f8540f73-98e8-40b5-ad65-650fa95dec27\",\"type\":\"WheelZoomTool\"},{\"id\":\"7a4a6203-ac20-4de7-88fe-598bad19b6ba\",\"type\":\"BoxZoomTool\"},{\"id\":\"3793a850-ea03-4fba-9720-b829cccc3a3e\",\"type\":\"SaveTool\"},{\"id\":\"ce213677-e602-4d0c-baf2-ef64d45110d4\",\"type\":\"ResetTool\"},{\"id\":\"2e9f0d08-0d13-42d3-9118-cdb7f67889d6\",\"type\":\"HelpTool\"}]},\"id\":\"4cda7c27-8339-4d43-8beb-223cdd5c5610\",\"type\":\"Toolbar\"}],\"root_ids\":[\"cb3f3412-4b69-4f57-9fe8-4281232b2889\"]},\"title\":\"Bokeh Application\",\"version\":\"0.12.13\"}};\n",
       "  var render_items = [{\"docid\":\"879eda72-8c9b-4b19-b214-2347b116ce58\",\"elementid\":\"1a7593b3-2a12-44ed-aa52-402d8a6135fc\",\"modelid\":\"cb3f3412-4b69-4f57-9fe8-4281232b2889\"}];\n",
       "  root.Bokeh.embed.embed_items_notebook(docs_json, render_items);\n",
       "\n",
       "  }\n",
       "  if (root.Bokeh !== undefined) {\n",
       "    embed_document(root);\n",
       "  } else {\n",
       "    var attempts = 0;\n",
       "    var timer = setInterval(function(root) {\n",
       "      if (root.Bokeh !== undefined) {\n",
       "        embed_document(root);\n",
       "        clearInterval(timer);\n",
       "      }\n",
       "      attempts++;\n",
       "      if (attempts > 100) {\n",
       "        console.log(\"Bokeh: ERROR: Unable to run BokehJS code because BokehJS library is missing\")\n",
       "        clearInterval(timer);\n",
       "      }\n",
       "    }, 10, root)\n",
       "  }\n",
       "})(window);"
      ],
      "application/vnd.bokehjs_exec.v0+json": ""
     },
     "metadata": {
      "application/vnd.bokehjs_exec.v0+json": {
       "id": "cb3f3412-4b69-4f57-9fe8-4281232b2889"
      }
     },
     "output_type": "display_data"
    }
   ],
   "source": [
    "# Here we xplore the effects of nesting grids.\n",
    "q = figure(plot_width=250, plot_height=250)\n",
    "q.circle([1,2,3], [4,5,6], size=10)\n",
    "\n",
    "# Create a second image\n",
    "n = figure(plot_width=250, plot_height=250)\n",
    "n.line([2,3,4],[6,7,8])\n",
    "\n",
    "r = gridplot([[q, n]])\n",
    "\n",
    "# Create a third figure\n",
    "l = figure(plot_width=250, plot_height=250)\n",
    "l.asterisk([1.5,2.5,3.5], [4.5,5.5,6.5], size=10, color='red')\n",
    "\n",
    "# Put the figures together in the same grid\n",
    "p = gridplot([[r], [l,]])\n",
    "\n",
    "show(p)\n"
   ]
  },
  {
   "cell_type": "code",
   "execution_count": 14,
   "metadata": {
    "collapsed": true
   },
   "outputs": [],
   "source": [
    "# EXERCISE: create your own grid and exploring different nesting combinations. \n"
   ]
  },
  {
   "cell_type": "markdown",
   "metadata": {},
   "source": [
    "# Plotting histograms\n",
    "\n",
    "Columns and bars are special typrd og glyphs which require data regarding the spatial location of the bar/column, the width and the height/length.\n",
    "\n",
    "It is also possible to show the bars in hypotetical axis, which contains categorical data. This data helps in showing the results in a more clear way. By default, the separation between bars is of `1.0`\n"
   ]
  },
  {
   "cell_type": "code",
   "execution_count": 15,
   "metadata": {},
   "outputs": [
    {
     "data": {
      "text/html": [
       "\n",
       "<div class=\"bk-root\">\n",
       "    <div class=\"bk-plotdiv\" id=\"4b9d8d05-84d1-44f3-a90f-8de1eddfa1eb\"></div>\n",
       "</div>"
      ]
     },
     "metadata": {},
     "output_type": "display_data"
    },
    {
     "data": {
      "application/javascript": [
       "(function(root) {\n",
       "  function embed_document(root) {\n",
       "    \n",
       "  var docs_json = {\"eec08fdf-6da7-47fa-a1f4-837f597da108\":{\"roots\":{\"references\":[{\"attributes\":{},\"id\":\"dca959a8-0c98-4d48-b4f1-7b880dc0b06a\",\"type\":\"LinearScale\"},{\"attributes\":{\"bottom_units\":\"screen\",\"fill_alpha\":{\"value\":0.5},\"fill_color\":{\"value\":\"lightgrey\"},\"left_units\":\"screen\",\"level\":\"overlay\",\"line_alpha\":{\"value\":1.0},\"line_color\":{\"value\":\"black\"},\"line_dash\":[4,4],\"line_width\":{\"value\":2},\"plot\":null,\"render_mode\":\"css\",\"right_units\":\"screen\",\"top_units\":\"screen\"},\"id\":\"dee44315-884d-4539-b7a6-bacb4d5ef2fe\",\"type\":\"BoxAnnotation\"},{\"attributes\":{\"source\":{\"id\":\"a9a41ac7-d34f-42be-85cb-07c17bbb2147\",\"type\":\"ColumnDataSource\"}},\"id\":\"aa17e9fe-fd6a-4dda-9c13-76d0acfad403\",\"type\":\"CDSView\"},{\"attributes\":{\"plot\":{\"id\":\"8d54b906-889e-47a5-9d55-98008ee5297d\",\"subtype\":\"Figure\",\"type\":\"Plot\"},\"ticker\":{\"id\":\"011ab435-74ed-47d6-aa3b-8e8d4e39856c\",\"type\":\"BasicTicker\"}},\"id\":\"4c1420ad-6491-4da5-9ab6-3c2630620663\",\"type\":\"Grid\"},{\"attributes\":{},\"id\":\"d23dedb6-bd21-4d69-a616-3ae7f073599a\",\"type\":\"BasicTicker\"},{\"attributes\":{},\"id\":\"e59684eb-4853-4124-9b9d-3efe6e2aeb91\",\"type\":\"PanTool\"},{\"attributes\":{\"plot\":null,\"text\":\"\"},\"id\":\"7919a92a-531a-4eda-8559-c6530e8f2c89\",\"type\":\"Title\"},{\"attributes\":{\"callback\":null,\"column_names\":[\"x\",\"top\"],\"data\":{\"top\":[20.0,30.0,50.0,20.0],\"x\":[1,2,3,4]}},\"id\":\"a9a41ac7-d34f-42be-85cb-07c17bbb2147\",\"type\":\"ColumnDataSource\"},{\"attributes\":{\"data_source\":{\"id\":\"a9a41ac7-d34f-42be-85cb-07c17bbb2147\",\"type\":\"ColumnDataSource\"},\"glyph\":{\"id\":\"1c44b45e-5ffb-4704-bea0-f8771ac1d279\",\"type\":\"VBar\"},\"hover_glyph\":null,\"muted_glyph\":null,\"nonselection_glyph\":{\"id\":\"0d8cf32f-8eb7-4805-9dd0-9b22e40f18ad\",\"type\":\"VBar\"},\"selection_glyph\":null,\"view\":{\"id\":\"aa17e9fe-fd6a-4dda-9c13-76d0acfad403\",\"type\":\"CDSView\"}},\"id\":\"86073588-48f8-421a-91aa-0198da294846\",\"type\":\"GlyphRenderer\"},{\"attributes\":{},\"id\":\"41cb6bb2-821a-404e-837e-e5071138f279\",\"type\":\"WheelZoomTool\"},{\"attributes\":{\"callback\":null},\"id\":\"110ba410-5a93-455b-bc1b-06226f0cb5e5\",\"type\":\"DataRange1d\"},{\"attributes\":{},\"id\":\"d24fe2c1-8818-4832-95ea-c0ce96e9371d\",\"type\":\"BasicTickFormatter\"},{\"attributes\":{},\"id\":\"946fc88c-414c-4599-b243-8444c7cebb41\",\"type\":\"SaveTool\"},{\"attributes\":{\"fill_color\":{\"value\":\"#1f77b4\"},\"line_color\":{\"value\":\"#1f77b4\"},\"top\":{\"field\":\"top\"},\"width\":{\"value\":0.8},\"x\":{\"field\":\"x\"}},\"id\":\"1c44b45e-5ffb-4704-bea0-f8771ac1d279\",\"type\":\"VBar\"},{\"attributes\":{},\"id\":\"011ab435-74ed-47d6-aa3b-8e8d4e39856c\",\"type\":\"BasicTicker\"},{\"attributes\":{},\"id\":\"ae65d780-978f-4060-85d9-ed9b723b17a8\",\"type\":\"HelpTool\"},{\"attributes\":{\"formatter\":{\"id\":\"b2c54d20-b451-4e03-aded-721e7b67ba4d\",\"type\":\"BasicTickFormatter\"},\"plot\":{\"id\":\"8d54b906-889e-47a5-9d55-98008ee5297d\",\"subtype\":\"Figure\",\"type\":\"Plot\"},\"ticker\":{\"id\":\"011ab435-74ed-47d6-aa3b-8e8d4e39856c\",\"type\":\"BasicTicker\"}},\"id\":\"cfbbb1c9-d3e6-4791-856a-a87ea17d56b3\",\"type\":\"LinearAxis\"},{\"attributes\":{},\"id\":\"e44630b1-4c22-4eb2-8424-046fdca5d249\",\"type\":\"LinearScale\"},{\"attributes\":{},\"id\":\"b2c54d20-b451-4e03-aded-721e7b67ba4d\",\"type\":\"BasicTickFormatter\"},{\"attributes\":{\"active_drag\":\"auto\",\"active_inspect\":\"auto\",\"active_scroll\":\"auto\",\"active_tap\":\"auto\",\"tools\":[{\"id\":\"e59684eb-4853-4124-9b9d-3efe6e2aeb91\",\"type\":\"PanTool\"},{\"id\":\"41cb6bb2-821a-404e-837e-e5071138f279\",\"type\":\"WheelZoomTool\"},{\"id\":\"b3db4291-c537-45e7-9d8e-a30cc1e46b99\",\"type\":\"BoxZoomTool\"},{\"id\":\"946fc88c-414c-4599-b243-8444c7cebb41\",\"type\":\"SaveTool\"},{\"id\":\"013dc2d2-0957-4560-be80-dbf6862667b9\",\"type\":\"ResetTool\"},{\"id\":\"ae65d780-978f-4060-85d9-ed9b723b17a8\",\"type\":\"HelpTool\"}]},\"id\":\"ae3824b5-cd2a-4520-a564-556d855b0c20\",\"type\":\"Toolbar\"},{\"attributes\":{\"formatter\":{\"id\":\"d24fe2c1-8818-4832-95ea-c0ce96e9371d\",\"type\":\"BasicTickFormatter\"},\"plot\":{\"id\":\"8d54b906-889e-47a5-9d55-98008ee5297d\",\"subtype\":\"Figure\",\"type\":\"Plot\"},\"ticker\":{\"id\":\"d23dedb6-bd21-4d69-a616-3ae7f073599a\",\"type\":\"BasicTicker\"}},\"id\":\"fecf2911-f3ab-44c4-95d1-8d33af2c9510\",\"type\":\"LinearAxis\"},{\"attributes\":{\"below\":[{\"id\":\"cfbbb1c9-d3e6-4791-856a-a87ea17d56b3\",\"type\":\"LinearAxis\"}],\"left\":[{\"id\":\"fecf2911-f3ab-44c4-95d1-8d33af2c9510\",\"type\":\"LinearAxis\"}],\"renderers\":[{\"id\":\"cfbbb1c9-d3e6-4791-856a-a87ea17d56b3\",\"type\":\"LinearAxis\"},{\"id\":\"4c1420ad-6491-4da5-9ab6-3c2630620663\",\"type\":\"Grid\"},{\"id\":\"fecf2911-f3ab-44c4-95d1-8d33af2c9510\",\"type\":\"LinearAxis\"},{\"id\":\"8971e415-206b-45b2-b6a1-267129cf8b59\",\"type\":\"Grid\"},{\"id\":\"dee44315-884d-4539-b7a6-bacb4d5ef2fe\",\"type\":\"BoxAnnotation\"},{\"id\":\"86073588-48f8-421a-91aa-0198da294846\",\"type\":\"GlyphRenderer\"}],\"title\":{\"id\":\"7919a92a-531a-4eda-8559-c6530e8f2c89\",\"type\":\"Title\"},\"toolbar\":{\"id\":\"ae3824b5-cd2a-4520-a564-556d855b0c20\",\"type\":\"Toolbar\"},\"x_range\":{\"id\":\"42af8692-f772-4afc-a040-1a66711e4eed\",\"type\":\"DataRange1d\"},\"x_scale\":{\"id\":\"dca959a8-0c98-4d48-b4f1-7b880dc0b06a\",\"type\":\"LinearScale\"},\"y_range\":{\"id\":\"110ba410-5a93-455b-bc1b-06226f0cb5e5\",\"type\":\"DataRange1d\"},\"y_scale\":{\"id\":\"e44630b1-4c22-4eb2-8424-046fdca5d249\",\"type\":\"LinearScale\"}},\"id\":\"8d54b906-889e-47a5-9d55-98008ee5297d\",\"subtype\":\"Figure\",\"type\":\"Plot\"},{\"attributes\":{\"overlay\":{\"id\":\"dee44315-884d-4539-b7a6-bacb4d5ef2fe\",\"type\":\"BoxAnnotation\"}},\"id\":\"b3db4291-c537-45e7-9d8e-a30cc1e46b99\",\"type\":\"BoxZoomTool\"},{\"attributes\":{\"dimension\":1,\"plot\":{\"id\":\"8d54b906-889e-47a5-9d55-98008ee5297d\",\"subtype\":\"Figure\",\"type\":\"Plot\"},\"ticker\":{\"id\":\"d23dedb6-bd21-4d69-a616-3ae7f073599a\",\"type\":\"BasicTicker\"}},\"id\":\"8971e415-206b-45b2-b6a1-267129cf8b59\",\"type\":\"Grid\"},{\"attributes\":{},\"id\":\"013dc2d2-0957-4560-be80-dbf6862667b9\",\"type\":\"ResetTool\"},{\"attributes\":{\"fill_alpha\":{\"value\":0.1},\"fill_color\":{\"value\":\"#1f77b4\"},\"line_alpha\":{\"value\":0.1},\"line_color\":{\"value\":\"#1f77b4\"},\"top\":{\"field\":\"top\"},\"width\":{\"value\":0.8},\"x\":{\"field\":\"x\"}},\"id\":\"0d8cf32f-8eb7-4805-9dd0-9b22e40f18ad\",\"type\":\"VBar\"},{\"attributes\":{\"callback\":null},\"id\":\"42af8692-f772-4afc-a040-1a66711e4eed\",\"type\":\"DataRange1d\"}],\"root_ids\":[\"8d54b906-889e-47a5-9d55-98008ee5297d\"]},\"title\":\"Bokeh Application\",\"version\":\"0.12.13\"}};\n",
       "  var render_items = [{\"docid\":\"eec08fdf-6da7-47fa-a1f4-837f597da108\",\"elementid\":\"4b9d8d05-84d1-44f3-a90f-8de1eddfa1eb\",\"modelid\":\"8d54b906-889e-47a5-9d55-98008ee5297d\"}];\n",
       "  root.Bokeh.embed.embed_items_notebook(docs_json, render_items);\n",
       "\n",
       "  }\n",
       "  if (root.Bokeh !== undefined) {\n",
       "    embed_document(root);\n",
       "  } else {\n",
       "    var attempts = 0;\n",
       "    var timer = setInterval(function(root) {\n",
       "      if (root.Bokeh !== undefined) {\n",
       "        embed_document(root);\n",
       "        clearInterval(timer);\n",
       "      }\n",
       "      attempts++;\n",
       "      if (attempts > 100) {\n",
       "        console.log(\"Bokeh: ERROR: Unable to run BokehJS code because BokehJS library is missing\")\n",
       "        clearInterval(timer);\n",
       "      }\n",
       "    }, 10, root)\n",
       "  }\n",
       "})(window);"
      ],
      "application/vnd.bokehjs_exec.v0+json": ""
     },
     "metadata": {
      "application/vnd.bokehjs_exec.v0+json": {
       "id": "8d54b906-889e-47a5-9d55-98008ee5297d"
      }
     },
     "output_type": "display_data"
    }
   ],
   "source": [
    "# Making a simple column plot\n",
    "# define the variables\n",
    "x_position = [1, 2, 3, 4]\n",
    "width = 0.8\n",
    "height = [20.0, 30.0, 50.0, 20.0]\n",
    "\n",
    "# Make a plot\n",
    "p = figure()\n",
    "p.vbar(x_position, width, height)\n",
    "show(p)"
   ]
  },
  {
   "cell_type": "code",
   "execution_count": 16,
   "metadata": {},
   "outputs": [
    {
     "data": {
      "text/html": [
       "\n",
       "<div class=\"bk-root\">\n",
       "    <div class=\"bk-plotdiv\" id=\"758fab22-79ce-464d-8f39-9e746bffbe4e\"></div>\n",
       "</div>"
      ]
     },
     "metadata": {},
     "output_type": "display_data"
    },
    {
     "data": {
      "application/javascript": [
       "(function(root) {\n",
       "  function embed_document(root) {\n",
       "    \n",
       "  var docs_json = {\"8e1f5fd8-c51e-415a-b285-d2233d216405\":{\"roots\":{\"references\":[{\"attributes\":{},\"id\":\"fe0ca8b0-2420-4da4-8579-efc4069af483\",\"type\":\"ResetTool\"},{\"attributes\":{\"fill_color\":{\"value\":\"#1f77b4\"},\"line_color\":{\"value\":\"#1f77b4\"},\"top\":{\"field\":\"top\"},\"width\":{\"value\":0.8},\"x\":{\"field\":\"x\"}},\"id\":\"6c45a182-6bd3-4cd1-84b2-2bf336f9a0ae\",\"type\":\"VBar\"},{\"attributes\":{\"formatter\":{\"id\":\"26a55617-af06-403d-ae02-688bf1d59f33\",\"type\":\"CategoricalTickFormatter\"},\"plot\":{\"id\":\"68575a17-46ca-4c05-96d2-fd2fd3cb0b42\",\"subtype\":\"Figure\",\"type\":\"Plot\"},\"ticker\":{\"id\":\"44293556-7d2f-4586-b2ba-d2e828a92616\",\"type\":\"CategoricalTicker\"}},\"id\":\"876b582e-8043-4e17-8dc3-77b5f51d824e\",\"type\":\"CategoricalAxis\"},{\"attributes\":{},\"id\":\"deec6a5a-8522-424e-b461-39033ab3a16e\",\"type\":\"BasicTicker\"},{\"attributes\":{\"dimension\":1,\"plot\":{\"id\":\"68575a17-46ca-4c05-96d2-fd2fd3cb0b42\",\"subtype\":\"Figure\",\"type\":\"Plot\"},\"ticker\":{\"id\":\"deec6a5a-8522-424e-b461-39033ab3a16e\",\"type\":\"BasicTicker\"}},\"id\":\"56adcc1d-c374-40e4-b5e2-9b3e6104831b\",\"type\":\"Grid\"},{\"attributes\":{},\"id\":\"22004cff-5f43-4184-8b17-f02d7b88b17b\",\"type\":\"LinearScale\"},{\"attributes\":{\"callback\":null,\"column_names\":[\"x\",\"top\"],\"data\":{\"top\":[20.0,30.0,50.0,20.0],\"x\":[\"Apples\",\"Oranges\",\"Bananas\",\"Coconuts\"]}},\"id\":\"ff0a5ed1-c80e-4c12-9ece-abc82a5d7959\",\"type\":\"ColumnDataSource\"},{\"attributes\":{},\"id\":\"1836efc5-a4ea-442f-a5fe-d2c61c10b2ea\",\"type\":\"SaveTool\"},{\"attributes\":{\"source\":{\"id\":\"ff0a5ed1-c80e-4c12-9ece-abc82a5d7959\",\"type\":\"ColumnDataSource\"}},\"id\":\"a2f0d067-47ea-4afb-8a75-ca92aa6ff1ac\",\"type\":\"CDSView\"},{\"attributes\":{\"plot\":null,\"text\":\"\"},\"id\":\"f2c8d83d-e478-43f8-9819-e63b769b3c10\",\"type\":\"Title\"},{\"attributes\":{},\"id\":\"44293556-7d2f-4586-b2ba-d2e828a92616\",\"type\":\"CategoricalTicker\"},{\"attributes\":{},\"id\":\"72a02e07-8c08-456b-b22a-5ae149233f77\",\"type\":\"WheelZoomTool\"},{\"attributes\":{\"overlay\":{\"id\":\"34d3ee39-f887-46a8-b6ca-591c9b108285\",\"type\":\"BoxAnnotation\"}},\"id\":\"0275266e-8b9f-44b9-b067-b1ca883c6b03\",\"type\":\"BoxZoomTool\"},{\"attributes\":{\"callback\":null,\"factors\":[\"Apples\",\"Oranges\",\"Bananas\",\"Coconuts\"]},\"id\":\"3de1750f-1542-468d-8e26-bcbc92a38567\",\"type\":\"FactorRange\"},{\"attributes\":{},\"id\":\"815b92e3-f26e-493c-9a22-9f13a4209621\",\"type\":\"BasicTickFormatter\"},{\"attributes\":{},\"id\":\"26a55617-af06-403d-ae02-688bf1d59f33\",\"type\":\"CategoricalTickFormatter\"},{\"attributes\":{},\"id\":\"c3995360-a57b-409f-bf32-e84e34698723\",\"type\":\"CategoricalScale\"},{\"attributes\":{},\"id\":\"3e5491f7-2423-4ae8-a65d-c0b9a30cc0de\",\"type\":\"PanTool\"},{\"attributes\":{\"active_drag\":\"auto\",\"active_inspect\":\"auto\",\"active_scroll\":\"auto\",\"active_tap\":\"auto\",\"tools\":[{\"id\":\"3e5491f7-2423-4ae8-a65d-c0b9a30cc0de\",\"type\":\"PanTool\"},{\"id\":\"72a02e07-8c08-456b-b22a-5ae149233f77\",\"type\":\"WheelZoomTool\"},{\"id\":\"0275266e-8b9f-44b9-b067-b1ca883c6b03\",\"type\":\"BoxZoomTool\"},{\"id\":\"1836efc5-a4ea-442f-a5fe-d2c61c10b2ea\",\"type\":\"SaveTool\"},{\"id\":\"fe0ca8b0-2420-4da4-8579-efc4069af483\",\"type\":\"ResetTool\"},{\"id\":\"25dd49ae-d3c4-48e0-bc75-1512e8e46fcc\",\"type\":\"HelpTool\"}]},\"id\":\"3ae6a253-2b9b-4cf1-898e-7df781dc4761\",\"type\":\"Toolbar\"},{\"attributes\":{\"data_source\":{\"id\":\"ff0a5ed1-c80e-4c12-9ece-abc82a5d7959\",\"type\":\"ColumnDataSource\"},\"glyph\":{\"id\":\"6c45a182-6bd3-4cd1-84b2-2bf336f9a0ae\",\"type\":\"VBar\"},\"hover_glyph\":null,\"muted_glyph\":null,\"nonselection_glyph\":{\"id\":\"c15e722d-7025-4b79-a9e8-75b7074d8051\",\"type\":\"VBar\"},\"selection_glyph\":null,\"view\":{\"id\":\"a2f0d067-47ea-4afb-8a75-ca92aa6ff1ac\",\"type\":\"CDSView\"}},\"id\":\"14b24abf-d2d3-48b7-99a2-dee86b22db34\",\"type\":\"GlyphRenderer\"},{\"attributes\":{\"formatter\":{\"id\":\"815b92e3-f26e-493c-9a22-9f13a4209621\",\"type\":\"BasicTickFormatter\"},\"plot\":{\"id\":\"68575a17-46ca-4c05-96d2-fd2fd3cb0b42\",\"subtype\":\"Figure\",\"type\":\"Plot\"},\"ticker\":{\"id\":\"deec6a5a-8522-424e-b461-39033ab3a16e\",\"type\":\"BasicTicker\"}},\"id\":\"54f93897-e78c-498a-be60-5d1a7e075bf8\",\"type\":\"LinearAxis\"},{\"attributes\":{\"bottom_units\":\"screen\",\"fill_alpha\":{\"value\":0.5},\"fill_color\":{\"value\":\"lightgrey\"},\"left_units\":\"screen\",\"level\":\"overlay\",\"line_alpha\":{\"value\":1.0},\"line_color\":{\"value\":\"black\"},\"line_dash\":[4,4],\"line_width\":{\"value\":2},\"plot\":null,\"render_mode\":\"css\",\"right_units\":\"screen\",\"top_units\":\"screen\"},\"id\":\"34d3ee39-f887-46a8-b6ca-591c9b108285\",\"type\":\"BoxAnnotation\"},{\"attributes\":{\"below\":[{\"id\":\"876b582e-8043-4e17-8dc3-77b5f51d824e\",\"type\":\"CategoricalAxis\"}],\"left\":[{\"id\":\"54f93897-e78c-498a-be60-5d1a7e075bf8\",\"type\":\"LinearAxis\"}],\"renderers\":[{\"id\":\"876b582e-8043-4e17-8dc3-77b5f51d824e\",\"type\":\"CategoricalAxis\"},{\"id\":\"0ea6bf15-ea3c-40f3-b409-2d7b00ea860b\",\"type\":\"Grid\"},{\"id\":\"54f93897-e78c-498a-be60-5d1a7e075bf8\",\"type\":\"LinearAxis\"},{\"id\":\"56adcc1d-c374-40e4-b5e2-9b3e6104831b\",\"type\":\"Grid\"},{\"id\":\"34d3ee39-f887-46a8-b6ca-591c9b108285\",\"type\":\"BoxAnnotation\"},{\"id\":\"14b24abf-d2d3-48b7-99a2-dee86b22db34\",\"type\":\"GlyphRenderer\"}],\"title\":{\"id\":\"f2c8d83d-e478-43f8-9819-e63b769b3c10\",\"type\":\"Title\"},\"toolbar\":{\"id\":\"3ae6a253-2b9b-4cf1-898e-7df781dc4761\",\"type\":\"Toolbar\"},\"x_range\":{\"id\":\"3de1750f-1542-468d-8e26-bcbc92a38567\",\"type\":\"FactorRange\"},\"x_scale\":{\"id\":\"c3995360-a57b-409f-bf32-e84e34698723\",\"type\":\"CategoricalScale\"},\"y_range\":{\"id\":\"e5ef6b2d-bd1f-4da5-8bde-a5c719684f60\",\"type\":\"DataRange1d\"},\"y_scale\":{\"id\":\"22004cff-5f43-4184-8b17-f02d7b88b17b\",\"type\":\"LinearScale\"}},\"id\":\"68575a17-46ca-4c05-96d2-fd2fd3cb0b42\",\"subtype\":\"Figure\",\"type\":\"Plot\"},{\"attributes\":{\"plot\":{\"id\":\"68575a17-46ca-4c05-96d2-fd2fd3cb0b42\",\"subtype\":\"Figure\",\"type\":\"Plot\"},\"ticker\":{\"id\":\"44293556-7d2f-4586-b2ba-d2e828a92616\",\"type\":\"CategoricalTicker\"}},\"id\":\"0ea6bf15-ea3c-40f3-b409-2d7b00ea860b\",\"type\":\"Grid\"},{\"attributes\":{},\"id\":\"25dd49ae-d3c4-48e0-bc75-1512e8e46fcc\",\"type\":\"HelpTool\"},{\"attributes\":{\"fill_alpha\":{\"value\":0.1},\"fill_color\":{\"value\":\"#1f77b4\"},\"line_alpha\":{\"value\":0.1},\"line_color\":{\"value\":\"#1f77b4\"},\"top\":{\"field\":\"top\"},\"width\":{\"value\":0.8},\"x\":{\"field\":\"x\"}},\"id\":\"c15e722d-7025-4b79-a9e8-75b7074d8051\",\"type\":\"VBar\"},{\"attributes\":{\"callback\":null},\"id\":\"e5ef6b2d-bd1f-4da5-8bde-a5c719684f60\",\"type\":\"DataRange1d\"}],\"root_ids\":[\"68575a17-46ca-4c05-96d2-fd2fd3cb0b42\"]},\"title\":\"Bokeh Application\",\"version\":\"0.12.13\"}};\n",
       "  var render_items = [{\"docid\":\"8e1f5fd8-c51e-415a-b285-d2233d216405\",\"elementid\":\"758fab22-79ce-464d-8f39-9e746bffbe4e\",\"modelid\":\"68575a17-46ca-4c05-96d2-fd2fd3cb0b42\"}];\n",
       "  root.Bokeh.embed.embed_items_notebook(docs_json, render_items);\n",
       "\n",
       "  }\n",
       "  if (root.Bokeh !== undefined) {\n",
       "    embed_document(root);\n",
       "  } else {\n",
       "    var attempts = 0;\n",
       "    var timer = setInterval(function(root) {\n",
       "      if (root.Bokeh !== undefined) {\n",
       "        embed_document(root);\n",
       "        clearInterval(timer);\n",
       "      }\n",
       "      attempts++;\n",
       "      if (attempts > 100) {\n",
       "        console.log(\"Bokeh: ERROR: Unable to run BokehJS code because BokehJS library is missing\")\n",
       "        clearInterval(timer);\n",
       "      }\n",
       "    }, 10, root)\n",
       "  }\n",
       "})(window);"
      ],
      "application/vnd.bokehjs_exec.v0+json": ""
     },
     "metadata": {
      "application/vnd.bokehjs_exec.v0+json": {
       "id": "68575a17-46ca-4c05-96d2-fd2fd3cb0b42"
      }
     },
     "output_type": "display_data"
    }
   ],
   "source": [
    "# Making a simple column plot using categorical data\n",
    "# define the variables\n",
    "category = ['Apples', 'Oranges', 'Bananas', 'Coconuts']\n",
    "width = 0.8\n",
    "height = [20.0, 30.0, 50.0, 20.0]\n",
    "\n",
    "# Make a plot defining a categorical range for the plot in the x axis\n",
    "p = figure(x_range=category)\n",
    "p.vbar(category, width, height)\n",
    "show(p)"
   ]
  },
  {
   "cell_type": "code",
   "execution_count": 17,
   "metadata": {
    "collapsed": true
   },
   "outputs": [],
   "source": [
    "# EXERCISE: create your own column and bar plots. Explore the different ways for\n",
    "# visualising datasets such as histograms\n",
    "\n",
    "# Also, use the pandas group_by function to quickly slice datasets.\n"
   ]
  }
 ],
 "metadata": {
  "anaconda-cloud": {},
  "kernelspec": {
   "display_name": "Python 2",
   "language": "python",
   "name": "python2"
  },
  "language_info": {
   "codemirror_mode": {
    "name": "ipython",
    "version": 2
   },
   "file_extension": ".py",
   "mimetype": "text/x-python",
   "name": "python",
   "nbconvert_exporter": "python",
   "pygments_lexer": "ipython2",
   "version": "2.7.14"
  }
 },
 "nbformat": 4,
 "nbformat_minor": 1
}
