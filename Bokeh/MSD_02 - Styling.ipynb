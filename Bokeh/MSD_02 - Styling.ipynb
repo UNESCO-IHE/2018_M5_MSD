{
 "cells": [
  {
   "cell_type": "markdown",
   "metadata": {},
   "source": [
    "# Bokeh tutorial \n",
    "## Styling and Theming\n"
   ]
  },
  {
   "cell_type": "code",
   "execution_count": 1,
   "metadata": {
    "collapsed": true
   },
   "outputs": [],
   "source": [
    "from bokeh.io import output_notebook, show\n",
    "from bokeh.plotting import figure\n",
    "import matplotlib.pyplot as plt\n",
    "import numpy as np"
   ]
  },
  {
   "cell_type": "code",
   "execution_count": 2,
   "metadata": {},
   "outputs": [
    {
     "data": {
      "text/html": [
       "\n",
       "    <div class=\"bk-root\">\n",
       "        <a href=\"https://bokeh.pydata.org\" target=\"_blank\" class=\"bk-logo bk-logo-small bk-logo-notebook\"></a>\n",
       "        <span id=\"be011a8d-a864-4519-8d9e-f0c3a5a5813f\">Loading BokehJS ...</span>\n",
       "    </div>"
      ]
     },
     "metadata": {},
     "output_type": "display_data"
    },
    {
     "data": {
      "application/javascript": [
       "\n",
       "(function(root) {\n",
       "  function now() {\n",
       "    return new Date();\n",
       "  }\n",
       "\n",
       "  var force = true;\n",
       "\n",
       "  if (typeof (root._bokeh_onload_callbacks) === \"undefined\" || force === true) {\n",
       "    root._bokeh_onload_callbacks = [];\n",
       "    root._bokeh_is_loading = undefined;\n",
       "  }\n",
       "\n",
       "  var JS_MIME_TYPE = 'application/javascript';\n",
       "  var HTML_MIME_TYPE = 'text/html';\n",
       "  var EXEC_MIME_TYPE = 'application/vnd.bokehjs_exec.v0+json';\n",
       "  var CLASS_NAME = 'output_bokeh rendered_html';\n",
       "\n",
       "  /**\n",
       "   * Render data to the DOM node\n",
       "   */\n",
       "  function render(props, node) {\n",
       "    var script = document.createElement(\"script\");\n",
       "    node.appendChild(script);\n",
       "  }\n",
       "\n",
       "  /**\n",
       "   * Handle when an output is cleared or removed\n",
       "   */\n",
       "  function handleClearOutput(event, handle) {\n",
       "    var cell = handle.cell;\n",
       "\n",
       "    var id = cell.output_area._bokeh_element_id;\n",
       "    var server_id = cell.output_area._bokeh_server_id;\n",
       "    // Clean up Bokeh references\n",
       "    if (id !== undefined) {\n",
       "      Bokeh.index[id].model.document.clear();\n",
       "      delete Bokeh.index[id];\n",
       "    }\n",
       "\n",
       "    if (server_id !== undefined) {\n",
       "      // Clean up Bokeh references\n",
       "      var cmd = \"from bokeh.io.state import curstate; print(curstate().uuid_to_server['\" + server_id + \"'].get_sessions()[0].document.roots[0]._id)\";\n",
       "      cell.notebook.kernel.execute(cmd, {\n",
       "        iopub: {\n",
       "          output: function(msg) {\n",
       "            var element_id = msg.content.text.trim();\n",
       "            Bokeh.index[element_id].model.document.clear();\n",
       "            delete Bokeh.index[element_id];\n",
       "          }\n",
       "        }\n",
       "      });\n",
       "      // Destroy server and session\n",
       "      var cmd = \"import bokeh.io.notebook as ion; ion.destroy_server('\" + server_id + \"')\";\n",
       "      cell.notebook.kernel.execute(cmd);\n",
       "    }\n",
       "  }\n",
       "\n",
       "  /**\n",
       "   * Handle when a new output is added\n",
       "   */\n",
       "  function handleAddOutput(event, handle) {\n",
       "    var output_area = handle.output_area;\n",
       "    var output = handle.output;\n",
       "\n",
       "    // limit handleAddOutput to display_data with EXEC_MIME_TYPE content only\n",
       "    if ((output.output_type != \"display_data\") || (!output.data.hasOwnProperty(EXEC_MIME_TYPE))) {\n",
       "      return\n",
       "    }\n",
       "\n",
       "    var toinsert = output_area.element.find(\".\" + CLASS_NAME.split(' ')[0]);\n",
       "\n",
       "    if (output.metadata[EXEC_MIME_TYPE][\"id\"] !== undefined) {\n",
       "      toinsert[0].firstChild.textContent = output.data[JS_MIME_TYPE];\n",
       "      // store reference to embed id on output_area\n",
       "      output_area._bokeh_element_id = output.metadata[EXEC_MIME_TYPE][\"id\"];\n",
       "    }\n",
       "    if (output.metadata[EXEC_MIME_TYPE][\"server_id\"] !== undefined) {\n",
       "      var bk_div = document.createElement(\"div\");\n",
       "      bk_div.innerHTML = output.data[HTML_MIME_TYPE];\n",
       "      var script_attrs = bk_div.children[0].attributes;\n",
       "      for (var i = 0; i < script_attrs.length; i++) {\n",
       "        toinsert[0].firstChild.setAttribute(script_attrs[i].name, script_attrs[i].value);\n",
       "      }\n",
       "      // store reference to server id on output_area\n",
       "      output_area._bokeh_server_id = output.metadata[EXEC_MIME_TYPE][\"server_id\"];\n",
       "    }\n",
       "  }\n",
       "\n",
       "  function register_renderer(events, OutputArea) {\n",
       "\n",
       "    function append_mime(data, metadata, element) {\n",
       "      // create a DOM node to render to\n",
       "      var toinsert = this.create_output_subarea(\n",
       "        metadata,\n",
       "        CLASS_NAME,\n",
       "        EXEC_MIME_TYPE\n",
       "      );\n",
       "      this.keyboard_manager.register_events(toinsert);\n",
       "      // Render to node\n",
       "      var props = {data: data, metadata: metadata[EXEC_MIME_TYPE]};\n",
       "      render(props, toinsert[0]);\n",
       "      element.append(toinsert);\n",
       "      return toinsert\n",
       "    }\n",
       "\n",
       "    /* Handle when an output is cleared or removed */\n",
       "    events.on('clear_output.CodeCell', handleClearOutput);\n",
       "    events.on('delete.Cell', handleClearOutput);\n",
       "\n",
       "    /* Handle when a new output is added */\n",
       "    events.on('output_added.OutputArea', handleAddOutput);\n",
       "\n",
       "    /**\n",
       "     * Register the mime type and append_mime function with output_area\n",
       "     */\n",
       "    OutputArea.prototype.register_mime_type(EXEC_MIME_TYPE, append_mime, {\n",
       "      /* Is output safe? */\n",
       "      safe: true,\n",
       "      /* Index of renderer in `output_area.display_order` */\n",
       "      index: 0\n",
       "    });\n",
       "  }\n",
       "\n",
       "  // register the mime type if in Jupyter Notebook environment and previously unregistered\n",
       "  if (root.Jupyter !== undefined) {\n",
       "    var events = require('base/js/events');\n",
       "    var OutputArea = require('notebook/js/outputarea').OutputArea;\n",
       "\n",
       "    if (OutputArea.prototype.mime_types().indexOf(EXEC_MIME_TYPE) == -1) {\n",
       "      register_renderer(events, OutputArea);\n",
       "    }\n",
       "  }\n",
       "\n",
       "  \n",
       "  if (typeof (root._bokeh_timeout) === \"undefined\" || force === true) {\n",
       "    root._bokeh_timeout = Date.now() + 5000;\n",
       "    root._bokeh_failed_load = false;\n",
       "  }\n",
       "\n",
       "  var NB_LOAD_WARNING = {'data': {'text/html':\n",
       "     \"<div style='background-color: #fdd'>\\n\"+\n",
       "     \"<p>\\n\"+\n",
       "     \"BokehJS does not appear to have successfully loaded. If loading BokehJS from CDN, this \\n\"+\n",
       "     \"may be due to a slow or bad network connection. Possible fixes:\\n\"+\n",
       "     \"</p>\\n\"+\n",
       "     \"<ul>\\n\"+\n",
       "     \"<li>re-rerun `output_notebook()` to attempt to load from CDN again, or</li>\\n\"+\n",
       "     \"<li>use INLINE resources instead, as so:</li>\\n\"+\n",
       "     \"</ul>\\n\"+\n",
       "     \"<code>\\n\"+\n",
       "     \"from bokeh.resources import INLINE\\n\"+\n",
       "     \"output_notebook(resources=INLINE)\\n\"+\n",
       "     \"</code>\\n\"+\n",
       "     \"</div>\"}};\n",
       "\n",
       "  function display_loaded() {\n",
       "    var el = document.getElementById(\"be011a8d-a864-4519-8d9e-f0c3a5a5813f\");\n",
       "    if (el != null) {\n",
       "      el.textContent = \"BokehJS is loading...\";\n",
       "    }\n",
       "    if (root.Bokeh !== undefined) {\n",
       "      if (el != null) {\n",
       "        el.textContent = \"BokehJS \" + root.Bokeh.version + \" successfully loaded.\";\n",
       "      }\n",
       "    } else if (Date.now() < root._bokeh_timeout) {\n",
       "      setTimeout(display_loaded, 100)\n",
       "    }\n",
       "  }\n",
       "\n",
       "\n",
       "  function run_callbacks() {\n",
       "    try {\n",
       "      root._bokeh_onload_callbacks.forEach(function(callback) { callback() });\n",
       "    }\n",
       "    finally {\n",
       "      delete root._bokeh_onload_callbacks\n",
       "    }\n",
       "    console.info(\"Bokeh: all callbacks have finished\");\n",
       "  }\n",
       "\n",
       "  function load_libs(js_urls, callback) {\n",
       "    root._bokeh_onload_callbacks.push(callback);\n",
       "    if (root._bokeh_is_loading > 0) {\n",
       "      console.log(\"Bokeh: BokehJS is being loaded, scheduling callback at\", now());\n",
       "      return null;\n",
       "    }\n",
       "    if (js_urls == null || js_urls.length === 0) {\n",
       "      run_callbacks();\n",
       "      return null;\n",
       "    }\n",
       "    console.log(\"Bokeh: BokehJS not loaded, scheduling load and callback at\", now());\n",
       "    root._bokeh_is_loading = js_urls.length;\n",
       "    for (var i = 0; i < js_urls.length; i++) {\n",
       "      var url = js_urls[i];\n",
       "      var s = document.createElement('script');\n",
       "      s.src = url;\n",
       "      s.async = false;\n",
       "      s.onreadystatechange = s.onload = function() {\n",
       "        root._bokeh_is_loading--;\n",
       "        if (root._bokeh_is_loading === 0) {\n",
       "          console.log(\"Bokeh: all BokehJS libraries loaded\");\n",
       "          run_callbacks()\n",
       "        }\n",
       "      };\n",
       "      s.onerror = function() {\n",
       "        console.warn(\"failed to load library \" + url);\n",
       "      };\n",
       "      console.log(\"Bokeh: injecting script tag for BokehJS library: \", url);\n",
       "      document.getElementsByTagName(\"head\")[0].appendChild(s);\n",
       "    }\n",
       "  };var element = document.getElementById(\"be011a8d-a864-4519-8d9e-f0c3a5a5813f\");\n",
       "  if (element == null) {\n",
       "    console.log(\"Bokeh: ERROR: autoload.js configured with elementid 'be011a8d-a864-4519-8d9e-f0c3a5a5813f' but no matching script tag was found. \")\n",
       "    return false;\n",
       "  }\n",
       "\n",
       "  var js_urls = [\"https://cdn.pydata.org/bokeh/release/bokeh-0.12.13.min.js\", \"https://cdn.pydata.org/bokeh/release/bokeh-widgets-0.12.13.min.js\", \"https://cdn.pydata.org/bokeh/release/bokeh-tables-0.12.13.min.js\", \"https://cdn.pydata.org/bokeh/release/bokeh-gl-0.12.13.min.js\"];\n",
       "\n",
       "  var inline_js = [\n",
       "    function(Bokeh) {\n",
       "      Bokeh.set_log_level(\"info\");\n",
       "    },\n",
       "    \n",
       "    function(Bokeh) {\n",
       "      \n",
       "    },\n",
       "    function(Bokeh) {\n",
       "      console.log(\"Bokeh: injecting CSS: https://cdn.pydata.org/bokeh/release/bokeh-0.12.13.min.css\");\n",
       "      Bokeh.embed.inject_css(\"https://cdn.pydata.org/bokeh/release/bokeh-0.12.13.min.css\");\n",
       "      console.log(\"Bokeh: injecting CSS: https://cdn.pydata.org/bokeh/release/bokeh-widgets-0.12.13.min.css\");\n",
       "      Bokeh.embed.inject_css(\"https://cdn.pydata.org/bokeh/release/bokeh-widgets-0.12.13.min.css\");\n",
       "      console.log(\"Bokeh: injecting CSS: https://cdn.pydata.org/bokeh/release/bokeh-tables-0.12.13.min.css\");\n",
       "      Bokeh.embed.inject_css(\"https://cdn.pydata.org/bokeh/release/bokeh-tables-0.12.13.min.css\");\n",
       "    }\n",
       "  ];\n",
       "\n",
       "  function run_inline_js() {\n",
       "    \n",
       "    if ((root.Bokeh !== undefined) || (force === true)) {\n",
       "      for (var i = 0; i < inline_js.length; i++) {\n",
       "        inline_js[i].call(root, root.Bokeh);\n",
       "      }if (force === true) {\n",
       "        display_loaded();\n",
       "      }} else if (Date.now() < root._bokeh_timeout) {\n",
       "      setTimeout(run_inline_js, 100);\n",
       "    } else if (!root._bokeh_failed_load) {\n",
       "      console.log(\"Bokeh: BokehJS failed to load within specified timeout.\");\n",
       "      root._bokeh_failed_load = true;\n",
       "    } else if (force !== true) {\n",
       "      var cell = $(document.getElementById(\"be011a8d-a864-4519-8d9e-f0c3a5a5813f\")).parents('.cell').data().cell;\n",
       "      cell.output_area.append_execute_result(NB_LOAD_WARNING)\n",
       "    }\n",
       "\n",
       "  }\n",
       "\n",
       "  if (root._bokeh_is_loading === 0) {\n",
       "    console.log(\"Bokeh: BokehJS loaded, going straight to plotting\");\n",
       "    run_inline_js();\n",
       "  } else {\n",
       "    load_libs(js_urls, function() {\n",
       "      console.log(\"Bokeh: BokehJS plotting callback run at\", now());\n",
       "      run_inline_js();\n",
       "    });\n",
       "  }\n",
       "}(window));"
      ],
      "application/vnd.bokehjs_load.v0+json": "\n(function(root) {\n  function now() {\n    return new Date();\n  }\n\n  var force = true;\n\n  if (typeof (root._bokeh_onload_callbacks) === \"undefined\" || force === true) {\n    root._bokeh_onload_callbacks = [];\n    root._bokeh_is_loading = undefined;\n  }\n\n  \n\n  \n  if (typeof (root._bokeh_timeout) === \"undefined\" || force === true) {\n    root._bokeh_timeout = Date.now() + 5000;\n    root._bokeh_failed_load = false;\n  }\n\n  var NB_LOAD_WARNING = {'data': {'text/html':\n     \"<div style='background-color: #fdd'>\\n\"+\n     \"<p>\\n\"+\n     \"BokehJS does not appear to have successfully loaded. If loading BokehJS from CDN, this \\n\"+\n     \"may be due to a slow or bad network connection. Possible fixes:\\n\"+\n     \"</p>\\n\"+\n     \"<ul>\\n\"+\n     \"<li>re-rerun `output_notebook()` to attempt to load from CDN again, or</li>\\n\"+\n     \"<li>use INLINE resources instead, as so:</li>\\n\"+\n     \"</ul>\\n\"+\n     \"<code>\\n\"+\n     \"from bokeh.resources import INLINE\\n\"+\n     \"output_notebook(resources=INLINE)\\n\"+\n     \"</code>\\n\"+\n     \"</div>\"}};\n\n  function display_loaded() {\n    var el = document.getElementById(\"be011a8d-a864-4519-8d9e-f0c3a5a5813f\");\n    if (el != null) {\n      el.textContent = \"BokehJS is loading...\";\n    }\n    if (root.Bokeh !== undefined) {\n      if (el != null) {\n        el.textContent = \"BokehJS \" + root.Bokeh.version + \" successfully loaded.\";\n      }\n    } else if (Date.now() < root._bokeh_timeout) {\n      setTimeout(display_loaded, 100)\n    }\n  }\n\n\n  function run_callbacks() {\n    try {\n      root._bokeh_onload_callbacks.forEach(function(callback) { callback() });\n    }\n    finally {\n      delete root._bokeh_onload_callbacks\n    }\n    console.info(\"Bokeh: all callbacks have finished\");\n  }\n\n  function load_libs(js_urls, callback) {\n    root._bokeh_onload_callbacks.push(callback);\n    if (root._bokeh_is_loading > 0) {\n      console.log(\"Bokeh: BokehJS is being loaded, scheduling callback at\", now());\n      return null;\n    }\n    if (js_urls == null || js_urls.length === 0) {\n      run_callbacks();\n      return null;\n    }\n    console.log(\"Bokeh: BokehJS not loaded, scheduling load and callback at\", now());\n    root._bokeh_is_loading = js_urls.length;\n    for (var i = 0; i < js_urls.length; i++) {\n      var url = js_urls[i];\n      var s = document.createElement('script');\n      s.src = url;\n      s.async = false;\n      s.onreadystatechange = s.onload = function() {\n        root._bokeh_is_loading--;\n        if (root._bokeh_is_loading === 0) {\n          console.log(\"Bokeh: all BokehJS libraries loaded\");\n          run_callbacks()\n        }\n      };\n      s.onerror = function() {\n        console.warn(\"failed to load library \" + url);\n      };\n      console.log(\"Bokeh: injecting script tag for BokehJS library: \", url);\n      document.getElementsByTagName(\"head\")[0].appendChild(s);\n    }\n  };var element = document.getElementById(\"be011a8d-a864-4519-8d9e-f0c3a5a5813f\");\n  if (element == null) {\n    console.log(\"Bokeh: ERROR: autoload.js configured with elementid 'be011a8d-a864-4519-8d9e-f0c3a5a5813f' but no matching script tag was found. \")\n    return false;\n  }\n\n  var js_urls = [\"https://cdn.pydata.org/bokeh/release/bokeh-0.12.13.min.js\", \"https://cdn.pydata.org/bokeh/release/bokeh-widgets-0.12.13.min.js\", \"https://cdn.pydata.org/bokeh/release/bokeh-tables-0.12.13.min.js\", \"https://cdn.pydata.org/bokeh/release/bokeh-gl-0.12.13.min.js\"];\n\n  var inline_js = [\n    function(Bokeh) {\n      Bokeh.set_log_level(\"info\");\n    },\n    \n    function(Bokeh) {\n      \n    },\n    function(Bokeh) {\n      console.log(\"Bokeh: injecting CSS: https://cdn.pydata.org/bokeh/release/bokeh-0.12.13.min.css\");\n      Bokeh.embed.inject_css(\"https://cdn.pydata.org/bokeh/release/bokeh-0.12.13.min.css\");\n      console.log(\"Bokeh: injecting CSS: https://cdn.pydata.org/bokeh/release/bokeh-widgets-0.12.13.min.css\");\n      Bokeh.embed.inject_css(\"https://cdn.pydata.org/bokeh/release/bokeh-widgets-0.12.13.min.css\");\n      console.log(\"Bokeh: injecting CSS: https://cdn.pydata.org/bokeh/release/bokeh-tables-0.12.13.min.css\");\n      Bokeh.embed.inject_css(\"https://cdn.pydata.org/bokeh/release/bokeh-tables-0.12.13.min.css\");\n    }\n  ];\n\n  function run_inline_js() {\n    \n    if ((root.Bokeh !== undefined) || (force === true)) {\n      for (var i = 0; i < inline_js.length; i++) {\n        inline_js[i].call(root, root.Bokeh);\n      }if (force === true) {\n        display_loaded();\n      }} else if (Date.now() < root._bokeh_timeout) {\n      setTimeout(run_inline_js, 100);\n    } else if (!root._bokeh_failed_load) {\n      console.log(\"Bokeh: BokehJS failed to load within specified timeout.\");\n      root._bokeh_failed_load = true;\n    } else if (force !== true) {\n      var cell = $(document.getElementById(\"be011a8d-a864-4519-8d9e-f0c3a5a5813f\")).parents('.cell').data().cell;\n      cell.output_area.append_execute_result(NB_LOAD_WARNING)\n    }\n\n  }\n\n  if (root._bokeh_is_loading === 0) {\n    console.log(\"Bokeh: BokehJS loaded, going straight to plotting\");\n    run_inline_js();\n  } else {\n    load_libs(js_urls, function() {\n      console.log(\"Bokeh: BokehJS plotting callback run at\", now());\n      run_inline_js();\n    });\n  }\n}(window));"
     },
     "metadata": {},
     "output_type": "display_data"
    }
   ],
   "source": [
    "output_notebook()\n"
   ]
  },
  {
   "cell_type": "markdown",
   "metadata": {},
   "source": [
    "# Colors and Properties"
   ]
  },
  {
   "cell_type": "markdown",
   "metadata": {},
   "source": [
    "## Colors\n",
    "\n",
    "There are many places where you may need to specify colors. Bokeh can accept colors in a variety of different ways:\n",
    "\n",
    "* any of the [147 named CSS colors](http://www.w3schools.com/cssref/css_colornames.asp), e.g ``'green'``, ``'indigo'``\n",
    "* an RGB(A) hex value, e.g., ``'#FF0000'``, ``'#44444444'``\n",
    "* a 3-tuple of integers *(r,g,b)* between 0 and 255\n",
    "*  a 4-tuple of *(r,g,b,a)* where *r*, *g*, *b* are integers between 0 and 255 and *a* is a floating point value between 0 and 1\n",
    "\n"
   ]
  },
  {
   "cell_type": "markdown",
   "metadata": {
    "collapsed": true
   },
   "source": [
    "## Properties\n",
    "\n",
    "Regardless of what API (``models``, ``plotting``, or ``charts``) is used to create a Bokeh plot, styling the visual aspects of the plot can always be accomplished by setting attributes on the Bokeh model objects that comprise the resulting plot. Visual properties come in three kinds: line, fill, and text properties. For full information with code and examples see the [Styling Visual Properties](http://bokeh.pydata.org/en/latest/docs/user_guide/styling.html) section of the user guide. \n",
    "\n",
    "----\n",
    "\n",
    "### Line Properties\n",
    "\n",
    "Set the visual appearance of lines. The most common are ``line_color``, ``line_alpha``, ``line_width`` and ``line_dash``.\n",
    "\n",
    "### Fill Properties\n",
    "\n",
    "Set the visual appearance of filled areas: ``fill_color`` and ``fill_alpha``.\n",
    "\n",
    "### Text Properties\n",
    "\n",
    "Set the visual appearance of lines of text. The most common are ``text_font``, ``text_font_size``, ``text_color``, and ``text_alpha``.\n",
    "\n",
    "----\n",
    "\n",
    "Sometimes a prefix is used with property names, e.g. to distinguish between different line properties on the same object, or to give a more meaningful name. For example, to set the line width of the plot outline, you would say ``myplot.outline_line_width = 2``. "
   ]
  },
  {
   "cell_type": "markdown",
   "metadata": {},
   "source": [
    "# Plots\n",
    "\n",
    "Many top-level attributes of plots (outline, border, etc.) can be configured. See the [Plots](http://bokeh.pydata.org/en/latest/docs/user_guide/styling.html#plots) section of the styling guide for full information. \n",
    "\n",
    "Here is an example that tweaks the plot outline:"
   ]
  },
  {
   "cell_type": "code",
   "execution_count": 3,
   "metadata": {
    "scrolled": false
   },
   "outputs": [
    {
     "data": {
      "text/html": [
       "\n",
       "<div class=\"bk-root\">\n",
       "    <div class=\"bk-plotdiv\" id=\"3759792b-6e5e-4e2a-8881-640c58a33664\"></div>\n",
       "</div>"
      ]
     },
     "metadata": {},
     "output_type": "display_data"
    },
    {
     "data": {
      "application/javascript": [
       "(function(root) {\n",
       "  function embed_document(root) {\n",
       "    \n",
       "  var docs_json = {\"270779df-36d8-472a-96d1-12ca3a4e7cae\":{\"roots\":{\"references\":[{\"attributes\":{},\"id\":\"caafd303-a84c-4b96-a7c0-9b92f03ce1a1\",\"type\":\"ResetTool\"},{\"attributes\":{\"data_source\":{\"id\":\"2ca83db9-45f4-4dfb-8fad-536e1674c128\",\"type\":\"ColumnDataSource\"},\"glyph\":{\"id\":\"8db62c32-ce2c-47a0-8e0a-76b6445ff572\",\"type\":\"Circle\"},\"hover_glyph\":null,\"muted_glyph\":null,\"nonselection_glyph\":{\"id\":\"c79ca19f-cc29-4d56-9fd0-c7c47ce37efc\",\"type\":\"Circle\"},\"selection_glyph\":null,\"view\":{\"id\":\"27888b7b-5d6b-48d6-864c-6bd7aba4b95d\",\"type\":\"CDSView\"}},\"id\":\"0fd17abf-079b-4f73-be62-6cb0a85e677b\",\"type\":\"GlyphRenderer\"},{\"attributes\":{},\"id\":\"8fe86457-da4f-40d0-8b04-a23b4561b0ea\",\"type\":\"BasicTickFormatter\"},{\"attributes\":{\"formatter\":{\"id\":\"8fe86457-da4f-40d0-8b04-a23b4561b0ea\",\"type\":\"BasicTickFormatter\"},\"plot\":{\"id\":\"c96d65bc-b0f2-4368-a274-7997248aaf1b\",\"subtype\":\"Figure\",\"type\":\"Plot\"},\"ticker\":{\"id\":\"d644451e-dc0c-4a2a-9e04-6b03b7e3b4c9\",\"type\":\"BasicTicker\"}},\"id\":\"d03997b0-a62d-42ce-b62e-c950469f1169\",\"type\":\"LinearAxis\"},{\"attributes\":{},\"id\":\"e105cd22-2971-4b39-be98-bd0fc38b3b7d\",\"type\":\"SaveTool\"},{\"attributes\":{},\"id\":\"0852d2dc-36b2-4c33-a0c1-148c618ba274\",\"type\":\"LinearScale\"},{\"attributes\":{},\"id\":\"40680194-77e5-426e-97ed-24644ac43173\",\"type\":\"HelpTool\"},{\"attributes\":{\"below\":[{\"id\":\"2161d7a8-0173-4348-84cb-db04b69ded92\",\"type\":\"LinearAxis\"}],\"left\":[{\"id\":\"d03997b0-a62d-42ce-b62e-c950469f1169\",\"type\":\"LinearAxis\"}],\"outline_line_alpha\":{\"value\":0.3},\"outline_line_color\":{\"value\":\"navy\"},\"outline_line_width\":{\"value\":7},\"plot_height\":400,\"plot_width\":400,\"renderers\":[{\"id\":\"2161d7a8-0173-4348-84cb-db04b69ded92\",\"type\":\"LinearAxis\"},{\"id\":\"0eb7eb5f-35b2-44f1-ad8d-f425f946c314\",\"type\":\"Grid\"},{\"id\":\"d03997b0-a62d-42ce-b62e-c950469f1169\",\"type\":\"LinearAxis\"},{\"id\":\"03bcf31f-f51b-4746-bbb0-ad384ef8fab3\",\"type\":\"Grid\"},{\"id\":\"ea032d48-a234-438a-8e2e-318bf621e5be\",\"type\":\"BoxAnnotation\"},{\"id\":\"0fd17abf-079b-4f73-be62-6cb0a85e677b\",\"type\":\"GlyphRenderer\"}],\"title\":{\"id\":\"0beda1f2-08bb-41fd-8a61-8da916552809\",\"type\":\"Title\"},\"toolbar\":{\"id\":\"ee03c2b0-b321-4eaf-8262-c24f85d98de6\",\"type\":\"Toolbar\"},\"x_range\":{\"id\":\"a1c57101-62de-45e6-a08b-8d0eadcf759c\",\"type\":\"DataRange1d\"},\"x_scale\":{\"id\":\"0852d2dc-36b2-4c33-a0c1-148c618ba274\",\"type\":\"LinearScale\"},\"y_range\":{\"id\":\"f19f41b3-0782-4f45-91d3-ad196bcf413d\",\"type\":\"DataRange1d\"},\"y_scale\":{\"id\":\"4b981698-56e6-4b57-a723-86e802007c40\",\"type\":\"LinearScale\"}},\"id\":\"c96d65bc-b0f2-4368-a274-7997248aaf1b\",\"subtype\":\"Figure\",\"type\":\"Plot\"},{\"attributes\":{},\"id\":\"ff3d91f9-6f33-49f1-930a-653743117b5b\",\"type\":\"WheelZoomTool\"},{\"attributes\":{\"plot\":null,\"text\":\"\"},\"id\":\"0beda1f2-08bb-41fd-8a61-8da916552809\",\"type\":\"Title\"},{\"attributes\":{},\"id\":\"d644451e-dc0c-4a2a-9e04-6b03b7e3b4c9\",\"type\":\"BasicTicker\"},{\"attributes\":{\"callback\":null},\"id\":\"f19f41b3-0782-4f45-91d3-ad196bcf413d\",\"type\":\"DataRange1d\"},{\"attributes\":{\"overlay\":{\"id\":\"ea032d48-a234-438a-8e2e-318bf621e5be\",\"type\":\"BoxAnnotation\"}},\"id\":\"9bea45ae-35e0-4bc5-84ea-7b25accc0fc5\",\"type\":\"BoxZoomTool\"},{\"attributes\":{},\"id\":\"638e8c7b-2250-4ad2-b950-4a4e94710e91\",\"type\":\"PanTool\"},{\"attributes\":{},\"id\":\"5c4efa7e-cffd-4e8e-8a85-96167efb9626\",\"type\":\"BasicTicker\"},{\"attributes\":{\"callback\":null},\"id\":\"a1c57101-62de-45e6-a08b-8d0eadcf759c\",\"type\":\"DataRange1d\"},{\"attributes\":{\"plot\":{\"id\":\"c96d65bc-b0f2-4368-a274-7997248aaf1b\",\"subtype\":\"Figure\",\"type\":\"Plot\"},\"ticker\":{\"id\":\"5c4efa7e-cffd-4e8e-8a85-96167efb9626\",\"type\":\"BasicTicker\"}},\"id\":\"0eb7eb5f-35b2-44f1-ad8d-f425f946c314\",\"type\":\"Grid\"},{\"attributes\":{\"active_drag\":\"auto\",\"active_inspect\":\"auto\",\"active_scroll\":\"auto\",\"active_tap\":\"auto\",\"tools\":[{\"id\":\"638e8c7b-2250-4ad2-b950-4a4e94710e91\",\"type\":\"PanTool\"},{\"id\":\"ff3d91f9-6f33-49f1-930a-653743117b5b\",\"type\":\"WheelZoomTool\"},{\"id\":\"9bea45ae-35e0-4bc5-84ea-7b25accc0fc5\",\"type\":\"BoxZoomTool\"},{\"id\":\"e105cd22-2971-4b39-be98-bd0fc38b3b7d\",\"type\":\"SaveTool\"},{\"id\":\"caafd303-a84c-4b96-a7c0-9b92f03ce1a1\",\"type\":\"ResetTool\"},{\"id\":\"40680194-77e5-426e-97ed-24644ac43173\",\"type\":\"HelpTool\"}]},\"id\":\"ee03c2b0-b321-4eaf-8262-c24f85d98de6\",\"type\":\"Toolbar\"},{\"attributes\":{},\"id\":\"4b981698-56e6-4b57-a723-86e802007c40\",\"type\":\"LinearScale\"},{\"attributes\":{\"formatter\":{\"id\":\"137916fb-8f5b-43cd-a555-055561ab28fe\",\"type\":\"BasicTickFormatter\"},\"plot\":{\"id\":\"c96d65bc-b0f2-4368-a274-7997248aaf1b\",\"subtype\":\"Figure\",\"type\":\"Plot\"},\"ticker\":{\"id\":\"5c4efa7e-cffd-4e8e-8a85-96167efb9626\",\"type\":\"BasicTicker\"}},\"id\":\"2161d7a8-0173-4348-84cb-db04b69ded92\",\"type\":\"LinearAxis\"},{\"attributes\":{\"bottom_units\":\"screen\",\"fill_alpha\":{\"value\":0.5},\"fill_color\":{\"value\":\"lightgrey\"},\"left_units\":\"screen\",\"level\":\"overlay\",\"line_alpha\":{\"value\":1.0},\"line_color\":{\"value\":\"black\"},\"line_dash\":[4,4],\"line_width\":{\"value\":2},\"plot\":null,\"render_mode\":\"css\",\"right_units\":\"screen\",\"top_units\":\"screen\"},\"id\":\"ea032d48-a234-438a-8e2e-318bf621e5be\",\"type\":\"BoxAnnotation\"},{\"attributes\":{\"callback\":null,\"column_names\":[\"y\",\"x\"],\"data\":{\"x\":[1,2,3,4,5],\"y\":[2,5,8,2,7]}},\"id\":\"2ca83db9-45f4-4dfb-8fad-536e1674c128\",\"type\":\"ColumnDataSource\"},{\"attributes\":{},\"id\":\"137916fb-8f5b-43cd-a555-055561ab28fe\",\"type\":\"BasicTickFormatter\"},{\"attributes\":{\"fill_alpha\":{\"value\":0.1},\"fill_color\":{\"value\":\"#1f77b4\"},\"line_alpha\":{\"value\":0.1},\"line_color\":{\"value\":\"#1f77b4\"},\"size\":{\"units\":\"screen\",\"value\":10},\"x\":{\"field\":\"x\"},\"y\":{\"field\":\"y\"}},\"id\":\"c79ca19f-cc29-4d56-9fd0-c7c47ce37efc\",\"type\":\"Circle\"},{\"attributes\":{\"dimension\":1,\"plot\":{\"id\":\"c96d65bc-b0f2-4368-a274-7997248aaf1b\",\"subtype\":\"Figure\",\"type\":\"Plot\"},\"ticker\":{\"id\":\"d644451e-dc0c-4a2a-9e04-6b03b7e3b4c9\",\"type\":\"BasicTicker\"}},\"id\":\"03bcf31f-f51b-4746-bbb0-ad384ef8fab3\",\"type\":\"Grid\"},{\"attributes\":{\"fill_color\":{\"value\":\"#1f77b4\"},\"line_color\":{\"value\":\"#1f77b4\"},\"size\":{\"units\":\"screen\",\"value\":10},\"x\":{\"field\":\"x\"},\"y\":{\"field\":\"y\"}},\"id\":\"8db62c32-ce2c-47a0-8e0a-76b6445ff572\",\"type\":\"Circle\"},{\"attributes\":{\"source\":{\"id\":\"2ca83db9-45f4-4dfb-8fad-536e1674c128\",\"type\":\"ColumnDataSource\"}},\"id\":\"27888b7b-5d6b-48d6-864c-6bd7aba4b95d\",\"type\":\"CDSView\"}],\"root_ids\":[\"c96d65bc-b0f2-4368-a274-7997248aaf1b\"]},\"title\":\"Bokeh Application\",\"version\":\"0.12.13\"}};\n",
       "  var render_items = [{\"docid\":\"270779df-36d8-472a-96d1-12ca3a4e7cae\",\"elementid\":\"3759792b-6e5e-4e2a-8881-640c58a33664\",\"modelid\":\"c96d65bc-b0f2-4368-a274-7997248aaf1b\"}];\n",
       "  root.Bokeh.embed.embed_items_notebook(docs_json, render_items);\n",
       "\n",
       "  }\n",
       "  if (root.Bokeh !== undefined) {\n",
       "    embed_document(root);\n",
       "  } else {\n",
       "    var attempts = 0;\n",
       "    var timer = setInterval(function(root) {\n",
       "      if (root.Bokeh !== undefined) {\n",
       "        embed_document(root);\n",
       "        clearInterval(timer);\n",
       "      }\n",
       "      attempts++;\n",
       "      if (attempts > 100) {\n",
       "        console.log(\"Bokeh: ERROR: Unable to run BokehJS code because BokehJS library is missing\")\n",
       "        clearInterval(timer);\n",
       "      }\n",
       "    }, 10, root)\n",
       "  }\n",
       "})(window);"
      ],
      "application/vnd.bokehjs_exec.v0+json": ""
     },
     "metadata": {
      "application/vnd.bokehjs_exec.v0+json": {
       "id": "c96d65bc-b0f2-4368-a274-7997248aaf1b"
      }
     },
     "output_type": "display_data"
    }
   ],
   "source": [
    "# create a new plot with a title\n",
    "p = figure(plot_width=400, plot_height=400)\n",
    "p.outline_line_width = 7\n",
    "p.outline_line_alpha = 0.3\n",
    "p.outline_line_color = \"navy\"\n",
    "\n",
    "p.circle([1,2,3,4,5], [2,5,8,2,7], size=10)\n",
    "\n",
    "show(p)"
   ]
  },
  {
   "cell_type": "code",
   "execution_count": 4,
   "metadata": {
    "collapsed": true
   },
   "outputs": [],
   "source": [
    "# EXERCISE Create a plot of your own and customize several plot-level properties\n"
   ]
  },
  {
   "cell_type": "markdown",
   "metadata": {},
   "source": [
    "# Glyphs\n",
    "\n",
    "It's also possible to style the visual properties of glyphs. When using `bokeh.plotting` this is often done when calling the glyph methods:\n",
    "```python\n",
    "p.circle(line_color=\"red\", fill_alpha=0.2, ...)\n",
    "```\n",
    "But it is also possible to set these properties directly on glyph objects. Glyph objects are found on `GlyphRenderer` objects, which are returned by the `Plot.add_glyph` and `bokeh.plotting` glyph methods like `circle`, `rect`, etc. Let's look at an example:"
   ]
  },
  {
   "cell_type": "code",
   "execution_count": 4,
   "metadata": {},
   "outputs": [
    {
     "data": {
      "text/html": [
       "\n",
       "<div class=\"bk-root\">\n",
       "    <div class=\"bk-plotdiv\" id=\"948f123d-6e8f-45c0-8efe-5e6176565468\"></div>\n",
       "</div>"
      ]
     },
     "metadata": {},
     "output_type": "display_data"
    },
    {
     "data": {
      "application/javascript": [
       "(function(root) {\n",
       "  function embed_document(root) {\n",
       "    \n",
       "  var docs_json = {\"1cbcac2a-e7bb-4904-8771-7d852ab4acec\":{\"roots\":{\"references\":[{\"attributes\":{\"callback\":null,\"column_names\":[\"y\",\"x\"],\"data\":{\"x\":[1,2,3,4,5],\"y\":[2,5,8,2,7]}},\"id\":\"43452ed4-de78-4404-af7e-2517d64284b7\",\"type\":\"ColumnDataSource\"},{\"attributes\":{\"data_source\":{\"id\":\"43452ed4-de78-4404-af7e-2517d64284b7\",\"type\":\"ColumnDataSource\"},\"glyph\":{\"id\":\"be1fe564-7d31-4d8f-ae4e-f7cb5b8ba169\",\"type\":\"Circle\"},\"hover_glyph\":null,\"muted_glyph\":null,\"nonselection_glyph\":{\"id\":\"3b42e8b0-10ea-41cc-8330-edf0ac0678e0\",\"type\":\"Circle\"},\"selection_glyph\":null,\"view\":{\"id\":\"04045fee-9297-4d50-a2e3-16bb450a58d0\",\"type\":\"CDSView\"}},\"id\":\"b1ab59ba-78a1-4335-8e1b-516cb1503e2e\",\"type\":\"GlyphRenderer\"},{\"attributes\":{\"overlay\":{\"id\":\"37fe0fa5-67de-464c-8bb5-dbea585de946\",\"type\":\"BoxAnnotation\"}},\"id\":\"1784d478-fabd-4e8a-b600-e8060c6f0cb4\",\"type\":\"BoxZoomTool\"},{\"attributes\":{\"below\":[{\"id\":\"f6c6fed7-d758-4a70-ada8-7ace600e036b\",\"type\":\"LinearAxis\"}],\"left\":[{\"id\":\"44fa1d1e-e9ba-4c82-9358-3c03253855ec\",\"type\":\"LinearAxis\"}],\"plot_height\":400,\"plot_width\":400,\"renderers\":[{\"id\":\"f6c6fed7-d758-4a70-ada8-7ace600e036b\",\"type\":\"LinearAxis\"},{\"id\":\"2492295b-06e0-4363-a74d-0e508856ceba\",\"type\":\"Grid\"},{\"id\":\"44fa1d1e-e9ba-4c82-9358-3c03253855ec\",\"type\":\"LinearAxis\"},{\"id\":\"089f1842-91a2-4032-87a6-72c8bd54ac71\",\"type\":\"Grid\"},{\"id\":\"37fe0fa5-67de-464c-8bb5-dbea585de946\",\"type\":\"BoxAnnotation\"},{\"id\":\"b1ab59ba-78a1-4335-8e1b-516cb1503e2e\",\"type\":\"GlyphRenderer\"}],\"title\":{\"id\":\"37d9190e-cb95-4f33-b14d-439f76969911\",\"type\":\"Title\"},\"toolbar\":{\"id\":\"c9ff6ba3-f057-4a35-912f-3e18acc05fcc\",\"type\":\"Toolbar\"},\"x_range\":{\"id\":\"4add5a59-018a-4f1f-b140-a35cde3e609b\",\"type\":\"DataRange1d\"},\"x_scale\":{\"id\":\"83313952-023d-40bb-9adf-6c7e7ed2080d\",\"type\":\"LinearScale\"},\"y_range\":{\"id\":\"f4cfac02-d632-40c7-aa44-8c97fdbbbb04\",\"type\":\"DataRange1d\"},\"y_scale\":{\"id\":\"8ae03eb1-c14f-44cf-ab52-95874cd8b673\",\"type\":\"LinearScale\"}},\"id\":\"48e593a5-0a6c-461e-aed3-aec94fd61493\",\"subtype\":\"Figure\",\"type\":\"Plot\"},{\"attributes\":{\"callback\":null},\"id\":\"4add5a59-018a-4f1f-b140-a35cde3e609b\",\"type\":\"DataRange1d\"},{\"attributes\":{},\"id\":\"e83b9ee1-9010-49e3-baaf-d4e9b1d9b9f9\",\"type\":\"BasicTickFormatter\"},{\"attributes\":{},\"id\":\"8ae03eb1-c14f-44cf-ab52-95874cd8b673\",\"type\":\"LinearScale\"},{\"attributes\":{},\"id\":\"83313952-023d-40bb-9adf-6c7e7ed2080d\",\"type\":\"LinearScale\"},{\"attributes\":{\"source\":{\"id\":\"43452ed4-de78-4404-af7e-2517d64284b7\",\"type\":\"ColumnDataSource\"}},\"id\":\"04045fee-9297-4d50-a2e3-16bb450a58d0\",\"type\":\"CDSView\"},{\"attributes\":{},\"id\":\"ee66b936-6350-4170-bd4d-c242936e0f3b\",\"type\":\"BasicTicker\"},{\"attributes\":{},\"id\":\"efcd9e10-5c7d-4401-b20b-89de425aafb7\",\"type\":\"ResetTool\"},{\"attributes\":{\"bottom_units\":\"screen\",\"fill_alpha\":{\"value\":0.5},\"fill_color\":{\"value\":\"lightgrey\"},\"left_units\":\"screen\",\"level\":\"overlay\",\"line_alpha\":{\"value\":1.0},\"line_color\":{\"value\":\"black\"},\"line_dash\":[4,4],\"line_width\":{\"value\":2},\"plot\":null,\"render_mode\":\"css\",\"right_units\":\"screen\",\"top_units\":\"screen\"},\"id\":\"37fe0fa5-67de-464c-8bb5-dbea585de946\",\"type\":\"BoxAnnotation\"},{\"attributes\":{\"plot\":{\"id\":\"48e593a5-0a6c-461e-aed3-aec94fd61493\",\"subtype\":\"Figure\",\"type\":\"Plot\"},\"ticker\":{\"id\":\"643adbbf-a926-4c21-9085-6b7032830945\",\"type\":\"BasicTicker\"}},\"id\":\"2492295b-06e0-4363-a74d-0e508856ceba\",\"type\":\"Grid\"},{\"attributes\":{\"plot\":null,\"text\":\"\"},\"id\":\"37d9190e-cb95-4f33-b14d-439f76969911\",\"type\":\"Title\"},{\"attributes\":{},\"id\":\"41eadc6e-d629-4158-b5a0-c3c7039aa745\",\"type\":\"HelpTool\"},{\"attributes\":{},\"id\":\"21afd128-db43-404f-aa0a-c3a0e858f2af\",\"type\":\"BasicTickFormatter\"},{\"attributes\":{},\"id\":\"60a80241-ab1d-43bd-af99-6132460bbd13\",\"type\":\"WheelZoomTool\"},{\"attributes\":{\"formatter\":{\"id\":\"21afd128-db43-404f-aa0a-c3a0e858f2af\",\"type\":\"BasicTickFormatter\"},\"plot\":{\"id\":\"48e593a5-0a6c-461e-aed3-aec94fd61493\",\"subtype\":\"Figure\",\"type\":\"Plot\"},\"ticker\":{\"id\":\"643adbbf-a926-4c21-9085-6b7032830945\",\"type\":\"BasicTicker\"}},\"id\":\"f6c6fed7-d758-4a70-ada8-7ace600e036b\",\"type\":\"LinearAxis\"},{\"attributes\":{\"formatter\":{\"id\":\"e83b9ee1-9010-49e3-baaf-d4e9b1d9b9f9\",\"type\":\"BasicTickFormatter\"},\"plot\":{\"id\":\"48e593a5-0a6c-461e-aed3-aec94fd61493\",\"subtype\":\"Figure\",\"type\":\"Plot\"},\"ticker\":{\"id\":\"ee66b936-6350-4170-bd4d-c242936e0f3b\",\"type\":\"BasicTicker\"}},\"id\":\"44fa1d1e-e9ba-4c82-9358-3c03253855ec\",\"type\":\"LinearAxis\"},{\"attributes\":{},\"id\":\"643adbbf-a926-4c21-9085-6b7032830945\",\"type\":\"BasicTicker\"},{\"attributes\":{},\"id\":\"b3d19587-0a40-42a1-9ec7-b4d47bda1a30\",\"type\":\"SaveTool\"},{\"attributes\":{\"active_drag\":\"auto\",\"active_inspect\":\"auto\",\"active_scroll\":\"auto\",\"active_tap\":\"auto\",\"tools\":[{\"id\":\"8d6ecc9b-dd01-4506-aff8-747c9e22dc83\",\"type\":\"PanTool\"},{\"id\":\"60a80241-ab1d-43bd-af99-6132460bbd13\",\"type\":\"WheelZoomTool\"},{\"id\":\"1784d478-fabd-4e8a-b600-e8060c6f0cb4\",\"type\":\"BoxZoomTool\"},{\"id\":\"b3d19587-0a40-42a1-9ec7-b4d47bda1a30\",\"type\":\"SaveTool\"},{\"id\":\"efcd9e10-5c7d-4401-b20b-89de425aafb7\",\"type\":\"ResetTool\"},{\"id\":\"41eadc6e-d629-4158-b5a0-c3c7039aa745\",\"type\":\"HelpTool\"}]},\"id\":\"c9ff6ba3-f057-4a35-912f-3e18acc05fcc\",\"type\":\"Toolbar\"},{\"attributes\":{\"fill_alpha\":{\"value\":0.1},\"fill_color\":{\"value\":\"#1f77b4\"},\"line_alpha\":{\"value\":0.1},\"line_color\":{\"value\":\"#1f77b4\"},\"x\":{\"field\":\"x\"},\"y\":{\"field\":\"y\"}},\"id\":\"3b42e8b0-10ea-41cc-8330-edf0ac0678e0\",\"type\":\"Circle\"},{\"attributes\":{\"callback\":null},\"id\":\"f4cfac02-d632-40c7-aa44-8c97fdbbbb04\",\"type\":\"DataRange1d\"},{\"attributes\":{},\"id\":\"8d6ecc9b-dd01-4506-aff8-747c9e22dc83\",\"type\":\"PanTool\"},{\"attributes\":{\"fill_alpha\":{\"value\":0.2},\"fill_color\":{\"value\":\"#1f77b4\"},\"line_color\":{\"value\":\"firebrick\"},\"line_dash\":[5,1],\"line_width\":{\"value\":2},\"size\":{\"units\":\"screen\",\"value\":50},\"x\":{\"field\":\"x\"},\"y\":{\"field\":\"y\"}},\"id\":\"be1fe564-7d31-4d8f-ae4e-f7cb5b8ba169\",\"type\":\"Circle\"},{\"attributes\":{\"dimension\":1,\"plot\":{\"id\":\"48e593a5-0a6c-461e-aed3-aec94fd61493\",\"subtype\":\"Figure\",\"type\":\"Plot\"},\"ticker\":{\"id\":\"ee66b936-6350-4170-bd4d-c242936e0f3b\",\"type\":\"BasicTicker\"}},\"id\":\"089f1842-91a2-4032-87a6-72c8bd54ac71\",\"type\":\"Grid\"}],\"root_ids\":[\"48e593a5-0a6c-461e-aed3-aec94fd61493\"]},\"title\":\"Bokeh Application\",\"version\":\"0.12.13\"}};\n",
       "  var render_items = [{\"docid\":\"1cbcac2a-e7bb-4904-8771-7d852ab4acec\",\"elementid\":\"948f123d-6e8f-45c0-8efe-5e6176565468\",\"modelid\":\"48e593a5-0a6c-461e-aed3-aec94fd61493\"}];\n",
       "  root.Bokeh.embed.embed_items_notebook(docs_json, render_items);\n",
       "\n",
       "  }\n",
       "  if (root.Bokeh !== undefined) {\n",
       "    embed_document(root);\n",
       "  } else {\n",
       "    var attempts = 0;\n",
       "    var timer = setInterval(function(root) {\n",
       "      if (root.Bokeh !== undefined) {\n",
       "        embed_document(root);\n",
       "        clearInterval(timer);\n",
       "      }\n",
       "      attempts++;\n",
       "      if (attempts > 100) {\n",
       "        console.log(\"Bokeh: ERROR: Unable to run BokehJS code because BokehJS library is missing\")\n",
       "        clearInterval(timer);\n",
       "      }\n",
       "    }, 10, root)\n",
       "  }\n",
       "})(window);"
      ],
      "application/vnd.bokehjs_exec.v0+json": ""
     },
     "metadata": {
      "application/vnd.bokehjs_exec.v0+json": {
       "id": "48e593a5-0a6c-461e-aed3-aec94fd61493"
      }
     },
     "output_type": "display_data"
    }
   ],
   "source": [
    "p = figure(plot_width=400, plot_height=400)\n",
    "\n",
    "# keep a reference to the returned GlyphRenderer\n",
    "r = p.circle([1,2,3,4,5], [2,5,8,2,7])\n",
    "\n",
    "r.glyph.size = 50\n",
    "r.glyph.fill_alpha = 0.2\n",
    "r.glyph.line_color = \"firebrick\"\n",
    "r.glyph.line_dash = [5, 1]\n",
    "r.glyph.line_width = 2\n",
    "\n",
    "show(p)"
   ]
  },
  {
   "cell_type": "markdown",
   "metadata": {},
   "source": [
    "### Selection and non-selection visuals\n",
    "\n",
    "You can also control how glyphs look when there are selections involved. The set of \"selected\" points is displayed according to the optional `.selection_glyph` property of a `GlyphRenderer`:\n",
    "```python\n",
    "r.selection_glyph = Circle(fill_alpha=1, fill_color=\"firebrick\", line_color=None) \n",
    "```\n",
    "When there is a non-empty selection, the set of \"unselected: points is displayed according to the optional  `.nonselection_glyph` property of a `GlyphRenderer`:\n",
    "```python\n",
    "r.nonselection_glyph = Circle(fill_alpha=0.2, fill_color=\"grey\", line_color=None) \n",
    "```\n",
    "\n",
    "When using the `bokeh.plotting` interface, it is easier to pass these visual properties to the glyph methods as shown below. The glyph method will create the selection or nonselection glyphs and attach them to the renderer for you. "
   ]
  },
  {
   "cell_type": "code",
   "execution_count": 5,
   "metadata": {},
   "outputs": [
    {
     "data": {
      "text/html": [
       "\n",
       "<div class=\"bk-root\">\n",
       "    <div class=\"bk-plotdiv\" id=\"32268b34-0a3c-4b25-8f40-6b4eb9d8f7cf\"></div>\n",
       "</div>"
      ]
     },
     "metadata": {},
     "output_type": "display_data"
    },
    {
     "data": {
      "application/javascript": [
       "(function(root) {\n",
       "  function embed_document(root) {\n",
       "    \n",
       "  var docs_json = {\"8d69ea1b-e78a-4a5f-99b2-7132763fbe10\":{\"roots\":{\"references\":[{\"attributes\":{\"plot\":null,\"text\":\"Select a circle\"},\"id\":\"9812208f-1b71-469b-b39b-8d2f7be74ee6\",\"type\":\"Title\"},{\"attributes\":{},\"id\":\"5c3390e8-ab00-4e5e-ac90-a36ce0d93199\",\"type\":\"BasicTickFormatter\"},{\"attributes\":{\"active_drag\":\"auto\",\"active_inspect\":\"auto\",\"active_scroll\":\"auto\",\"active_tap\":\"auto\",\"tools\":[{\"id\":\"c024e473-b78c-4d6c-b6f8-75fb15ba54ca\",\"type\":\"TapTool\"}]},\"id\":\"d5ca8508-2e4f-4da7-883b-d8285ff9fbc5\",\"type\":\"Toolbar\"},{\"attributes\":{},\"id\":\"563ae17d-7799-476d-b142-cb340d74f95a\",\"type\":\"LinearScale\"},{\"attributes\":{},\"id\":\"76817702-972c-435c-a8bf-d130cf92ca05\",\"type\":\"LinearScale\"},{\"attributes\":{\"plot\":{\"id\":\"75dd25a3-a6f6-4550-aa23-3be376167b0c\",\"subtype\":\"Figure\",\"type\":\"Plot\"},\"ticker\":{\"id\":\"26993899-1e03-4a33-9ded-63fa75b61458\",\"type\":\"BasicTicker\"}},\"id\":\"de5c9c33-19b3-4597-bff2-afaa5b4f94d2\",\"type\":\"Grid\"},{\"attributes\":{\"callback\":null},\"id\":\"4dcd9f77-562b-4141-9251-2b54177c3380\",\"type\":\"DataRange1d\"},{\"attributes\":{\"source\":{\"id\":\"64461d87-f2d8-4125-a102-d27d21f76ce2\",\"type\":\"ColumnDataSource\"}},\"id\":\"c1e3f738-4adb-4296-8176-654430b33a55\",\"type\":\"CDSView\"},{\"attributes\":{},\"id\":\"fdf96ddb-2ec5-4a83-b183-c4d97d03b5bb\",\"type\":\"BasicTicker\"},{\"attributes\":{\"below\":[{\"id\":\"2663838b-5325-44c0-affd-f4bf2040f3f9\",\"type\":\"LinearAxis\"}],\"left\":[{\"id\":\"eca3383f-75bc-4139-a8fb-69975de44317\",\"type\":\"LinearAxis\"}],\"plot_height\":400,\"plot_width\":400,\"renderers\":[{\"id\":\"2663838b-5325-44c0-affd-f4bf2040f3f9\",\"type\":\"LinearAxis\"},{\"id\":\"de5c9c33-19b3-4597-bff2-afaa5b4f94d2\",\"type\":\"Grid\"},{\"id\":\"eca3383f-75bc-4139-a8fb-69975de44317\",\"type\":\"LinearAxis\"},{\"id\":\"a59586ea-3c32-4809-948c-ffacf7d46a99\",\"type\":\"Grid\"},{\"id\":\"11781cad-47e6-455d-8553-84f344a19e6c\",\"type\":\"GlyphRenderer\"}],\"title\":{\"id\":\"9812208f-1b71-469b-b39b-8d2f7be74ee6\",\"type\":\"Title\"},\"toolbar\":{\"id\":\"d5ca8508-2e4f-4da7-883b-d8285ff9fbc5\",\"type\":\"Toolbar\"},\"x_range\":{\"id\":\"9ac12f85-5ae1-456d-966d-428ddcdde9f2\",\"type\":\"DataRange1d\"},\"x_scale\":{\"id\":\"563ae17d-7799-476d-b142-cb340d74f95a\",\"type\":\"LinearScale\"},\"y_range\":{\"id\":\"4dcd9f77-562b-4141-9251-2b54177c3380\",\"type\":\"DataRange1d\"},\"y_scale\":{\"id\":\"76817702-972c-435c-a8bf-d130cf92ca05\",\"type\":\"LinearScale\"}},\"id\":\"75dd25a3-a6f6-4550-aa23-3be376167b0c\",\"subtype\":\"Figure\",\"type\":\"Plot\"},{\"attributes\":{},\"id\":\"26993899-1e03-4a33-9ded-63fa75b61458\",\"type\":\"BasicTicker\"},{\"attributes\":{\"dimension\":1,\"plot\":{\"id\":\"75dd25a3-a6f6-4550-aa23-3be376167b0c\",\"subtype\":\"Figure\",\"type\":\"Plot\"},\"ticker\":{\"id\":\"fdf96ddb-2ec5-4a83-b183-c4d97d03b5bb\",\"type\":\"BasicTicker\"}},\"id\":\"a59586ea-3c32-4809-948c-ffacf7d46a99\",\"type\":\"Grid\"},{\"attributes\":{\"data_source\":{\"id\":\"64461d87-f2d8-4125-a102-d27d21f76ce2\",\"type\":\"ColumnDataSource\"},\"glyph\":{\"id\":\"b9852b16-eb5e-466b-a8d9-ce884d473ec9\",\"type\":\"Circle\"},\"hover_glyph\":null,\"muted_glyph\":null,\"nonselection_glyph\":{\"id\":\"868decba-3e52-4b7c-ab34-e50cac694b3a\",\"type\":\"Circle\"},\"selection_glyph\":{\"id\":\"db73178e-703c-4805-83b4-0756774ed312\",\"type\":\"Circle\"},\"view\":{\"id\":\"c1e3f738-4adb-4296-8176-654430b33a55\",\"type\":\"CDSView\"}},\"id\":\"11781cad-47e6-455d-8553-84f344a19e6c\",\"type\":\"GlyphRenderer\"},{\"attributes\":{\"callback\":null},\"id\":\"9ac12f85-5ae1-456d-966d-428ddcdde9f2\",\"type\":\"DataRange1d\"},{\"attributes\":{\"callback\":null,\"column_names\":[\"y\",\"x\"],\"data\":{\"x\":[1,2,3,4,5],\"y\":[2,5,8,2,7]}},\"id\":\"64461d87-f2d8-4125-a102-d27d21f76ce2\",\"type\":\"ColumnDataSource\"},{\"attributes\":{\"formatter\":{\"id\":\"ce790e70-e3e0-4b17-95dc-d80b00f9eb04\",\"type\":\"BasicTickFormatter\"},\"plot\":{\"id\":\"75dd25a3-a6f6-4550-aa23-3be376167b0c\",\"subtype\":\"Figure\",\"type\":\"Plot\"},\"ticker\":{\"id\":\"26993899-1e03-4a33-9ded-63fa75b61458\",\"type\":\"BasicTicker\"}},\"id\":\"2663838b-5325-44c0-affd-f4bf2040f3f9\",\"type\":\"LinearAxis\"},{\"attributes\":{\"fill_color\":{\"value\":\"firebrick\"},\"line_color\":{\"value\":\"firebrick\"},\"size\":{\"units\":\"screen\",\"value\":50},\"x\":{\"field\":\"x\"},\"y\":{\"field\":\"y\"}},\"id\":\"db73178e-703c-4805-83b4-0756774ed312\",\"type\":\"Circle\"},{\"attributes\":{\"fill_alpha\":{\"value\":0.2},\"fill_color\":{\"value\":\"grey\"},\"line_color\":{\"value\":\"firebrick\"},\"size\":{\"units\":\"screen\",\"value\":50},\"x\":{\"field\":\"x\"},\"y\":{\"field\":\"y\"}},\"id\":\"868decba-3e52-4b7c-ab34-e50cac694b3a\",\"type\":\"Circle\"},{\"attributes\":{},\"id\":\"ce790e70-e3e0-4b17-95dc-d80b00f9eb04\",\"type\":\"BasicTickFormatter\"},{\"attributes\":{\"callback\":null},\"id\":\"c024e473-b78c-4d6c-b6f8-75fb15ba54ca\",\"type\":\"TapTool\"},{\"attributes\":{\"formatter\":{\"id\":\"5c3390e8-ab00-4e5e-ac90-a36ce0d93199\",\"type\":\"BasicTickFormatter\"},\"plot\":{\"id\":\"75dd25a3-a6f6-4550-aa23-3be376167b0c\",\"subtype\":\"Figure\",\"type\":\"Plot\"},\"ticker\":{\"id\":\"fdf96ddb-2ec5-4a83-b183-c4d97d03b5bb\",\"type\":\"BasicTicker\"}},\"id\":\"eca3383f-75bc-4139-a8fb-69975de44317\",\"type\":\"LinearAxis\"},{\"attributes\":{\"fill_color\":{\"value\":\"#1f77b4\"},\"line_color\":{\"value\":\"#1f77b4\"},\"size\":{\"units\":\"screen\",\"value\":50},\"x\":{\"field\":\"x\"},\"y\":{\"field\":\"y\"}},\"id\":\"b9852b16-eb5e-466b-a8d9-ce884d473ec9\",\"type\":\"Circle\"}],\"root_ids\":[\"75dd25a3-a6f6-4550-aa23-3be376167b0c\"]},\"title\":\"Bokeh Application\",\"version\":\"0.12.13\"}};\n",
       "  var render_items = [{\"docid\":\"8d69ea1b-e78a-4a5f-99b2-7132763fbe10\",\"elementid\":\"32268b34-0a3c-4b25-8f40-6b4eb9d8f7cf\",\"modelid\":\"75dd25a3-a6f6-4550-aa23-3be376167b0c\"}];\n",
       "  root.Bokeh.embed.embed_items_notebook(docs_json, render_items);\n",
       "\n",
       "  }\n",
       "  if (root.Bokeh !== undefined) {\n",
       "    embed_document(root);\n",
       "  } else {\n",
       "    var attempts = 0;\n",
       "    var timer = setInterval(function(root) {\n",
       "      if (root.Bokeh !== undefined) {\n",
       "        embed_document(root);\n",
       "        clearInterval(timer);\n",
       "      }\n",
       "      attempts++;\n",
       "      if (attempts > 100) {\n",
       "        console.log(\"Bokeh: ERROR: Unable to run BokehJS code because BokehJS library is missing\")\n",
       "        clearInterval(timer);\n",
       "      }\n",
       "    }, 10, root)\n",
       "  }\n",
       "})(window);"
      ],
      "application/vnd.bokehjs_exec.v0+json": ""
     },
     "metadata": {
      "application/vnd.bokehjs_exec.v0+json": {
       "id": "75dd25a3-a6f6-4550-aa23-3be376167b0c"
      }
     },
     "output_type": "display_data"
    }
   ],
   "source": [
    "p = figure(plot_width=400, plot_height=400, tools=\"tap\", title=\"Select a circle\")\n",
    "renderer = p.circle([1, 2, 3, 4, 5], [2, 5, 8, 2, 7], size=50,\n",
    "\n",
    "                    # set visual properties for selected glyphs\n",
    "                    selection_color=\"firebrick\",\n",
    "\n",
    "                    # set visual properties for non-selected glyphs\n",
    "                    nonselection_fill_alpha=0.2,\n",
    "                    nonselection_fill_color=\"grey\",\n",
    "                    nonselection_line_color=\"firebrick\",\n",
    "                    nonselection_line_alpha=1.0)\n",
    "show(p)"
   ]
  },
  {
   "cell_type": "markdown",
   "metadata": {},
   "source": [
    "It is also possible to specify the visual appearance of glyphs when they are \"inspected\", e.g. by a hover tool. This is accomplished by setting an optional `hover_glyph` on the glyph renderer:\n",
    "\n",
    "    r.hover_glyph = Circle(fill_alpha=1, fill_color=\"firebrick\", line_color=None) "
   ]
  },
  {
   "cell_type": "code",
   "execution_count": 6,
   "metadata": {},
   "outputs": [
    {
     "data": {
      "text/html": [
       "\n",
       "<div class=\"bk-root\">\n",
       "    <div class=\"bk-plotdiv\" id=\"e22a35b3-db3f-46f9-9125-d23774c6a63a\"></div>\n",
       "</div>"
      ]
     },
     "metadata": {},
     "output_type": "display_data"
    },
    {
     "data": {
      "application/javascript": [
       "(function(root) {\n",
       "  function embed_document(root) {\n",
       "    \n",
       "  var docs_json = {\"52b77d96-3002-43aa-9734-5b3c40aa7572\":{\"roots\":{\"references\":[{\"attributes\":{\"active_drag\":\"auto\",\"active_inspect\":\"auto\",\"active_scroll\":\"auto\",\"active_tap\":\"auto\",\"tools\":[{\"id\":\"88138ab2-87c4-4e51-a0dd-7baa7cfc2ccb\",\"type\":\"TapTool\"}]},\"id\":\"87144e60-3c5e-4ecc-a144-a2f17c40c052\",\"type\":\"Toolbar\"},{\"attributes\":{\"fill_color\":{\"value\":\"firebrick\"},\"line_color\":{\"value\":\"firebrick\"},\"size\":{\"units\":\"screen\",\"value\":50},\"x\":{\"field\":\"x\"},\"y\":{\"field\":\"y\"}},\"id\":\"1abe7074-7433-4023-bab4-684d3a63bb2f\",\"type\":\"Circle\"},{\"attributes\":{\"formatter\":{\"id\":\"74608c48-02ac-41cc-ab99-d848073ef80e\",\"type\":\"BasicTickFormatter\"},\"plot\":{\"id\":\"57f4aab7-8cd3-4189-bb32-e9ae03f75051\",\"subtype\":\"Figure\",\"type\":\"Plot\"},\"ticker\":{\"id\":\"8bac3655-46fb-4cd8-b0a7-217d41be5007\",\"type\":\"BasicTicker\"}},\"id\":\"f2816976-d7f1-4762-a149-c991ef418cee\",\"type\":\"LinearAxis\"},{\"attributes\":{\"plot\":{\"id\":\"57f4aab7-8cd3-4189-bb32-e9ae03f75051\",\"subtype\":\"Figure\",\"type\":\"Plot\"},\"ticker\":{\"id\":\"3007319a-0d43-43b1-bef6-c97696c1ffe0\",\"type\":\"BasicTicker\"}},\"id\":\"a1bcdbf2-7c35-4bf1-9324-f6a0d7d9a9ac\",\"type\":\"Grid\"},{\"attributes\":{},\"id\":\"3007319a-0d43-43b1-bef6-c97696c1ffe0\",\"type\":\"BasicTicker\"},{\"attributes\":{\"callback\":null,\"column_names\":[\"y\",\"x\"],\"data\":{\"x\":[1,2,3,4,5],\"y\":[2,5,8,2,7]}},\"id\":\"0c2c376f-9991-4417-928f-0822b7232741\",\"type\":\"ColumnDataSource\"},{\"attributes\":{\"callback\":null},\"id\":\"88138ab2-87c4-4e51-a0dd-7baa7cfc2ccb\",\"type\":\"TapTool\"},{\"attributes\":{},\"id\":\"74608c48-02ac-41cc-ab99-d848073ef80e\",\"type\":\"BasicTickFormatter\"},{\"attributes\":{},\"id\":\"0e23aad0-c2c8-4c6d-9733-122b1884a4f5\",\"type\":\"LinearScale\"},{\"attributes\":{\"data_source\":{\"id\":\"0c2c376f-9991-4417-928f-0822b7232741\",\"type\":\"ColumnDataSource\"},\"glyph\":{\"id\":\"3ff92123-1554-4ec6-9b07-eac64497fd6e\",\"type\":\"Circle\"},\"hover_glyph\":null,\"muted_glyph\":null,\"nonselection_glyph\":{\"id\":\"29770cec-bbd7-49f4-bc7e-bd6c1cf7315d\",\"type\":\"Circle\"},\"selection_glyph\":{\"id\":\"1abe7074-7433-4023-bab4-684d3a63bb2f\",\"type\":\"Circle\"},\"view\":{\"id\":\"09171cc0-5a05-43f0-ac4b-b50d7e8e8b7e\",\"type\":\"CDSView\"}},\"id\":\"9f2e5faf-5b65-467f-a0a2-0539fa385087\",\"type\":\"GlyphRenderer\"},{\"attributes\":{\"fill_alpha\":{\"value\":0.2},\"fill_color\":{\"value\":\"grey\"},\"line_color\":{\"value\":\"firebrick\"},\"size\":{\"units\":\"screen\",\"value\":50},\"x\":{\"field\":\"x\"},\"y\":{\"field\":\"y\"}},\"id\":\"29770cec-bbd7-49f4-bc7e-bd6c1cf7315d\",\"type\":\"Circle\"},{\"attributes\":{},\"id\":\"5f3d7a20-b135-4760-aa45-f90b4d1a1fbb\",\"type\":\"LinearScale\"},{\"attributes\":{\"source\":{\"id\":\"0c2c376f-9991-4417-928f-0822b7232741\",\"type\":\"ColumnDataSource\"}},\"id\":\"09171cc0-5a05-43f0-ac4b-b50d7e8e8b7e\",\"type\":\"CDSView\"},{\"attributes\":{\"formatter\":{\"id\":\"0e4bd4a3-ff89-45d8-a719-9daab2ed9a35\",\"type\":\"BasicTickFormatter\"},\"plot\":{\"id\":\"57f4aab7-8cd3-4189-bb32-e9ae03f75051\",\"subtype\":\"Figure\",\"type\":\"Plot\"},\"ticker\":{\"id\":\"3007319a-0d43-43b1-bef6-c97696c1ffe0\",\"type\":\"BasicTicker\"}},\"id\":\"a9d95c47-1360-4e84-9816-fb6927ddd6ae\",\"type\":\"LinearAxis\"},{\"attributes\":{\"callback\":null},\"id\":\"34d8c39a-8ead-4e04-a5b1-caa4bc6c65f5\",\"type\":\"DataRange1d\"},{\"attributes\":{\"below\":[{\"id\":\"a9d95c47-1360-4e84-9816-fb6927ddd6ae\",\"type\":\"LinearAxis\"}],\"left\":[{\"id\":\"f2816976-d7f1-4762-a149-c991ef418cee\",\"type\":\"LinearAxis\"}],\"plot_height\":400,\"plot_width\":400,\"renderers\":[{\"id\":\"a9d95c47-1360-4e84-9816-fb6927ddd6ae\",\"type\":\"LinearAxis\"},{\"id\":\"a1bcdbf2-7c35-4bf1-9324-f6a0d7d9a9ac\",\"type\":\"Grid\"},{\"id\":\"f2816976-d7f1-4762-a149-c991ef418cee\",\"type\":\"LinearAxis\"},{\"id\":\"30c161cf-21aa-467b-98b8-53cc04c422d8\",\"type\":\"Grid\"},{\"id\":\"9f2e5faf-5b65-467f-a0a2-0539fa385087\",\"type\":\"GlyphRenderer\"}],\"title\":{\"id\":\"6b0d1d0a-a471-4d07-806e-d420bdba88c0\",\"type\":\"Title\"},\"toolbar\":{\"id\":\"87144e60-3c5e-4ecc-a144-a2f17c40c052\",\"type\":\"Toolbar\"},\"x_range\":{\"id\":\"083e57a3-83de-4032-9476-f5b6ecd15497\",\"type\":\"DataRange1d\"},\"x_scale\":{\"id\":\"0e23aad0-c2c8-4c6d-9733-122b1884a4f5\",\"type\":\"LinearScale\"},\"y_range\":{\"id\":\"34d8c39a-8ead-4e04-a5b1-caa4bc6c65f5\",\"type\":\"DataRange1d\"},\"y_scale\":{\"id\":\"5f3d7a20-b135-4760-aa45-f90b4d1a1fbb\",\"type\":\"LinearScale\"}},\"id\":\"57f4aab7-8cd3-4189-bb32-e9ae03f75051\",\"subtype\":\"Figure\",\"type\":\"Plot\"},{\"attributes\":{},\"id\":\"8bac3655-46fb-4cd8-b0a7-217d41be5007\",\"type\":\"BasicTicker\"},{\"attributes\":{},\"id\":\"0e4bd4a3-ff89-45d8-a719-9daab2ed9a35\",\"type\":\"BasicTickFormatter\"},{\"attributes\":{\"plot\":null,\"text\":\"Select a circle\"},\"id\":\"6b0d1d0a-a471-4d07-806e-d420bdba88c0\",\"type\":\"Title\"},{\"attributes\":{\"fill_color\":{\"value\":\"#1f77b4\"},\"line_color\":{\"value\":\"#1f77b4\"},\"size\":{\"units\":\"screen\",\"value\":50},\"x\":{\"field\":\"x\"},\"y\":{\"field\":\"y\"}},\"id\":\"3ff92123-1554-4ec6-9b07-eac64497fd6e\",\"type\":\"Circle\"},{\"attributes\":{\"dimension\":1,\"plot\":{\"id\":\"57f4aab7-8cd3-4189-bb32-e9ae03f75051\",\"subtype\":\"Figure\",\"type\":\"Plot\"},\"ticker\":{\"id\":\"8bac3655-46fb-4cd8-b0a7-217d41be5007\",\"type\":\"BasicTicker\"}},\"id\":\"30c161cf-21aa-467b-98b8-53cc04c422d8\",\"type\":\"Grid\"},{\"attributes\":{\"callback\":null},\"id\":\"083e57a3-83de-4032-9476-f5b6ecd15497\",\"type\":\"DataRange1d\"}],\"root_ids\":[\"57f4aab7-8cd3-4189-bb32-e9ae03f75051\"]},\"title\":\"Bokeh Application\",\"version\":\"0.12.13\"}};\n",
       "  var render_items = [{\"docid\":\"52b77d96-3002-43aa-9734-5b3c40aa7572\",\"elementid\":\"e22a35b3-db3f-46f9-9125-d23774c6a63a\",\"modelid\":\"57f4aab7-8cd3-4189-bb32-e9ae03f75051\"}];\n",
       "  root.Bokeh.embed.embed_items_notebook(docs_json, render_items);\n",
       "\n",
       "  }\n",
       "  if (root.Bokeh !== undefined) {\n",
       "    embed_document(root);\n",
       "  } else {\n",
       "    var attempts = 0;\n",
       "    var timer = setInterval(function(root) {\n",
       "      if (root.Bokeh !== undefined) {\n",
       "        embed_document(root);\n",
       "        clearInterval(timer);\n",
       "      }\n",
       "      attempts++;\n",
       "      if (attempts > 100) {\n",
       "        console.log(\"Bokeh: ERROR: Unable to run BokehJS code because BokehJS library is missing\")\n",
       "        clearInterval(timer);\n",
       "      }\n",
       "    }, 10, root)\n",
       "  }\n",
       "})(window);"
      ],
      "application/vnd.bokehjs_exec.v0+json": ""
     },
     "metadata": {
      "application/vnd.bokehjs_exec.v0+json": {
       "id": "57f4aab7-8cd3-4189-bb32-e9ae03f75051"
      }
     },
     "output_type": "display_data"
    }
   ],
   "source": [
    "p = figure(plot_width=400, plot_height=400, tools=\"tap\", title=\"Select a circle\")\n",
    "renderer = p.circle([1, 2, 3, 4, 5], [2, 5, 8, 2, 7], size=50,\n",
    "\n",
    "                    # set visual properties for selected glyphs\n",
    "                    selection_color=\"firebrick\",\n",
    "\n",
    "                    # set visual properties for non-selected glyphs\n",
    "                    nonselection_fill_alpha=0.2,\n",
    "                    nonselection_fill_color=\"grey\",\n",
    "                    nonselection_line_color=\"firebrick\",\n",
    "                    nonselection_line_alpha=1.0)\n",
    "\n",
    "show(p)"
   ]
  },
  {
   "cell_type": "markdown",
   "metadata": {},
   "source": [
    "It is also possible to specify the visual appearance of glyphs when they are \"inspected\", e.g. by a hover tool. This is accomplished by setting an optional `hover_glyph` on the glyph renderer:\n",
    "\n",
    "    r.hover_glyph = Circle(fill_alpha=1, fill_color=\"firebrick\", line_color=None) "
   ]
  },
  {
   "cell_type": "code",
   "execution_count": 7,
   "metadata": {},
   "outputs": [
    {
     "data": {
      "text/html": [
       "\n",
       "<div class=\"bk-root\">\n",
       "    <div class=\"bk-plotdiv\" id=\"0a9565a0-a85e-4c3f-82e7-bac250224c05\"></div>\n",
       "</div>"
      ]
     },
     "metadata": {},
     "output_type": "display_data"
    },
    {
     "data": {
      "application/javascript": [
       "(function(root) {\n",
       "  function embed_document(root) {\n",
       "    \n",
       "  var docs_json = {\"bfb4ed21-0e52-470a-af89-834c737e4627\":{\"roots\":{\"references\":[{\"attributes\":{\"callback\":null,\"column_names\":[\"y\",\"x\"],\"data\":{\"x\":[1,2,3,4,5],\"y\":[2,5,8,2,7]}},\"id\":\"4986b0da-d019-4f09-866b-54b23742f0e3\",\"type\":\"ColumnDataSource\"},{\"attributes\":{\"active_drag\":\"auto\",\"active_inspect\":\"auto\",\"active_scroll\":\"auto\",\"active_tap\":\"auto\",\"tools\":[{\"id\":\"d78e31f3-6e02-4ebc-9e08-b09d2302207d\",\"type\":\"HoverTool\"}]},\"id\":\"5cbbbf1d-c094-4e2d-a42b-20eeb76fa0d6\",\"type\":\"Toolbar\"},{\"attributes\":{\"callback\":null,\"tooltips\":[[\"index\",\"$index\"],[\"(x,y)\",\"($x, $y)\"]]},\"id\":\"d78e31f3-6e02-4ebc-9e08-b09d2302207d\",\"type\":\"HoverTool\"},{\"attributes\":{\"callback\":null},\"id\":\"ebe15229-dfee-43b4-ab92-0719db381c41\",\"type\":\"DataRange1d\"},{\"attributes\":{},\"id\":\"a15c204f-8046-4042-b1a1-79060d456c5e\",\"type\":\"LinearScale\"},{\"attributes\":{},\"id\":\"b9de7b94-4e0f-416d-a30b-762d38494d66\",\"type\":\"BasicTicker\"},{\"attributes\":{\"data_source\":{\"id\":\"4986b0da-d019-4f09-866b-54b23742f0e3\",\"type\":\"ColumnDataSource\"},\"glyph\":{\"id\":\"1b2e3f98-bb5b-4bc8-a116-5c4429ec62e9\",\"type\":\"Circle\"},\"hover_glyph\":{\"id\":\"4185881d-6b59-4be4-8315-9c47988029e3\",\"type\":\"Circle\"},\"muted_glyph\":null,\"nonselection_glyph\":{\"id\":\"6dea63c8-d519-4899-81f8-1da61ff7ea46\",\"type\":\"Circle\"},\"selection_glyph\":{\"id\":\"2054724d-e0b5-44d3-b9e3-bfa361a054a2\",\"type\":\"Circle\"},\"view\":{\"id\":\"fe4ec6d4-e003-4f93-a7ac-b9d74cc1087b\",\"type\":\"CDSView\"}},\"id\":\"9bf4158b-3c3b-420a-8e88-9e31b8ec7667\",\"type\":\"GlyphRenderer\"},{\"attributes\":{\"formatter\":{\"id\":\"7fc70801-0989-4a8f-a26a-4bc4dd18caac\",\"type\":\"BasicTickFormatter\"},\"plot\":{\"id\":\"b16cce96-7111-46eb-821a-543a042dc501\",\"subtype\":\"Figure\",\"type\":\"Plot\"},\"ticker\":{\"id\":\"68c9e03f-6d33-4f06-b0ef-38b2193819c1\",\"type\":\"BasicTicker\"}},\"id\":\"7200c0af-6bc2-46ec-8d3f-dc0f2453a89e\",\"type\":\"LinearAxis\"},{\"attributes\":{\"fill_alpha\":{\"value\":0.2},\"fill_color\":{\"value\":\"grey\"},\"line_color\":{\"value\":\"firebrick\"},\"size\":{\"units\":\"screen\",\"value\":50},\"x\":{\"field\":\"x\"},\"y\":{\"field\":\"y\"}},\"id\":\"6dea63c8-d519-4899-81f8-1da61ff7ea46\",\"type\":\"Circle\"},{\"attributes\":{\"formatter\":{\"id\":\"80f855cd-1c4b-42f8-ba72-60e0e20a8b3a\",\"type\":\"BasicTickFormatter\"},\"plot\":{\"id\":\"b16cce96-7111-46eb-821a-543a042dc501\",\"subtype\":\"Figure\",\"type\":\"Plot\"},\"ticker\":{\"id\":\"b9de7b94-4e0f-416d-a30b-762d38494d66\",\"type\":\"BasicTicker\"}},\"id\":\"2fe7618e-e1e7-4346-b2e9-9b59aa24be25\",\"type\":\"LinearAxis\"},{\"attributes\":{\"below\":[{\"id\":\"2fe7618e-e1e7-4346-b2e9-9b59aa24be25\",\"type\":\"LinearAxis\"}],\"left\":[{\"id\":\"7200c0af-6bc2-46ec-8d3f-dc0f2453a89e\",\"type\":\"LinearAxis\"}],\"plot_height\":400,\"plot_width\":400,\"renderers\":[{\"id\":\"2fe7618e-e1e7-4346-b2e9-9b59aa24be25\",\"type\":\"LinearAxis\"},{\"id\":\"a8cf3dc5-3a3f-48e3-94e3-fbd92faee83c\",\"type\":\"Grid\"},{\"id\":\"7200c0af-6bc2-46ec-8d3f-dc0f2453a89e\",\"type\":\"LinearAxis\"},{\"id\":\"db2928a8-5be9-4f13-b795-f48478905b14\",\"type\":\"Grid\"},{\"id\":\"9bf4158b-3c3b-420a-8e88-9e31b8ec7667\",\"type\":\"GlyphRenderer\"}],\"title\":{\"id\":\"711b8825-cce4-4eea-9ee0-7555405ee7ff\",\"type\":\"Title\"},\"toolbar\":{\"id\":\"5cbbbf1d-c094-4e2d-a42b-20eeb76fa0d6\",\"type\":\"Toolbar\"},\"x_range\":{\"id\":\"88490cee-5119-4943-9d18-228bbdd3f6b1\",\"type\":\"DataRange1d\"},\"x_scale\":{\"id\":\"a15c204f-8046-4042-b1a1-79060d456c5e\",\"type\":\"LinearScale\"},\"y_range\":{\"id\":\"ebe15229-dfee-43b4-ab92-0719db381c41\",\"type\":\"DataRange1d\"},\"y_scale\":{\"id\":\"0852328b-9f18-4d0f-8789-617caaf68f89\",\"type\":\"LinearScale\"}},\"id\":\"b16cce96-7111-46eb-821a-543a042dc501\",\"subtype\":\"Figure\",\"type\":\"Plot\"},{\"attributes\":{},\"id\":\"80f855cd-1c4b-42f8-ba72-60e0e20a8b3a\",\"type\":\"BasicTickFormatter\"},{\"attributes\":{\"dimension\":1,\"plot\":{\"id\":\"b16cce96-7111-46eb-821a-543a042dc501\",\"subtype\":\"Figure\",\"type\":\"Plot\"},\"ticker\":{\"id\":\"68c9e03f-6d33-4f06-b0ef-38b2193819c1\",\"type\":\"BasicTicker\"}},\"id\":\"db2928a8-5be9-4f13-b795-f48478905b14\",\"type\":\"Grid\"},{\"attributes\":{\"fill_color\":{\"value\":\"#1f77b4\"},\"line_color\":{\"value\":\"#1f77b4\"},\"size\":{\"units\":\"screen\",\"value\":50},\"x\":{\"field\":\"x\"},\"y\":{\"field\":\"y\"}},\"id\":\"1b2e3f98-bb5b-4bc8-a116-5c4429ec62e9\",\"type\":\"Circle\"},{\"attributes\":{},\"id\":\"7fc70801-0989-4a8f-a26a-4bc4dd18caac\",\"type\":\"BasicTickFormatter\"},{\"attributes\":{\"callback\":null},\"id\":\"88490cee-5119-4943-9d18-228bbdd3f6b1\",\"type\":\"DataRange1d\"},{\"attributes\":{\"plot\":null,\"text\":\"Select a circle\"},\"id\":\"711b8825-cce4-4eea-9ee0-7555405ee7ff\",\"type\":\"Title\"},{\"attributes\":{\"plot\":{\"id\":\"b16cce96-7111-46eb-821a-543a042dc501\",\"subtype\":\"Figure\",\"type\":\"Plot\"},\"ticker\":{\"id\":\"b9de7b94-4e0f-416d-a30b-762d38494d66\",\"type\":\"BasicTicker\"}},\"id\":\"a8cf3dc5-3a3f-48e3-94e3-fbd92faee83c\",\"type\":\"Grid\"},{\"attributes\":{\"fill_color\":{\"value\":\"firebrick\"},\"line_color\":{\"value\":\"firebrick\"},\"size\":{\"units\":\"screen\",\"value\":50},\"x\":{\"field\":\"x\"},\"y\":{\"field\":\"y\"}},\"id\":\"2054724d-e0b5-44d3-b9e3-bfa361a054a2\",\"type\":\"Circle\"},{\"attributes\":{\"line_color\":{\"value\":\"firebrick\"}},\"id\":\"4185881d-6b59-4be4-8315-9c47988029e3\",\"type\":\"Circle\"},{\"attributes\":{\"source\":{\"id\":\"4986b0da-d019-4f09-866b-54b23742f0e3\",\"type\":\"ColumnDataSource\"}},\"id\":\"fe4ec6d4-e003-4f93-a7ac-b9d74cc1087b\",\"type\":\"CDSView\"},{\"attributes\":{},\"id\":\"0852328b-9f18-4d0f-8789-617caaf68f89\",\"type\":\"LinearScale\"},{\"attributes\":{},\"id\":\"68c9e03f-6d33-4f06-b0ef-38b2193819c1\",\"type\":\"BasicTicker\"}],\"root_ids\":[\"b16cce96-7111-46eb-821a-543a042dc501\"]},\"title\":\"Bokeh Application\",\"version\":\"0.12.13\"}};\n",
       "  var render_items = [{\"docid\":\"bfb4ed21-0e52-470a-af89-834c737e4627\",\"elementid\":\"0a9565a0-a85e-4c3f-82e7-bac250224c05\",\"modelid\":\"b16cce96-7111-46eb-821a-543a042dc501\"}];\n",
       "  root.Bokeh.embed.embed_items_notebook(docs_json, render_items);\n",
       "\n",
       "  }\n",
       "  if (root.Bokeh !== undefined) {\n",
       "    embed_document(root);\n",
       "  } else {\n",
       "    var attempts = 0;\n",
       "    var timer = setInterval(function(root) {\n",
       "      if (root.Bokeh !== undefined) {\n",
       "        embed_document(root);\n",
       "        clearInterval(timer);\n",
       "      }\n",
       "      attempts++;\n",
       "      if (attempts > 100) {\n",
       "        console.log(\"Bokeh: ERROR: Unable to run BokehJS code because BokehJS library is missing\")\n",
       "        clearInterval(timer);\n",
       "      }\n",
       "    }, 10, root)\n",
       "  }\n",
       "})(window);"
      ],
      "application/vnd.bokehjs_exec.v0+json": ""
     },
     "metadata": {
      "application/vnd.bokehjs_exec.v0+json": {
       "id": "b16cce96-7111-46eb-821a-543a042dc501"
      }
     },
     "output_type": "display_data"
    }
   ],
   "source": [
    "from bokeh.models import Circle, HoverTool\n",
    "\n",
    "hover = HoverTool(tooltips=[\n",
    "                            (\"index\", \"$index\"),\n",
    "                            (\"(x,y)\", \"($x, $y)\"),\n",
    "                            ]\n",
    "                 )\n",
    "# Define the plot\n",
    "p = figure(plot_width=400, plot_height=400, tools=[hover, ], title=\"Select a circle\")\n",
    "\n",
    "# add the figures to be rendered\n",
    "renderer = p.circle(x=[1, 2, 3, 4, 5], \n",
    "                    y=[2, 5, 8, 2, 7], \n",
    "                    size=50,\n",
    "\n",
    "                    # set visual properties for selected glyphs\n",
    "                    selection_color=\"firebrick\",\n",
    "\n",
    "                    # set visual properties for non-selected glyphs\n",
    "                    nonselection_fill_alpha=0.2,\n",
    "                    nonselection_fill_color=\"grey\",\n",
    "                    nonselection_line_color=\"firebrick\",\n",
    "                    nonselection_line_alpha=1.0,\n",
    "                   )\n",
    "\n",
    "# Define what to do when the mouse is hovering over the glyph\n",
    "renderer.hover_glyph = Circle(line_color=\"firebrick\")\n",
    "\n",
    "# Display the results\n",
    "show(p)"
   ]
  },
  {
   "cell_type": "code",
   "execution_count": 9,
   "metadata": {
    "collapsed": true
   },
   "outputs": [],
   "source": [
    "# EXERCISE: experiment with standard, selected, hover glyph visual properties\n"
   ]
  },
  {
   "cell_type": "markdown",
   "metadata": {},
   "source": [
    "# Axes\n",
    "\n",
    "[Axes](http://bokeh.pydata.org/en/latest/docs/user_guide/styling.html#axes)\n",
    "\n",
    "To style axes, you first must get ahold of `Axis` objects. The simplest way is to use some convenience methods on `Plot`: [axis](http://bokeh.pydata.org/en/latest/docs/reference/plotting.html#bokeh.plotting.Figure.axis), [xaxis](http://bokeh.pydata.org/en/latest/docs/reference/plotting.html#bokeh.plotting.Figure.xaxis), and [yaxis](http://bokeh.pydata.org/en/latest/docs/reference/plotting.html#bokeh.plotting.Figure.yaxis). These methods return lists of axis objects:\n",
    "\n",
    "```\n",
    ">>> p.xaxis\n",
    "[<bokeh.models.axes.LinearAxis at 0x106fa2390>]\n",
    "```\n",
    "However, you can set properties on all the elements of the list as if it was a single object:\n",
    "```\n",
    "p.xaxis.axis_label = \"Temperature\"\n",
    "p.axis.major_label_text_color = \"orange\"\n",
    "```\n",
    "These are referred to as \"splattable\" lists, and tab completion works on them as well. \n"
   ]
  },
  {
   "cell_type": "code",
   "execution_count": 10,
   "metadata": {
    "collapsed": true
   },
   "outputs": [],
   "source": [
    "# EXERCISE Try out tab completion. Type p.xaxis.<press tab key> to see a list of attributes that can be set.\n",
    "\n"
   ]
  },
  {
   "cell_type": "markdown",
   "metadata": {},
   "source": [
    "As a simple first example, let's change the orientation of the major tick labels on both axes of a plot:"
   ]
  },
  {
   "cell_type": "code",
   "execution_count": 11,
   "metadata": {},
   "outputs": [
    {
     "data": {
      "text/html": [
       "\n",
       "<div class=\"bk-root\">\n",
       "    <div class=\"bk-plotdiv\" id=\"c79a4a5e-915e-4c8b-b28c-a59634d475ae\"></div>\n",
       "</div>"
      ]
     },
     "metadata": {},
     "output_type": "display_data"
    },
    {
     "data": {
      "application/javascript": [
       "(function(root) {\n",
       "  function embed_document(root) {\n",
       "    \n",
       "  var docs_json = {\"9071e5db-7ee3-48d7-946d-d25cceb67193\":{\"roots\":{\"references\":[{\"attributes\":{},\"id\":\"bd09aab6-b7f1-40df-b083-023bd151f911\",\"type\":\"PanTool\"},{\"attributes\":{},\"id\":\"c0b766d5-20f2-4a10-ba1c-436a96443836\",\"type\":\"ResetTool\"},{\"attributes\":{\"below\":[{\"id\":\"e6730d56-bae2-4749-95c4-965795af350e\",\"type\":\"LinearAxis\"}],\"left\":[{\"id\":\"cecb7ec9-84a3-4814-ad45-beb5564ef636\",\"type\":\"LinearAxis\"}],\"plot_height\":400,\"plot_width\":400,\"renderers\":[{\"id\":\"e6730d56-bae2-4749-95c4-965795af350e\",\"type\":\"LinearAxis\"},{\"id\":\"d0d5269f-a5d4-48fa-bd88-59f54d52d2d6\",\"type\":\"Grid\"},{\"id\":\"cecb7ec9-84a3-4814-ad45-beb5564ef636\",\"type\":\"LinearAxis\"},{\"id\":\"c917fb46-1aa2-479a-8548-a9ea96dfe24a\",\"type\":\"Grid\"},{\"id\":\"576bc0f2-5b9e-475a-a602-bbffa51f9f15\",\"type\":\"BoxAnnotation\"},{\"id\":\"f4cbb1e5-731e-48a8-b05c-7aa11ff76c4c\",\"type\":\"GlyphRenderer\"}],\"title\":{\"id\":\"6a8aa6d7-f84b-47da-9585-22c4e89f2a89\",\"type\":\"Title\"},\"toolbar\":{\"id\":\"1a3d1d89-2a4b-41bf-be7c-b6e56ab7d4b9\",\"type\":\"Toolbar\"},\"x_range\":{\"id\":\"9e516092-25e3-4d45-ad1c-dec2bf229f05\",\"type\":\"DataRange1d\"},\"x_scale\":{\"id\":\"85d87add-d26a-4e89-a10c-d0eb373674a4\",\"type\":\"LinearScale\"},\"y_range\":{\"id\":\"82709e87-1130-4db0-888b-4b71fa360823\",\"type\":\"DataRange1d\"},\"y_scale\":{\"id\":\"4ea2de68-b197-457f-8334-1dc0c583a140\",\"type\":\"LinearScale\"}},\"id\":\"c61d4f85-a55c-46af-86c9-39e3ceb2b5ae\",\"subtype\":\"Figure\",\"type\":\"Plot\"},{\"attributes\":{\"bottom_units\":\"screen\",\"fill_alpha\":{\"value\":0.5},\"fill_color\":{\"value\":\"lightgrey\"},\"left_units\":\"screen\",\"level\":\"overlay\",\"line_alpha\":{\"value\":1.0},\"line_color\":{\"value\":\"black\"},\"line_dash\":[4,4],\"line_width\":{\"value\":2},\"plot\":null,\"render_mode\":\"css\",\"right_units\":\"screen\",\"top_units\":\"screen\"},\"id\":\"576bc0f2-5b9e-475a-a602-bbffa51f9f15\",\"type\":\"BoxAnnotation\"},{\"attributes\":{\"formatter\":{\"id\":\"dc2b58e1-f04f-4599-9755-0bacdc660081\",\"type\":\"BasicTickFormatter\"},\"major_label_orientation\":0.7853981633974483,\"plot\":{\"id\":\"c61d4f85-a55c-46af-86c9-39e3ceb2b5ae\",\"subtype\":\"Figure\",\"type\":\"Plot\"},\"ticker\":{\"id\":\"ec26f92d-2422-406a-a2d8-b3f80c0b71c0\",\"type\":\"BasicTicker\"}},\"id\":\"e6730d56-bae2-4749-95c4-965795af350e\",\"type\":\"LinearAxis\"},{\"attributes\":{},\"id\":\"2223c4c0-4a26-4019-9ce9-5f7261a86dbb\",\"type\":\"HelpTool\"},{\"attributes\":{},\"id\":\"dc2b58e1-f04f-4599-9755-0bacdc660081\",\"type\":\"BasicTickFormatter\"},{\"attributes\":{},\"id\":\"ec26f92d-2422-406a-a2d8-b3f80c0b71c0\",\"type\":\"BasicTicker\"},{\"attributes\":{\"dimension\":1,\"plot\":{\"id\":\"c61d4f85-a55c-46af-86c9-39e3ceb2b5ae\",\"subtype\":\"Figure\",\"type\":\"Plot\"},\"ticker\":{\"id\":\"e2ee4471-73c8-46cb-a3ae-4db6d31aa4ec\",\"type\":\"BasicTicker\"}},\"id\":\"c917fb46-1aa2-479a-8548-a9ea96dfe24a\",\"type\":\"Grid\"},{\"attributes\":{\"active_drag\":\"auto\",\"active_inspect\":\"auto\",\"active_scroll\":\"auto\",\"active_tap\":\"auto\",\"tools\":[{\"id\":\"bd09aab6-b7f1-40df-b083-023bd151f911\",\"type\":\"PanTool\"},{\"id\":\"8392dc71-5892-4247-af0d-e0a0bded85c6\",\"type\":\"WheelZoomTool\"},{\"id\":\"e5f25b8f-7a9c-4b93-ac8d-ab0b803086fb\",\"type\":\"BoxZoomTool\"},{\"id\":\"45ed8d60-48a2-45ff-be4b-c12685eacc56\",\"type\":\"SaveTool\"},{\"id\":\"c0b766d5-20f2-4a10-ba1c-436a96443836\",\"type\":\"ResetTool\"},{\"id\":\"2223c4c0-4a26-4019-9ce9-5f7261a86dbb\",\"type\":\"HelpTool\"}]},\"id\":\"1a3d1d89-2a4b-41bf-be7c-b6e56ab7d4b9\",\"type\":\"Toolbar\"},{\"attributes\":{\"callback\":null},\"id\":\"9e516092-25e3-4d45-ad1c-dec2bf229f05\",\"type\":\"DataRange1d\"},{\"attributes\":{\"fill_color\":{\"value\":\"#1f77b4\"},\"line_color\":{\"value\":\"#1f77b4\"},\"line_width\":{\"value\":2},\"size\":{\"units\":\"screen\",\"value\":10},\"x\":{\"field\":\"x\"},\"y\":{\"field\":\"y\"}},\"id\":\"804e8ec7-bcfb-4638-b548-c0b7cd017927\",\"type\":\"X\"},{\"attributes\":{\"plot\":{\"id\":\"c61d4f85-a55c-46af-86c9-39e3ceb2b5ae\",\"subtype\":\"Figure\",\"type\":\"Plot\"},\"ticker\":{\"id\":\"ec26f92d-2422-406a-a2d8-b3f80c0b71c0\",\"type\":\"BasicTicker\"}},\"id\":\"d0d5269f-a5d4-48fa-bd88-59f54d52d2d6\",\"type\":\"Grid\"},{\"attributes\":{\"source\":{\"id\":\"5efc4656-40ac-4b79-805a-19d771bcf521\",\"type\":\"ColumnDataSource\"}},\"id\":\"da146416-b421-4e69-bf96-db678c065613\",\"type\":\"CDSView\"},{\"attributes\":{\"plot\":null,\"text\":\"\"},\"id\":\"6a8aa6d7-f84b-47da-9585-22c4e89f2a89\",\"type\":\"Title\"},{\"attributes\":{\"overlay\":{\"id\":\"576bc0f2-5b9e-475a-a602-bbffa51f9f15\",\"type\":\"BoxAnnotation\"}},\"id\":\"e5f25b8f-7a9c-4b93-ac8d-ab0b803086fb\",\"type\":\"BoxZoomTool\"},{\"attributes\":{\"formatter\":{\"id\":\"9a8ca53f-d2ea-4c88-af14-4c547b992427\",\"type\":\"BasicTickFormatter\"},\"major_label_orientation\":\"vertical\",\"plot\":{\"id\":\"c61d4f85-a55c-46af-86c9-39e3ceb2b5ae\",\"subtype\":\"Figure\",\"type\":\"Plot\"},\"ticker\":{\"id\":\"e2ee4471-73c8-46cb-a3ae-4db6d31aa4ec\",\"type\":\"BasicTicker\"}},\"id\":\"cecb7ec9-84a3-4814-ad45-beb5564ef636\",\"type\":\"LinearAxis\"},{\"attributes\":{\"data_source\":{\"id\":\"5efc4656-40ac-4b79-805a-19d771bcf521\",\"type\":\"ColumnDataSource\"},\"glyph\":{\"id\":\"804e8ec7-bcfb-4638-b548-c0b7cd017927\",\"type\":\"X\"},\"hover_glyph\":null,\"muted_glyph\":null,\"nonselection_glyph\":{\"id\":\"8f7ce65f-ec03-470b-a04f-426707340978\",\"type\":\"X\"},\"selection_glyph\":null,\"view\":{\"id\":\"da146416-b421-4e69-bf96-db678c065613\",\"type\":\"CDSView\"}},\"id\":\"f4cbb1e5-731e-48a8-b05c-7aa11ff76c4c\",\"type\":\"GlyphRenderer\"},{\"attributes\":{\"callback\":null,\"column_names\":[\"y\",\"x\"],\"data\":{\"x\":[1,2,3,4,5],\"y\":[2,5,8,2,7]}},\"id\":\"5efc4656-40ac-4b79-805a-19d771bcf521\",\"type\":\"ColumnDataSource\"},{\"attributes\":{\"fill_alpha\":{\"value\":0.1},\"fill_color\":{\"value\":\"#1f77b4\"},\"line_alpha\":{\"value\":0.1},\"line_color\":{\"value\":\"#1f77b4\"},\"line_width\":{\"value\":2},\"size\":{\"units\":\"screen\",\"value\":10},\"x\":{\"field\":\"x\"},\"y\":{\"field\":\"y\"}},\"id\":\"8f7ce65f-ec03-470b-a04f-426707340978\",\"type\":\"X\"},{\"attributes\":{},\"id\":\"4ea2de68-b197-457f-8334-1dc0c583a140\",\"type\":\"LinearScale\"},{\"attributes\":{},\"id\":\"85d87add-d26a-4e89-a10c-d0eb373674a4\",\"type\":\"LinearScale\"},{\"attributes\":{},\"id\":\"45ed8d60-48a2-45ff-be4b-c12685eacc56\",\"type\":\"SaveTool\"},{\"attributes\":{},\"id\":\"e2ee4471-73c8-46cb-a3ae-4db6d31aa4ec\",\"type\":\"BasicTicker\"},{\"attributes\":{},\"id\":\"9a8ca53f-d2ea-4c88-af14-4c547b992427\",\"type\":\"BasicTickFormatter\"},{\"attributes\":{\"callback\":null},\"id\":\"82709e87-1130-4db0-888b-4b71fa360823\",\"type\":\"DataRange1d\"},{\"attributes\":{},\"id\":\"8392dc71-5892-4247-af0d-e0a0bded85c6\",\"type\":\"WheelZoomTool\"}],\"root_ids\":[\"c61d4f85-a55c-46af-86c9-39e3ceb2b5ae\"]},\"title\":\"Bokeh Application\",\"version\":\"0.12.13\"}};\n",
       "  var render_items = [{\"docid\":\"9071e5db-7ee3-48d7-946d-d25cceb67193\",\"elementid\":\"c79a4a5e-915e-4c8b-b28c-a59634d475ae\",\"modelid\":\"c61d4f85-a55c-46af-86c9-39e3ceb2b5ae\"}];\n",
       "  root.Bokeh.embed.embed_items_notebook(docs_json, render_items);\n",
       "\n",
       "  }\n",
       "  if (root.Bokeh !== undefined) {\n",
       "    embed_document(root);\n",
       "  } else {\n",
       "    var attempts = 0;\n",
       "    var timer = setInterval(function(root) {\n",
       "      if (root.Bokeh !== undefined) {\n",
       "        embed_document(root);\n",
       "        clearInterval(timer);\n",
       "      }\n",
       "      attempts++;\n",
       "      if (attempts > 100) {\n",
       "        console.log(\"Bokeh: ERROR: Unable to run BokehJS code because BokehJS library is missing\")\n",
       "        clearInterval(timer);\n",
       "      }\n",
       "    }, 10, root)\n",
       "  }\n",
       "})(window);"
      ],
      "application/vnd.bokehjs_exec.v0+json": ""
     },
     "metadata": {
      "application/vnd.bokehjs_exec.v0+json": {
       "id": "c61d4f85-a55c-46af-86c9-39e3ceb2b5ae"
      }
     },
     "output_type": "display_data"
    }
   ],
   "source": [
    "from math import pi\n",
    "\n",
    "p = figure(plot_width=400, plot_height=400)\n",
    "p.x([1,2,3,4,5], [2,5,8,2,7], size=10, line_width=2)\n",
    "\n",
    "p.xaxis.major_label_orientation = pi/4\n",
    "p.yaxis.major_label_orientation = \"vertical\"\n",
    "\n",
    "show(p)"
   ]
  },
  {
   "cell_type": "markdown",
   "metadata": {},
   "source": [
    "The next example shows customizations on several of the different Axis properties at once:"
   ]
  },
  {
   "cell_type": "code",
   "execution_count": 8,
   "metadata": {},
   "outputs": [
    {
     "data": {
      "text/html": [
       "\n",
       "<div class=\"bk-root\">\n",
       "    <div class=\"bk-plotdiv\" id=\"341376d7-93e4-47a8-99f3-80050ee37e81\"></div>\n",
       "</div>"
      ]
     },
     "metadata": {},
     "output_type": "display_data"
    },
    {
     "data": {
      "application/javascript": [
       "(function(root) {\n",
       "  function embed_document(root) {\n",
       "    \n",
       "  var docs_json = {\"462d7856-5ad7-47ec-ae61-d54890795cd2\":{\"roots\":{\"references\":[{\"attributes\":{\"axis_label\":\"Pressure\",\"formatter\":{\"id\":\"348ee361-ee6a-449e-b4ab-b22ea085e6b7\",\"type\":\"BasicTickFormatter\"},\"major_label_orientation\":\"vertical\",\"major_label_text_color\":{\"value\":\"orange\"},\"minor_tick_in\":-3,\"minor_tick_out\":6,\"plot\":{\"id\":\"8765d715-06ea-417a-a158-66dc7513e904\",\"subtype\":\"Figure\",\"type\":\"Plot\"},\"ticker\":{\"id\":\"21a1d4b3-2236-4671-98e8-a8eb1237bba5\",\"type\":\"BasicTicker\"}},\"id\":\"927fae18-2c61-4522-bbcb-516eb204fd15\",\"type\":\"LinearAxis\"},{\"attributes\":{\"plot\":null,\"text\":\"\"},\"id\":\"168ef26c-6e47-4af8-bb48-19bf64599d91\",\"type\":\"Title\"},{\"attributes\":{},\"id\":\"c0c2b2bd-411b-4cc5-afab-8584afb87d0d\",\"type\":\"BasicTicker\"},{\"attributes\":{\"callback\":null,\"column_names\":[\"x\",\"y\"],\"data\":{\"x\":[1,2,3,4,5],\"y\":[2,5,8,2,7]}},\"id\":\"4937e2ad-5a86-4ecd-b01e-fbf9050bb0fd\",\"type\":\"ColumnDataSource\"},{\"attributes\":{\"source\":{\"id\":\"4937e2ad-5a86-4ecd-b01e-fbf9050bb0fd\",\"type\":\"ColumnDataSource\"}},\"id\":\"5ca61b5b-6a07-4332-9e0b-b88cf7b238ef\",\"type\":\"CDSView\"},{\"attributes\":{},\"id\":\"348ee361-ee6a-449e-b4ab-b22ea085e6b7\",\"type\":\"BasicTickFormatter\"},{\"attributes\":{\"below\":[{\"id\":\"b3bc864a-fc36-4b41-93d2-a7047479462b\",\"type\":\"LinearAxis\"}],\"left\":[{\"id\":\"927fae18-2c61-4522-bbcb-516eb204fd15\",\"type\":\"LinearAxis\"}],\"plot_height\":400,\"plot_width\":400,\"renderers\":[{\"id\":\"b3bc864a-fc36-4b41-93d2-a7047479462b\",\"type\":\"LinearAxis\"},{\"id\":\"01d00c39-a354-42f2-96f4-c54a47e1ed41\",\"type\":\"Grid\"},{\"id\":\"927fae18-2c61-4522-bbcb-516eb204fd15\",\"type\":\"LinearAxis\"},{\"id\":\"c84b48f1-d512-4436-a452-4a293bdd4402\",\"type\":\"Grid\"},{\"id\":\"831d8f80-b5ce-4c97-b1fd-b5772b941bb4\",\"type\":\"BoxAnnotation\"},{\"id\":\"a9acafb0-bed4-4ea5-937e-edc2f594a570\",\"type\":\"GlyphRenderer\"}],\"title\":{\"id\":\"168ef26c-6e47-4af8-bb48-19bf64599d91\",\"type\":\"Title\"},\"toolbar\":{\"id\":\"f7e4ea50-1b28-4cdf-a5e4-8b4324fc1832\",\"type\":\"Toolbar\"},\"x_range\":{\"id\":\"a7c1c9a7-f9df-45ca-b9fb-57e107da0e22\",\"type\":\"DataRange1d\"},\"x_scale\":{\"id\":\"560e286d-c14f-477a-af7d-15eb22abf180\",\"type\":\"LinearScale\"},\"y_range\":{\"id\":\"597df90a-e484-49f3-8799-5c6f86973978\",\"type\":\"DataRange1d\"},\"y_scale\":{\"id\":\"e9b32299-20f4-48e7-8b53-badb1d6548aa\",\"type\":\"LinearScale\"}},\"id\":\"8765d715-06ea-417a-a158-66dc7513e904\",\"subtype\":\"Figure\",\"type\":\"Plot\"},{\"attributes\":{},\"id\":\"3cad883e-4cee-41c4-afb4-404701830a93\",\"type\":\"SaveTool\"},{\"attributes\":{\"fill_color\":{\"value\":\"olive\"},\"line_color\":{\"value\":\"olive\"},\"size\":{\"units\":\"screen\",\"value\":12},\"x\":{\"field\":\"x\"},\"y\":{\"field\":\"y\"}},\"id\":\"f126c53b-0386-4214-bcb5-9d30a6a3bf5e\",\"type\":\"Asterisk\"},{\"attributes\":{},\"id\":\"e9b32299-20f4-48e7-8b53-badb1d6548aa\",\"type\":\"LinearScale\"},{\"attributes\":{},\"id\":\"fdaf2e5d-2e9d-4de8-833b-a9382fbac9c8\",\"type\":\"WheelZoomTool\"},{\"attributes\":{\"axis_label\":\"Temp\",\"axis_line_color\":{\"value\":\"red\"},\"axis_line_width\":{\"value\":3},\"formatter\":{\"id\":\"9e4b112d-b300-4736-a3da-52299a3c867f\",\"type\":\"BasicTickFormatter\"},\"minor_tick_in\":-3,\"minor_tick_out\":6,\"plot\":{\"id\":\"8765d715-06ea-417a-a158-66dc7513e904\",\"subtype\":\"Figure\",\"type\":\"Plot\"},\"ticker\":{\"id\":\"c0c2b2bd-411b-4cc5-afab-8584afb87d0d\",\"type\":\"BasicTicker\"}},\"id\":\"b3bc864a-fc36-4b41-93d2-a7047479462b\",\"type\":\"LinearAxis\"},{\"attributes\":{},\"id\":\"560e286d-c14f-477a-af7d-15eb22abf180\",\"type\":\"LinearScale\"},{\"attributes\":{},\"id\":\"07cfc554-07d7-490d-b395-565ba01e29fe\",\"type\":\"HelpTool\"},{\"attributes\":{\"dimension\":1,\"plot\":{\"id\":\"8765d715-06ea-417a-a158-66dc7513e904\",\"subtype\":\"Figure\",\"type\":\"Plot\"},\"ticker\":{\"id\":\"21a1d4b3-2236-4671-98e8-a8eb1237bba5\",\"type\":\"BasicTicker\"}},\"id\":\"c84b48f1-d512-4436-a452-4a293bdd4402\",\"type\":\"Grid\"},{\"attributes\":{\"callback\":null},\"id\":\"597df90a-e484-49f3-8799-5c6f86973978\",\"type\":\"DataRange1d\"},{\"attributes\":{\"overlay\":{\"id\":\"831d8f80-b5ce-4c97-b1fd-b5772b941bb4\",\"type\":\"BoxAnnotation\"}},\"id\":\"3621b9e2-b687-496b-b7a7-6603b15e56fb\",\"type\":\"BoxZoomTool\"},{\"attributes\":{},\"id\":\"21a1d4b3-2236-4671-98e8-a8eb1237bba5\",\"type\":\"BasicTicker\"},{\"attributes\":{},\"id\":\"9e4b112d-b300-4736-a3da-52299a3c867f\",\"type\":\"BasicTickFormatter\"},{\"attributes\":{\"plot\":{\"id\":\"8765d715-06ea-417a-a158-66dc7513e904\",\"subtype\":\"Figure\",\"type\":\"Plot\"},\"ticker\":{\"id\":\"c0c2b2bd-411b-4cc5-afab-8584afb87d0d\",\"type\":\"BasicTicker\"}},\"id\":\"01d00c39-a354-42f2-96f4-c54a47e1ed41\",\"type\":\"Grid\"},{\"attributes\":{\"data_source\":{\"id\":\"4937e2ad-5a86-4ecd-b01e-fbf9050bb0fd\",\"type\":\"ColumnDataSource\"},\"glyph\":{\"id\":\"f126c53b-0386-4214-bcb5-9d30a6a3bf5e\",\"type\":\"Asterisk\"},\"hover_glyph\":null,\"muted_glyph\":null,\"nonselection_glyph\":{\"id\":\"f247b7f4-694e-4f86-adde-eb8d8321306a\",\"type\":\"Asterisk\"},\"selection_glyph\":null,\"view\":{\"id\":\"5ca61b5b-6a07-4332-9e0b-b88cf7b238ef\",\"type\":\"CDSView\"}},\"id\":\"a9acafb0-bed4-4ea5-937e-edc2f594a570\",\"type\":\"GlyphRenderer\"},{\"attributes\":{\"bottom_units\":\"screen\",\"fill_alpha\":{\"value\":0.5},\"fill_color\":{\"value\":\"lightgrey\"},\"left_units\":\"screen\",\"level\":\"overlay\",\"line_alpha\":{\"value\":1.0},\"line_color\":{\"value\":\"black\"},\"line_dash\":[4,4],\"line_width\":{\"value\":2},\"plot\":null,\"render_mode\":\"css\",\"right_units\":\"screen\",\"top_units\":\"screen\"},\"id\":\"831d8f80-b5ce-4c97-b1fd-b5772b941bb4\",\"type\":\"BoxAnnotation\"},{\"attributes\":{\"active_drag\":\"auto\",\"active_inspect\":\"auto\",\"active_scroll\":\"auto\",\"active_tap\":\"auto\",\"tools\":[{\"id\":\"c7506f92-a3fa-48ec-ab6f-0b5c6c916f75\",\"type\":\"PanTool\"},{\"id\":\"fdaf2e5d-2e9d-4de8-833b-a9382fbac9c8\",\"type\":\"WheelZoomTool\"},{\"id\":\"3621b9e2-b687-496b-b7a7-6603b15e56fb\",\"type\":\"BoxZoomTool\"},{\"id\":\"3cad883e-4cee-41c4-afb4-404701830a93\",\"type\":\"SaveTool\"},{\"id\":\"3f9de66d-a60a-4b4b-bd85-eba39a62debc\",\"type\":\"ResetTool\"},{\"id\":\"07cfc554-07d7-490d-b395-565ba01e29fe\",\"type\":\"HelpTool\"}]},\"id\":\"f7e4ea50-1b28-4cdf-a5e4-8b4324fc1832\",\"type\":\"Toolbar\"},{\"attributes\":{\"fill_alpha\":{\"value\":0.1},\"fill_color\":{\"value\":\"#1f77b4\"},\"line_alpha\":{\"value\":0.1},\"line_color\":{\"value\":\"#1f77b4\"},\"size\":{\"units\":\"screen\",\"value\":12},\"x\":{\"field\":\"x\"},\"y\":{\"field\":\"y\"}},\"id\":\"f247b7f4-694e-4f86-adde-eb8d8321306a\",\"type\":\"Asterisk\"},{\"attributes\":{},\"id\":\"3f9de66d-a60a-4b4b-bd85-eba39a62debc\",\"type\":\"ResetTool\"},{\"attributes\":{},\"id\":\"c7506f92-a3fa-48ec-ab6f-0b5c6c916f75\",\"type\":\"PanTool\"},{\"attributes\":{\"callback\":null},\"id\":\"a7c1c9a7-f9df-45ca-b9fb-57e107da0e22\",\"type\":\"DataRange1d\"}],\"root_ids\":[\"8765d715-06ea-417a-a158-66dc7513e904\"]},\"title\":\"Bokeh Application\",\"version\":\"0.12.13\"}};\n",
       "  var render_items = [{\"docid\":\"462d7856-5ad7-47ec-ae61-d54890795cd2\",\"elementid\":\"341376d7-93e4-47a8-99f3-80050ee37e81\",\"modelid\":\"8765d715-06ea-417a-a158-66dc7513e904\"}];\n",
       "  root.Bokeh.embed.embed_items_notebook(docs_json, render_items);\n",
       "\n",
       "  }\n",
       "  if (root.Bokeh !== undefined) {\n",
       "    embed_document(root);\n",
       "  } else {\n",
       "    var attempts = 0;\n",
       "    var timer = setInterval(function(root) {\n",
       "      if (root.Bokeh !== undefined) {\n",
       "        embed_document(root);\n",
       "        clearInterval(timer);\n",
       "      }\n",
       "      attempts++;\n",
       "      if (attempts > 100) {\n",
       "        console.log(\"Bokeh: ERROR: Unable to run BokehJS code because BokehJS library is missing\")\n",
       "        clearInterval(timer);\n",
       "      }\n",
       "    }, 10, root)\n",
       "  }\n",
       "})(window);"
      ],
      "application/vnd.bokehjs_exec.v0+json": ""
     },
     "metadata": {
      "application/vnd.bokehjs_exec.v0+json": {
       "id": "8765d715-06ea-417a-a158-66dc7513e904"
      }
     },
     "output_type": "display_data"
    }
   ],
   "source": [
    "p = figure(plot_width=400, plot_height=400)\n",
    "p.asterisk([1,2,3,4,5], [2,5,8,2,7], size=12, color=\"olive\")\n",
    "\n",
    "# change just some things about the x-axes\n",
    "p.xaxis.axis_label = \"Temp\"\n",
    "p.xaxis.axis_line_width = 3\n",
    "p.xaxis.axis_line_color = \"red\"\n",
    "\n",
    "# change just some things about the y-axes\n",
    "p.yaxis.axis_label = \"Pressure\"\n",
    "p.yaxis.major_label_text_color = \"orange\"\n",
    "p.yaxis.major_label_orientation = \"vertical\"\n",
    "\n",
    "# change things on all axes\n",
    "p.axis.minor_tick_in = -3\n",
    "p.axis.minor_tick_out = 6\n",
    "\n",
    "show(p)"
   ]
  },
  {
   "cell_type": "code",
   "execution_count": 13,
   "metadata": {
    "collapsed": true
   },
   "outputs": [],
   "source": [
    "# EXERCISE Create a plot of your own and customize several axis properties\n"
   ]
  },
  {
   "cell_type": "markdown",
   "metadata": {},
   "source": [
    "There are further customizations possible. See the [User Guide](http://bokeh.pydata.org/en/latest/docs/user_guide.html) for more information on topics such as [tick label formatting](http://bokeh.pydata.org/en/latest/docs/user_guide/styling.html#tick-label-formats) or [limiting axis bounds](http://bokeh.pydata.org/en/latest/docs/user_guide/styling.html#bounds)."
   ]
  },
  {
   "cell_type": "markdown",
   "metadata": {},
   "source": [
    "# Grids\n",
    "\n",
    "Grids are backgroud elements in the plots which provide a guide to help you reading the figures. These grids can be set in different ways, depending on what are the visual properties that are to be highlighted. Among the most typical type of grids are the squared, horizontal and vertical. The documentation of the grids can be found [Here](http://bokeh.pydata.org/en/latest/docs/user_guide/styling.html#grids)\n"
   ]
  },
  {
   "cell_type": "code",
   "execution_count": 9,
   "metadata": {},
   "outputs": [
    {
     "data": {
      "text/html": [
       "\n",
       "<div class=\"bk-root\">\n",
       "    <div class=\"bk-plotdiv\" id=\"1203a5d7-e92e-4b09-aa84-4894a07093a9\"></div>\n",
       "</div>"
      ]
     },
     "metadata": {},
     "output_type": "display_data"
    },
    {
     "data": {
      "application/javascript": [
       "(function(root) {\n",
       "  function embed_document(root) {\n",
       "    \n",
       "  var docs_json = {\"5e187a99-43b8-4bb1-973a-e4ec0a36c985\":{\"roots\":{\"references\":[{\"attributes\":{},\"id\":\"bd7c8bc7-9df6-4e51-a7d1-214a5f538bc3\",\"type\":\"WheelZoomTool\"},{\"attributes\":{\"dimension\":1,\"grid_line_alpha\":{\"value\":0.5},\"grid_line_dash\":[6,4],\"plot\":{\"id\":\"75f458cc-312b-4a98-832a-b796671200df\",\"subtype\":\"Figure\",\"type\":\"Plot\"},\"ticker\":{\"id\":\"d50ee011-60c1-4974-bb6b-e259c741c815\",\"type\":\"BasicTicker\"}},\"id\":\"326c9d18-7e5a-4c7c-b049-b420ad883e29\",\"type\":\"Grid\"},{\"attributes\":{\"formatter\":{\"id\":\"7b12b164-7c2d-4043-a3eb-2bd939411311\",\"type\":\"BasicTickFormatter\"},\"plot\":{\"id\":\"75f458cc-312b-4a98-832a-b796671200df\",\"subtype\":\"Figure\",\"type\":\"Plot\"},\"ticker\":{\"id\":\"d50ee011-60c1-4974-bb6b-e259c741c815\",\"type\":\"BasicTicker\"}},\"id\":\"02fcf92d-dd44-4182-a836-9d7ea9d94ec7\",\"type\":\"LinearAxis\"},{\"attributes\":{\"fill_alpha\":{\"value\":0.1},\"fill_color\":{\"value\":\"#1f77b4\"},\"line_alpha\":{\"value\":0.1},\"line_color\":{\"value\":\"#1f77b4\"},\"size\":{\"units\":\"screen\",\"value\":10},\"x\":{\"field\":\"x\"},\"y\":{\"field\":\"y\"}},\"id\":\"0dead0a6-f666-40c9-aa17-f9045a29ee04\",\"type\":\"Circle\"},{\"attributes\":{\"overlay\":{\"id\":\"89724d08-753a-4ee1-9898-9339da42096d\",\"type\":\"BoxAnnotation\"}},\"id\":\"27acc3cc-bf24-47b9-a307-2ef1c4c6b111\",\"type\":\"BoxZoomTool\"},{\"attributes\":{\"source\":{\"id\":\"58ea83b7-d4ef-475f-944d-a1568be6060f\",\"type\":\"ColumnDataSource\"}},\"id\":\"731376e1-7348-4b25-a908-ee9f9af2fb09\",\"type\":\"CDSView\"},{\"attributes\":{},\"id\":\"7b12b164-7c2d-4043-a3eb-2bd939411311\",\"type\":\"BasicTickFormatter\"},{\"attributes\":{},\"id\":\"5ef698ba-fdb1-4145-841a-b2ef19ae5f05\",\"type\":\"ResetTool\"},{\"attributes\":{\"below\":[{\"id\":\"8d85527c-2a95-4a8f-8b0d-9c6ddb30d2a7\",\"type\":\"LinearAxis\"}],\"left\":[{\"id\":\"02fcf92d-dd44-4182-a836-9d7ea9d94ec7\",\"type\":\"LinearAxis\"}],\"plot_height\":400,\"plot_width\":400,\"renderers\":[{\"id\":\"8d85527c-2a95-4a8f-8b0d-9c6ddb30d2a7\",\"type\":\"LinearAxis\"},{\"id\":\"d95c9a7b-8e68-44eb-9e5f-942411135818\",\"type\":\"Grid\"},{\"id\":\"02fcf92d-dd44-4182-a836-9d7ea9d94ec7\",\"type\":\"LinearAxis\"},{\"id\":\"326c9d18-7e5a-4c7c-b049-b420ad883e29\",\"type\":\"Grid\"},{\"id\":\"89724d08-753a-4ee1-9898-9339da42096d\",\"type\":\"BoxAnnotation\"},{\"id\":\"4a097fca-5746-494b-a84e-52090ba1f2f9\",\"type\":\"GlyphRenderer\"}],\"title\":{\"id\":\"6a38f715-1ad8-462a-916e-112f78783a59\",\"type\":\"Title\"},\"toolbar\":{\"id\":\"e14ee367-cd94-43ed-af52-7d9ff3c998c1\",\"type\":\"Toolbar\"},\"x_range\":{\"id\":\"aea8fe05-7eca-47d3-8a8d-adb3ef6d4406\",\"type\":\"DataRange1d\"},\"x_scale\":{\"id\":\"aec1fd12-c315-4568-b786-913e5f6d5bbb\",\"type\":\"LinearScale\"},\"y_range\":{\"id\":\"08286316-9dd7-4d1e-b555-53feefa08c82\",\"type\":\"DataRange1d\"},\"y_scale\":{\"id\":\"b223f128-0ca6-4942-b7f1-f3eb2546ce28\",\"type\":\"LinearScale\"}},\"id\":\"75f458cc-312b-4a98-832a-b796671200df\",\"subtype\":\"Figure\",\"type\":\"Plot\"},{\"attributes\":{\"bottom_units\":\"screen\",\"fill_alpha\":{\"value\":0.5},\"fill_color\":{\"value\":\"lightgrey\"},\"left_units\":\"screen\",\"level\":\"overlay\",\"line_alpha\":{\"value\":1.0},\"line_color\":{\"value\":\"black\"},\"line_dash\":[4,4],\"line_width\":{\"value\":2},\"plot\":null,\"render_mode\":\"css\",\"right_units\":\"screen\",\"top_units\":\"screen\"},\"id\":\"89724d08-753a-4ee1-9898-9339da42096d\",\"type\":\"BoxAnnotation\"},{\"attributes\":{\"grid_line_color\":{\"value\":null},\"plot\":{\"id\":\"75f458cc-312b-4a98-832a-b796671200df\",\"subtype\":\"Figure\",\"type\":\"Plot\"},\"ticker\":{\"id\":\"d036c568-4570-4bf7-99d6-e887caad365e\",\"type\":\"BasicTicker\"}},\"id\":\"d95c9a7b-8e68-44eb-9e5f-942411135818\",\"type\":\"Grid\"},{\"attributes\":{\"callback\":null},\"id\":\"aea8fe05-7eca-47d3-8a8d-adb3ef6d4406\",\"type\":\"DataRange1d\"},{\"attributes\":{\"formatter\":{\"id\":\"25e3021e-80cf-4ef0-9191-9ec7ac4e82df\",\"type\":\"BasicTickFormatter\"},\"plot\":{\"id\":\"75f458cc-312b-4a98-832a-b796671200df\",\"subtype\":\"Figure\",\"type\":\"Plot\"},\"ticker\":{\"id\":\"d036c568-4570-4bf7-99d6-e887caad365e\",\"type\":\"BasicTicker\"}},\"id\":\"8d85527c-2a95-4a8f-8b0d-9c6ddb30d2a7\",\"type\":\"LinearAxis\"},{\"attributes\":{},\"id\":\"d036c568-4570-4bf7-99d6-e887caad365e\",\"type\":\"BasicTicker\"},{\"attributes\":{\"data_source\":{\"id\":\"58ea83b7-d4ef-475f-944d-a1568be6060f\",\"type\":\"ColumnDataSource\"},\"glyph\":{\"id\":\"ae82c38e-5be6-4639-a18b-d0499fcbf17d\",\"type\":\"Circle\"},\"hover_glyph\":null,\"muted_glyph\":null,\"nonselection_glyph\":{\"id\":\"0dead0a6-f666-40c9-aa17-f9045a29ee04\",\"type\":\"Circle\"},\"selection_glyph\":null,\"view\":{\"id\":\"731376e1-7348-4b25-a908-ee9f9af2fb09\",\"type\":\"CDSView\"}},\"id\":\"4a097fca-5746-494b-a84e-52090ba1f2f9\",\"type\":\"GlyphRenderer\"},{\"attributes\":{},\"id\":\"ad6efc39-7c4c-4f99-83e6-76d7b34432fc\",\"type\":\"PanTool\"},{\"attributes\":{},\"id\":\"25e3021e-80cf-4ef0-9191-9ec7ac4e82df\",\"type\":\"BasicTickFormatter\"},{\"attributes\":{},\"id\":\"b223f128-0ca6-4942-b7f1-f3eb2546ce28\",\"type\":\"LinearScale\"},{\"attributes\":{\"active_drag\":\"auto\",\"active_inspect\":\"auto\",\"active_scroll\":\"auto\",\"active_tap\":\"auto\",\"tools\":[{\"id\":\"ad6efc39-7c4c-4f99-83e6-76d7b34432fc\",\"type\":\"PanTool\"},{\"id\":\"bd7c8bc7-9df6-4e51-a7d1-214a5f538bc3\",\"type\":\"WheelZoomTool\"},{\"id\":\"27acc3cc-bf24-47b9-a307-2ef1c4c6b111\",\"type\":\"BoxZoomTool\"},{\"id\":\"eddf4e7c-da90-40f7-9e5e-3854ea6ddc2a\",\"type\":\"SaveTool\"},{\"id\":\"5ef698ba-fdb1-4145-841a-b2ef19ae5f05\",\"type\":\"ResetTool\"},{\"id\":\"cb974a2f-0a57-494b-b4d4-976c2d0f2d37\",\"type\":\"HelpTool\"}]},\"id\":\"e14ee367-cd94-43ed-af52-7d9ff3c998c1\",\"type\":\"Toolbar\"},{\"attributes\":{\"plot\":null,\"text\":\"\"},\"id\":\"6a38f715-1ad8-462a-916e-112f78783a59\",\"type\":\"Title\"},{\"attributes\":{},\"id\":\"eddf4e7c-da90-40f7-9e5e-3854ea6ddc2a\",\"type\":\"SaveTool\"},{\"attributes\":{\"callback\":null},\"id\":\"08286316-9dd7-4d1e-b555-53feefa08c82\",\"type\":\"DataRange1d\"},{\"attributes\":{\"fill_color\":{\"value\":\"#1f77b4\"},\"line_color\":{\"value\":\"#1f77b4\"},\"size\":{\"units\":\"screen\",\"value\":10},\"x\":{\"field\":\"x\"},\"y\":{\"field\":\"y\"}},\"id\":\"ae82c38e-5be6-4639-a18b-d0499fcbf17d\",\"type\":\"Circle\"},{\"attributes\":{},\"id\":\"cb974a2f-0a57-494b-b4d4-976c2d0f2d37\",\"type\":\"HelpTool\"},{\"attributes\":{},\"id\":\"aec1fd12-c315-4568-b786-913e5f6d5bbb\",\"type\":\"LinearScale\"},{\"attributes\":{},\"id\":\"d50ee011-60c1-4974-bb6b-e259c741c815\",\"type\":\"BasicTicker\"},{\"attributes\":{\"callback\":null,\"column_names\":[\"y\",\"x\"],\"data\":{\"x\":[1,2,3,4,5],\"y\":[2,5,8,2,7]}},\"id\":\"58ea83b7-d4ef-475f-944d-a1568be6060f\",\"type\":\"ColumnDataSource\"}],\"root_ids\":[\"75f458cc-312b-4a98-832a-b796671200df\"]},\"title\":\"Bokeh Application\",\"version\":\"0.12.13\"}};\n",
       "  var render_items = [{\"docid\":\"5e187a99-43b8-4bb1-973a-e4ec0a36c985\",\"elementid\":\"1203a5d7-e92e-4b09-aa84-4894a07093a9\",\"modelid\":\"75f458cc-312b-4a98-832a-b796671200df\"}];\n",
       "  root.Bokeh.embed.embed_items_notebook(docs_json, render_items);\n",
       "\n",
       "  }\n",
       "  if (root.Bokeh !== undefined) {\n",
       "    embed_document(root);\n",
       "  } else {\n",
       "    var attempts = 0;\n",
       "    var timer = setInterval(function(root) {\n",
       "      if (root.Bokeh !== undefined) {\n",
       "        embed_document(root);\n",
       "        clearInterval(timer);\n",
       "      }\n",
       "      attempts++;\n",
       "      if (attempts > 100) {\n",
       "        console.log(\"Bokeh: ERROR: Unable to run BokehJS code because BokehJS library is missing\")\n",
       "        clearInterval(timer);\n",
       "      }\n",
       "    }, 10, root)\n",
       "  }\n",
       "})(window);"
      ],
      "application/vnd.bokehjs_exec.v0+json": ""
     },
     "metadata": {
      "application/vnd.bokehjs_exec.v0+json": {
       "id": "75f458cc-312b-4a98-832a-b796671200df"
      }
     },
     "output_type": "display_data"
    }
   ],
   "source": [
    "p = figure(plot_width=400, plot_height=400)\n",
    "p.circle([1,2,3,4,5], [2,5,8,2,7], size=10)\n",
    "\n",
    "# change just some things about the x-grid\n",
    "p.xgrid.grid_line_color = None\n",
    "\n",
    "# change just some things about the y-grid\n",
    "p.ygrid.grid_line_alpha = 0.5\n",
    "p.ygrid.grid_line_dash = [6, 4]\n",
    "\n",
    "show(p)"
   ]
  },
  {
   "cell_type": "code",
   "execution_count": 10,
   "metadata": {},
   "outputs": [
    {
     "data": {
      "text/html": [
       "\n",
       "<div class=\"bk-root\">\n",
       "    <div class=\"bk-plotdiv\" id=\"aa88bfc0-cd8e-424d-b875-63a8d92ef5a2\"></div>\n",
       "</div>"
      ]
     },
     "metadata": {},
     "output_type": "display_data"
    },
    {
     "data": {
      "application/javascript": [
       "(function(root) {\n",
       "  function embed_document(root) {\n",
       "    \n",
       "  var docs_json = {\"afcfcdd2-a9ba-4cf2-80c8-f371924e906b\":{\"roots\":{\"references\":[{\"attributes\":{},\"id\":\"ffca69bf-c7ea-49cf-8115-3f122d91f878\",\"type\":\"SaveTool\"},{\"attributes\":{\"active_drag\":\"auto\",\"active_inspect\":\"auto\",\"active_scroll\":\"auto\",\"active_tap\":\"auto\",\"tools\":[{\"id\":\"f62f818d-8ce9-407b-9753-5b94795fb1de\",\"type\":\"PanTool\"},{\"id\":\"76d413bf-1b91-4070-9740-c3cffdaf04f9\",\"type\":\"WheelZoomTool\"},{\"id\":\"969e2982-ed5b-4084-97e6-52559bece5e0\",\"type\":\"BoxZoomTool\"},{\"id\":\"ffca69bf-c7ea-49cf-8115-3f122d91f878\",\"type\":\"SaveTool\"},{\"id\":\"2cd099cd-818f-46f3-8360-f2114f325404\",\"type\":\"ResetTool\"},{\"id\":\"f3dba2c6-9b12-41b9-b30d-ca5087c6f754\",\"type\":\"HelpTool\"}]},\"id\":\"44c7401b-be4c-426d-adf1-fb527cc77097\",\"type\":\"Toolbar\"},{\"attributes\":{},\"id\":\"98ddc849-054b-41da-a542-5456d85b20a4\",\"type\":\"LinearScale\"},{\"attributes\":{},\"id\":\"f9825af8-49f5-42c9-a6ea-0386ecf1fe31\",\"type\":\"BasicTickFormatter\"},{\"attributes\":{},\"id\":\"f3dba2c6-9b12-41b9-b30d-ca5087c6f754\",\"type\":\"HelpTool\"},{\"attributes\":{\"callback\":null,\"column_names\":[\"y\",\"x\"],\"data\":{\"x\":[1,2,3,4,5],\"y\":[2,5,8,2,7]}},\"id\":\"738910aa-8c0a-424a-9cb6-534794f57418\",\"type\":\"ColumnDataSource\"},{\"attributes\":{\"formatter\":{\"id\":\"f9825af8-49f5-42c9-a6ea-0386ecf1fe31\",\"type\":\"BasicTickFormatter\"},\"plot\":{\"id\":\"c1072542-50e3-4b06-be49-cfe238e34e4a\",\"subtype\":\"Figure\",\"type\":\"Plot\"},\"ticker\":{\"id\":\"f3565558-26bd-4b92-a26d-23fdc6bc33c2\",\"type\":\"BasicTicker\"}},\"id\":\"ce55eb5f-5171-4bc6-b904-c1420016c2d8\",\"type\":\"LinearAxis\"},{\"attributes\":{},\"id\":\"f3565558-26bd-4b92-a26d-23fdc6bc33c2\",\"type\":\"BasicTicker\"},{\"attributes\":{},\"id\":\"76d413bf-1b91-4070-9740-c3cffdaf04f9\",\"type\":\"WheelZoomTool\"},{\"attributes\":{\"band_fill_alpha\":{\"value\":0.1},\"band_fill_color\":{\"value\":\"navy\"},\"dimension\":1,\"plot\":{\"id\":\"c1072542-50e3-4b06-be49-cfe238e34e4a\",\"subtype\":\"Figure\",\"type\":\"Plot\"},\"ticker\":{\"id\":\"b20d753e-ccbc-4dd7-929b-9fa5d4b3d558\",\"type\":\"BasicTicker\"}},\"id\":\"5d7dcc60-eea2-470e-9460-94d7f0038775\",\"type\":\"Grid\"},{\"attributes\":{\"bottom_units\":\"screen\",\"fill_alpha\":{\"value\":0.5},\"fill_color\":{\"value\":\"lightgrey\"},\"left_units\":\"screen\",\"level\":\"overlay\",\"line_alpha\":{\"value\":1.0},\"line_color\":{\"value\":\"black\"},\"line_dash\":[4,4],\"line_width\":{\"value\":2},\"plot\":null,\"render_mode\":\"css\",\"right_units\":\"screen\",\"top_units\":\"screen\"},\"id\":\"6c5c6c59-5485-4ead-85fc-9281c2cc99aa\",\"type\":\"BoxAnnotation\"},{\"attributes\":{},\"id\":\"f62f818d-8ce9-407b-9753-5b94795fb1de\",\"type\":\"PanTool\"},{\"attributes\":{\"data_source\":{\"id\":\"738910aa-8c0a-424a-9cb6-534794f57418\",\"type\":\"ColumnDataSource\"},\"glyph\":{\"id\":\"431bc75e-58a5-4983-ba4e-082ea05df414\",\"type\":\"Circle\"},\"hover_glyph\":null,\"muted_glyph\":null,\"nonselection_glyph\":{\"id\":\"85537171-1a34-405c-8a0c-44f4f2f4838d\",\"type\":\"Circle\"},\"selection_glyph\":null,\"view\":{\"id\":\"904e69de-a597-4b3d-b7f7-2de43b79db19\",\"type\":\"CDSView\"}},\"id\":\"f4558d57-eb3b-4622-99e8-91de1b02c7c8\",\"type\":\"GlyphRenderer\"},{\"attributes\":{\"plot\":null,\"text\":\"\"},\"id\":\"6609415c-6bff-4034-94b1-44101625962a\",\"type\":\"Title\"},{\"attributes\":{},\"id\":\"b20d753e-ccbc-4dd7-929b-9fa5d4b3d558\",\"type\":\"BasicTicker\"},{\"attributes\":{\"source\":{\"id\":\"738910aa-8c0a-424a-9cb6-534794f57418\",\"type\":\"ColumnDataSource\"}},\"id\":\"904e69de-a597-4b3d-b7f7-2de43b79db19\",\"type\":\"CDSView\"},{\"attributes\":{},\"id\":\"b5caf707-d32a-4f11-9e54-d89fc6a6c2d6\",\"type\":\"BasicTickFormatter\"},{\"attributes\":{},\"id\":\"2cd099cd-818f-46f3-8360-f2114f325404\",\"type\":\"ResetTool\"},{\"attributes\":{\"overlay\":{\"id\":\"6c5c6c59-5485-4ead-85fc-9281c2cc99aa\",\"type\":\"BoxAnnotation\"}},\"id\":\"969e2982-ed5b-4084-97e6-52559bece5e0\",\"type\":\"BoxZoomTool\"},{\"attributes\":{\"callback\":null},\"id\":\"1c500301-4e87-43ea-8ff7-4a17aabe772c\",\"type\":\"DataRange1d\"},{\"attributes\":{\"fill_color\":{\"value\":\"#1f77b4\"},\"line_color\":{\"value\":\"#1f77b4\"},\"size\":{\"units\":\"screen\",\"value\":10},\"x\":{\"field\":\"x\"},\"y\":{\"field\":\"y\"}},\"id\":\"431bc75e-58a5-4983-ba4e-082ea05df414\",\"type\":\"Circle\"},{\"attributes\":{},\"id\":\"31d64bdc-203f-440c-8cc6-12beddcbef6a\",\"type\":\"LinearScale\"},{\"attributes\":{\"grid_line_color\":{\"value\":null},\"plot\":{\"id\":\"c1072542-50e3-4b06-be49-cfe238e34e4a\",\"subtype\":\"Figure\",\"type\":\"Plot\"},\"ticker\":{\"id\":\"f3565558-26bd-4b92-a26d-23fdc6bc33c2\",\"type\":\"BasicTicker\"}},\"id\":\"0f4df441-1b1c-4b6a-9e0e-98568b0e965f\",\"type\":\"Grid\"},{\"attributes\":{\"callback\":null},\"id\":\"de1e96e8-1663-4ca9-9fc5-e38a751d732c\",\"type\":\"DataRange1d\"},{\"attributes\":{\"formatter\":{\"id\":\"b5caf707-d32a-4f11-9e54-d89fc6a6c2d6\",\"type\":\"BasicTickFormatter\"},\"plot\":{\"id\":\"c1072542-50e3-4b06-be49-cfe238e34e4a\",\"subtype\":\"Figure\",\"type\":\"Plot\"},\"ticker\":{\"id\":\"b20d753e-ccbc-4dd7-929b-9fa5d4b3d558\",\"type\":\"BasicTicker\"}},\"id\":\"caa09b52-e610-4fa8-82a7-bea8bbf884fb\",\"type\":\"LinearAxis\"},{\"attributes\":{\"fill_alpha\":{\"value\":0.1},\"fill_color\":{\"value\":\"#1f77b4\"},\"line_alpha\":{\"value\":0.1},\"line_color\":{\"value\":\"#1f77b4\"},\"size\":{\"units\":\"screen\",\"value\":10},\"x\":{\"field\":\"x\"},\"y\":{\"field\":\"y\"}},\"id\":\"85537171-1a34-405c-8a0c-44f4f2f4838d\",\"type\":\"Circle\"},{\"attributes\":{\"below\":[{\"id\":\"ce55eb5f-5171-4bc6-b904-c1420016c2d8\",\"type\":\"LinearAxis\"}],\"left\":[{\"id\":\"caa09b52-e610-4fa8-82a7-bea8bbf884fb\",\"type\":\"LinearAxis\"}],\"plot_height\":400,\"plot_width\":400,\"renderers\":[{\"id\":\"ce55eb5f-5171-4bc6-b904-c1420016c2d8\",\"type\":\"LinearAxis\"},{\"id\":\"0f4df441-1b1c-4b6a-9e0e-98568b0e965f\",\"type\":\"Grid\"},{\"id\":\"caa09b52-e610-4fa8-82a7-bea8bbf884fb\",\"type\":\"LinearAxis\"},{\"id\":\"5d7dcc60-eea2-470e-9460-94d7f0038775\",\"type\":\"Grid\"},{\"id\":\"6c5c6c59-5485-4ead-85fc-9281c2cc99aa\",\"type\":\"BoxAnnotation\"},{\"id\":\"f4558d57-eb3b-4622-99e8-91de1b02c7c8\",\"type\":\"GlyphRenderer\"}],\"title\":{\"id\":\"6609415c-6bff-4034-94b1-44101625962a\",\"type\":\"Title\"},\"toolbar\":{\"id\":\"44c7401b-be4c-426d-adf1-fb527cc77097\",\"type\":\"Toolbar\"},\"x_range\":{\"id\":\"de1e96e8-1663-4ca9-9fc5-e38a751d732c\",\"type\":\"DataRange1d\"},\"x_scale\":{\"id\":\"31d64bdc-203f-440c-8cc6-12beddcbef6a\",\"type\":\"LinearScale\"},\"y_range\":{\"id\":\"1c500301-4e87-43ea-8ff7-4a17aabe772c\",\"type\":\"DataRange1d\"},\"y_scale\":{\"id\":\"98ddc849-054b-41da-a542-5456d85b20a4\",\"type\":\"LinearScale\"}},\"id\":\"c1072542-50e3-4b06-be49-cfe238e34e4a\",\"subtype\":\"Figure\",\"type\":\"Plot\"}],\"root_ids\":[\"c1072542-50e3-4b06-be49-cfe238e34e4a\"]},\"title\":\"Bokeh Application\",\"version\":\"0.12.13\"}};\n",
       "  var render_items = [{\"docid\":\"afcfcdd2-a9ba-4cf2-80c8-f371924e906b\",\"elementid\":\"aa88bfc0-cd8e-424d-b875-63a8d92ef5a2\",\"modelid\":\"c1072542-50e3-4b06-be49-cfe238e34e4a\"}];\n",
       "  root.Bokeh.embed.embed_items_notebook(docs_json, render_items);\n",
       "\n",
       "  }\n",
       "  if (root.Bokeh !== undefined) {\n",
       "    embed_document(root);\n",
       "  } else {\n",
       "    var attempts = 0;\n",
       "    var timer = setInterval(function(root) {\n",
       "      if (root.Bokeh !== undefined) {\n",
       "        embed_document(root);\n",
       "        clearInterval(timer);\n",
       "      }\n",
       "      attempts++;\n",
       "      if (attempts > 100) {\n",
       "        console.log(\"Bokeh: ERROR: Unable to run BokehJS code because BokehJS library is missing\")\n",
       "        clearInterval(timer);\n",
       "      }\n",
       "    }, 10, root)\n",
       "  }\n",
       "})(window);"
      ],
      "application/vnd.bokehjs_exec.v0+json": ""
     },
     "metadata": {
      "application/vnd.bokehjs_exec.v0+json": {
       "id": "c1072542-50e3-4b06-be49-cfe238e34e4a"
      }
     },
     "output_type": "display_data"
    }
   ],
   "source": [
    "p = figure(plot_width=400, plot_height=400)\n",
    "p.circle([1,2,3,4,5], [2,5,8,2,7], size=10)\n",
    "\n",
    "# change just some things about the x-grid\n",
    "p.xgrid.grid_line_color = None\n",
    "\n",
    "# change just some things about the y-grid\n",
    "p.ygrid.band_fill_alpha = 0.1\n",
    "p.ygrid.band_fill_color = \"navy\"\n",
    "\n",
    "show(p)"
   ]
  },
  {
   "cell_type": "code",
   "execution_count": null,
   "metadata": {
    "collapsed": true
   },
   "outputs": [],
   "source": [
    "# Exercise Make a plot mixing all of the previously seen properties of a plot"
   ]
  }
 ],
 "metadata": {
  "kernelspec": {
   "display_name": "Python 2",
   "language": "python",
   "name": "python2"
  },
  "language_info": {
   "codemirror_mode": {
    "name": "ipython",
    "version": 2
   },
   "file_extension": ".py",
   "mimetype": "text/x-python",
   "name": "python",
   "nbconvert_exporter": "python",
   "pygments_lexer": "ipython2",
   "version": "2.7.14"
  }
 },
 "nbformat": 4,
 "nbformat_minor": 1
}
